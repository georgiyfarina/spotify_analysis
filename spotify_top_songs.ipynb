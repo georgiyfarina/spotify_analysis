{
 "cells": [
  {
   "cell_type": "markdown",
   "metadata": {},
   "source": [
    "# Top hits from Spotify\n",
    "An analysis of the Top 2000 tracks of Spotify based on the Kaggle dataset which you can find [here](https://www.kaggle.com/datasets/paradisejoy/top-hits-spotify-from-20002019) (2000-2019)."
   ]
  },
  {
   "cell_type": "markdown",
   "metadata": {},
   "source": [
    "* 2000 rows, 18 columns\n",
    "* Each row represents a different Hit Song\n",
    "* Used columns:\n",
    "    * artist: name of the artist\n",
    "    * song: name of the song\n",
    "    * duration_ms: duration of the song expressed in milliseconds\n",
    "    * explicit: a boolean value expressing the presence of an explicit content, for children\n",
    "    * year: release year of the song\n",
    "    * popularity: the popularity of the song on a scale from 1 to 100 (89 - the highest value encountered in our dataset)\n",
    "    * danceability: the danceability of the song on a scale from 0.0 to 1.0\n",
    "    * energy: perceptual intensity and activity on a scale from 0.0 to 1.0\n",
    "    * key: the key the song is in based on the Pitch Class notation. If there is no key, the value is -1.\n",
    "        * {C = 0, C-sharp = 1, D = 2, D-sharp = 3, E = 4, F = 5, F-sharp = 6, G = 7, G-sharp = 8, A = 9, B-flat = 10 (T), B = 11 (E)}\n",
    "    * loudness: overall loudness of a song in decibels (dB) on a range between -60 and 0\n",
    "    * mode: modality of the song (1 - major; 0 - minor)\n",
    "    * speechiness: represents the preence of spoken words in a song.\n",
    "        * 0 - 0.33 -> music and other non-speech-like songs\n",
    "        * 0.33 - 0.66 -> may contain both music and speech (e.g: rap music)\n",
    "        * 0.66 - 1 -> made entirely of spoken words\n",
    "    * acousticness: confidence measure of whether the song is acoustic on a scale from 0.0 to 1.0 \n",
    "    * instrumentalness: prediction of the song containing vocals on a scale from 0.0 to 1.0.\n",
    "        * A word is a vocal, but \"ooh\" or \"aah\" are not. 1.0 means that the song is instrumental.\n",
    "    * liveness: presence of an audience in the recording on a scale from 0.0 to 1.0. \n",
    "    * valence: a measure from 0.0 to 1.0 representing the musical positiveness conveyed by a song. \n",
    "        * High values sound more positive (e.g. happy, cheerful, euphoric). Low values sound more negative (e.g. sad, depressed, angry)\n",
    "    * tempo: overall estimated tempo of a song in BPM (beats per minute).\n",
    "    * genre: genre of a song. There could be more than one per song"
   ]
  },
  {
   "cell_type": "markdown",
   "metadata": {},
   "source": [
    "We analyze the following aspects:\n",
    "- Number of tracks per artist\n",
    "- Artist popularity\n",
    "- Popularity by number of songs\n",
    "- Top genres\n",
    "- Popularity by genre\n",
    "- Technical mean values by genre (for each one of them)\n",
    "- Duration of the most popular songs\n",
    "- Duration of songs throughout the years\n",
    "\n",
    "As far as what can be expected, we are expecting that throughout the years, most popular genre would be pop and the duration of songs decreased in time and at the same time, classical music would be less present and popular than the other genres. \n",
    "Also, the duration of the most popular songs would vary between 2 and 5 minutes due to the reason that people would get easily bored with a long duration song and therefore, not listen to all of it or over again.\n",
    "Nevertheless, we are expecting a high mean value of acousticness for classical and jazz music, highest mean values of danceability and energy for R&B, hip hop, latin and pop music, highest mean value of explicit content for hip hop music."
   ]
  },
  {
   "cell_type": "markdown",
   "metadata": {},
   "source": [
    "## Load dataset"
   ]
  },
  {
   "cell_type": "code",
   "execution_count": 52,
   "metadata": {},
   "outputs": [],
   "source": [
    "import pandas as pd\n",
    "import numpy as np\n",
    "import plotly.express as px\n",
    "import seaborn as sns\n",
    "import matplotlib.pyplot as plt"
   ]
  },
  {
   "cell_type": "code",
   "execution_count": 53,
   "metadata": {},
   "outputs": [
    {
     "data": {
      "text/html": [
       "<div>\n",
       "<style scoped>\n",
       "    .dataframe tbody tr th:only-of-type {\n",
       "        vertical-align: middle;\n",
       "    }\n",
       "\n",
       "    .dataframe tbody tr th {\n",
       "        vertical-align: top;\n",
       "    }\n",
       "\n",
       "    .dataframe thead th {\n",
       "        text-align: right;\n",
       "    }\n",
       "</style>\n",
       "<table border=\"1\" class=\"dataframe\">\n",
       "  <thead>\n",
       "    <tr style=\"text-align: right;\">\n",
       "      <th></th>\n",
       "      <th>artist</th>\n",
       "      <th>song</th>\n",
       "      <th>duration_ms</th>\n",
       "      <th>explicit</th>\n",
       "      <th>year</th>\n",
       "      <th>popularity</th>\n",
       "      <th>danceability</th>\n",
       "      <th>energy</th>\n",
       "      <th>key</th>\n",
       "      <th>loudness</th>\n",
       "      <th>mode</th>\n",
       "      <th>speechiness</th>\n",
       "      <th>acousticness</th>\n",
       "      <th>instrumentalness</th>\n",
       "      <th>liveness</th>\n",
       "      <th>valence</th>\n",
       "      <th>tempo</th>\n",
       "      <th>genre</th>\n",
       "    </tr>\n",
       "  </thead>\n",
       "  <tbody>\n",
       "    <tr>\n",
       "      <th>1653</th>\n",
       "      <td>Ariana Grande</td>\n",
       "      <td>Into You</td>\n",
       "      <td>244453</td>\n",
       "      <td>False</td>\n",
       "      <td>2016</td>\n",
       "      <td>3</td>\n",
       "      <td>0.623</td>\n",
       "      <td>0.734</td>\n",
       "      <td>9</td>\n",
       "      <td>-5.948</td>\n",
       "      <td>1</td>\n",
       "      <td>0.1070</td>\n",
       "      <td>0.01620</td>\n",
       "      <td>0.000002</td>\n",
       "      <td>0.1450</td>\n",
       "      <td>0.370</td>\n",
       "      <td>107.853</td>\n",
       "      <td>pop</td>\n",
       "    </tr>\n",
       "    <tr>\n",
       "      <th>145</th>\n",
       "      <td>Jennifer Lopez</td>\n",
       "      <td>Love Don't Cost a Thing</td>\n",
       "      <td>221226</td>\n",
       "      <td>False</td>\n",
       "      <td>2001</td>\n",
       "      <td>67</td>\n",
       "      <td>0.786</td>\n",
       "      <td>0.842</td>\n",
       "      <td>4</td>\n",
       "      <td>-5.115</td>\n",
       "      <td>0</td>\n",
       "      <td>0.0707</td>\n",
       "      <td>0.00305</td>\n",
       "      <td>0.000004</td>\n",
       "      <td>0.4730</td>\n",
       "      <td>0.685</td>\n",
       "      <td>97.577</td>\n",
       "      <td>hip hop, pop, R&amp;B</td>\n",
       "    </tr>\n",
       "    <tr>\n",
       "      <th>138</th>\n",
       "      <td>Ricky Martin</td>\n",
       "      <td>Nobody Wants to Be Lonely (with Christina Agui...</td>\n",
       "      <td>252706</td>\n",
       "      <td>False</td>\n",
       "      <td>2008</td>\n",
       "      <td>52</td>\n",
       "      <td>0.635</td>\n",
       "      <td>0.854</td>\n",
       "      <td>10</td>\n",
       "      <td>-5.020</td>\n",
       "      <td>0</td>\n",
       "      <td>0.0612</td>\n",
       "      <td>0.00579</td>\n",
       "      <td>0.008300</td>\n",
       "      <td>0.0623</td>\n",
       "      <td>0.590</td>\n",
       "      <td>100.851</td>\n",
       "      <td>pop, latin</td>\n",
       "    </tr>\n",
       "    <tr>\n",
       "      <th>1963</th>\n",
       "      <td>J. Cole</td>\n",
       "      <td>MIDDLE CHILD</td>\n",
       "      <td>213593</td>\n",
       "      <td>True</td>\n",
       "      <td>2019</td>\n",
       "      <td>80</td>\n",
       "      <td>0.837</td>\n",
       "      <td>0.364</td>\n",
       "      <td>8</td>\n",
       "      <td>-11.713</td>\n",
       "      <td>1</td>\n",
       "      <td>0.2760</td>\n",
       "      <td>0.14900</td>\n",
       "      <td>0.000000</td>\n",
       "      <td>0.2710</td>\n",
       "      <td>0.463</td>\n",
       "      <td>123.984</td>\n",
       "      <td>hip hop</td>\n",
       "    </tr>\n",
       "    <tr>\n",
       "      <th>216</th>\n",
       "      <td>Las Ketchup</td>\n",
       "      <td>The Ketchup Song (Aserejé) - Spanglish Version</td>\n",
       "      <td>213973</td>\n",
       "      <td>False</td>\n",
       "      <td>2002</td>\n",
       "      <td>66</td>\n",
       "      <td>0.607</td>\n",
       "      <td>0.923</td>\n",
       "      <td>1</td>\n",
       "      <td>-6.777</td>\n",
       "      <td>1</td>\n",
       "      <td>0.0948</td>\n",
       "      <td>0.01930</td>\n",
       "      <td>0.000001</td>\n",
       "      <td>0.0924</td>\n",
       "      <td>0.868</td>\n",
       "      <td>184.819</td>\n",
       "      <td>set()</td>\n",
       "    </tr>\n",
       "  </tbody>\n",
       "</table>\n",
       "</div>"
      ],
      "text/plain": [
       "              artist                                               song  \\\n",
       "1653   Ariana Grande                                           Into You   \n",
       "145   Jennifer Lopez                            Love Don't Cost a Thing   \n",
       "138     Ricky Martin  Nobody Wants to Be Lonely (with Christina Agui...   \n",
       "1963         J. Cole                                       MIDDLE CHILD   \n",
       "216      Las Ketchup     The Ketchup Song (Aserejé) - Spanglish Version   \n",
       "\n",
       "      duration_ms  explicit  year  popularity  danceability  energy  key  \\\n",
       "1653       244453     False  2016           3         0.623   0.734    9   \n",
       "145        221226     False  2001          67         0.786   0.842    4   \n",
       "138        252706     False  2008          52         0.635   0.854   10   \n",
       "1963       213593      True  2019          80         0.837   0.364    8   \n",
       "216        213973     False  2002          66         0.607   0.923    1   \n",
       "\n",
       "      loudness  mode  speechiness  acousticness  instrumentalness  liveness  \\\n",
       "1653    -5.948     1       0.1070       0.01620          0.000002    0.1450   \n",
       "145     -5.115     0       0.0707       0.00305          0.000004    0.4730   \n",
       "138     -5.020     0       0.0612       0.00579          0.008300    0.0623   \n",
       "1963   -11.713     1       0.2760       0.14900          0.000000    0.2710   \n",
       "216     -6.777     1       0.0948       0.01930          0.000001    0.0924   \n",
       "\n",
       "      valence    tempo              genre  \n",
       "1653    0.370  107.853                pop  \n",
       "145     0.685   97.577  hip hop, pop, R&B  \n",
       "138     0.590  100.851         pop, latin  \n",
       "1963    0.463  123.984            hip hop  \n",
       "216     0.868  184.819              set()  "
      ]
     },
     "execution_count": 53,
     "metadata": {},
     "output_type": "execute_result"
    }
   ],
   "source": [
    "data = pd.read_csv(\"songs_normalize.csv\")\n",
    "data.sample(5)"
   ]
  },
  {
   "cell_type": "markdown",
   "metadata": {},
   "source": [
    "In the dataset each row represents a different hit song"
   ]
  },
  {
   "cell_type": "code",
   "execution_count": 54,
   "metadata": {},
   "outputs": [
    {
     "name": "stdout",
     "output_type": "stream",
     "text": [
      "Number of rows: 2000\n",
      "Number of columns: 18\n"
     ]
    }
   ],
   "source": [
    "print(f\"Number of rows: {data.shape[0]}\")\n",
    "print(f\"Number of columns: {data.shape[1]}\")"
   ]
  },
  {
   "cell_type": "markdown",
   "metadata": {},
   "source": [
    "## Cleanup\n",
    "### Data types\n",
    "Before approaching to the analysis, we could check whether the dataset needs some cleanup of sorts. First we can do that by verifying the coherence of the type of columns w.r.t the  columns themselves."
   ]
  },
  {
   "cell_type": "code",
   "execution_count": 55,
   "metadata": {},
   "outputs": [
    {
     "data": {
      "text/plain": [
       "artist               object\n",
       "song                 object\n",
       "duration_ms           int64\n",
       "explicit               bool\n",
       "year                  int64\n",
       "popularity            int64\n",
       "danceability        float64\n",
       "energy              float64\n",
       "key                   int64\n",
       "loudness            float64\n",
       "mode                  int64\n",
       "speechiness         float64\n",
       "acousticness        float64\n",
       "instrumentalness    float64\n",
       "liveness            float64\n",
       "valence             float64\n",
       "tempo               float64\n",
       "genre                object\n",
       "dtype: object"
      ]
     },
     "execution_count": 55,
     "metadata": {},
     "output_type": "execute_result"
    }
   ],
   "source": [
    "data.dtypes"
   ]
  },
  {
   "cell_type": "markdown",
   "metadata": {},
   "source": [
    "From what is shown, we have no reason for concern, except for the \"mode\" column, since it has just two possible values that represent \"minor\" or \"major\" mode. We could replace 0 and 1 with the corresponding values above."
   ]
  },
  {
   "cell_type": "code",
   "execution_count": 56,
   "metadata": {},
   "outputs": [
    {
     "data": {
      "text/plain": [
       "0       minor\n",
       "1       major\n",
       "2       major\n",
       "3       minor\n",
       "4       minor\n",
       "        ...  \n",
       "1995    minor\n",
       "1996    major\n",
       "1997    major\n",
       "1998    major\n",
       "1999    major\n",
       "Name: mode, Length: 2000, dtype: object"
      ]
     },
     "execution_count": 56,
     "metadata": {},
     "output_type": "execute_result"
    }
   ],
   "source": [
    "data[\"mode\"] = data[\"mode\"].map({0: \"minor\", 1: \"major\"})\n",
    "data[\"mode\"]\n"
   ]
  },
  {
   "cell_type": "markdown",
   "metadata": {},
   "source": [
    "Another thing that would be better is to have the duration not in miliseconds, but rather in minutes. This way it's more comprehensible"
   ]
  },
  {
   "cell_type": "code",
   "execution_count": 57,
   "metadata": {},
   "outputs": [
    {
     "data": {
      "text/plain": [
       "509     3.97\n",
       "1937    4.28\n",
       "665     3.68\n",
       "562     3.97\n",
       "1308    3.87\n",
       "Name: duration_min, dtype: float64"
      ]
     },
     "execution_count": 57,
     "metadata": {},
     "output_type": "execute_result"
    }
   ],
   "source": [
    "data[\"duration_ms\"] = round(data[\"duration_ms\"] / (6*10**4), 2)\n",
    "data.rename(columns={\"duration_ms\": \"duration_min\"}, inplace=True)\n",
    "data.sample(5)[\"duration_min\"]"
   ]
  },
  {
   "cell_type": "markdown",
   "metadata": {},
   "source": [
    "## Year outliers\n",
    "If we group by the year all the songs in the dataset, we can see that there are also included the years 1998, 1999 and 2020, which are not supposed to be in the dataset."
   ]
  },
  {
   "cell_type": "code",
   "execution_count": 58,
   "metadata": {},
   "outputs": [
    {
     "data": {
      "text/html": [
       "<div>\n",
       "<style scoped>\n",
       "    .dataframe tbody tr th:only-of-type {\n",
       "        vertical-align: middle;\n",
       "    }\n",
       "\n",
       "    .dataframe tbody tr th {\n",
       "        vertical-align: top;\n",
       "    }\n",
       "\n",
       "    .dataframe thead th {\n",
       "        text-align: right;\n",
       "    }\n",
       "</style>\n",
       "<table border=\"1\" class=\"dataframe\">\n",
       "  <thead>\n",
       "    <tr style=\"text-align: right;\">\n",
       "      <th></th>\n",
       "      <th>year</th>\n",
       "      <th>song</th>\n",
       "    </tr>\n",
       "  </thead>\n",
       "  <tbody>\n",
       "    <tr>\n",
       "      <th>0</th>\n",
       "      <td>1998</td>\n",
       "      <td>1</td>\n",
       "    </tr>\n",
       "    <tr>\n",
       "      <th>1</th>\n",
       "      <td>1999</td>\n",
       "      <td>38</td>\n",
       "    </tr>\n",
       "    <tr>\n",
       "      <th>2</th>\n",
       "      <td>2000</td>\n",
       "      <td>74</td>\n",
       "    </tr>\n",
       "    <tr>\n",
       "      <th>3</th>\n",
       "      <td>2001</td>\n",
       "      <td>108</td>\n",
       "    </tr>\n",
       "    <tr>\n",
       "      <th>4</th>\n",
       "      <td>2002</td>\n",
       "      <td>90</td>\n",
       "    </tr>\n",
       "    <tr>\n",
       "      <th>5</th>\n",
       "      <td>2003</td>\n",
       "      <td>97</td>\n",
       "    </tr>\n",
       "    <tr>\n",
       "      <th>6</th>\n",
       "      <td>2004</td>\n",
       "      <td>96</td>\n",
       "    </tr>\n",
       "    <tr>\n",
       "      <th>7</th>\n",
       "      <td>2005</td>\n",
       "      <td>104</td>\n",
       "    </tr>\n",
       "    <tr>\n",
       "      <th>8</th>\n",
       "      <td>2006</td>\n",
       "      <td>95</td>\n",
       "    </tr>\n",
       "    <tr>\n",
       "      <th>9</th>\n",
       "      <td>2007</td>\n",
       "      <td>94</td>\n",
       "    </tr>\n",
       "    <tr>\n",
       "      <th>10</th>\n",
       "      <td>2008</td>\n",
       "      <td>97</td>\n",
       "    </tr>\n",
       "    <tr>\n",
       "      <th>11</th>\n",
       "      <td>2009</td>\n",
       "      <td>84</td>\n",
       "    </tr>\n",
       "    <tr>\n",
       "      <th>12</th>\n",
       "      <td>2010</td>\n",
       "      <td>107</td>\n",
       "    </tr>\n",
       "    <tr>\n",
       "      <th>13</th>\n",
       "      <td>2011</td>\n",
       "      <td>99</td>\n",
       "    </tr>\n",
       "    <tr>\n",
       "      <th>14</th>\n",
       "      <td>2012</td>\n",
       "      <td>115</td>\n",
       "    </tr>\n",
       "    <tr>\n",
       "      <th>15</th>\n",
       "      <td>2013</td>\n",
       "      <td>89</td>\n",
       "    </tr>\n",
       "    <tr>\n",
       "      <th>16</th>\n",
       "      <td>2014</td>\n",
       "      <td>104</td>\n",
       "    </tr>\n",
       "    <tr>\n",
       "      <th>17</th>\n",
       "      <td>2015</td>\n",
       "      <td>99</td>\n",
       "    </tr>\n",
       "    <tr>\n",
       "      <th>18</th>\n",
       "      <td>2016</td>\n",
       "      <td>99</td>\n",
       "    </tr>\n",
       "    <tr>\n",
       "      <th>19</th>\n",
       "      <td>2017</td>\n",
       "      <td>111</td>\n",
       "    </tr>\n",
       "    <tr>\n",
       "      <th>20</th>\n",
       "      <td>2018</td>\n",
       "      <td>107</td>\n",
       "    </tr>\n",
       "    <tr>\n",
       "      <th>21</th>\n",
       "      <td>2019</td>\n",
       "      <td>89</td>\n",
       "    </tr>\n",
       "    <tr>\n",
       "      <th>22</th>\n",
       "      <td>2020</td>\n",
       "      <td>3</td>\n",
       "    </tr>\n",
       "  </tbody>\n",
       "</table>\n",
       "</div>"
      ],
      "text/plain": [
       "    year  song\n",
       "0   1998     1\n",
       "1   1999    38\n",
       "2   2000    74\n",
       "3   2001   108\n",
       "4   2002    90\n",
       "5   2003    97\n",
       "6   2004    96\n",
       "7   2005   104\n",
       "8   2006    95\n",
       "9   2007    94\n",
       "10  2008    97\n",
       "11  2009    84\n",
       "12  2010   107\n",
       "13  2011    99\n",
       "14  2012   115\n",
       "15  2013    89\n",
       "16  2014   104\n",
       "17  2015    99\n",
       "18  2016    99\n",
       "19  2017   111\n",
       "20  2018   107\n",
       "21  2019    89\n",
       "22  2020     3"
      ]
     },
     "execution_count": 58,
     "metadata": {},
     "output_type": "execute_result"
    }
   ],
   "source": [
    "artists_sum = data.groupby(\"year\", as_index=False).count()\n",
    "artists_sum[[\"year\", \"song\"]]\n"
   ]
  },
  {
   "cell_type": "markdown",
   "metadata": {},
   "source": [
    "Since there are 23 years in the dataset, where 3 of them are not supposed to be there, we can drop them"
   ]
  },
  {
   "cell_type": "code",
   "execution_count": 59,
   "metadata": {},
   "outputs": [
    {
     "data": {
      "text/plain": [
       "1958"
      ]
     },
     "execution_count": 59,
     "metadata": {},
     "output_type": "execute_result"
    }
   ],
   "source": [
    "data = data.drop(data[data.year < 2000].index)\n",
    "data = data.drop(data[data.year == 2020].index)\n",
    "data.shape[0]"
   ]
  },
  {
   "cell_type": "code",
   "execution_count": 60,
   "metadata": {},
   "outputs": [
    {
     "data": {
      "text/html": [
       "<div>\n",
       "<style scoped>\n",
       "    .dataframe tbody tr th:only-of-type {\n",
       "        vertical-align: middle;\n",
       "    }\n",
       "\n",
       "    .dataframe tbody tr th {\n",
       "        vertical-align: top;\n",
       "    }\n",
       "\n",
       "    .dataframe thead th {\n",
       "        text-align: right;\n",
       "    }\n",
       "</style>\n",
       "<table border=\"1\" class=\"dataframe\">\n",
       "  <thead>\n",
       "    <tr style=\"text-align: right;\">\n",
       "      <th></th>\n",
       "      <th>year</th>\n",
       "      <th>song</th>\n",
       "    </tr>\n",
       "  </thead>\n",
       "  <tbody>\n",
       "    <tr>\n",
       "      <th>0</th>\n",
       "      <td>2000</td>\n",
       "      <td>74</td>\n",
       "    </tr>\n",
       "    <tr>\n",
       "      <th>1</th>\n",
       "      <td>2001</td>\n",
       "      <td>108</td>\n",
       "    </tr>\n",
       "    <tr>\n",
       "      <th>2</th>\n",
       "      <td>2002</td>\n",
       "      <td>90</td>\n",
       "    </tr>\n",
       "    <tr>\n",
       "      <th>3</th>\n",
       "      <td>2003</td>\n",
       "      <td>97</td>\n",
       "    </tr>\n",
       "    <tr>\n",
       "      <th>4</th>\n",
       "      <td>2004</td>\n",
       "      <td>96</td>\n",
       "    </tr>\n",
       "    <tr>\n",
       "      <th>5</th>\n",
       "      <td>2005</td>\n",
       "      <td>104</td>\n",
       "    </tr>\n",
       "    <tr>\n",
       "      <th>6</th>\n",
       "      <td>2006</td>\n",
       "      <td>95</td>\n",
       "    </tr>\n",
       "    <tr>\n",
       "      <th>7</th>\n",
       "      <td>2007</td>\n",
       "      <td>94</td>\n",
       "    </tr>\n",
       "    <tr>\n",
       "      <th>8</th>\n",
       "      <td>2008</td>\n",
       "      <td>97</td>\n",
       "    </tr>\n",
       "    <tr>\n",
       "      <th>9</th>\n",
       "      <td>2009</td>\n",
       "      <td>84</td>\n",
       "    </tr>\n",
       "    <tr>\n",
       "      <th>10</th>\n",
       "      <td>2010</td>\n",
       "      <td>107</td>\n",
       "    </tr>\n",
       "    <tr>\n",
       "      <th>11</th>\n",
       "      <td>2011</td>\n",
       "      <td>99</td>\n",
       "    </tr>\n",
       "    <tr>\n",
       "      <th>12</th>\n",
       "      <td>2012</td>\n",
       "      <td>115</td>\n",
       "    </tr>\n",
       "    <tr>\n",
       "      <th>13</th>\n",
       "      <td>2013</td>\n",
       "      <td>89</td>\n",
       "    </tr>\n",
       "    <tr>\n",
       "      <th>14</th>\n",
       "      <td>2014</td>\n",
       "      <td>104</td>\n",
       "    </tr>\n",
       "    <tr>\n",
       "      <th>15</th>\n",
       "      <td>2015</td>\n",
       "      <td>99</td>\n",
       "    </tr>\n",
       "    <tr>\n",
       "      <th>16</th>\n",
       "      <td>2016</td>\n",
       "      <td>99</td>\n",
       "    </tr>\n",
       "    <tr>\n",
       "      <th>17</th>\n",
       "      <td>2017</td>\n",
       "      <td>111</td>\n",
       "    </tr>\n",
       "    <tr>\n",
       "      <th>18</th>\n",
       "      <td>2018</td>\n",
       "      <td>107</td>\n",
       "    </tr>\n",
       "    <tr>\n",
       "      <th>19</th>\n",
       "      <td>2019</td>\n",
       "      <td>89</td>\n",
       "    </tr>\n",
       "  </tbody>\n",
       "</table>\n",
       "</div>"
      ],
      "text/plain": [
       "    year  song\n",
       "0   2000    74\n",
       "1   2001   108\n",
       "2   2002    90\n",
       "3   2003    97\n",
       "4   2004    96\n",
       "5   2005   104\n",
       "6   2006    95\n",
       "7   2007    94\n",
       "8   2008    97\n",
       "9   2009    84\n",
       "10  2010   107\n",
       "11  2011    99\n",
       "12  2012   115\n",
       "13  2013    89\n",
       "14  2014   104\n",
       "15  2015    99\n",
       "16  2016    99\n",
       "17  2017   111\n",
       "18  2018   107\n",
       "19  2019    89"
      ]
     },
     "execution_count": 60,
     "metadata": {},
     "output_type": "execute_result"
    }
   ],
   "source": [
    "artists_sum = data.groupby(\"year\", as_index=False).count()\n",
    "artists_sum[[\"year\", \"song\"]]\n"
   ]
  },
  {
   "cell_type": "markdown",
   "metadata": {},
   "source": [
    "## Rescaling\n",
    "Some of the columns in the dataset are supposed to be on a scale between two certain numbers, but that is not always the case since there are values that dont reach the top value by far. For this reason, and for the fact that it'll be more manageable later, we can rescale the columns in an appropriate way."
   ]
  },
  {
   "cell_type": "markdown",
   "metadata": {},
   "source": [
    "The function below, given a column and it's maximum value, rescales the values of that column according to the maximum value."
   ]
  },
  {
   "cell_type": "code",
   "execution_count": 61,
   "metadata": {},
   "outputs": [],
   "source": [
    "def rescale_col(column_name: str, max_value):\n",
    "    coeff = data[column_name].max()\n",
    "    data[column_name] = (data[column_name] / coeff) * max_value"
   ]
  },
  {
   "cell_type": "markdown",
   "metadata": {},
   "source": [
    "For example, applying this function to the \"popularity\" column rescales it as we wanted."
   ]
  },
  {
   "cell_type": "code",
   "execution_count": 62,
   "metadata": {},
   "outputs": [
    {
     "name": "stdout",
     "output_type": "stream",
     "text": [
      "89\n",
      "100.0\n"
     ]
    }
   ],
   "source": [
    "print(data[\"popularity\"].max())\n",
    "rescale_col(\"popularity\", 100)\n",
    "print(data[\"popularity\"].max())"
   ]
  },
  {
   "cell_type": "markdown",
   "metadata": {},
   "source": [
    "Now that we proved that our function works, we can apply it also for other columns like \"acousticness\", \"danceability\" and \"instrumentalness\"."
   ]
  },
  {
   "cell_type": "code",
   "execution_count": 63,
   "metadata": {},
   "outputs": [],
   "source": [
    "rescale_col(\"acousticness\", 1.0)\n",
    "rescale_col(\"danceability\", 1.0)\n",
    "rescale_col(\"instrumentalness\", 1.0)\n"
   ]
  },
  {
   "cell_type": "markdown",
   "metadata": {},
   "source": [
    "## set() in genre column\n",
    "Some of the rows in the dataset contain the value \"set()\" as its genre."
   ]
  },
  {
   "cell_type": "code",
   "execution_count": 64,
   "metadata": {},
   "outputs": [
    {
     "data": {
      "text/html": [
       "<div>\n",
       "<style scoped>\n",
       "    .dataframe tbody tr th:only-of-type {\n",
       "        vertical-align: middle;\n",
       "    }\n",
       "\n",
       "    .dataframe tbody tr th {\n",
       "        vertical-align: top;\n",
       "    }\n",
       "\n",
       "    .dataframe thead th {\n",
       "        text-align: right;\n",
       "    }\n",
       "</style>\n",
       "<table border=\"1\" class=\"dataframe\">\n",
       "  <thead>\n",
       "    <tr style=\"text-align: right;\">\n",
       "      <th></th>\n",
       "      <th>artist</th>\n",
       "      <th>song</th>\n",
       "      <th>genre</th>\n",
       "    </tr>\n",
       "  </thead>\n",
       "  <tbody>\n",
       "    <tr>\n",
       "      <th>481</th>\n",
       "      <td>Eamon</td>\n",
       "      <td>Fuck It (I Don't Want You Back)</td>\n",
       "      <td>set()</td>\n",
       "    </tr>\n",
       "    <tr>\n",
       "      <th>949</th>\n",
       "      <td>A.R. Rahman</td>\n",
       "      <td>Jai Ho! (You Are My Destiny)</td>\n",
       "      <td>set()</td>\n",
       "    </tr>\n",
       "    <tr>\n",
       "      <th>1487</th>\n",
       "      <td>Natalie La Rose</td>\n",
       "      <td>Somebody</td>\n",
       "      <td>set()</td>\n",
       "    </tr>\n",
       "  </tbody>\n",
       "</table>\n",
       "</div>"
      ],
      "text/plain": [
       "               artist                             song  genre\n",
       "481             Eamon  Fuck It (I Don't Want You Back)  set()\n",
       "949       A.R. Rahman     Jai Ho! (You Are My Destiny)  set()\n",
       "1487  Natalie La Rose                         Somebody  set()"
      ]
     },
     "execution_count": 64,
     "metadata": {},
     "output_type": "execute_result"
    }
   ],
   "source": [
    "columns = [\"artist\", \"song\", \"genre\"]\n",
    "data[data[\"genre\"] == \"set()\"][columns].sample(3)\n"
   ]
  },
  {
   "cell_type": "markdown",
   "metadata": {},
   "source": [
    "Since there is no way for us to interpret set(), it would be better to replace it with N/A."
   ]
  },
  {
   "cell_type": "code",
   "execution_count": 65,
   "metadata": {},
   "outputs": [
    {
     "data": {
      "text/html": [
       "<div>\n",
       "<style scoped>\n",
       "    .dataframe tbody tr th:only-of-type {\n",
       "        vertical-align: middle;\n",
       "    }\n",
       "\n",
       "    .dataframe tbody tr th {\n",
       "        vertical-align: top;\n",
       "    }\n",
       "\n",
       "    .dataframe thead th {\n",
       "        text-align: right;\n",
       "    }\n",
       "</style>\n",
       "<table border=\"1\" class=\"dataframe\">\n",
       "  <thead>\n",
       "    <tr style=\"text-align: right;\">\n",
       "      <th></th>\n",
       "      <th>artist</th>\n",
       "      <th>song</th>\n",
       "      <th>genre</th>\n",
       "    </tr>\n",
       "  </thead>\n",
       "  <tbody>\n",
       "    <tr>\n",
       "      <th>1406</th>\n",
       "      <td>MAGIC!</td>\n",
       "      <td>Rude</td>\n",
       "      <td>N/A</td>\n",
       "    </tr>\n",
       "    <tr>\n",
       "      <th>291</th>\n",
       "      <td>Blazin' Squad</td>\n",
       "      <td>Crossroads - Radio Edit</td>\n",
       "      <td>N/A</td>\n",
       "    </tr>\n",
       "    <tr>\n",
       "      <th>455</th>\n",
       "      <td>DJ Casper</td>\n",
       "      <td>Cha Cha Slide - Hardino Mix</td>\n",
       "      <td>N/A</td>\n",
       "    </tr>\n",
       "  </tbody>\n",
       "</table>\n",
       "</div>"
      ],
      "text/plain": [
       "             artist                         song genre\n",
       "1406         MAGIC!                         Rude   N/A\n",
       "291   Blazin' Squad      Crossroads - Radio Edit   N/A\n",
       "455       DJ Casper  Cha Cha Slide - Hardino Mix   N/A"
      ]
     },
     "execution_count": 65,
     "metadata": {},
     "output_type": "execute_result"
    }
   ],
   "source": [
    "data[\"genre\"] = data[\"genre\"].replace(\"set()\", \"N/A\")\n",
    "data[data[\"genre\"] == \"N/A\"][columns].sample(3)"
   ]
  },
  {
   "cell_type": "markdown",
   "metadata": {},
   "source": [
    "## N° of tracks per artist\n",
    "From the graph below we can see how many songs of the various artists (top 50) have entered the hit charts of Spotify throughout the years. "
   ]
  },
  {
   "cell_type": "code",
   "execution_count": 66,
   "metadata": {},
   "outputs": [
    {
     "data": {
      "application/vnd.plotly.v1+json": {
       "config": {
        "plotlyServerURL": "https://plot.ly"
       },
       "data": [
        {
         "alignmentgroup": "True",
         "hovertemplate": "artist=%{y}<br>song=%{x}<extra></extra>",
         "legendgroup": "Rihanna",
         "marker": {
          "color": "#636efa",
          "pattern": {
           "shape": ""
          }
         },
         "name": "Rihanna",
         "offsetgroup": "Rihanna",
         "orientation": "h",
         "showlegend": true,
         "textposition": "auto",
         "type": "bar",
         "x": [
          25
         ],
         "xaxis": "x",
         "y": [
          "Rihanna"
         ],
         "yaxis": "y"
        },
        {
         "alignmentgroup": "True",
         "hovertemplate": "artist=%{y}<br>song=%{x}<extra></extra>",
         "legendgroup": "Drake",
         "marker": {
          "color": "#EF553B",
          "pattern": {
           "shape": ""
          }
         },
         "name": "Drake",
         "offsetgroup": "Drake",
         "orientation": "h",
         "showlegend": true,
         "textposition": "auto",
         "type": "bar",
         "x": [
          23
         ],
         "xaxis": "x",
         "y": [
          "Drake"
         ],
         "yaxis": "y"
        },
        {
         "alignmentgroup": "True",
         "hovertemplate": "artist=%{y}<br>song=%{x}<extra></extra>",
         "legendgroup": "Eminem",
         "marker": {
          "color": "#00cc96",
          "pattern": {
           "shape": ""
          }
         },
         "name": "Eminem",
         "offsetgroup": "Eminem",
         "orientation": "h",
         "showlegend": true,
         "textposition": "auto",
         "type": "bar",
         "x": [
          21
         ],
         "xaxis": "x",
         "y": [
          "Eminem"
         ],
         "yaxis": "y"
        },
        {
         "alignmentgroup": "True",
         "hovertemplate": "artist=%{y}<br>song=%{x}<extra></extra>",
         "legendgroup": "Calvin Harris",
         "marker": {
          "color": "#ab63fa",
          "pattern": {
           "shape": ""
          }
         },
         "name": "Calvin Harris",
         "offsetgroup": "Calvin Harris",
         "orientation": "h",
         "showlegend": true,
         "textposition": "auto",
         "type": "bar",
         "x": [
          20
         ],
         "xaxis": "x",
         "y": [
          "Calvin Harris"
         ],
         "yaxis": "y"
        },
        {
         "alignmentgroup": "True",
         "hovertemplate": "artist=%{y}<br>song=%{x}<extra></extra>",
         "legendgroup": "Britney Spears",
         "marker": {
          "color": "#FFA15A",
          "pattern": {
           "shape": ""
          }
         },
         "name": "Britney Spears",
         "offsetgroup": "Britney Spears",
         "orientation": "h",
         "showlegend": true,
         "textposition": "auto",
         "type": "bar",
         "x": [
          18
         ],
         "xaxis": "x",
         "y": [
          "Britney Spears"
         ],
         "yaxis": "y"
        },
        {
         "alignmentgroup": "True",
         "hovertemplate": "artist=%{y}<br>song=%{x}<extra></extra>",
         "legendgroup": "David Guetta",
         "marker": {
          "color": "#19d3f3",
          "pattern": {
           "shape": ""
          }
         },
         "name": "David Guetta",
         "offsetgroup": "David Guetta",
         "orientation": "h",
         "showlegend": true,
         "textposition": "auto",
         "type": "bar",
         "x": [
          18
         ],
         "xaxis": "x",
         "y": [
          "David Guetta"
         ],
         "yaxis": "y"
        },
        {
         "alignmentgroup": "True",
         "hovertemplate": "artist=%{y}<br>song=%{x}<extra></extra>",
         "legendgroup": "Chris Brown",
         "marker": {
          "color": "#FF6692",
          "pattern": {
           "shape": ""
          }
         },
         "name": "Chris Brown",
         "offsetgroup": "Chris Brown",
         "orientation": "h",
         "showlegend": true,
         "textposition": "auto",
         "type": "bar",
         "x": [
          17
         ],
         "xaxis": "x",
         "y": [
          "Chris Brown"
         ],
         "yaxis": "y"
        },
        {
         "alignmentgroup": "True",
         "hovertemplate": "artist=%{y}<br>song=%{x}<extra></extra>",
         "legendgroup": "Kanye West",
         "marker": {
          "color": "#B6E880",
          "pattern": {
           "shape": ""
          }
         },
         "name": "Kanye West",
         "offsetgroup": "Kanye West",
         "orientation": "h",
         "showlegend": true,
         "textposition": "auto",
         "type": "bar",
         "x": [
          17
         ],
         "xaxis": "x",
         "y": [
          "Kanye West"
         ],
         "yaxis": "y"
        },
        {
         "alignmentgroup": "True",
         "hovertemplate": "artist=%{y}<br>song=%{x}<extra></extra>",
         "legendgroup": "Beyoncé",
         "marker": {
          "color": "#FF97FF",
          "pattern": {
           "shape": ""
          }
         },
         "name": "Beyoncé",
         "offsetgroup": "Beyoncé",
         "orientation": "h",
         "showlegend": true,
         "textposition": "auto",
         "type": "bar",
         "x": [
          16
         ],
         "xaxis": "x",
         "y": [
          "Beyoncé"
         ],
         "yaxis": "y"
        },
        {
         "alignmentgroup": "True",
         "hovertemplate": "artist=%{y}<br>song=%{x}<extra></extra>",
         "legendgroup": "Katy Perry",
         "marker": {
          "color": "#FECB52",
          "pattern": {
           "shape": ""
          }
         },
         "name": "Katy Perry",
         "offsetgroup": "Katy Perry",
         "orientation": "h",
         "showlegend": true,
         "textposition": "auto",
         "type": "bar",
         "x": [
          16
         ],
         "xaxis": "x",
         "y": [
          "Katy Perry"
         ],
         "yaxis": "y"
        },
        {
         "alignmentgroup": "True",
         "hovertemplate": "artist=%{y}<br>song=%{x}<extra></extra>",
         "legendgroup": "Taylor Swift",
         "marker": {
          "color": "#636efa",
          "pattern": {
           "shape": ""
          }
         },
         "name": "Taylor Swift",
         "offsetgroup": "Taylor Swift",
         "orientation": "h",
         "showlegend": true,
         "textposition": "auto",
         "type": "bar",
         "x": [
          16
         ],
         "xaxis": "x",
         "y": [
          "Taylor Swift"
         ],
         "yaxis": "y"
        },
        {
         "alignmentgroup": "True",
         "hovertemplate": "artist=%{y}<br>song=%{x}<extra></extra>",
         "legendgroup": "P!nk",
         "marker": {
          "color": "#EF553B",
          "pattern": {
           "shape": ""
          }
         },
         "name": "P!nk",
         "offsetgroup": "P!nk",
         "orientation": "h",
         "showlegend": true,
         "textposition": "auto",
         "type": "bar",
         "x": [
          15
         ],
         "xaxis": "x",
         "y": [
          "P!nk"
         ],
         "yaxis": "y"
        },
        {
         "alignmentgroup": "True",
         "hovertemplate": "artist=%{y}<br>song=%{x}<extra></extra>",
         "legendgroup": "Ariana Grande",
         "marker": {
          "color": "#00cc96",
          "pattern": {
           "shape": ""
          }
         },
         "name": "Ariana Grande",
         "offsetgroup": "Ariana Grande",
         "orientation": "h",
         "showlegend": true,
         "textposition": "auto",
         "type": "bar",
         "x": [
          14
         ],
         "xaxis": "x",
         "y": [
          "Ariana Grande"
         ],
         "yaxis": "y"
        },
        {
         "alignmentgroup": "True",
         "hovertemplate": "artist=%{y}<br>song=%{x}<extra></extra>",
         "legendgroup": "Black Eyed Peas",
         "marker": {
          "color": "#ab63fa",
          "pattern": {
           "shape": ""
          }
         },
         "name": "Black Eyed Peas",
         "offsetgroup": "Black Eyed Peas",
         "orientation": "h",
         "showlegend": true,
         "textposition": "auto",
         "type": "bar",
         "x": [
          14
         ],
         "xaxis": "x",
         "y": [
          "Black Eyed Peas"
         ],
         "yaxis": "y"
        },
        {
         "alignmentgroup": "True",
         "hovertemplate": "artist=%{y}<br>song=%{x}<extra></extra>",
         "legendgroup": "Jason Derulo",
         "marker": {
          "color": "#FFA15A",
          "pattern": {
           "shape": ""
          }
         },
         "name": "Jason Derulo",
         "offsetgroup": "Jason Derulo",
         "orientation": "h",
         "showlegend": true,
         "textposition": "auto",
         "type": "bar",
         "x": [
          13
         ],
         "xaxis": "x",
         "y": [
          "Jason Derulo"
         ],
         "yaxis": "y"
        },
        {
         "alignmentgroup": "True",
         "hovertemplate": "artist=%{y}<br>song=%{x}<extra></extra>",
         "legendgroup": "Coldplay",
         "marker": {
          "color": "#19d3f3",
          "pattern": {
           "shape": ""
          }
         },
         "name": "Coldplay",
         "offsetgroup": "Coldplay",
         "orientation": "h",
         "showlegend": true,
         "textposition": "auto",
         "type": "bar",
         "x": [
          13
         ],
         "xaxis": "x",
         "y": [
          "Coldplay"
         ],
         "yaxis": "y"
        },
        {
         "alignmentgroup": "True",
         "hovertemplate": "artist=%{y}<br>song=%{x}<extra></extra>",
         "legendgroup": "Maroon 5",
         "marker": {
          "color": "#FF6692",
          "pattern": {
           "shape": ""
          }
         },
         "name": "Maroon 5",
         "offsetgroup": "Maroon 5",
         "orientation": "h",
         "showlegend": true,
         "textposition": "auto",
         "type": "bar",
         "x": [
          13
         ],
         "xaxis": "x",
         "y": [
          "Maroon 5"
         ],
         "yaxis": "y"
        },
        {
         "alignmentgroup": "True",
         "hovertemplate": "artist=%{y}<br>song=%{x}<extra></extra>",
         "legendgroup": "Bruno Mars",
         "marker": {
          "color": "#B6E880",
          "pattern": {
           "shape": ""
          }
         },
         "name": "Bruno Mars",
         "offsetgroup": "Bruno Mars",
         "orientation": "h",
         "showlegend": true,
         "textposition": "auto",
         "type": "bar",
         "x": [
          12
         ],
         "xaxis": "x",
         "y": [
          "Bruno Mars"
         ],
         "yaxis": "y"
        },
        {
         "alignmentgroup": "True",
         "hovertemplate": "artist=%{y}<br>song=%{x}<extra></extra>",
         "legendgroup": "Justin Timberlake",
         "marker": {
          "color": "#FF97FF",
          "pattern": {
           "shape": ""
          }
         },
         "name": "Justin Timberlake",
         "offsetgroup": "Justin Timberlake",
         "orientation": "h",
         "showlegend": true,
         "textposition": "auto",
         "type": "bar",
         "x": [
          12
         ],
         "xaxis": "x",
         "y": [
          "Justin Timberlake"
         ],
         "yaxis": "y"
        },
        {
         "alignmentgroup": "True",
         "hovertemplate": "artist=%{y}<br>song=%{x}<extra></extra>",
         "legendgroup": "Lady Gaga",
         "marker": {
          "color": "#FECB52",
          "pattern": {
           "shape": ""
          }
         },
         "name": "Lady Gaga",
         "offsetgroup": "Lady Gaga",
         "orientation": "h",
         "showlegend": true,
         "textposition": "auto",
         "type": "bar",
         "x": [
          11
         ],
         "xaxis": "x",
         "y": [
          "Lady Gaga"
         ],
         "yaxis": "y"
        },
        {
         "alignmentgroup": "True",
         "hovertemplate": "artist=%{y}<br>song=%{x}<extra></extra>",
         "legendgroup": "Usher",
         "marker": {
          "color": "#636efa",
          "pattern": {
           "shape": ""
          }
         },
         "name": "Usher",
         "offsetgroup": "Usher",
         "orientation": "h",
         "showlegend": true,
         "textposition": "auto",
         "type": "bar",
         "x": [
          11
         ],
         "xaxis": "x",
         "y": [
          "Usher"
         ],
         "yaxis": "y"
        },
        {
         "alignmentgroup": "True",
         "hovertemplate": "artist=%{y}<br>song=%{x}<extra></extra>",
         "legendgroup": "JAY-Z",
         "marker": {
          "color": "#EF553B",
          "pattern": {
           "shape": ""
          }
         },
         "name": "JAY-Z",
         "offsetgroup": "JAY-Z",
         "orientation": "h",
         "showlegend": true,
         "textposition": "auto",
         "type": "bar",
         "x": [
          11
         ],
         "xaxis": "x",
         "y": [
          "JAY-Z"
         ],
         "yaxis": "y"
        },
        {
         "alignmentgroup": "True",
         "hovertemplate": "artist=%{y}<br>song=%{x}<extra></extra>",
         "legendgroup": "Flo Rida",
         "marker": {
          "color": "#00cc96",
          "pattern": {
           "shape": ""
          }
         },
         "name": "Flo Rida",
         "offsetgroup": "Flo Rida",
         "orientation": "h",
         "showlegend": true,
         "textposition": "auto",
         "type": "bar",
         "x": [
          11
         ],
         "xaxis": "x",
         "y": [
          "Flo Rida"
         ],
         "yaxis": "y"
        },
        {
         "alignmentgroup": "True",
         "hovertemplate": "artist=%{y}<br>song=%{x}<extra></extra>",
         "legendgroup": "Nelly",
         "marker": {
          "color": "#ab63fa",
          "pattern": {
           "shape": ""
          }
         },
         "name": "Nelly",
         "offsetgroup": "Nelly",
         "orientation": "h",
         "showlegend": true,
         "textposition": "auto",
         "type": "bar",
         "x": [
          11
         ],
         "xaxis": "x",
         "y": [
          "Nelly"
         ],
         "yaxis": "y"
        },
        {
         "alignmentgroup": "True",
         "hovertemplate": "artist=%{y}<br>song=%{x}<extra></extra>",
         "legendgroup": "Jennifer Lopez",
         "marker": {
          "color": "#FFA15A",
          "pattern": {
           "shape": ""
          }
         },
         "name": "Jennifer Lopez",
         "offsetgroup": "Jennifer Lopez",
         "orientation": "h",
         "showlegend": true,
         "textposition": "auto",
         "type": "bar",
         "x": [
          10
         ],
         "xaxis": "x",
         "y": [
          "Jennifer Lopez"
         ],
         "yaxis": "y"
        },
        {
         "alignmentgroup": "True",
         "hovertemplate": "artist=%{y}<br>song=%{x}<extra></extra>",
         "legendgroup": "Justin Bieber",
         "marker": {
          "color": "#19d3f3",
          "pattern": {
           "shape": ""
          }
         },
         "name": "Justin Bieber",
         "offsetgroup": "Justin Bieber",
         "orientation": "h",
         "showlegend": true,
         "textposition": "auto",
         "type": "bar",
         "x": [
          10
         ],
         "xaxis": "x",
         "y": [
          "Justin Bieber"
         ],
         "yaxis": "y"
        },
        {
         "alignmentgroup": "True",
         "hovertemplate": "artist=%{y}<br>song=%{x}<extra></extra>",
         "legendgroup": "Avril Lavigne",
         "marker": {
          "color": "#FF6692",
          "pattern": {
           "shape": ""
          }
         },
         "name": "Avril Lavigne",
         "offsetgroup": "Avril Lavigne",
         "orientation": "h",
         "showlegend": true,
         "textposition": "auto",
         "type": "bar",
         "x": [
          10
         ],
         "xaxis": "x",
         "y": [
          "Avril Lavigne"
         ],
         "yaxis": "y"
        },
        {
         "alignmentgroup": "True",
         "hovertemplate": "artist=%{y}<br>song=%{x}<extra></extra>",
         "legendgroup": "Avicii",
         "marker": {
          "color": "#B6E880",
          "pattern": {
           "shape": ""
          }
         },
         "name": "Avicii",
         "offsetgroup": "Avicii",
         "orientation": "h",
         "showlegend": true,
         "textposition": "auto",
         "type": "bar",
         "x": [
          10
         ],
         "xaxis": "x",
         "y": [
          "Avicii"
         ],
         "yaxis": "y"
        },
        {
         "alignmentgroup": "True",
         "hovertemplate": "artist=%{y}<br>song=%{x}<extra></extra>",
         "legendgroup": "Sean Paul",
         "marker": {
          "color": "#FF97FF",
          "pattern": {
           "shape": ""
          }
         },
         "name": "Sean Paul",
         "offsetgroup": "Sean Paul",
         "orientation": "h",
         "showlegend": true,
         "textposition": "auto",
         "type": "bar",
         "x": [
          9
         ],
         "xaxis": "x",
         "y": [
          "Sean Paul"
         ],
         "yaxis": "y"
        },
        {
         "alignmentgroup": "True",
         "hovertemplate": "artist=%{y}<br>song=%{x}<extra></extra>",
         "legendgroup": "Post Malone",
         "marker": {
          "color": "#FECB52",
          "pattern": {
           "shape": ""
          }
         },
         "name": "Post Malone",
         "offsetgroup": "Post Malone",
         "orientation": "h",
         "showlegend": true,
         "textposition": "auto",
         "type": "bar",
         "x": [
          9
         ],
         "xaxis": "x",
         "y": [
          "Post Malone"
         ],
         "yaxis": "y"
        },
        {
         "alignmentgroup": "True",
         "hovertemplate": "artist=%{y}<br>song=%{x}<extra></extra>",
         "legendgroup": "Ludacris",
         "marker": {
          "color": "#636efa",
          "pattern": {
           "shape": ""
          }
         },
         "name": "Ludacris",
         "offsetgroup": "Ludacris",
         "orientation": "h",
         "showlegend": true,
         "textposition": "auto",
         "type": "bar",
         "x": [
          9
         ],
         "xaxis": "x",
         "y": [
          "Ludacris"
         ],
         "yaxis": "y"
        },
        {
         "alignmentgroup": "True",
         "hovertemplate": "artist=%{y}<br>song=%{x}<extra></extra>",
         "legendgroup": "Selena Gomez",
         "marker": {
          "color": "#EF553B",
          "pattern": {
           "shape": ""
          }
         },
         "name": "Selena Gomez",
         "offsetgroup": "Selena Gomez",
         "orientation": "h",
         "showlegend": true,
         "textposition": "auto",
         "type": "bar",
         "x": [
          9
         ],
         "xaxis": "x",
         "y": [
          "Selena Gomez"
         ],
         "yaxis": "y"
        },
        {
         "alignmentgroup": "True",
         "hovertemplate": "artist=%{y}<br>song=%{x}<extra></extra>",
         "legendgroup": "One Direction",
         "marker": {
          "color": "#00cc96",
          "pattern": {
           "shape": ""
          }
         },
         "name": "One Direction",
         "offsetgroup": "One Direction",
         "orientation": "h",
         "showlegend": true,
         "textposition": "auto",
         "type": "bar",
         "x": [
          9
         ],
         "xaxis": "x",
         "y": [
          "One Direction"
         ],
         "yaxis": "y"
        },
        {
         "alignmentgroup": "True",
         "hovertemplate": "artist=%{y}<br>song=%{x}<extra></extra>",
         "legendgroup": "Nickelback",
         "marker": {
          "color": "#ab63fa",
          "pattern": {
           "shape": ""
          }
         },
         "name": "Nickelback",
         "offsetgroup": "Nickelback",
         "orientation": "h",
         "showlegend": true,
         "textposition": "auto",
         "type": "bar",
         "x": [
          9
         ],
         "xaxis": "x",
         "y": [
          "Nickelback"
         ],
         "yaxis": "y"
        },
        {
         "alignmentgroup": "True",
         "hovertemplate": "artist=%{y}<br>song=%{x}<extra></extra>",
         "legendgroup": "Ed Sheeran",
         "marker": {
          "color": "#FFA15A",
          "pattern": {
           "shape": ""
          }
         },
         "name": "Ed Sheeran",
         "offsetgroup": "Ed Sheeran",
         "orientation": "h",
         "showlegend": true,
         "textposition": "auto",
         "type": "bar",
         "x": [
          9
         ],
         "xaxis": "x",
         "y": [
          "Ed Sheeran"
         ],
         "yaxis": "y"
        },
        {
         "alignmentgroup": "True",
         "hovertemplate": "artist=%{y}<br>song=%{x}<extra></extra>",
         "legendgroup": "50 Cent",
         "marker": {
          "color": "#19d3f3",
          "pattern": {
           "shape": ""
          }
         },
         "name": "50 Cent",
         "offsetgroup": "50 Cent",
         "orientation": "h",
         "showlegend": true,
         "textposition": "auto",
         "type": "bar",
         "x": [
          9
         ],
         "xaxis": "x",
         "y": [
          "50 Cent"
         ],
         "yaxis": "y"
        },
        {
         "alignmentgroup": "True",
         "hovertemplate": "artist=%{y}<br>song=%{x}<extra></extra>",
         "legendgroup": "Linkin Park",
         "marker": {
          "color": "#FF6692",
          "pattern": {
           "shape": ""
          }
         },
         "name": "Linkin Park",
         "offsetgroup": "Linkin Park",
         "orientation": "h",
         "showlegend": true,
         "textposition": "auto",
         "type": "bar",
         "x": [
          9
         ],
         "xaxis": "x",
         "y": [
          "Linkin Park"
         ],
         "yaxis": "y"
        },
        {
         "alignmentgroup": "True",
         "hovertemplate": "artist=%{y}<br>song=%{x}<extra></extra>",
         "legendgroup": "Pitbull",
         "marker": {
          "color": "#B6E880",
          "pattern": {
           "shape": ""
          }
         },
         "name": "Pitbull",
         "offsetgroup": "Pitbull",
         "orientation": "h",
         "showlegend": true,
         "textposition": "auto",
         "type": "bar",
         "x": [
          9
         ],
         "xaxis": "x",
         "y": [
          "Pitbull"
         ],
         "yaxis": "y"
        },
        {
         "alignmentgroup": "True",
         "hovertemplate": "artist=%{y}<br>song=%{x}<extra></extra>",
         "legendgroup": "OneRepublic",
         "marker": {
          "color": "#FF97FF",
          "pattern": {
           "shape": ""
          }
         },
         "name": "OneRepublic",
         "offsetgroup": "OneRepublic",
         "orientation": "h",
         "showlegend": true,
         "textposition": "auto",
         "type": "bar",
         "x": [
          8
         ],
         "xaxis": "x",
         "y": [
          "OneRepublic"
         ],
         "yaxis": "y"
        },
        {
         "alignmentgroup": "True",
         "hovertemplate": "artist=%{y}<br>song=%{x}<extra></extra>",
         "legendgroup": "Kesha",
         "marker": {
          "color": "#FECB52",
          "pattern": {
           "shape": ""
          }
         },
         "name": "Kesha",
         "offsetgroup": "Kesha",
         "orientation": "h",
         "showlegend": true,
         "textposition": "auto",
         "type": "bar",
         "x": [
          8
         ],
         "xaxis": "x",
         "y": [
          "Kesha"
         ],
         "yaxis": "y"
        },
        {
         "alignmentgroup": "True",
         "hovertemplate": "artist=%{y}<br>song=%{x}<extra></extra>",
         "legendgroup": "Ne-Yo",
         "marker": {
          "color": "#636efa",
          "pattern": {
           "shape": ""
          }
         },
         "name": "Ne-Yo",
         "offsetgroup": "Ne-Yo",
         "orientation": "h",
         "showlegend": true,
         "textposition": "auto",
         "type": "bar",
         "x": [
          8
         ],
         "xaxis": "x",
         "y": [
          "Ne-Yo"
         ],
         "yaxis": "y"
        },
        {
         "alignmentgroup": "True",
         "hovertemplate": "artist=%{y}<br>song=%{x}<extra></extra>",
         "legendgroup": "Lil Wayne",
         "marker": {
          "color": "#EF553B",
          "pattern": {
           "shape": ""
          }
         },
         "name": "Lil Wayne",
         "offsetgroup": "Lil Wayne",
         "orientation": "h",
         "showlegend": true,
         "textposition": "auto",
         "type": "bar",
         "x": [
          8
         ],
         "xaxis": "x",
         "y": [
          "Lil Wayne"
         ],
         "yaxis": "y"
        },
        {
         "alignmentgroup": "True",
         "hovertemplate": "artist=%{y}<br>song=%{x}<extra></extra>",
         "legendgroup": "Madonna",
         "marker": {
          "color": "#00cc96",
          "pattern": {
           "shape": ""
          }
         },
         "name": "Madonna",
         "offsetgroup": "Madonna",
         "orientation": "h",
         "showlegend": true,
         "textposition": "auto",
         "type": "bar",
         "x": [
          8
         ],
         "xaxis": "x",
         "y": [
          "Madonna"
         ],
         "yaxis": "y"
        },
        {
         "alignmentgroup": "True",
         "hovertemplate": "artist=%{y}<br>song=%{x}<extra></extra>",
         "legendgroup": "The Pussycat Dolls",
         "marker": {
          "color": "#ab63fa",
          "pattern": {
           "shape": ""
          }
         },
         "name": "The Pussycat Dolls",
         "offsetgroup": "The Pussycat Dolls",
         "orientation": "h",
         "showlegend": true,
         "textposition": "auto",
         "type": "bar",
         "x": [
          8
         ],
         "xaxis": "x",
         "y": [
          "The Pussycat Dolls"
         ],
         "yaxis": "y"
        },
        {
         "alignmentgroup": "True",
         "hovertemplate": "artist=%{y}<br>song=%{x}<extra></extra>",
         "legendgroup": "Enrique Iglesias",
         "marker": {
          "color": "#FFA15A",
          "pattern": {
           "shape": ""
          }
         },
         "name": "Enrique Iglesias",
         "offsetgroup": "Enrique Iglesias",
         "orientation": "h",
         "showlegend": true,
         "textposition": "auto",
         "type": "bar",
         "x": [
          8
         ],
         "xaxis": "x",
         "y": [
          "Enrique Iglesias"
         ],
         "yaxis": "y"
        },
        {
         "alignmentgroup": "True",
         "hovertemplate": "artist=%{y}<br>song=%{x}<extra></extra>",
         "legendgroup": "Akon",
         "marker": {
          "color": "#19d3f3",
          "pattern": {
           "shape": ""
          }
         },
         "name": "Akon",
         "offsetgroup": "Akon",
         "orientation": "h",
         "showlegend": true,
         "textposition": "auto",
         "type": "bar",
         "x": [
          8
         ],
         "xaxis": "x",
         "y": [
          "Akon"
         ],
         "yaxis": "y"
        },
        {
         "alignmentgroup": "True",
         "hovertemplate": "artist=%{y}<br>song=%{x}<extra></extra>",
         "legendgroup": "Ciara",
         "marker": {
          "color": "#FF6692",
          "pattern": {
           "shape": ""
          }
         },
         "name": "Ciara",
         "offsetgroup": "Ciara",
         "orientation": "h",
         "showlegend": true,
         "textposition": "auto",
         "type": "bar",
         "x": [
          8
         ],
         "xaxis": "x",
         "y": [
          "Ciara"
         ],
         "yaxis": "y"
        },
        {
         "alignmentgroup": "True",
         "hovertemplate": "artist=%{y}<br>song=%{x}<extra></extra>",
         "legendgroup": "Destiny's Child",
         "marker": {
          "color": "#B6E880",
          "pattern": {
           "shape": ""
          }
         },
         "name": "Destiny's Child",
         "offsetgroup": "Destiny's Child",
         "orientation": "h",
         "showlegend": true,
         "textposition": "auto",
         "type": "bar",
         "x": [
          8
         ],
         "xaxis": "x",
         "y": [
          "Destiny's Child"
         ],
         "yaxis": "y"
        },
        {
         "alignmentgroup": "True",
         "hovertemplate": "artist=%{y}<br>song=%{x}<extra></extra>",
         "legendgroup": "The Weeknd",
         "marker": {
          "color": "#FF97FF",
          "pattern": {
           "shape": ""
          }
         },
         "name": "The Weeknd",
         "offsetgroup": "The Weeknd",
         "orientation": "h",
         "showlegend": true,
         "textposition": "auto",
         "type": "bar",
         "x": [
          8
         ],
         "xaxis": "x",
         "y": [
          "The Weeknd"
         ],
         "yaxis": "y"
        },
        {
         "alignmentgroup": "True",
         "hovertemplate": "artist=%{y}<br>song=%{x}<extra></extra>",
         "legendgroup": "The Chainsmokers",
         "marker": {
          "color": "#FECB52",
          "pattern": {
           "shape": ""
          }
         },
         "name": "The Chainsmokers",
         "offsetgroup": "The Chainsmokers",
         "orientation": "h",
         "showlegend": true,
         "textposition": "auto",
         "type": "bar",
         "x": [
          8
         ],
         "xaxis": "x",
         "y": [
          "The Chainsmokers"
         ],
         "yaxis": "y"
        }
       ],
       "layout": {
        "barmode": "relative",
        "font": {
         "size": 12
        },
        "height": 1000,
        "legend": {
         "title": {
          "text": "artist"
         },
         "tracegroupgap": 0
        },
        "template": {
         "data": {
          "bar": [
           {
            "error_x": {
             "color": "#2a3f5f"
            },
            "error_y": {
             "color": "#2a3f5f"
            },
            "marker": {
             "line": {
              "color": "#E5ECF6",
              "width": 0.5
             },
             "pattern": {
              "fillmode": "overlay",
              "size": 10,
              "solidity": 0.2
             }
            },
            "type": "bar"
           }
          ],
          "barpolar": [
           {
            "marker": {
             "line": {
              "color": "#E5ECF6",
              "width": 0.5
             },
             "pattern": {
              "fillmode": "overlay",
              "size": 10,
              "solidity": 0.2
             }
            },
            "type": "barpolar"
           }
          ],
          "carpet": [
           {
            "aaxis": {
             "endlinecolor": "#2a3f5f",
             "gridcolor": "white",
             "linecolor": "white",
             "minorgridcolor": "white",
             "startlinecolor": "#2a3f5f"
            },
            "baxis": {
             "endlinecolor": "#2a3f5f",
             "gridcolor": "white",
             "linecolor": "white",
             "minorgridcolor": "white",
             "startlinecolor": "#2a3f5f"
            },
            "type": "carpet"
           }
          ],
          "choropleth": [
           {
            "colorbar": {
             "outlinewidth": 0,
             "ticks": ""
            },
            "type": "choropleth"
           }
          ],
          "contour": [
           {
            "colorbar": {
             "outlinewidth": 0,
             "ticks": ""
            },
            "colorscale": [
             [
              0,
              "#0d0887"
             ],
             [
              0.1111111111111111,
              "#46039f"
             ],
             [
              0.2222222222222222,
              "#7201a8"
             ],
             [
              0.3333333333333333,
              "#9c179e"
             ],
             [
              0.4444444444444444,
              "#bd3786"
             ],
             [
              0.5555555555555556,
              "#d8576b"
             ],
             [
              0.6666666666666666,
              "#ed7953"
             ],
             [
              0.7777777777777778,
              "#fb9f3a"
             ],
             [
              0.8888888888888888,
              "#fdca26"
             ],
             [
              1,
              "#f0f921"
             ]
            ],
            "type": "contour"
           }
          ],
          "contourcarpet": [
           {
            "colorbar": {
             "outlinewidth": 0,
             "ticks": ""
            },
            "type": "contourcarpet"
           }
          ],
          "heatmap": [
           {
            "colorbar": {
             "outlinewidth": 0,
             "ticks": ""
            },
            "colorscale": [
             [
              0,
              "#0d0887"
             ],
             [
              0.1111111111111111,
              "#46039f"
             ],
             [
              0.2222222222222222,
              "#7201a8"
             ],
             [
              0.3333333333333333,
              "#9c179e"
             ],
             [
              0.4444444444444444,
              "#bd3786"
             ],
             [
              0.5555555555555556,
              "#d8576b"
             ],
             [
              0.6666666666666666,
              "#ed7953"
             ],
             [
              0.7777777777777778,
              "#fb9f3a"
             ],
             [
              0.8888888888888888,
              "#fdca26"
             ],
             [
              1,
              "#f0f921"
             ]
            ],
            "type": "heatmap"
           }
          ],
          "heatmapgl": [
           {
            "colorbar": {
             "outlinewidth": 0,
             "ticks": ""
            },
            "colorscale": [
             [
              0,
              "#0d0887"
             ],
             [
              0.1111111111111111,
              "#46039f"
             ],
             [
              0.2222222222222222,
              "#7201a8"
             ],
             [
              0.3333333333333333,
              "#9c179e"
             ],
             [
              0.4444444444444444,
              "#bd3786"
             ],
             [
              0.5555555555555556,
              "#d8576b"
             ],
             [
              0.6666666666666666,
              "#ed7953"
             ],
             [
              0.7777777777777778,
              "#fb9f3a"
             ],
             [
              0.8888888888888888,
              "#fdca26"
             ],
             [
              1,
              "#f0f921"
             ]
            ],
            "type": "heatmapgl"
           }
          ],
          "histogram": [
           {
            "marker": {
             "pattern": {
              "fillmode": "overlay",
              "size": 10,
              "solidity": 0.2
             }
            },
            "type": "histogram"
           }
          ],
          "histogram2d": [
           {
            "colorbar": {
             "outlinewidth": 0,
             "ticks": ""
            },
            "colorscale": [
             [
              0,
              "#0d0887"
             ],
             [
              0.1111111111111111,
              "#46039f"
             ],
             [
              0.2222222222222222,
              "#7201a8"
             ],
             [
              0.3333333333333333,
              "#9c179e"
             ],
             [
              0.4444444444444444,
              "#bd3786"
             ],
             [
              0.5555555555555556,
              "#d8576b"
             ],
             [
              0.6666666666666666,
              "#ed7953"
             ],
             [
              0.7777777777777778,
              "#fb9f3a"
             ],
             [
              0.8888888888888888,
              "#fdca26"
             ],
             [
              1,
              "#f0f921"
             ]
            ],
            "type": "histogram2d"
           }
          ],
          "histogram2dcontour": [
           {
            "colorbar": {
             "outlinewidth": 0,
             "ticks": ""
            },
            "colorscale": [
             [
              0,
              "#0d0887"
             ],
             [
              0.1111111111111111,
              "#46039f"
             ],
             [
              0.2222222222222222,
              "#7201a8"
             ],
             [
              0.3333333333333333,
              "#9c179e"
             ],
             [
              0.4444444444444444,
              "#bd3786"
             ],
             [
              0.5555555555555556,
              "#d8576b"
             ],
             [
              0.6666666666666666,
              "#ed7953"
             ],
             [
              0.7777777777777778,
              "#fb9f3a"
             ],
             [
              0.8888888888888888,
              "#fdca26"
             ],
             [
              1,
              "#f0f921"
             ]
            ],
            "type": "histogram2dcontour"
           }
          ],
          "mesh3d": [
           {
            "colorbar": {
             "outlinewidth": 0,
             "ticks": ""
            },
            "type": "mesh3d"
           }
          ],
          "parcoords": [
           {
            "line": {
             "colorbar": {
              "outlinewidth": 0,
              "ticks": ""
             }
            },
            "type": "parcoords"
           }
          ],
          "pie": [
           {
            "automargin": true,
            "type": "pie"
           }
          ],
          "scatter": [
           {
            "marker": {
             "colorbar": {
              "outlinewidth": 0,
              "ticks": ""
             }
            },
            "type": "scatter"
           }
          ],
          "scatter3d": [
           {
            "line": {
             "colorbar": {
              "outlinewidth": 0,
              "ticks": ""
             }
            },
            "marker": {
             "colorbar": {
              "outlinewidth": 0,
              "ticks": ""
             }
            },
            "type": "scatter3d"
           }
          ],
          "scattercarpet": [
           {
            "marker": {
             "colorbar": {
              "outlinewidth": 0,
              "ticks": ""
             }
            },
            "type": "scattercarpet"
           }
          ],
          "scattergeo": [
           {
            "marker": {
             "colorbar": {
              "outlinewidth": 0,
              "ticks": ""
             }
            },
            "type": "scattergeo"
           }
          ],
          "scattergl": [
           {
            "marker": {
             "colorbar": {
              "outlinewidth": 0,
              "ticks": ""
             }
            },
            "type": "scattergl"
           }
          ],
          "scattermapbox": [
           {
            "marker": {
             "colorbar": {
              "outlinewidth": 0,
              "ticks": ""
             }
            },
            "type": "scattermapbox"
           }
          ],
          "scatterpolar": [
           {
            "marker": {
             "colorbar": {
              "outlinewidth": 0,
              "ticks": ""
             }
            },
            "type": "scatterpolar"
           }
          ],
          "scatterpolargl": [
           {
            "marker": {
             "colorbar": {
              "outlinewidth": 0,
              "ticks": ""
             }
            },
            "type": "scatterpolargl"
           }
          ],
          "scatterternary": [
           {
            "marker": {
             "colorbar": {
              "outlinewidth": 0,
              "ticks": ""
             }
            },
            "type": "scatterternary"
           }
          ],
          "surface": [
           {
            "colorbar": {
             "outlinewidth": 0,
             "ticks": ""
            },
            "colorscale": [
             [
              0,
              "#0d0887"
             ],
             [
              0.1111111111111111,
              "#46039f"
             ],
             [
              0.2222222222222222,
              "#7201a8"
             ],
             [
              0.3333333333333333,
              "#9c179e"
             ],
             [
              0.4444444444444444,
              "#bd3786"
             ],
             [
              0.5555555555555556,
              "#d8576b"
             ],
             [
              0.6666666666666666,
              "#ed7953"
             ],
             [
              0.7777777777777778,
              "#fb9f3a"
             ],
             [
              0.8888888888888888,
              "#fdca26"
             ],
             [
              1,
              "#f0f921"
             ]
            ],
            "type": "surface"
           }
          ],
          "table": [
           {
            "cells": {
             "fill": {
              "color": "#EBF0F8"
             },
             "line": {
              "color": "white"
             }
            },
            "header": {
             "fill": {
              "color": "#C8D4E3"
             },
             "line": {
              "color": "white"
             }
            },
            "type": "table"
           }
          ]
         },
         "layout": {
          "annotationdefaults": {
           "arrowcolor": "#2a3f5f",
           "arrowhead": 0,
           "arrowwidth": 1
          },
          "autotypenumbers": "strict",
          "coloraxis": {
           "colorbar": {
            "outlinewidth": 0,
            "ticks": ""
           }
          },
          "colorscale": {
           "diverging": [
            [
             0,
             "#8e0152"
            ],
            [
             0.1,
             "#c51b7d"
            ],
            [
             0.2,
             "#de77ae"
            ],
            [
             0.3,
             "#f1b6da"
            ],
            [
             0.4,
             "#fde0ef"
            ],
            [
             0.5,
             "#f7f7f7"
            ],
            [
             0.6,
             "#e6f5d0"
            ],
            [
             0.7,
             "#b8e186"
            ],
            [
             0.8,
             "#7fbc41"
            ],
            [
             0.9,
             "#4d9221"
            ],
            [
             1,
             "#276419"
            ]
           ],
           "sequential": [
            [
             0,
             "#0d0887"
            ],
            [
             0.1111111111111111,
             "#46039f"
            ],
            [
             0.2222222222222222,
             "#7201a8"
            ],
            [
             0.3333333333333333,
             "#9c179e"
            ],
            [
             0.4444444444444444,
             "#bd3786"
            ],
            [
             0.5555555555555556,
             "#d8576b"
            ],
            [
             0.6666666666666666,
             "#ed7953"
            ],
            [
             0.7777777777777778,
             "#fb9f3a"
            ],
            [
             0.8888888888888888,
             "#fdca26"
            ],
            [
             1,
             "#f0f921"
            ]
           ],
           "sequentialminus": [
            [
             0,
             "#0d0887"
            ],
            [
             0.1111111111111111,
             "#46039f"
            ],
            [
             0.2222222222222222,
             "#7201a8"
            ],
            [
             0.3333333333333333,
             "#9c179e"
            ],
            [
             0.4444444444444444,
             "#bd3786"
            ],
            [
             0.5555555555555556,
             "#d8576b"
            ],
            [
             0.6666666666666666,
             "#ed7953"
            ],
            [
             0.7777777777777778,
             "#fb9f3a"
            ],
            [
             0.8888888888888888,
             "#fdca26"
            ],
            [
             1,
             "#f0f921"
            ]
           ]
          },
          "colorway": [
           "#636efa",
           "#EF553B",
           "#00cc96",
           "#ab63fa",
           "#FFA15A",
           "#19d3f3",
           "#FF6692",
           "#B6E880",
           "#FF97FF",
           "#FECB52"
          ],
          "font": {
           "color": "#2a3f5f"
          },
          "geo": {
           "bgcolor": "white",
           "lakecolor": "white",
           "landcolor": "#E5ECF6",
           "showlakes": true,
           "showland": true,
           "subunitcolor": "white"
          },
          "hoverlabel": {
           "align": "left"
          },
          "hovermode": "closest",
          "mapbox": {
           "style": "light"
          },
          "paper_bgcolor": "white",
          "plot_bgcolor": "#E5ECF6",
          "polar": {
           "angularaxis": {
            "gridcolor": "white",
            "linecolor": "white",
            "ticks": ""
           },
           "bgcolor": "#E5ECF6",
           "radialaxis": {
            "gridcolor": "white",
            "linecolor": "white",
            "ticks": ""
           }
          },
          "scene": {
           "xaxis": {
            "backgroundcolor": "#E5ECF6",
            "gridcolor": "white",
            "gridwidth": 2,
            "linecolor": "white",
            "showbackground": true,
            "ticks": "",
            "zerolinecolor": "white"
           },
           "yaxis": {
            "backgroundcolor": "#E5ECF6",
            "gridcolor": "white",
            "gridwidth": 2,
            "linecolor": "white",
            "showbackground": true,
            "ticks": "",
            "zerolinecolor": "white"
           },
           "zaxis": {
            "backgroundcolor": "#E5ECF6",
            "gridcolor": "white",
            "gridwidth": 2,
            "linecolor": "white",
            "showbackground": true,
            "ticks": "",
            "zerolinecolor": "white"
           }
          },
          "shapedefaults": {
           "line": {
            "color": "#2a3f5f"
           }
          },
          "ternary": {
           "aaxis": {
            "gridcolor": "white",
            "linecolor": "white",
            "ticks": ""
           },
           "baxis": {
            "gridcolor": "white",
            "linecolor": "white",
            "ticks": ""
           },
           "bgcolor": "#E5ECF6",
           "caxis": {
            "gridcolor": "white",
            "linecolor": "white",
            "ticks": ""
           }
          },
          "title": {
           "x": 0.05
          },
          "xaxis": {
           "automargin": true,
           "gridcolor": "white",
           "linecolor": "white",
           "ticks": "",
           "title": {
            "standoff": 15
           },
           "zerolinecolor": "white",
           "zerolinewidth": 2
          },
          "yaxis": {
           "automargin": true,
           "gridcolor": "white",
           "linecolor": "white",
           "ticks": "",
           "title": {
            "standoff": 15
           },
           "zerolinecolor": "white",
           "zerolinewidth": 2
          }
         }
        },
        "title": {
         "text": "Most present artists"
        },
        "width": 1300,
        "xaxis": {
         "anchor": "y",
         "domain": [
          0,
          1
         ],
         "title": {
          "text": "song"
         }
        },
        "yaxis": {
         "anchor": "x",
         "categoryarray": [
          "The Chainsmokers",
          "The Weeknd",
          "Destiny's Child",
          "Ciara",
          "Akon",
          "Enrique Iglesias",
          "The Pussycat Dolls",
          "Madonna",
          "Lil Wayne",
          "Ne-Yo",
          "Kesha",
          "OneRepublic",
          "Pitbull",
          "Linkin Park",
          "50 Cent",
          "Ed Sheeran",
          "Nickelback",
          "One Direction",
          "Selena Gomez",
          "Ludacris",
          "Post Malone",
          "Sean Paul",
          "Avicii",
          "Avril Lavigne",
          "Justin Bieber",
          "Jennifer Lopez",
          "Nelly",
          "Flo Rida",
          "JAY-Z",
          "Usher",
          "Lady Gaga",
          "Justin Timberlake",
          "Bruno Mars",
          "Maroon 5",
          "Coldplay",
          "Jason Derulo",
          "Black Eyed Peas",
          "Ariana Grande",
          "P!nk",
          "Taylor Swift",
          "Katy Perry",
          "Beyoncé",
          "Kanye West",
          "Chris Brown",
          "David Guetta",
          "Britney Spears",
          "Calvin Harris",
          "Eminem",
          "Drake",
          "Rihanna"
         ],
         "categoryorder": "array",
         "domain": [
          0,
          1
         ],
         "title": {
          "text": "artist"
         }
        }
       }
      }
     },
     "metadata": {},
     "output_type": "display_data"
    }
   ],
   "source": [
    "artists_sum = data.groupby(\"artist\", as_index=False).count().sort_values(by=\"song\", ascending=False).head(50)\n",
    "fig = px.bar(artists_sum, x=\"song\", y=\"artist\", color=\"artist\",\n",
    "             width=1300, height=1000, title=\"Most present artists\")\n",
    "fig.update_layout(font_size=12)\n",
    "fig.show()\n"
   ]
  },
  {
   "cell_type": "markdown",
   "metadata": {},
   "source": [
    "## Artists popularity\n",
    "Now that we've seen the most present artists in the charts of Spotify, it would be interesting their average popularity index."
   ]
  },
  {
   "cell_type": "code",
   "execution_count": 67,
   "metadata": {},
   "outputs": [
    {
     "data": {
      "application/vnd.plotly.v1+json": {
       "config": {
        "plotlyServerURL": "https://plot.ly"
       },
       "data": [
        {
         "alignmentgroup": "True",
         "hovertemplate": "artist=%{y}<br>popularity=%{x}<extra></extra>",
         "legendgroup": "Rihanna",
         "marker": {
          "color": "#636efa",
          "pattern": {
           "shape": ""
          }
         },
         "name": "Rihanna",
         "offsetgroup": "Rihanna",
         "orientation": "h",
         "showlegend": true,
         "textposition": "auto",
         "type": "bar",
         "x": [
          81
         ],
         "xaxis": "x",
         "y": [
          "Rihanna"
         ],
         "yaxis": "y"
        },
        {
         "alignmentgroup": "True",
         "hovertemplate": "artist=%{y}<br>popularity=%{x}<extra></extra>",
         "legendgroup": "Drake",
         "marker": {
          "color": "#EF553B",
          "pattern": {
           "shape": ""
          }
         },
         "name": "Drake",
         "offsetgroup": "Drake",
         "orientation": "h",
         "showlegend": true,
         "textposition": "auto",
         "type": "bar",
         "x": [
          70
         ],
         "xaxis": "x",
         "y": [
          "Drake"
         ],
         "yaxis": "y"
        },
        {
         "alignmentgroup": "True",
         "hovertemplate": "artist=%{y}<br>popularity=%{x}<extra></extra>",
         "legendgroup": "Eminem",
         "marker": {
          "color": "#00cc96",
          "pattern": {
           "shape": ""
          }
         },
         "name": "Eminem",
         "offsetgroup": "Eminem",
         "orientation": "h",
         "showlegend": true,
         "textposition": "auto",
         "type": "bar",
         "x": [
          81
         ],
         "xaxis": "x",
         "y": [
          "Eminem"
         ],
         "yaxis": "y"
        },
        {
         "alignmentgroup": "True",
         "hovertemplate": "artist=%{y}<br>popularity=%{x}<extra></extra>",
         "legendgroup": "Calvin Harris",
         "marker": {
          "color": "#ab63fa",
          "pattern": {
           "shape": ""
          }
         },
         "name": "Calvin Harris",
         "offsetgroup": "Calvin Harris",
         "orientation": "h",
         "showlegend": true,
         "textposition": "auto",
         "type": "bar",
         "x": [
          76
         ],
         "xaxis": "x",
         "y": [
          "Calvin Harris"
         ],
         "yaxis": "y"
        },
        {
         "alignmentgroup": "True",
         "hovertemplate": "artist=%{y}<br>popularity=%{x}<extra></extra>",
         "legendgroup": "Britney Spears",
         "marker": {
          "color": "#FFA15A",
          "pattern": {
           "shape": ""
          }
         },
         "name": "Britney Spears",
         "offsetgroup": "Britney Spears",
         "orientation": "h",
         "showlegend": true,
         "textposition": "auto",
         "type": "bar",
         "x": [
          71
         ],
         "xaxis": "x",
         "y": [
          "Britney Spears"
         ],
         "yaxis": "y"
        },
        {
         "alignmentgroup": "True",
         "hovertemplate": "artist=%{y}<br>popularity=%{x}<extra></extra>",
         "legendgroup": "David Guetta",
         "marker": {
          "color": "#19d3f3",
          "pattern": {
           "shape": ""
          }
         },
         "name": "David Guetta",
         "offsetgroup": "David Guetta",
         "orientation": "h",
         "showlegend": true,
         "textposition": "auto",
         "type": "bar",
         "x": [
          74
         ],
         "xaxis": "x",
         "y": [
          "David Guetta"
         ],
         "yaxis": "y"
        },
        {
         "alignmentgroup": "True",
         "hovertemplate": "artist=%{y}<br>popularity=%{x}<extra></extra>",
         "legendgroup": "Chris Brown",
         "marker": {
          "color": "#FF6692",
          "pattern": {
           "shape": ""
          }
         },
         "name": "Chris Brown",
         "offsetgroup": "Chris Brown",
         "orientation": "h",
         "showlegend": true,
         "textposition": "auto",
         "type": "bar",
         "x": [
          71
         ],
         "xaxis": "x",
         "y": [
          "Chris Brown"
         ],
         "yaxis": "y"
        },
        {
         "alignmentgroup": "True",
         "hovertemplate": "artist=%{y}<br>popularity=%{x}<extra></extra>",
         "legendgroup": "Kanye West",
         "marker": {
          "color": "#B6E880",
          "pattern": {
           "shape": ""
          }
         },
         "name": "Kanye West",
         "offsetgroup": "Kanye West",
         "orientation": "h",
         "showlegend": true,
         "textposition": "auto",
         "type": "bar",
         "x": [
          69
         ],
         "xaxis": "x",
         "y": [
          "Kanye West"
         ],
         "yaxis": "y"
        },
        {
         "alignmentgroup": "True",
         "hovertemplate": "artist=%{y}<br>popularity=%{x}<extra></extra>",
         "legendgroup": "Beyoncé",
         "marker": {
          "color": "#FF97FF",
          "pattern": {
           "shape": ""
          }
         },
         "name": "Beyoncé",
         "offsetgroup": "Beyoncé",
         "orientation": "h",
         "showlegend": true,
         "textposition": "auto",
         "type": "bar",
         "x": [
          72
         ],
         "xaxis": "x",
         "y": [
          "Beyoncé"
         ],
         "yaxis": "y"
        },
        {
         "alignmentgroup": "True",
         "hovertemplate": "artist=%{y}<br>popularity=%{x}<extra></extra>",
         "legendgroup": "Katy Perry",
         "marker": {
          "color": "#FECB52",
          "pattern": {
           "shape": ""
          }
         },
         "name": "Katy Perry",
         "offsetgroup": "Katy Perry",
         "orientation": "h",
         "showlegend": true,
         "textposition": "auto",
         "type": "bar",
         "x": [
          73
         ],
         "xaxis": "x",
         "y": [
          "Katy Perry"
         ],
         "yaxis": "y"
        },
        {
         "alignmentgroup": "True",
         "hovertemplate": "artist=%{y}<br>popularity=%{x}<extra></extra>",
         "legendgroup": "Taylor Swift",
         "marker": {
          "color": "#636efa",
          "pattern": {
           "shape": ""
          }
         },
         "name": "Taylor Swift",
         "offsetgroup": "Taylor Swift",
         "orientation": "h",
         "showlegend": true,
         "textposition": "auto",
         "type": "bar",
         "x": [
          79
         ],
         "xaxis": "x",
         "y": [
          "Taylor Swift"
         ],
         "yaxis": "y"
        },
        {
         "alignmentgroup": "True",
         "hovertemplate": "artist=%{y}<br>popularity=%{x}<extra></extra>",
         "legendgroup": "P!nk",
         "marker": {
          "color": "#EF553B",
          "pattern": {
           "shape": ""
          }
         },
         "name": "P!nk",
         "offsetgroup": "P!nk",
         "orientation": "h",
         "showlegend": true,
         "textposition": "auto",
         "type": "bar",
         "x": [
          59
         ],
         "xaxis": "x",
         "y": [
          "P!nk"
         ],
         "yaxis": "y"
        },
        {
         "alignmentgroup": "True",
         "hovertemplate": "artist=%{y}<br>popularity=%{x}<extra></extra>",
         "legendgroup": "Ariana Grande",
         "marker": {
          "color": "#00cc96",
          "pattern": {
           "shape": ""
          }
         },
         "name": "Ariana Grande",
         "offsetgroup": "Ariana Grande",
         "orientation": "h",
         "showlegend": true,
         "textposition": "auto",
         "type": "bar",
         "x": [
          61
         ],
         "xaxis": "x",
         "y": [
          "Ariana Grande"
         ],
         "yaxis": "y"
        },
        {
         "alignmentgroup": "True",
         "hovertemplate": "artist=%{y}<br>popularity=%{x}<extra></extra>",
         "legendgroup": "Black Eyed Peas",
         "marker": {
          "color": "#ab63fa",
          "pattern": {
           "shape": ""
          }
         },
         "name": "Black Eyed Peas",
         "offsetgroup": "Black Eyed Peas",
         "orientation": "h",
         "showlegend": true,
         "textposition": "auto",
         "type": "bar",
         "x": [
          74
         ],
         "xaxis": "x",
         "y": [
          "Black Eyed Peas"
         ],
         "yaxis": "y"
        },
        {
         "alignmentgroup": "True",
         "hovertemplate": "artist=%{y}<br>popularity=%{x}<extra></extra>",
         "legendgroup": "Jason Derulo",
         "marker": {
          "color": "#FFA15A",
          "pattern": {
           "shape": ""
          }
         },
         "name": "Jason Derulo",
         "offsetgroup": "Jason Derulo",
         "orientation": "h",
         "showlegend": true,
         "textposition": "auto",
         "type": "bar",
         "x": [
          71
         ],
         "xaxis": "x",
         "y": [
          "Jason Derulo"
         ],
         "yaxis": "y"
        },
        {
         "alignmentgroup": "True",
         "hovertemplate": "artist=%{y}<br>popularity=%{x}<extra></extra>",
         "legendgroup": "Coldplay",
         "marker": {
          "color": "#19d3f3",
          "pattern": {
           "shape": ""
          }
         },
         "name": "Coldplay",
         "offsetgroup": "Coldplay",
         "orientation": "h",
         "showlegend": true,
         "textposition": "auto",
         "type": "bar",
         "x": [
          85
         ],
         "xaxis": "x",
         "y": [
          "Coldplay"
         ],
         "yaxis": "y"
        },
        {
         "alignmentgroup": "True",
         "hovertemplate": "artist=%{y}<br>popularity=%{x}<extra></extra>",
         "legendgroup": "Maroon 5",
         "marker": {
          "color": "#FF6692",
          "pattern": {
           "shape": ""
          }
         },
         "name": "Maroon 5",
         "offsetgroup": "Maroon 5",
         "orientation": "h",
         "showlegend": true,
         "textposition": "auto",
         "type": "bar",
         "x": [
          63
         ],
         "xaxis": "x",
         "y": [
          "Maroon 5"
         ],
         "yaxis": "y"
        },
        {
         "alignmentgroup": "True",
         "hovertemplate": "artist=%{y}<br>popularity=%{x}<extra></extra>",
         "legendgroup": "Bruno Mars",
         "marker": {
          "color": "#B6E880",
          "pattern": {
           "shape": ""
          }
         },
         "name": "Bruno Mars",
         "offsetgroup": "Bruno Mars",
         "orientation": "h",
         "showlegend": true,
         "textposition": "auto",
         "type": "bar",
         "x": [
          88
         ],
         "xaxis": "x",
         "y": [
          "Bruno Mars"
         ],
         "yaxis": "y"
        },
        {
         "alignmentgroup": "True",
         "hovertemplate": "artist=%{y}<br>popularity=%{x}<extra></extra>",
         "legendgroup": "Justin Timberlake",
         "marker": {
          "color": "#FF97FF",
          "pattern": {
           "shape": ""
          }
         },
         "name": "Justin Timberlake",
         "offsetgroup": "Justin Timberlake",
         "orientation": "h",
         "showlegend": true,
         "textposition": "auto",
         "type": "bar",
         "x": [
          79
         ],
         "xaxis": "x",
         "y": [
          "Justin Timberlake"
         ],
         "yaxis": "y"
        },
        {
         "alignmentgroup": "True",
         "hovertemplate": "artist=%{y}<br>popularity=%{x}<extra></extra>",
         "legendgroup": "Lady Gaga",
         "marker": {
          "color": "#FECB52",
          "pattern": {
           "shape": ""
          }
         },
         "name": "Lady Gaga",
         "offsetgroup": "Lady Gaga",
         "orientation": "h",
         "showlegend": true,
         "textposition": "auto",
         "type": "bar",
         "x": [
          83
         ],
         "xaxis": "x",
         "y": [
          "Lady Gaga"
         ],
         "yaxis": "y"
        },
        {
         "alignmentgroup": "True",
         "hovertemplate": "artist=%{y}<br>popularity=%{x}<extra></extra>",
         "legendgroup": "Usher",
         "marker": {
          "color": "#636efa",
          "pattern": {
           "shape": ""
          }
         },
         "name": "Usher",
         "offsetgroup": "Usher",
         "orientation": "h",
         "showlegend": true,
         "textposition": "auto",
         "type": "bar",
         "x": [
          73
         ],
         "xaxis": "x",
         "y": [
          "Usher"
         ],
         "yaxis": "y"
        },
        {
         "alignmentgroup": "True",
         "hovertemplate": "artist=%{y}<br>popularity=%{x}<extra></extra>",
         "legendgroup": "JAY-Z",
         "marker": {
          "color": "#EF553B",
          "pattern": {
           "shape": ""
          }
         },
         "name": "JAY-Z",
         "offsetgroup": "JAY-Z",
         "orientation": "h",
         "showlegend": true,
         "textposition": "auto",
         "type": "bar",
         "x": [
          76
         ],
         "xaxis": "x",
         "y": [
          "JAY-Z"
         ],
         "yaxis": "y"
        },
        {
         "alignmentgroup": "True",
         "hovertemplate": "artist=%{y}<br>popularity=%{x}<extra></extra>",
         "legendgroup": "Flo Rida",
         "marker": {
          "color": "#00cc96",
          "pattern": {
           "shape": ""
          }
         },
         "name": "Flo Rida",
         "offsetgroup": "Flo Rida",
         "orientation": "h",
         "showlegend": true,
         "textposition": "auto",
         "type": "bar",
         "x": [
          80
         ],
         "xaxis": "x",
         "y": [
          "Flo Rida"
         ],
         "yaxis": "y"
        },
        {
         "alignmentgroup": "True",
         "hovertemplate": "artist=%{y}<br>popularity=%{x}<extra></extra>",
         "legendgroup": "Nelly",
         "marker": {
          "color": "#ab63fa",
          "pattern": {
           "shape": ""
          }
         },
         "name": "Nelly",
         "offsetgroup": "Nelly",
         "orientation": "h",
         "showlegend": true,
         "textposition": "auto",
         "type": "bar",
         "x": [
          73
         ],
         "xaxis": "x",
         "y": [
          "Nelly"
         ],
         "yaxis": "y"
        },
        {
         "alignmentgroup": "True",
         "hovertemplate": "artist=%{y}<br>popularity=%{x}<extra></extra>",
         "legendgroup": "Jennifer Lopez",
         "marker": {
          "color": "#FFA15A",
          "pattern": {
           "shape": ""
          }
         },
         "name": "Jennifer Lopez",
         "offsetgroup": "Jennifer Lopez",
         "orientation": "h",
         "showlegend": true,
         "textposition": "auto",
         "type": "bar",
         "x": [
          58
         ],
         "xaxis": "x",
         "y": [
          "Jennifer Lopez"
         ],
         "yaxis": "y"
        },
        {
         "alignmentgroup": "True",
         "hovertemplate": "artist=%{y}<br>popularity=%{x}<extra></extra>",
         "legendgroup": "Justin Bieber",
         "marker": {
          "color": "#19d3f3",
          "pattern": {
           "shape": ""
          }
         },
         "name": "Justin Bieber",
         "offsetgroup": "Justin Bieber",
         "orientation": "h",
         "showlegend": true,
         "textposition": "auto",
         "type": "bar",
         "x": [
          67
         ],
         "xaxis": "x",
         "y": [
          "Justin Bieber"
         ],
         "yaxis": "y"
        },
        {
         "alignmentgroup": "True",
         "hovertemplate": "artist=%{y}<br>popularity=%{x}<extra></extra>",
         "legendgroup": "Avril Lavigne",
         "marker": {
          "color": "#FF6692",
          "pattern": {
           "shape": ""
          }
         },
         "name": "Avril Lavigne",
         "offsetgroup": "Avril Lavigne",
         "orientation": "h",
         "showlegend": true,
         "textposition": "auto",
         "type": "bar",
         "x": [
          70
         ],
         "xaxis": "x",
         "y": [
          "Avril Lavigne"
         ],
         "yaxis": "y"
        },
        {
         "alignmentgroup": "True",
         "hovertemplate": "artist=%{y}<br>popularity=%{x}<extra></extra>",
         "legendgroup": "Avicii",
         "marker": {
          "color": "#B6E880",
          "pattern": {
           "shape": ""
          }
         },
         "name": "Avicii",
         "offsetgroup": "Avicii",
         "orientation": "h",
         "showlegend": true,
         "textposition": "auto",
         "type": "bar",
         "x": [
          64
         ],
         "xaxis": "x",
         "y": [
          "Avicii"
         ],
         "yaxis": "y"
        },
        {
         "alignmentgroup": "True",
         "hovertemplate": "artist=%{y}<br>popularity=%{x}<extra></extra>",
         "legendgroup": "Sean Paul",
         "marker": {
          "color": "#FF97FF",
          "pattern": {
           "shape": ""
          }
         },
         "name": "Sean Paul",
         "offsetgroup": "Sean Paul",
         "orientation": "h",
         "showlegend": true,
         "textposition": "auto",
         "type": "bar",
         "x": [
          76
         ],
         "xaxis": "x",
         "y": [
          "Sean Paul"
         ],
         "yaxis": "y"
        },
        {
         "alignmentgroup": "True",
         "hovertemplate": "artist=%{y}<br>popularity=%{x}<extra></extra>",
         "legendgroup": "Post Malone",
         "marker": {
          "color": "#FECB52",
          "pattern": {
           "shape": ""
          }
         },
         "name": "Post Malone",
         "offsetgroup": "Post Malone",
         "orientation": "h",
         "showlegend": true,
         "textposition": "auto",
         "type": "bar",
         "x": [
          81
         ],
         "xaxis": "x",
         "y": [
          "Post Malone"
         ],
         "yaxis": "y"
        },
        {
         "alignmentgroup": "True",
         "hovertemplate": "artist=%{y}<br>popularity=%{x}<extra></extra>",
         "legendgroup": "Ludacris",
         "marker": {
          "color": "#636efa",
          "pattern": {
           "shape": ""
          }
         },
         "name": "Ludacris",
         "offsetgroup": "Ludacris",
         "orientation": "h",
         "showlegend": true,
         "textposition": "auto",
         "type": "bar",
         "x": [
          65
         ],
         "xaxis": "x",
         "y": [
          "Ludacris"
         ],
         "yaxis": "y"
        },
        {
         "alignmentgroup": "True",
         "hovertemplate": "artist=%{y}<br>popularity=%{x}<extra></extra>",
         "legendgroup": "Selena Gomez",
         "marker": {
          "color": "#EF553B",
          "pattern": {
           "shape": ""
          }
         },
         "name": "Selena Gomez",
         "offsetgroup": "Selena Gomez",
         "orientation": "h",
         "showlegend": true,
         "textposition": "auto",
         "type": "bar",
         "x": [
          67
         ],
         "xaxis": "x",
         "y": [
          "Selena Gomez"
         ],
         "yaxis": "y"
        },
        {
         "alignmentgroup": "True",
         "hovertemplate": "artist=%{y}<br>popularity=%{x}<extra></extra>",
         "legendgroup": "One Direction",
         "marker": {
          "color": "#00cc96",
          "pattern": {
           "shape": ""
          }
         },
         "name": "One Direction",
         "offsetgroup": "One Direction",
         "orientation": "h",
         "showlegend": true,
         "textposition": "auto",
         "type": "bar",
         "x": [
          78
         ],
         "xaxis": "x",
         "y": [
          "One Direction"
         ],
         "yaxis": "y"
        },
        {
         "alignmentgroup": "True",
         "hovertemplate": "artist=%{y}<br>popularity=%{x}<extra></extra>",
         "legendgroup": "Nickelback",
         "marker": {
          "color": "#ab63fa",
          "pattern": {
           "shape": ""
          }
         },
         "name": "Nickelback",
         "offsetgroup": "Nickelback",
         "orientation": "h",
         "showlegend": true,
         "textposition": "auto",
         "type": "bar",
         "x": [
          76
         ],
         "xaxis": "x",
         "y": [
          "Nickelback"
         ],
         "yaxis": "y"
        },
        {
         "alignmentgroup": "True",
         "hovertemplate": "artist=%{y}<br>popularity=%{x}<extra></extra>",
         "legendgroup": "Ed Sheeran",
         "marker": {
          "color": "#FFA15A",
          "pattern": {
           "shape": ""
          }
         },
         "name": "Ed Sheeran",
         "offsetgroup": "Ed Sheeran",
         "orientation": "h",
         "showlegend": true,
         "textposition": "auto",
         "type": "bar",
         "x": [
          82
         ],
         "xaxis": "x",
         "y": [
          "Ed Sheeran"
         ],
         "yaxis": "y"
        },
        {
         "alignmentgroup": "True",
         "hovertemplate": "artist=%{y}<br>popularity=%{x}<extra></extra>",
         "legendgroup": "50 Cent",
         "marker": {
          "color": "#19d3f3",
          "pattern": {
           "shape": ""
          }
         },
         "name": "50 Cent",
         "offsetgroup": "50 Cent",
         "orientation": "h",
         "showlegend": true,
         "textposition": "auto",
         "type": "bar",
         "x": [
          80
         ],
         "xaxis": "x",
         "y": [
          "50 Cent"
         ],
         "yaxis": "y"
        },
        {
         "alignmentgroup": "True",
         "hovertemplate": "artist=%{y}<br>popularity=%{x}<extra></extra>",
         "legendgroup": "Linkin Park",
         "marker": {
          "color": "#FF6692",
          "pattern": {
           "shape": ""
          }
         },
         "name": "Linkin Park",
         "offsetgroup": "Linkin Park",
         "orientation": "h",
         "showlegend": true,
         "textposition": "auto",
         "type": "bar",
         "x": [
          85
         ],
         "xaxis": "x",
         "y": [
          "Linkin Park"
         ],
         "yaxis": "y"
        },
        {
         "alignmentgroup": "True",
         "hovertemplate": "artist=%{y}<br>popularity=%{x}<extra></extra>",
         "legendgroup": "Pitbull",
         "marker": {
          "color": "#B6E880",
          "pattern": {
           "shape": ""
          }
         },
         "name": "Pitbull",
         "offsetgroup": "Pitbull",
         "orientation": "h",
         "showlegend": true,
         "textposition": "auto",
         "type": "bar",
         "x": [
          81
         ],
         "xaxis": "x",
         "y": [
          "Pitbull"
         ],
         "yaxis": "y"
        },
        {
         "alignmentgroup": "True",
         "hovertemplate": "artist=%{y}<br>popularity=%{x}<extra></extra>",
         "legendgroup": "OneRepublic",
         "marker": {
          "color": "#FF97FF",
          "pattern": {
           "shape": ""
          }
         },
         "name": "OneRepublic",
         "offsetgroup": "OneRepublic",
         "orientation": "h",
         "showlegend": true,
         "textposition": "auto",
         "type": "bar",
         "x": [
          74
         ],
         "xaxis": "x",
         "y": [
          "OneRepublic"
         ],
         "yaxis": "y"
        },
        {
         "alignmentgroup": "True",
         "hovertemplate": "artist=%{y}<br>popularity=%{x}<extra></extra>",
         "legendgroup": "Kesha",
         "marker": {
          "color": "#FECB52",
          "pattern": {
           "shape": ""
          }
         },
         "name": "Kesha",
         "offsetgroup": "Kesha",
         "orientation": "h",
         "showlegend": true,
         "textposition": "auto",
         "type": "bar",
         "x": [
          70
         ],
         "xaxis": "x",
         "y": [
          "Kesha"
         ],
         "yaxis": "y"
        },
        {
         "alignmentgroup": "True",
         "hovertemplate": "artist=%{y}<br>popularity=%{x}<extra></extra>",
         "legendgroup": "Ne-Yo",
         "marker": {
          "color": "#636efa",
          "pattern": {
           "shape": ""
          }
         },
         "name": "Ne-Yo",
         "offsetgroup": "Ne-Yo",
         "orientation": "h",
         "showlegend": true,
         "textposition": "auto",
         "type": "bar",
         "x": [
          76
         ],
         "xaxis": "x",
         "y": [
          "Ne-Yo"
         ],
         "yaxis": "y"
        },
        {
         "alignmentgroup": "True",
         "hovertemplate": "artist=%{y}<br>popularity=%{x}<extra></extra>",
         "legendgroup": "Lil Wayne",
         "marker": {
          "color": "#EF553B",
          "pattern": {
           "shape": ""
          }
         },
         "name": "Lil Wayne",
         "offsetgroup": "Lil Wayne",
         "orientation": "h",
         "showlegend": true,
         "textposition": "auto",
         "type": "bar",
         "x": [
          57
         ],
         "xaxis": "x",
         "y": [
          "Lil Wayne"
         ],
         "yaxis": "y"
        },
        {
         "alignmentgroup": "True",
         "hovertemplate": "artist=%{y}<br>popularity=%{x}<extra></extra>",
         "legendgroup": "Madonna",
         "marker": {
          "color": "#00cc96",
          "pattern": {
           "shape": ""
          }
         },
         "name": "Madonna",
         "offsetgroup": "Madonna",
         "orientation": "h",
         "showlegend": true,
         "textposition": "auto",
         "type": "bar",
         "x": [
          68
         ],
         "xaxis": "x",
         "y": [
          "Madonna"
         ],
         "yaxis": "y"
        },
        {
         "alignmentgroup": "True",
         "hovertemplate": "artist=%{y}<br>popularity=%{x}<extra></extra>",
         "legendgroup": "The Pussycat Dolls",
         "marker": {
          "color": "#ab63fa",
          "pattern": {
           "shape": ""
          }
         },
         "name": "The Pussycat Dolls",
         "offsetgroup": "The Pussycat Dolls",
         "orientation": "h",
         "showlegend": true,
         "textposition": "auto",
         "type": "bar",
         "x": [
          75
         ],
         "xaxis": "x",
         "y": [
          "The Pussycat Dolls"
         ],
         "yaxis": "y"
        },
        {
         "alignmentgroup": "True",
         "hovertemplate": "artist=%{y}<br>popularity=%{x}<extra></extra>",
         "legendgroup": "Enrique Iglesias",
         "marker": {
          "color": "#FFA15A",
          "pattern": {
           "shape": ""
          }
         },
         "name": "Enrique Iglesias",
         "offsetgroup": "Enrique Iglesias",
         "orientation": "h",
         "showlegend": true,
         "textposition": "auto",
         "type": "bar",
         "x": [
          66
         ],
         "xaxis": "x",
         "y": [
          "Enrique Iglesias"
         ],
         "yaxis": "y"
        },
        {
         "alignmentgroup": "True",
         "hovertemplate": "artist=%{y}<br>popularity=%{x}<extra></extra>",
         "legendgroup": "Akon",
         "marker": {
          "color": "#19d3f3",
          "pattern": {
           "shape": ""
          }
         },
         "name": "Akon",
         "offsetgroup": "Akon",
         "orientation": "h",
         "showlegend": true,
         "textposition": "auto",
         "type": "bar",
         "x": [
          51
         ],
         "xaxis": "x",
         "y": [
          "Akon"
         ],
         "yaxis": "y"
        },
        {
         "alignmentgroup": "True",
         "hovertemplate": "artist=%{y}<br>popularity=%{x}<extra></extra>",
         "legendgroup": "Ciara",
         "marker": {
          "color": "#FF6692",
          "pattern": {
           "shape": ""
          }
         },
         "name": "Ciara",
         "offsetgroup": "Ciara",
         "orientation": "h",
         "showlegend": true,
         "textposition": "auto",
         "type": "bar",
         "x": [
          68
         ],
         "xaxis": "x",
         "y": [
          "Ciara"
         ],
         "yaxis": "y"
        },
        {
         "alignmentgroup": "True",
         "hovertemplate": "artist=%{y}<br>popularity=%{x}<extra></extra>",
         "legendgroup": "Destiny's Child",
         "marker": {
          "color": "#B6E880",
          "pattern": {
           "shape": ""
          }
         },
         "name": "Destiny's Child",
         "offsetgroup": "Destiny's Child",
         "orientation": "h",
         "showlegend": true,
         "textposition": "auto",
         "type": "bar",
         "x": [
          70
         ],
         "xaxis": "x",
         "y": [
          "Destiny's Child"
         ],
         "yaxis": "y"
        },
        {
         "alignmentgroup": "True",
         "hovertemplate": "artist=%{y}<br>popularity=%{x}<extra></extra>",
         "legendgroup": "The Weeknd",
         "marker": {
          "color": "#FF97FF",
          "pattern": {
           "shape": ""
          }
         },
         "name": "The Weeknd",
         "offsetgroup": "The Weeknd",
         "orientation": "h",
         "showlegend": true,
         "textposition": "auto",
         "type": "bar",
         "x": [
          65
         ],
         "xaxis": "x",
         "y": [
          "The Weeknd"
         ],
         "yaxis": "y"
        },
        {
         "alignmentgroup": "True",
         "hovertemplate": "artist=%{y}<br>popularity=%{x}<extra></extra>",
         "legendgroup": "The Chainsmokers",
         "marker": {
          "color": "#FECB52",
          "pattern": {
           "shape": ""
          }
         },
         "name": "The Chainsmokers",
         "offsetgroup": "The Chainsmokers",
         "orientation": "h",
         "showlegend": true,
         "textposition": "auto",
         "type": "bar",
         "x": [
          75
         ],
         "xaxis": "x",
         "y": [
          "The Chainsmokers"
         ],
         "yaxis": "y"
        }
       ],
       "layout": {
        "barmode": "relative",
        "font": {
         "size": 12
        },
        "height": 1000,
        "legend": {
         "title": {
          "text": "artist"
         },
         "tracegroupgap": 0
        },
        "template": {
         "data": {
          "bar": [
           {
            "error_x": {
             "color": "#2a3f5f"
            },
            "error_y": {
             "color": "#2a3f5f"
            },
            "marker": {
             "line": {
              "color": "#E5ECF6",
              "width": 0.5
             },
             "pattern": {
              "fillmode": "overlay",
              "size": 10,
              "solidity": 0.2
             }
            },
            "type": "bar"
           }
          ],
          "barpolar": [
           {
            "marker": {
             "line": {
              "color": "#E5ECF6",
              "width": 0.5
             },
             "pattern": {
              "fillmode": "overlay",
              "size": 10,
              "solidity": 0.2
             }
            },
            "type": "barpolar"
           }
          ],
          "carpet": [
           {
            "aaxis": {
             "endlinecolor": "#2a3f5f",
             "gridcolor": "white",
             "linecolor": "white",
             "minorgridcolor": "white",
             "startlinecolor": "#2a3f5f"
            },
            "baxis": {
             "endlinecolor": "#2a3f5f",
             "gridcolor": "white",
             "linecolor": "white",
             "minorgridcolor": "white",
             "startlinecolor": "#2a3f5f"
            },
            "type": "carpet"
           }
          ],
          "choropleth": [
           {
            "colorbar": {
             "outlinewidth": 0,
             "ticks": ""
            },
            "type": "choropleth"
           }
          ],
          "contour": [
           {
            "colorbar": {
             "outlinewidth": 0,
             "ticks": ""
            },
            "colorscale": [
             [
              0,
              "#0d0887"
             ],
             [
              0.1111111111111111,
              "#46039f"
             ],
             [
              0.2222222222222222,
              "#7201a8"
             ],
             [
              0.3333333333333333,
              "#9c179e"
             ],
             [
              0.4444444444444444,
              "#bd3786"
             ],
             [
              0.5555555555555556,
              "#d8576b"
             ],
             [
              0.6666666666666666,
              "#ed7953"
             ],
             [
              0.7777777777777778,
              "#fb9f3a"
             ],
             [
              0.8888888888888888,
              "#fdca26"
             ],
             [
              1,
              "#f0f921"
             ]
            ],
            "type": "contour"
           }
          ],
          "contourcarpet": [
           {
            "colorbar": {
             "outlinewidth": 0,
             "ticks": ""
            },
            "type": "contourcarpet"
           }
          ],
          "heatmap": [
           {
            "colorbar": {
             "outlinewidth": 0,
             "ticks": ""
            },
            "colorscale": [
             [
              0,
              "#0d0887"
             ],
             [
              0.1111111111111111,
              "#46039f"
             ],
             [
              0.2222222222222222,
              "#7201a8"
             ],
             [
              0.3333333333333333,
              "#9c179e"
             ],
             [
              0.4444444444444444,
              "#bd3786"
             ],
             [
              0.5555555555555556,
              "#d8576b"
             ],
             [
              0.6666666666666666,
              "#ed7953"
             ],
             [
              0.7777777777777778,
              "#fb9f3a"
             ],
             [
              0.8888888888888888,
              "#fdca26"
             ],
             [
              1,
              "#f0f921"
             ]
            ],
            "type": "heatmap"
           }
          ],
          "heatmapgl": [
           {
            "colorbar": {
             "outlinewidth": 0,
             "ticks": ""
            },
            "colorscale": [
             [
              0,
              "#0d0887"
             ],
             [
              0.1111111111111111,
              "#46039f"
             ],
             [
              0.2222222222222222,
              "#7201a8"
             ],
             [
              0.3333333333333333,
              "#9c179e"
             ],
             [
              0.4444444444444444,
              "#bd3786"
             ],
             [
              0.5555555555555556,
              "#d8576b"
             ],
             [
              0.6666666666666666,
              "#ed7953"
             ],
             [
              0.7777777777777778,
              "#fb9f3a"
             ],
             [
              0.8888888888888888,
              "#fdca26"
             ],
             [
              1,
              "#f0f921"
             ]
            ],
            "type": "heatmapgl"
           }
          ],
          "histogram": [
           {
            "marker": {
             "pattern": {
              "fillmode": "overlay",
              "size": 10,
              "solidity": 0.2
             }
            },
            "type": "histogram"
           }
          ],
          "histogram2d": [
           {
            "colorbar": {
             "outlinewidth": 0,
             "ticks": ""
            },
            "colorscale": [
             [
              0,
              "#0d0887"
             ],
             [
              0.1111111111111111,
              "#46039f"
             ],
             [
              0.2222222222222222,
              "#7201a8"
             ],
             [
              0.3333333333333333,
              "#9c179e"
             ],
             [
              0.4444444444444444,
              "#bd3786"
             ],
             [
              0.5555555555555556,
              "#d8576b"
             ],
             [
              0.6666666666666666,
              "#ed7953"
             ],
             [
              0.7777777777777778,
              "#fb9f3a"
             ],
             [
              0.8888888888888888,
              "#fdca26"
             ],
             [
              1,
              "#f0f921"
             ]
            ],
            "type": "histogram2d"
           }
          ],
          "histogram2dcontour": [
           {
            "colorbar": {
             "outlinewidth": 0,
             "ticks": ""
            },
            "colorscale": [
             [
              0,
              "#0d0887"
             ],
             [
              0.1111111111111111,
              "#46039f"
             ],
             [
              0.2222222222222222,
              "#7201a8"
             ],
             [
              0.3333333333333333,
              "#9c179e"
             ],
             [
              0.4444444444444444,
              "#bd3786"
             ],
             [
              0.5555555555555556,
              "#d8576b"
             ],
             [
              0.6666666666666666,
              "#ed7953"
             ],
             [
              0.7777777777777778,
              "#fb9f3a"
             ],
             [
              0.8888888888888888,
              "#fdca26"
             ],
             [
              1,
              "#f0f921"
             ]
            ],
            "type": "histogram2dcontour"
           }
          ],
          "mesh3d": [
           {
            "colorbar": {
             "outlinewidth": 0,
             "ticks": ""
            },
            "type": "mesh3d"
           }
          ],
          "parcoords": [
           {
            "line": {
             "colorbar": {
              "outlinewidth": 0,
              "ticks": ""
             }
            },
            "type": "parcoords"
           }
          ],
          "pie": [
           {
            "automargin": true,
            "type": "pie"
           }
          ],
          "scatter": [
           {
            "marker": {
             "colorbar": {
              "outlinewidth": 0,
              "ticks": ""
             }
            },
            "type": "scatter"
           }
          ],
          "scatter3d": [
           {
            "line": {
             "colorbar": {
              "outlinewidth": 0,
              "ticks": ""
             }
            },
            "marker": {
             "colorbar": {
              "outlinewidth": 0,
              "ticks": ""
             }
            },
            "type": "scatter3d"
           }
          ],
          "scattercarpet": [
           {
            "marker": {
             "colorbar": {
              "outlinewidth": 0,
              "ticks": ""
             }
            },
            "type": "scattercarpet"
           }
          ],
          "scattergeo": [
           {
            "marker": {
             "colorbar": {
              "outlinewidth": 0,
              "ticks": ""
             }
            },
            "type": "scattergeo"
           }
          ],
          "scattergl": [
           {
            "marker": {
             "colorbar": {
              "outlinewidth": 0,
              "ticks": ""
             }
            },
            "type": "scattergl"
           }
          ],
          "scattermapbox": [
           {
            "marker": {
             "colorbar": {
              "outlinewidth": 0,
              "ticks": ""
             }
            },
            "type": "scattermapbox"
           }
          ],
          "scatterpolar": [
           {
            "marker": {
             "colorbar": {
              "outlinewidth": 0,
              "ticks": ""
             }
            },
            "type": "scatterpolar"
           }
          ],
          "scatterpolargl": [
           {
            "marker": {
             "colorbar": {
              "outlinewidth": 0,
              "ticks": ""
             }
            },
            "type": "scatterpolargl"
           }
          ],
          "scatterternary": [
           {
            "marker": {
             "colorbar": {
              "outlinewidth": 0,
              "ticks": ""
             }
            },
            "type": "scatterternary"
           }
          ],
          "surface": [
           {
            "colorbar": {
             "outlinewidth": 0,
             "ticks": ""
            },
            "colorscale": [
             [
              0,
              "#0d0887"
             ],
             [
              0.1111111111111111,
              "#46039f"
             ],
             [
              0.2222222222222222,
              "#7201a8"
             ],
             [
              0.3333333333333333,
              "#9c179e"
             ],
             [
              0.4444444444444444,
              "#bd3786"
             ],
             [
              0.5555555555555556,
              "#d8576b"
             ],
             [
              0.6666666666666666,
              "#ed7953"
             ],
             [
              0.7777777777777778,
              "#fb9f3a"
             ],
             [
              0.8888888888888888,
              "#fdca26"
             ],
             [
              1,
              "#f0f921"
             ]
            ],
            "type": "surface"
           }
          ],
          "table": [
           {
            "cells": {
             "fill": {
              "color": "#EBF0F8"
             },
             "line": {
              "color": "white"
             }
            },
            "header": {
             "fill": {
              "color": "#C8D4E3"
             },
             "line": {
              "color": "white"
             }
            },
            "type": "table"
           }
          ]
         },
         "layout": {
          "annotationdefaults": {
           "arrowcolor": "#2a3f5f",
           "arrowhead": 0,
           "arrowwidth": 1
          },
          "autotypenumbers": "strict",
          "coloraxis": {
           "colorbar": {
            "outlinewidth": 0,
            "ticks": ""
           }
          },
          "colorscale": {
           "diverging": [
            [
             0,
             "#8e0152"
            ],
            [
             0.1,
             "#c51b7d"
            ],
            [
             0.2,
             "#de77ae"
            ],
            [
             0.3,
             "#f1b6da"
            ],
            [
             0.4,
             "#fde0ef"
            ],
            [
             0.5,
             "#f7f7f7"
            ],
            [
             0.6,
             "#e6f5d0"
            ],
            [
             0.7,
             "#b8e186"
            ],
            [
             0.8,
             "#7fbc41"
            ],
            [
             0.9,
             "#4d9221"
            ],
            [
             1,
             "#276419"
            ]
           ],
           "sequential": [
            [
             0,
             "#0d0887"
            ],
            [
             0.1111111111111111,
             "#46039f"
            ],
            [
             0.2222222222222222,
             "#7201a8"
            ],
            [
             0.3333333333333333,
             "#9c179e"
            ],
            [
             0.4444444444444444,
             "#bd3786"
            ],
            [
             0.5555555555555556,
             "#d8576b"
            ],
            [
             0.6666666666666666,
             "#ed7953"
            ],
            [
             0.7777777777777778,
             "#fb9f3a"
            ],
            [
             0.8888888888888888,
             "#fdca26"
            ],
            [
             1,
             "#f0f921"
            ]
           ],
           "sequentialminus": [
            [
             0,
             "#0d0887"
            ],
            [
             0.1111111111111111,
             "#46039f"
            ],
            [
             0.2222222222222222,
             "#7201a8"
            ],
            [
             0.3333333333333333,
             "#9c179e"
            ],
            [
             0.4444444444444444,
             "#bd3786"
            ],
            [
             0.5555555555555556,
             "#d8576b"
            ],
            [
             0.6666666666666666,
             "#ed7953"
            ],
            [
             0.7777777777777778,
             "#fb9f3a"
            ],
            [
             0.8888888888888888,
             "#fdca26"
            ],
            [
             1,
             "#f0f921"
            ]
           ]
          },
          "colorway": [
           "#636efa",
           "#EF553B",
           "#00cc96",
           "#ab63fa",
           "#FFA15A",
           "#19d3f3",
           "#FF6692",
           "#B6E880",
           "#FF97FF",
           "#FECB52"
          ],
          "font": {
           "color": "#2a3f5f"
          },
          "geo": {
           "bgcolor": "white",
           "lakecolor": "white",
           "landcolor": "#E5ECF6",
           "showlakes": true,
           "showland": true,
           "subunitcolor": "white"
          },
          "hoverlabel": {
           "align": "left"
          },
          "hovermode": "closest",
          "mapbox": {
           "style": "light"
          },
          "paper_bgcolor": "white",
          "plot_bgcolor": "#E5ECF6",
          "polar": {
           "angularaxis": {
            "gridcolor": "white",
            "linecolor": "white",
            "ticks": ""
           },
           "bgcolor": "#E5ECF6",
           "radialaxis": {
            "gridcolor": "white",
            "linecolor": "white",
            "ticks": ""
           }
          },
          "scene": {
           "xaxis": {
            "backgroundcolor": "#E5ECF6",
            "gridcolor": "white",
            "gridwidth": 2,
            "linecolor": "white",
            "showbackground": true,
            "ticks": "",
            "zerolinecolor": "white"
           },
           "yaxis": {
            "backgroundcolor": "#E5ECF6",
            "gridcolor": "white",
            "gridwidth": 2,
            "linecolor": "white",
            "showbackground": true,
            "ticks": "",
            "zerolinecolor": "white"
           },
           "zaxis": {
            "backgroundcolor": "#E5ECF6",
            "gridcolor": "white",
            "gridwidth": 2,
            "linecolor": "white",
            "showbackground": true,
            "ticks": "",
            "zerolinecolor": "white"
           }
          },
          "shapedefaults": {
           "line": {
            "color": "#2a3f5f"
           }
          },
          "ternary": {
           "aaxis": {
            "gridcolor": "white",
            "linecolor": "white",
            "ticks": ""
           },
           "baxis": {
            "gridcolor": "white",
            "linecolor": "white",
            "ticks": ""
           },
           "bgcolor": "#E5ECF6",
           "caxis": {
            "gridcolor": "white",
            "linecolor": "white",
            "ticks": ""
           }
          },
          "title": {
           "x": 0.05
          },
          "xaxis": {
           "automargin": true,
           "gridcolor": "white",
           "linecolor": "white",
           "ticks": "",
           "title": {
            "standoff": 15
           },
           "zerolinecolor": "white",
           "zerolinewidth": 2
          },
          "yaxis": {
           "automargin": true,
           "gridcolor": "white",
           "linecolor": "white",
           "ticks": "",
           "title": {
            "standoff": 15
           },
           "zerolinecolor": "white",
           "zerolinewidth": 2
          }
         }
        },
        "title": {
         "text": "Average popularity of top artists"
        },
        "width": 1300,
        "xaxis": {
         "anchor": "y",
         "domain": [
          0,
          1
         ],
         "title": {
          "text": "popularity"
         }
        },
        "yaxis": {
         "anchor": "x",
         "categoryarray": [
          "The Chainsmokers",
          "The Weeknd",
          "Destiny's Child",
          "Ciara",
          "Akon",
          "Enrique Iglesias",
          "The Pussycat Dolls",
          "Madonna",
          "Lil Wayne",
          "Ne-Yo",
          "Kesha",
          "OneRepublic",
          "Pitbull",
          "Linkin Park",
          "50 Cent",
          "Ed Sheeran",
          "Nickelback",
          "One Direction",
          "Selena Gomez",
          "Ludacris",
          "Post Malone",
          "Sean Paul",
          "Avicii",
          "Avril Lavigne",
          "Justin Bieber",
          "Jennifer Lopez",
          "Nelly",
          "Flo Rida",
          "JAY-Z",
          "Usher",
          "Lady Gaga",
          "Justin Timberlake",
          "Bruno Mars",
          "Maroon 5",
          "Coldplay",
          "Jason Derulo",
          "Black Eyed Peas",
          "Ariana Grande",
          "P!nk",
          "Taylor Swift",
          "Katy Perry",
          "Beyoncé",
          "Kanye West",
          "Chris Brown",
          "David Guetta",
          "Britney Spears",
          "Calvin Harris",
          "Eminem",
          "Drake",
          "Rihanna"
         ],
         "categoryorder": "array",
         "domain": [
          0,
          1
         ],
         "title": {
          "text": "artist"
         }
        }
       }
      }
     },
     "metadata": {},
     "output_type": "display_data"
    }
   ],
   "source": [
    "top_artists = artists_sum[\"artist\"]\n",
    "popularity_means = dict()\n",
    "for artist in top_artists:\n",
    "    popularity_means[artist] = round(data[data[\"artist\"] == artist][\"popularity\"].mean())\n",
    "artists = list(popularity_means.keys())\n",
    "popularities = list(popularity_means.values())\n",
    "plot_dict = {\"artist\": artists,\n",
    "             \"popularity\": popularities}\n",
    "fig = px.bar(plot_dict, x=\"popularity\", y=\"artist\", color=\"artist\",\n",
    "             width=1300, height=1000, title=\"Average popularity of top artists\")\n",
    "fig.update_layout(font_size=12)\n",
    "fig.show()\n"
   ]
  },
  {
   "cell_type": "markdown",
   "metadata": {},
   "source": [
    "## Popularity by number of songs\n",
    "A doubt could be raised looking at the two previous figures: how are popularity and the total amount of songs related? Let's see how"
   ]
  },
  {
   "cell_type": "code",
   "execution_count": 68,
   "metadata": {},
   "outputs": [
    {
     "data": {
      "application/vnd.plotly.v1+json": {
       "config": {
        "plotlyServerURL": "https://plot.ly"
       },
       "data": [
        {
         "hovertemplate": "song=%{x}<br>popularity=%{y}<extra></extra>",
         "legendgroup": "",
         "marker": {
          "color": "#636efa",
          "symbol": "circle"
         },
         "mode": "markers",
         "name": "",
         "orientation": "v",
         "showlegend": false,
         "type": "scatter",
         "x": [
          25,
          23,
          21,
          20,
          18,
          18,
          17,
          17,
          16,
          16,
          16,
          15,
          14,
          14,
          13,
          13,
          13,
          12,
          12,
          11,
          11,
          11,
          11,
          11,
          10,
          10,
          10,
          10,
          9,
          9,
          9,
          9,
          9,
          9,
          9,
          9,
          9,
          9,
          8,
          8,
          8,
          8,
          8,
          8,
          8,
          8,
          8,
          8,
          8,
          8
         ],
         "xaxis": "x",
         "y": [
          81,
          70,
          81,
          76,
          71,
          74,
          71,
          69,
          72,
          73,
          79,
          59,
          61,
          74,
          71,
          85,
          63,
          88,
          79,
          83,
          73,
          76,
          80,
          73,
          58,
          67,
          70,
          64,
          76,
          81,
          65,
          67,
          78,
          76,
          82,
          80,
          85,
          81,
          74,
          70,
          76,
          57,
          68,
          75,
          66,
          51,
          68,
          70,
          65,
          75
         ],
         "yaxis": "y"
        },
        {
         "hovertemplate": "<b>OLS trendline</b><br>popularity = 0.270943 * song + 69.3212<br>R<sup>2</sup>=0.022389<br><br>song=%{x}<br>popularity=%{y} <b>(trend)</b><extra></extra>",
         "legendgroup": "",
         "marker": {
          "color": "#636efa",
          "symbol": "circle"
         },
         "mode": "lines",
         "name": "",
         "showlegend": false,
         "type": "scatter",
         "x": [
          8,
          8,
          8,
          8,
          8,
          8,
          8,
          8,
          8,
          8,
          8,
          8,
          9,
          9,
          9,
          9,
          9,
          9,
          9,
          9,
          9,
          9,
          10,
          10,
          10,
          10,
          11,
          11,
          11,
          11,
          11,
          12,
          12,
          13,
          13,
          13,
          14,
          14,
          15,
          16,
          16,
          16,
          17,
          17,
          18,
          18,
          20,
          21,
          23,
          25
         ],
         "xaxis": "x",
         "y": [
          71.48874126477438,
          71.48874126477438,
          71.48874126477438,
          71.48874126477438,
          71.48874126477438,
          71.48874126477438,
          71.48874126477438,
          71.48874126477438,
          71.48874126477438,
          71.48874126477438,
          71.48874126477438,
          71.48874126477438,
          71.75968423777067,
          71.75968423777067,
          71.75968423777067,
          71.75968423777067,
          71.75968423777067,
          71.75968423777067,
          71.75968423777067,
          71.75968423777067,
          71.75968423777067,
          71.75968423777067,
          72.03062721076697,
          72.03062721076697,
          72.03062721076697,
          72.03062721076697,
          72.30157018376325,
          72.30157018376325,
          72.30157018376325,
          72.30157018376325,
          72.30157018376325,
          72.57251315675954,
          72.57251315675954,
          72.84345612975584,
          72.84345612975584,
          72.84345612975584,
          73.11439910275212,
          73.11439910275212,
          73.38534207574841,
          73.6562850487447,
          73.6562850487447,
          73.6562850487447,
          73.927228021741,
          73.927228021741,
          74.1981709947373,
          74.1981709947373,
          74.74005694072987,
          75.01099991372617,
          75.55288585971874,
          76.09477180571133
         ],
         "yaxis": "y"
        }
       ],
       "layout": {
        "height": 600,
        "legend": {
         "tracegroupgap": 0
        },
        "margin": {
         "t": 60
        },
        "template": {
         "data": {
          "bar": [
           {
            "error_x": {
             "color": "#2a3f5f"
            },
            "error_y": {
             "color": "#2a3f5f"
            },
            "marker": {
             "line": {
              "color": "#E5ECF6",
              "width": 0.5
             },
             "pattern": {
              "fillmode": "overlay",
              "size": 10,
              "solidity": 0.2
             }
            },
            "type": "bar"
           }
          ],
          "barpolar": [
           {
            "marker": {
             "line": {
              "color": "#E5ECF6",
              "width": 0.5
             },
             "pattern": {
              "fillmode": "overlay",
              "size": 10,
              "solidity": 0.2
             }
            },
            "type": "barpolar"
           }
          ],
          "carpet": [
           {
            "aaxis": {
             "endlinecolor": "#2a3f5f",
             "gridcolor": "white",
             "linecolor": "white",
             "minorgridcolor": "white",
             "startlinecolor": "#2a3f5f"
            },
            "baxis": {
             "endlinecolor": "#2a3f5f",
             "gridcolor": "white",
             "linecolor": "white",
             "minorgridcolor": "white",
             "startlinecolor": "#2a3f5f"
            },
            "type": "carpet"
           }
          ],
          "choropleth": [
           {
            "colorbar": {
             "outlinewidth": 0,
             "ticks": ""
            },
            "type": "choropleth"
           }
          ],
          "contour": [
           {
            "colorbar": {
             "outlinewidth": 0,
             "ticks": ""
            },
            "colorscale": [
             [
              0,
              "#0d0887"
             ],
             [
              0.1111111111111111,
              "#46039f"
             ],
             [
              0.2222222222222222,
              "#7201a8"
             ],
             [
              0.3333333333333333,
              "#9c179e"
             ],
             [
              0.4444444444444444,
              "#bd3786"
             ],
             [
              0.5555555555555556,
              "#d8576b"
             ],
             [
              0.6666666666666666,
              "#ed7953"
             ],
             [
              0.7777777777777778,
              "#fb9f3a"
             ],
             [
              0.8888888888888888,
              "#fdca26"
             ],
             [
              1,
              "#f0f921"
             ]
            ],
            "type": "contour"
           }
          ],
          "contourcarpet": [
           {
            "colorbar": {
             "outlinewidth": 0,
             "ticks": ""
            },
            "type": "contourcarpet"
           }
          ],
          "heatmap": [
           {
            "colorbar": {
             "outlinewidth": 0,
             "ticks": ""
            },
            "colorscale": [
             [
              0,
              "#0d0887"
             ],
             [
              0.1111111111111111,
              "#46039f"
             ],
             [
              0.2222222222222222,
              "#7201a8"
             ],
             [
              0.3333333333333333,
              "#9c179e"
             ],
             [
              0.4444444444444444,
              "#bd3786"
             ],
             [
              0.5555555555555556,
              "#d8576b"
             ],
             [
              0.6666666666666666,
              "#ed7953"
             ],
             [
              0.7777777777777778,
              "#fb9f3a"
             ],
             [
              0.8888888888888888,
              "#fdca26"
             ],
             [
              1,
              "#f0f921"
             ]
            ],
            "type": "heatmap"
           }
          ],
          "heatmapgl": [
           {
            "colorbar": {
             "outlinewidth": 0,
             "ticks": ""
            },
            "colorscale": [
             [
              0,
              "#0d0887"
             ],
             [
              0.1111111111111111,
              "#46039f"
             ],
             [
              0.2222222222222222,
              "#7201a8"
             ],
             [
              0.3333333333333333,
              "#9c179e"
             ],
             [
              0.4444444444444444,
              "#bd3786"
             ],
             [
              0.5555555555555556,
              "#d8576b"
             ],
             [
              0.6666666666666666,
              "#ed7953"
             ],
             [
              0.7777777777777778,
              "#fb9f3a"
             ],
             [
              0.8888888888888888,
              "#fdca26"
             ],
             [
              1,
              "#f0f921"
             ]
            ],
            "type": "heatmapgl"
           }
          ],
          "histogram": [
           {
            "marker": {
             "pattern": {
              "fillmode": "overlay",
              "size": 10,
              "solidity": 0.2
             }
            },
            "type": "histogram"
           }
          ],
          "histogram2d": [
           {
            "colorbar": {
             "outlinewidth": 0,
             "ticks": ""
            },
            "colorscale": [
             [
              0,
              "#0d0887"
             ],
             [
              0.1111111111111111,
              "#46039f"
             ],
             [
              0.2222222222222222,
              "#7201a8"
             ],
             [
              0.3333333333333333,
              "#9c179e"
             ],
             [
              0.4444444444444444,
              "#bd3786"
             ],
             [
              0.5555555555555556,
              "#d8576b"
             ],
             [
              0.6666666666666666,
              "#ed7953"
             ],
             [
              0.7777777777777778,
              "#fb9f3a"
             ],
             [
              0.8888888888888888,
              "#fdca26"
             ],
             [
              1,
              "#f0f921"
             ]
            ],
            "type": "histogram2d"
           }
          ],
          "histogram2dcontour": [
           {
            "colorbar": {
             "outlinewidth": 0,
             "ticks": ""
            },
            "colorscale": [
             [
              0,
              "#0d0887"
             ],
             [
              0.1111111111111111,
              "#46039f"
             ],
             [
              0.2222222222222222,
              "#7201a8"
             ],
             [
              0.3333333333333333,
              "#9c179e"
             ],
             [
              0.4444444444444444,
              "#bd3786"
             ],
             [
              0.5555555555555556,
              "#d8576b"
             ],
             [
              0.6666666666666666,
              "#ed7953"
             ],
             [
              0.7777777777777778,
              "#fb9f3a"
             ],
             [
              0.8888888888888888,
              "#fdca26"
             ],
             [
              1,
              "#f0f921"
             ]
            ],
            "type": "histogram2dcontour"
           }
          ],
          "mesh3d": [
           {
            "colorbar": {
             "outlinewidth": 0,
             "ticks": ""
            },
            "type": "mesh3d"
           }
          ],
          "parcoords": [
           {
            "line": {
             "colorbar": {
              "outlinewidth": 0,
              "ticks": ""
             }
            },
            "type": "parcoords"
           }
          ],
          "pie": [
           {
            "automargin": true,
            "type": "pie"
           }
          ],
          "scatter": [
           {
            "marker": {
             "colorbar": {
              "outlinewidth": 0,
              "ticks": ""
             }
            },
            "type": "scatter"
           }
          ],
          "scatter3d": [
           {
            "line": {
             "colorbar": {
              "outlinewidth": 0,
              "ticks": ""
             }
            },
            "marker": {
             "colorbar": {
              "outlinewidth": 0,
              "ticks": ""
             }
            },
            "type": "scatter3d"
           }
          ],
          "scattercarpet": [
           {
            "marker": {
             "colorbar": {
              "outlinewidth": 0,
              "ticks": ""
             }
            },
            "type": "scattercarpet"
           }
          ],
          "scattergeo": [
           {
            "marker": {
             "colorbar": {
              "outlinewidth": 0,
              "ticks": ""
             }
            },
            "type": "scattergeo"
           }
          ],
          "scattergl": [
           {
            "marker": {
             "colorbar": {
              "outlinewidth": 0,
              "ticks": ""
             }
            },
            "type": "scattergl"
           }
          ],
          "scattermapbox": [
           {
            "marker": {
             "colorbar": {
              "outlinewidth": 0,
              "ticks": ""
             }
            },
            "type": "scattermapbox"
           }
          ],
          "scatterpolar": [
           {
            "marker": {
             "colorbar": {
              "outlinewidth": 0,
              "ticks": ""
             }
            },
            "type": "scatterpolar"
           }
          ],
          "scatterpolargl": [
           {
            "marker": {
             "colorbar": {
              "outlinewidth": 0,
              "ticks": ""
             }
            },
            "type": "scatterpolargl"
           }
          ],
          "scatterternary": [
           {
            "marker": {
             "colorbar": {
              "outlinewidth": 0,
              "ticks": ""
             }
            },
            "type": "scatterternary"
           }
          ],
          "surface": [
           {
            "colorbar": {
             "outlinewidth": 0,
             "ticks": ""
            },
            "colorscale": [
             [
              0,
              "#0d0887"
             ],
             [
              0.1111111111111111,
              "#46039f"
             ],
             [
              0.2222222222222222,
              "#7201a8"
             ],
             [
              0.3333333333333333,
              "#9c179e"
             ],
             [
              0.4444444444444444,
              "#bd3786"
             ],
             [
              0.5555555555555556,
              "#d8576b"
             ],
             [
              0.6666666666666666,
              "#ed7953"
             ],
             [
              0.7777777777777778,
              "#fb9f3a"
             ],
             [
              0.8888888888888888,
              "#fdca26"
             ],
             [
              1,
              "#f0f921"
             ]
            ],
            "type": "surface"
           }
          ],
          "table": [
           {
            "cells": {
             "fill": {
              "color": "#EBF0F8"
             },
             "line": {
              "color": "white"
             }
            },
            "header": {
             "fill": {
              "color": "#C8D4E3"
             },
             "line": {
              "color": "white"
             }
            },
            "type": "table"
           }
          ]
         },
         "layout": {
          "annotationdefaults": {
           "arrowcolor": "#2a3f5f",
           "arrowhead": 0,
           "arrowwidth": 1
          },
          "autotypenumbers": "strict",
          "coloraxis": {
           "colorbar": {
            "outlinewidth": 0,
            "ticks": ""
           }
          },
          "colorscale": {
           "diverging": [
            [
             0,
             "#8e0152"
            ],
            [
             0.1,
             "#c51b7d"
            ],
            [
             0.2,
             "#de77ae"
            ],
            [
             0.3,
             "#f1b6da"
            ],
            [
             0.4,
             "#fde0ef"
            ],
            [
             0.5,
             "#f7f7f7"
            ],
            [
             0.6,
             "#e6f5d0"
            ],
            [
             0.7,
             "#b8e186"
            ],
            [
             0.8,
             "#7fbc41"
            ],
            [
             0.9,
             "#4d9221"
            ],
            [
             1,
             "#276419"
            ]
           ],
           "sequential": [
            [
             0,
             "#0d0887"
            ],
            [
             0.1111111111111111,
             "#46039f"
            ],
            [
             0.2222222222222222,
             "#7201a8"
            ],
            [
             0.3333333333333333,
             "#9c179e"
            ],
            [
             0.4444444444444444,
             "#bd3786"
            ],
            [
             0.5555555555555556,
             "#d8576b"
            ],
            [
             0.6666666666666666,
             "#ed7953"
            ],
            [
             0.7777777777777778,
             "#fb9f3a"
            ],
            [
             0.8888888888888888,
             "#fdca26"
            ],
            [
             1,
             "#f0f921"
            ]
           ],
           "sequentialminus": [
            [
             0,
             "#0d0887"
            ],
            [
             0.1111111111111111,
             "#46039f"
            ],
            [
             0.2222222222222222,
             "#7201a8"
            ],
            [
             0.3333333333333333,
             "#9c179e"
            ],
            [
             0.4444444444444444,
             "#bd3786"
            ],
            [
             0.5555555555555556,
             "#d8576b"
            ],
            [
             0.6666666666666666,
             "#ed7953"
            ],
            [
             0.7777777777777778,
             "#fb9f3a"
            ],
            [
             0.8888888888888888,
             "#fdca26"
            ],
            [
             1,
             "#f0f921"
            ]
           ]
          },
          "colorway": [
           "#636efa",
           "#EF553B",
           "#00cc96",
           "#ab63fa",
           "#FFA15A",
           "#19d3f3",
           "#FF6692",
           "#B6E880",
           "#FF97FF",
           "#FECB52"
          ],
          "font": {
           "color": "#2a3f5f"
          },
          "geo": {
           "bgcolor": "white",
           "lakecolor": "white",
           "landcolor": "#E5ECF6",
           "showlakes": true,
           "showland": true,
           "subunitcolor": "white"
          },
          "hoverlabel": {
           "align": "left"
          },
          "hovermode": "closest",
          "mapbox": {
           "style": "light"
          },
          "paper_bgcolor": "white",
          "plot_bgcolor": "#E5ECF6",
          "polar": {
           "angularaxis": {
            "gridcolor": "white",
            "linecolor": "white",
            "ticks": ""
           },
           "bgcolor": "#E5ECF6",
           "radialaxis": {
            "gridcolor": "white",
            "linecolor": "white",
            "ticks": ""
           }
          },
          "scene": {
           "xaxis": {
            "backgroundcolor": "#E5ECF6",
            "gridcolor": "white",
            "gridwidth": 2,
            "linecolor": "white",
            "showbackground": true,
            "ticks": "",
            "zerolinecolor": "white"
           },
           "yaxis": {
            "backgroundcolor": "#E5ECF6",
            "gridcolor": "white",
            "gridwidth": 2,
            "linecolor": "white",
            "showbackground": true,
            "ticks": "",
            "zerolinecolor": "white"
           },
           "zaxis": {
            "backgroundcolor": "#E5ECF6",
            "gridcolor": "white",
            "gridwidth": 2,
            "linecolor": "white",
            "showbackground": true,
            "ticks": "",
            "zerolinecolor": "white"
           }
          },
          "shapedefaults": {
           "line": {
            "color": "#2a3f5f"
           }
          },
          "ternary": {
           "aaxis": {
            "gridcolor": "white",
            "linecolor": "white",
            "ticks": ""
           },
           "baxis": {
            "gridcolor": "white",
            "linecolor": "white",
            "ticks": ""
           },
           "bgcolor": "#E5ECF6",
           "caxis": {
            "gridcolor": "white",
            "linecolor": "white",
            "ticks": ""
           }
          },
          "title": {
           "x": 0.05
          },
          "xaxis": {
           "automargin": true,
           "gridcolor": "white",
           "linecolor": "white",
           "ticks": "",
           "title": {
            "standoff": 15
           },
           "zerolinecolor": "white",
           "zerolinewidth": 2
          },
          "yaxis": {
           "automargin": true,
           "gridcolor": "white",
           "linecolor": "white",
           "ticks": "",
           "title": {
            "standoff": 15
           },
           "zerolinecolor": "white",
           "zerolinewidth": 2
          }
         }
        },
        "width": 800,
        "xaxis": {
         "anchor": "y",
         "domain": [
          0,
          1
         ],
         "title": {
          "text": "song"
         }
        },
        "yaxis": {
         "anchor": "x",
         "domain": [
          0,
          1
         ],
         "title": {
          "text": "popularity"
         }
        }
       }
      }
     },
     "metadata": {},
     "output_type": "display_data"
    }
   ],
   "source": [
    "artists_sum = pd.DataFrame(artists_sum.drop(artists_sum.columns.values[2:], axis=1))\n",
    "artists_popularities = pd.DataFrame(plot_dict)\n",
    "df_artists_merged = pd.merge(artists_sum, artists_popularities, on=\"artist\")\n",
    "fig = px.scatter(df_artists_merged, x=\"song\",\n",
    "                 y=\"popularity\", trendline=\"ols\", width=800, height=600)\n",
    "fig.show()\n"
   ]
  },
  {
   "cell_type": "markdown",
   "metadata": {},
   "source": [
    "Judging by the graph, we can answer to the initially raised doubt: the average popularity of an artist grows with respect to the number of his/her number of hit songs. "
   ]
  },
  {
   "cell_type": "markdown",
   "metadata": {},
   "source": [
    "## Top genres\n",
    "If before we saw which artists were the most present in the dataset, we can see the same for genre. Nowadays one of the most popular genres is pop, so we could expect that to be at the top."
   ]
  },
  {
   "cell_type": "code",
   "execution_count": 69,
   "metadata": {},
   "outputs": [
    {
     "data": {
      "text/html": [
       "<div>\n",
       "<style scoped>\n",
       "    .dataframe tbody tr th:only-of-type {\n",
       "        vertical-align: middle;\n",
       "    }\n",
       "\n",
       "    .dataframe tbody tr th {\n",
       "        vertical-align: top;\n",
       "    }\n",
       "\n",
       "    .dataframe thead th {\n",
       "        text-align: right;\n",
       "    }\n",
       "</style>\n",
       "<table border=\"1\" class=\"dataframe\">\n",
       "  <thead>\n",
       "    <tr style=\"text-align: right;\">\n",
       "      <th></th>\n",
       "      <th>genre</th>\n",
       "      <th>popularity</th>\n",
       "      <th>danceability</th>\n",
       "      <th>energy</th>\n",
       "      <th>key</th>\n",
       "      <th>loudness</th>\n",
       "      <th>speechiness</th>\n",
       "      <th>acousticness</th>\n",
       "      <th>instrumentalness</th>\n",
       "      <th>liveness</th>\n",
       "      <th>valence</th>\n",
       "      <th>tempo</th>\n",
       "      <th>explicit</th>\n",
       "    </tr>\n",
       "  </thead>\n",
       "  <tbody>\n",
       "    <tr>\n",
       "      <th>0</th>\n",
       "      <td>Dance/Electronic</td>\n",
       "      <td>61.760009</td>\n",
       "      <td>0.683840</td>\n",
       "      <td>0.766687</td>\n",
       "      <td>5.754522</td>\n",
       "      <td>-5.151388</td>\n",
       "      <td>0.079919</td>\n",
       "      <td>0.112884</td>\n",
       "      <td>0.038239</td>\n",
       "      <td>0.182850</td>\n",
       "      <td>0.537117</td>\n",
       "      <td>124.054483</td>\n",
       "      <td>0.118863</td>\n",
       "    </tr>\n",
       "    <tr>\n",
       "      <th>1</th>\n",
       "      <td>Folk/Acoustic</td>\n",
       "      <td>67.356594</td>\n",
       "      <td>0.569339</td>\n",
       "      <td>0.720789</td>\n",
       "      <td>4.421053</td>\n",
       "      <td>-6.480842</td>\n",
       "      <td>0.042058</td>\n",
       "      <td>0.204917</td>\n",
       "      <td>0.046239</td>\n",
       "      <td>0.193379</td>\n",
       "      <td>0.560684</td>\n",
       "      <td>109.683263</td>\n",
       "      <td>0.052632</td>\n",
       "    </tr>\n",
       "    <tr>\n",
       "      <th>2</th>\n",
       "      <td>N/A</td>\n",
       "      <td>63.830926</td>\n",
       "      <td>0.763516</td>\n",
       "      <td>0.733667</td>\n",
       "      <td>3.809524</td>\n",
       "      <td>-5.956571</td>\n",
       "      <td>0.065595</td>\n",
       "      <td>0.177590</td>\n",
       "      <td>0.038299</td>\n",
       "      <td>0.160933</td>\n",
       "      <td>0.664714</td>\n",
       "      <td>121.345857</td>\n",
       "      <td>0.047619</td>\n",
       "    </tr>\n",
       "    <tr>\n",
       "      <th>3</th>\n",
       "      <td>R&amp;B</td>\n",
       "      <td>65.876176</td>\n",
       "      <td>0.706778</td>\n",
       "      <td>0.663233</td>\n",
       "      <td>5.331828</td>\n",
       "      <td>-5.879093</td>\n",
       "      <td>0.114886</td>\n",
       "      <td>0.154248</td>\n",
       "      <td>0.006679</td>\n",
       "      <td>0.162687</td>\n",
       "      <td>0.562708</td>\n",
       "      <td>115.507377</td>\n",
       "      <td>0.275395</td>\n",
       "    </tr>\n",
       "    <tr>\n",
       "      <th>4</th>\n",
       "      <td>World/Traditional</td>\n",
       "      <td>60.049938</td>\n",
       "      <td>0.591909</td>\n",
       "      <td>0.692889</td>\n",
       "      <td>4.222222</td>\n",
       "      <td>-6.354889</td>\n",
       "      <td>0.078433</td>\n",
       "      <td>0.266463</td>\n",
       "      <td>0.223766</td>\n",
       "      <td>0.204456</td>\n",
       "      <td>0.641667</td>\n",
       "      <td>111.259889</td>\n",
       "      <td>0.000000</td>\n",
       "    </tr>\n",
       "  </tbody>\n",
       "</table>\n",
       "</div>"
      ],
      "text/plain": [
       "               genre  popularity  danceability    energy       key  loudness  \\\n",
       "0   Dance/Electronic   61.760009      0.683840  0.766687  5.754522 -5.151388   \n",
       "1      Folk/Acoustic   67.356594      0.569339  0.720789  4.421053 -6.480842   \n",
       "2                N/A   63.830926      0.763516  0.733667  3.809524 -5.956571   \n",
       "3                R&B   65.876176      0.706778  0.663233  5.331828 -5.879093   \n",
       "4  World/Traditional   60.049938      0.591909  0.692889  4.222222 -6.354889   \n",
       "\n",
       "   speechiness  acousticness  instrumentalness  liveness   valence  \\\n",
       "0     0.079919      0.112884          0.038239  0.182850  0.537117   \n",
       "1     0.042058      0.204917          0.046239  0.193379  0.560684   \n",
       "2     0.065595      0.177590          0.038299  0.160933  0.664714   \n",
       "3     0.114886      0.154248          0.006679  0.162687  0.562708   \n",
       "4     0.078433      0.266463          0.223766  0.204456  0.641667   \n",
       "\n",
       "        tempo  explicit  \n",
       "0  124.054483  0.118863  \n",
       "1  109.683263  0.052632  \n",
       "2  121.345857  0.047619  \n",
       "3  115.507377  0.275395  \n",
       "4  111.259889  0.000000  "
      ]
     },
     "execution_count": 69,
     "metadata": {},
     "output_type": "execute_result"
    }
   ],
   "source": [
    "# Explode the genre column\n",
    "data.genre = data.genre.apply(lambda x: x.split(\", \"))\n",
    "df_genre_exp = data.explode(\"genre\")\n",
    "genres_amount = df_genre_exp.groupby(\"genre\", as_index=False).count()\n",
    "\n",
    "\n",
    "genre_cols = df_genre_exp.columns.values[5:-1]\n",
    "genre_cols = np.append(genre_cols, [\"explicit\"])\n",
    "genres = df_genre_exp.groupby(\"genre\")[genre_cols].mean().reset_index()\n",
    "#See results\n",
    "genres.head()\n"
   ]
  },
  {
   "cell_type": "code",
   "execution_count": 70,
   "metadata": {},
   "outputs": [
    {
     "data": {
      "application/vnd.plotly.v1+json": {
       "config": {
        "plotlyServerURL": "https://plot.ly"
       },
       "data": [
        {
         "alignmentgroup": "True",
         "hovertemplate": "genre=%{y}<br>song=%{x}<extra></extra>",
         "legendgroup": "pop",
         "marker": {
          "color": "#636efa",
          "pattern": {
           "shape": ""
          }
         },
         "name": "pop",
         "offsetgroup": "pop",
         "orientation": "h",
         "showlegend": true,
         "textposition": "auto",
         "type": "bar",
         "x": [
          1601
         ],
         "xaxis": "x",
         "y": [
          "pop"
         ],
         "yaxis": "y"
        },
        {
         "alignmentgroup": "True",
         "hovertemplate": "genre=%{y}<br>song=%{x}<extra></extra>",
         "legendgroup": "hip hop",
         "marker": {
          "color": "#EF553B",
          "pattern": {
           "shape": ""
          }
         },
         "name": "hip hop",
         "offsetgroup": "hip hop",
         "orientation": "h",
         "showlegend": true,
         "textposition": "auto",
         "type": "bar",
         "x": [
          768
         ],
         "xaxis": "x",
         "y": [
          "hip hop"
         ],
         "yaxis": "y"
        },
        {
         "alignmentgroup": "True",
         "hovertemplate": "genre=%{y}<br>song=%{x}<extra></extra>",
         "legendgroup": "R&B",
         "marker": {
          "color": "#00cc96",
          "pattern": {
           "shape": ""
          }
         },
         "name": "R&B",
         "offsetgroup": "R&B",
         "orientation": "h",
         "showlegend": true,
         "textposition": "auto",
         "type": "bar",
         "x": [
          443
         ],
         "xaxis": "x",
         "y": [
          "R&B"
         ],
         "yaxis": "y"
        },
        {
         "alignmentgroup": "True",
         "hovertemplate": "genre=%{y}<br>song=%{x}<extra></extra>",
         "legendgroup": "Dance/Electronic",
         "marker": {
          "color": "#ab63fa",
          "pattern": {
           "shape": ""
          }
         },
         "name": "Dance/Electronic",
         "offsetgroup": "Dance/Electronic",
         "orientation": "h",
         "showlegend": true,
         "textposition": "auto",
         "type": "bar",
         "x": [
          387
         ],
         "xaxis": "x",
         "y": [
          "Dance/Electronic"
         ],
         "yaxis": "y"
        },
        {
         "alignmentgroup": "True",
         "hovertemplate": "genre=%{y}<br>song=%{x}<extra></extra>",
         "legendgroup": "rock",
         "marker": {
          "color": "#FFA15A",
          "pattern": {
           "shape": ""
          }
         },
         "name": "rock",
         "offsetgroup": "rock",
         "orientation": "h",
         "showlegend": true,
         "textposition": "auto",
         "type": "bar",
         "x": [
          226
         ],
         "xaxis": "x",
         "y": [
          "rock"
         ],
         "yaxis": "y"
        },
        {
         "alignmentgroup": "True",
         "hovertemplate": "genre=%{y}<br>song=%{x}<extra></extra>",
         "legendgroup": "metal",
         "marker": {
          "color": "#19d3f3",
          "pattern": {
           "shape": ""
          }
         },
         "name": "metal",
         "offsetgroup": "metal",
         "orientation": "h",
         "showlegend": true,
         "textposition": "auto",
         "type": "bar",
         "x": [
          63
         ],
         "xaxis": "x",
         "y": [
          "metal"
         ],
         "yaxis": "y"
        },
        {
         "alignmentgroup": "True",
         "hovertemplate": "genre=%{y}<br>song=%{x}<extra></extra>",
         "legendgroup": "latin",
         "marker": {
          "color": "#FF6692",
          "pattern": {
           "shape": ""
          }
         },
         "name": "latin",
         "offsetgroup": "latin",
         "orientation": "h",
         "showlegend": true,
         "textposition": "auto",
         "type": "bar",
         "x": [
          61
         ],
         "xaxis": "x",
         "y": [
          "latin"
         ],
         "yaxis": "y"
        },
        {
         "alignmentgroup": "True",
         "hovertemplate": "genre=%{y}<br>song=%{x}<extra></extra>",
         "legendgroup": "N/A",
         "marker": {
          "color": "#B6E880",
          "pattern": {
           "shape": ""
          }
         },
         "name": "N/A",
         "offsetgroup": "N/A",
         "orientation": "h",
         "showlegend": true,
         "textposition": "auto",
         "type": "bar",
         "x": [
          21
         ],
         "xaxis": "x",
         "y": [
          "N/A"
         ],
         "yaxis": "y"
        },
        {
         "alignmentgroup": "True",
         "hovertemplate": "genre=%{y}<br>song=%{x}<extra></extra>",
         "legendgroup": "country",
         "marker": {
          "color": "#FF97FF",
          "pattern": {
           "shape": ""
          }
         },
         "name": "country",
         "offsetgroup": "country",
         "orientation": "h",
         "showlegend": true,
         "textposition": "auto",
         "type": "bar",
         "x": [
          20
         ],
         "xaxis": "x",
         "y": [
          "country"
         ],
         "yaxis": "y"
        },
        {
         "alignmentgroup": "True",
         "hovertemplate": "genre=%{y}<br>song=%{x}<extra></extra>",
         "legendgroup": "Folk/Acoustic",
         "marker": {
          "color": "#FECB52",
          "pattern": {
           "shape": ""
          }
         },
         "name": "Folk/Acoustic",
         "offsetgroup": "Folk/Acoustic",
         "orientation": "h",
         "showlegend": true,
         "textposition": "auto",
         "type": "bar",
         "x": [
          19
         ],
         "xaxis": "x",
         "y": [
          "Folk/Acoustic"
         ],
         "yaxis": "y"
        },
        {
         "alignmentgroup": "True",
         "hovertemplate": "genre=%{y}<br>song=%{x}<extra></extra>",
         "legendgroup": "World/Traditional",
         "marker": {
          "color": "#636efa",
          "pattern": {
           "shape": ""
          }
         },
         "name": "World/Traditional",
         "offsetgroup": "World/Traditional",
         "orientation": "h",
         "showlegend": true,
         "textposition": "auto",
         "type": "bar",
         "x": [
          9
         ],
         "xaxis": "x",
         "y": [
          "World/Traditional"
         ],
         "yaxis": "y"
        },
        {
         "alignmentgroup": "True",
         "hovertemplate": "genre=%{y}<br>song=%{x}<extra></extra>",
         "legendgroup": "easy listening",
         "marker": {
          "color": "#EF553B",
          "pattern": {
           "shape": ""
          }
         },
         "name": "easy listening",
         "offsetgroup": "easy listening",
         "orientation": "h",
         "showlegend": true,
         "textposition": "auto",
         "type": "bar",
         "x": [
          6
         ],
         "xaxis": "x",
         "y": [
          "easy listening"
         ],
         "yaxis": "y"
        },
        {
         "alignmentgroup": "True",
         "hovertemplate": "genre=%{y}<br>song=%{x}<extra></extra>",
         "legendgroup": "blues",
         "marker": {
          "color": "#00cc96",
          "pattern": {
           "shape": ""
          }
         },
         "name": "blues",
         "offsetgroup": "blues",
         "orientation": "h",
         "showlegend": true,
         "textposition": "auto",
         "type": "bar",
         "x": [
          3
         ],
         "xaxis": "x",
         "y": [
          "blues"
         ],
         "yaxis": "y"
        },
        {
         "alignmentgroup": "True",
         "hovertemplate": "genre=%{y}<br>song=%{x}<extra></extra>",
         "legendgroup": "jazz",
         "marker": {
          "color": "#ab63fa",
          "pattern": {
           "shape": ""
          }
         },
         "name": "jazz",
         "offsetgroup": "jazz",
         "orientation": "h",
         "showlegend": true,
         "textposition": "auto",
         "type": "bar",
         "x": [
          2
         ],
         "xaxis": "x",
         "y": [
          "jazz"
         ],
         "yaxis": "y"
        },
        {
         "alignmentgroup": "True",
         "hovertemplate": "genre=%{y}<br>song=%{x}<extra></extra>",
         "legendgroup": "classical",
         "marker": {
          "color": "#FFA15A",
          "pattern": {
           "shape": ""
          }
         },
         "name": "classical",
         "offsetgroup": "classical",
         "orientation": "h",
         "showlegend": true,
         "textposition": "auto",
         "type": "bar",
         "x": [
          1
         ],
         "xaxis": "x",
         "y": [
          "classical"
         ],
         "yaxis": "y"
        }
       ],
       "layout": {
        "barmode": "relative",
        "font": {
         "size": 18
        },
        "height": 750,
        "legend": {
         "title": {
          "text": "genre"
         },
         "tracegroupgap": 0
        },
        "template": {
         "data": {
          "bar": [
           {
            "error_x": {
             "color": "#2a3f5f"
            },
            "error_y": {
             "color": "#2a3f5f"
            },
            "marker": {
             "line": {
              "color": "#E5ECF6",
              "width": 0.5
             },
             "pattern": {
              "fillmode": "overlay",
              "size": 10,
              "solidity": 0.2
             }
            },
            "type": "bar"
           }
          ],
          "barpolar": [
           {
            "marker": {
             "line": {
              "color": "#E5ECF6",
              "width": 0.5
             },
             "pattern": {
              "fillmode": "overlay",
              "size": 10,
              "solidity": 0.2
             }
            },
            "type": "barpolar"
           }
          ],
          "carpet": [
           {
            "aaxis": {
             "endlinecolor": "#2a3f5f",
             "gridcolor": "white",
             "linecolor": "white",
             "minorgridcolor": "white",
             "startlinecolor": "#2a3f5f"
            },
            "baxis": {
             "endlinecolor": "#2a3f5f",
             "gridcolor": "white",
             "linecolor": "white",
             "minorgridcolor": "white",
             "startlinecolor": "#2a3f5f"
            },
            "type": "carpet"
           }
          ],
          "choropleth": [
           {
            "colorbar": {
             "outlinewidth": 0,
             "ticks": ""
            },
            "type": "choropleth"
           }
          ],
          "contour": [
           {
            "colorbar": {
             "outlinewidth": 0,
             "ticks": ""
            },
            "colorscale": [
             [
              0,
              "#0d0887"
             ],
             [
              0.1111111111111111,
              "#46039f"
             ],
             [
              0.2222222222222222,
              "#7201a8"
             ],
             [
              0.3333333333333333,
              "#9c179e"
             ],
             [
              0.4444444444444444,
              "#bd3786"
             ],
             [
              0.5555555555555556,
              "#d8576b"
             ],
             [
              0.6666666666666666,
              "#ed7953"
             ],
             [
              0.7777777777777778,
              "#fb9f3a"
             ],
             [
              0.8888888888888888,
              "#fdca26"
             ],
             [
              1,
              "#f0f921"
             ]
            ],
            "type": "contour"
           }
          ],
          "contourcarpet": [
           {
            "colorbar": {
             "outlinewidth": 0,
             "ticks": ""
            },
            "type": "contourcarpet"
           }
          ],
          "heatmap": [
           {
            "colorbar": {
             "outlinewidth": 0,
             "ticks": ""
            },
            "colorscale": [
             [
              0,
              "#0d0887"
             ],
             [
              0.1111111111111111,
              "#46039f"
             ],
             [
              0.2222222222222222,
              "#7201a8"
             ],
             [
              0.3333333333333333,
              "#9c179e"
             ],
             [
              0.4444444444444444,
              "#bd3786"
             ],
             [
              0.5555555555555556,
              "#d8576b"
             ],
             [
              0.6666666666666666,
              "#ed7953"
             ],
             [
              0.7777777777777778,
              "#fb9f3a"
             ],
             [
              0.8888888888888888,
              "#fdca26"
             ],
             [
              1,
              "#f0f921"
             ]
            ],
            "type": "heatmap"
           }
          ],
          "heatmapgl": [
           {
            "colorbar": {
             "outlinewidth": 0,
             "ticks": ""
            },
            "colorscale": [
             [
              0,
              "#0d0887"
             ],
             [
              0.1111111111111111,
              "#46039f"
             ],
             [
              0.2222222222222222,
              "#7201a8"
             ],
             [
              0.3333333333333333,
              "#9c179e"
             ],
             [
              0.4444444444444444,
              "#bd3786"
             ],
             [
              0.5555555555555556,
              "#d8576b"
             ],
             [
              0.6666666666666666,
              "#ed7953"
             ],
             [
              0.7777777777777778,
              "#fb9f3a"
             ],
             [
              0.8888888888888888,
              "#fdca26"
             ],
             [
              1,
              "#f0f921"
             ]
            ],
            "type": "heatmapgl"
           }
          ],
          "histogram": [
           {
            "marker": {
             "pattern": {
              "fillmode": "overlay",
              "size": 10,
              "solidity": 0.2
             }
            },
            "type": "histogram"
           }
          ],
          "histogram2d": [
           {
            "colorbar": {
             "outlinewidth": 0,
             "ticks": ""
            },
            "colorscale": [
             [
              0,
              "#0d0887"
             ],
             [
              0.1111111111111111,
              "#46039f"
             ],
             [
              0.2222222222222222,
              "#7201a8"
             ],
             [
              0.3333333333333333,
              "#9c179e"
             ],
             [
              0.4444444444444444,
              "#bd3786"
             ],
             [
              0.5555555555555556,
              "#d8576b"
             ],
             [
              0.6666666666666666,
              "#ed7953"
             ],
             [
              0.7777777777777778,
              "#fb9f3a"
             ],
             [
              0.8888888888888888,
              "#fdca26"
             ],
             [
              1,
              "#f0f921"
             ]
            ],
            "type": "histogram2d"
           }
          ],
          "histogram2dcontour": [
           {
            "colorbar": {
             "outlinewidth": 0,
             "ticks": ""
            },
            "colorscale": [
             [
              0,
              "#0d0887"
             ],
             [
              0.1111111111111111,
              "#46039f"
             ],
             [
              0.2222222222222222,
              "#7201a8"
             ],
             [
              0.3333333333333333,
              "#9c179e"
             ],
             [
              0.4444444444444444,
              "#bd3786"
             ],
             [
              0.5555555555555556,
              "#d8576b"
             ],
             [
              0.6666666666666666,
              "#ed7953"
             ],
             [
              0.7777777777777778,
              "#fb9f3a"
             ],
             [
              0.8888888888888888,
              "#fdca26"
             ],
             [
              1,
              "#f0f921"
             ]
            ],
            "type": "histogram2dcontour"
           }
          ],
          "mesh3d": [
           {
            "colorbar": {
             "outlinewidth": 0,
             "ticks": ""
            },
            "type": "mesh3d"
           }
          ],
          "parcoords": [
           {
            "line": {
             "colorbar": {
              "outlinewidth": 0,
              "ticks": ""
             }
            },
            "type": "parcoords"
           }
          ],
          "pie": [
           {
            "automargin": true,
            "type": "pie"
           }
          ],
          "scatter": [
           {
            "marker": {
             "colorbar": {
              "outlinewidth": 0,
              "ticks": ""
             }
            },
            "type": "scatter"
           }
          ],
          "scatter3d": [
           {
            "line": {
             "colorbar": {
              "outlinewidth": 0,
              "ticks": ""
             }
            },
            "marker": {
             "colorbar": {
              "outlinewidth": 0,
              "ticks": ""
             }
            },
            "type": "scatter3d"
           }
          ],
          "scattercarpet": [
           {
            "marker": {
             "colorbar": {
              "outlinewidth": 0,
              "ticks": ""
             }
            },
            "type": "scattercarpet"
           }
          ],
          "scattergeo": [
           {
            "marker": {
             "colorbar": {
              "outlinewidth": 0,
              "ticks": ""
             }
            },
            "type": "scattergeo"
           }
          ],
          "scattergl": [
           {
            "marker": {
             "colorbar": {
              "outlinewidth": 0,
              "ticks": ""
             }
            },
            "type": "scattergl"
           }
          ],
          "scattermapbox": [
           {
            "marker": {
             "colorbar": {
              "outlinewidth": 0,
              "ticks": ""
             }
            },
            "type": "scattermapbox"
           }
          ],
          "scatterpolar": [
           {
            "marker": {
             "colorbar": {
              "outlinewidth": 0,
              "ticks": ""
             }
            },
            "type": "scatterpolar"
           }
          ],
          "scatterpolargl": [
           {
            "marker": {
             "colorbar": {
              "outlinewidth": 0,
              "ticks": ""
             }
            },
            "type": "scatterpolargl"
           }
          ],
          "scatterternary": [
           {
            "marker": {
             "colorbar": {
              "outlinewidth": 0,
              "ticks": ""
             }
            },
            "type": "scatterternary"
           }
          ],
          "surface": [
           {
            "colorbar": {
             "outlinewidth": 0,
             "ticks": ""
            },
            "colorscale": [
             [
              0,
              "#0d0887"
             ],
             [
              0.1111111111111111,
              "#46039f"
             ],
             [
              0.2222222222222222,
              "#7201a8"
             ],
             [
              0.3333333333333333,
              "#9c179e"
             ],
             [
              0.4444444444444444,
              "#bd3786"
             ],
             [
              0.5555555555555556,
              "#d8576b"
             ],
             [
              0.6666666666666666,
              "#ed7953"
             ],
             [
              0.7777777777777778,
              "#fb9f3a"
             ],
             [
              0.8888888888888888,
              "#fdca26"
             ],
             [
              1,
              "#f0f921"
             ]
            ],
            "type": "surface"
           }
          ],
          "table": [
           {
            "cells": {
             "fill": {
              "color": "#EBF0F8"
             },
             "line": {
              "color": "white"
             }
            },
            "header": {
             "fill": {
              "color": "#C8D4E3"
             },
             "line": {
              "color": "white"
             }
            },
            "type": "table"
           }
          ]
         },
         "layout": {
          "annotationdefaults": {
           "arrowcolor": "#2a3f5f",
           "arrowhead": 0,
           "arrowwidth": 1
          },
          "autotypenumbers": "strict",
          "coloraxis": {
           "colorbar": {
            "outlinewidth": 0,
            "ticks": ""
           }
          },
          "colorscale": {
           "diverging": [
            [
             0,
             "#8e0152"
            ],
            [
             0.1,
             "#c51b7d"
            ],
            [
             0.2,
             "#de77ae"
            ],
            [
             0.3,
             "#f1b6da"
            ],
            [
             0.4,
             "#fde0ef"
            ],
            [
             0.5,
             "#f7f7f7"
            ],
            [
             0.6,
             "#e6f5d0"
            ],
            [
             0.7,
             "#b8e186"
            ],
            [
             0.8,
             "#7fbc41"
            ],
            [
             0.9,
             "#4d9221"
            ],
            [
             1,
             "#276419"
            ]
           ],
           "sequential": [
            [
             0,
             "#0d0887"
            ],
            [
             0.1111111111111111,
             "#46039f"
            ],
            [
             0.2222222222222222,
             "#7201a8"
            ],
            [
             0.3333333333333333,
             "#9c179e"
            ],
            [
             0.4444444444444444,
             "#bd3786"
            ],
            [
             0.5555555555555556,
             "#d8576b"
            ],
            [
             0.6666666666666666,
             "#ed7953"
            ],
            [
             0.7777777777777778,
             "#fb9f3a"
            ],
            [
             0.8888888888888888,
             "#fdca26"
            ],
            [
             1,
             "#f0f921"
            ]
           ],
           "sequentialminus": [
            [
             0,
             "#0d0887"
            ],
            [
             0.1111111111111111,
             "#46039f"
            ],
            [
             0.2222222222222222,
             "#7201a8"
            ],
            [
             0.3333333333333333,
             "#9c179e"
            ],
            [
             0.4444444444444444,
             "#bd3786"
            ],
            [
             0.5555555555555556,
             "#d8576b"
            ],
            [
             0.6666666666666666,
             "#ed7953"
            ],
            [
             0.7777777777777778,
             "#fb9f3a"
            ],
            [
             0.8888888888888888,
             "#fdca26"
            ],
            [
             1,
             "#f0f921"
            ]
           ]
          },
          "colorway": [
           "#636efa",
           "#EF553B",
           "#00cc96",
           "#ab63fa",
           "#FFA15A",
           "#19d3f3",
           "#FF6692",
           "#B6E880",
           "#FF97FF",
           "#FECB52"
          ],
          "font": {
           "color": "#2a3f5f"
          },
          "geo": {
           "bgcolor": "white",
           "lakecolor": "white",
           "landcolor": "#E5ECF6",
           "showlakes": true,
           "showland": true,
           "subunitcolor": "white"
          },
          "hoverlabel": {
           "align": "left"
          },
          "hovermode": "closest",
          "mapbox": {
           "style": "light"
          },
          "paper_bgcolor": "white",
          "plot_bgcolor": "#E5ECF6",
          "polar": {
           "angularaxis": {
            "gridcolor": "white",
            "linecolor": "white",
            "ticks": ""
           },
           "bgcolor": "#E5ECF6",
           "radialaxis": {
            "gridcolor": "white",
            "linecolor": "white",
            "ticks": ""
           }
          },
          "scene": {
           "xaxis": {
            "backgroundcolor": "#E5ECF6",
            "gridcolor": "white",
            "gridwidth": 2,
            "linecolor": "white",
            "showbackground": true,
            "ticks": "",
            "zerolinecolor": "white"
           },
           "yaxis": {
            "backgroundcolor": "#E5ECF6",
            "gridcolor": "white",
            "gridwidth": 2,
            "linecolor": "white",
            "showbackground": true,
            "ticks": "",
            "zerolinecolor": "white"
           },
           "zaxis": {
            "backgroundcolor": "#E5ECF6",
            "gridcolor": "white",
            "gridwidth": 2,
            "linecolor": "white",
            "showbackground": true,
            "ticks": "",
            "zerolinecolor": "white"
           }
          },
          "shapedefaults": {
           "line": {
            "color": "#2a3f5f"
           }
          },
          "ternary": {
           "aaxis": {
            "gridcolor": "white",
            "linecolor": "white",
            "ticks": ""
           },
           "baxis": {
            "gridcolor": "white",
            "linecolor": "white",
            "ticks": ""
           },
           "bgcolor": "#E5ECF6",
           "caxis": {
            "gridcolor": "white",
            "linecolor": "white",
            "ticks": ""
           }
          },
          "title": {
           "x": 0.05
          },
          "xaxis": {
           "automargin": true,
           "gridcolor": "white",
           "linecolor": "white",
           "ticks": "",
           "title": {
            "standoff": 15
           },
           "zerolinecolor": "white",
           "zerolinewidth": 2
          },
          "yaxis": {
           "automargin": true,
           "gridcolor": "white",
           "linecolor": "white",
           "ticks": "",
           "title": {
            "standoff": 15
           },
           "zerolinecolor": "white",
           "zerolinewidth": 2
          }
         }
        },
        "title": {
         "text": "Most present genres"
        },
        "width": 1000,
        "xaxis": {
         "anchor": "y",
         "domain": [
          0,
          1
         ],
         "title": {
          "text": "song"
         }
        },
        "yaxis": {
         "anchor": "x",
         "categoryarray": [
          "classical",
          "jazz",
          "blues",
          "easy listening",
          "World/Traditional",
          "Folk/Acoustic",
          "country",
          "N/A",
          "latin",
          "metal",
          "rock",
          "Dance/Electronic",
          "R&B",
          "hip hop",
          "pop"
         ],
         "categoryorder": "array",
         "domain": [
          0,
          1
         ],
         "title": {
          "text": "genre"
         }
        }
       }
      }
     },
     "metadata": {},
     "output_type": "display_data"
    }
   ],
   "source": [
    "fig = px.bar(genres_amount.sort_values(\"song\", ascending=False), x=\"song\", y=\"genre\", color=\"genre\",\n",
    "             width=1000, height=750, title=\"Most present genres\")\n",
    "fig.update_layout(font_size=18)\n",
    "fig.show()\n"
   ]
  },
  {
   "cell_type": "markdown",
   "metadata": {},
   "source": [
    "The more we advance with the years, the more we hear Pop in the charts of Spotify, in the radios, commercial points ecc. Therefore, it is not so surprising to see Pop as the most present genre, even if by that far with respect to the others. What we maybe would've expected slightly different is the Latin genre, which we thought would've been more present, since summer Hits are pretty much all latin/hispanic. But if we think about it more, it makes sense since we dont heare many of them throughout the whole year."
   ]
  },
  {
   "cell_type": "markdown",
   "metadata": {},
   "source": [
    "## Popularity by Genre\n",
    "Now that we've seen how much the genres appear in the dataset, let's take a look at the popularity of the songs with those genres."
   ]
  },
  {
   "cell_type": "code",
   "execution_count": 71,
   "metadata": {},
   "outputs": [
    {
     "data": {
      "application/vnd.plotly.v1+json": {
       "config": {
        "plotlyServerURL": "https://plot.ly"
       },
       "data": [
        {
         "alignmentgroup": "True",
         "hovertemplate": "genre=%{y}<br>popularity=%{x}<extra></extra>",
         "legendgroup": "metal",
         "marker": {
          "color": "#636efa",
          "pattern": {
           "shape": ""
          }
         },
         "name": "metal",
         "offsetgroup": "metal",
         "orientation": "h",
         "showlegend": true,
         "textposition": "auto",
         "type": "bar",
         "x": [
          76.38665953272697
         ],
         "xaxis": "x",
         "y": [
          "metal"
         ],
         "yaxis": "y"
        },
        {
         "alignmentgroup": "True",
         "hovertemplate": "genre=%{y}<br>popularity=%{x}<extra></extra>",
         "legendgroup": "classical",
         "marker": {
          "color": "#EF553B",
          "pattern": {
           "shape": ""
          }
         },
         "name": "classical",
         "offsetgroup": "classical",
         "orientation": "h",
         "showlegend": true,
         "textposition": "auto",
         "type": "bar",
         "x": [
          70.78651685393258
         ],
         "xaxis": "x",
         "y": [
          "classical"
         ],
         "yaxis": "y"
        },
        {
         "alignmentgroup": "True",
         "hovertemplate": "genre=%{y}<br>popularity=%{x}<extra></extra>",
         "legendgroup": "rock",
         "marker": {
          "color": "#00cc96",
          "pattern": {
           "shape": ""
          }
         },
         "name": "rock",
         "offsetgroup": "rock",
         "orientation": "h",
         "showlegend": true,
         "textposition": "auto",
         "type": "bar",
         "x": [
          70.61748036193697
         ],
         "xaxis": "x",
         "y": [
          "rock"
         ],
         "yaxis": "y"
        },
        {
         "alignmentgroup": "True",
         "hovertemplate": "genre=%{y}<br>popularity=%{x}<extra></extra>",
         "legendgroup": "hip hop",
         "marker": {
          "color": "#ab63fa",
          "pattern": {
           "shape": ""
          }
         },
         "name": "hip hop",
         "offsetgroup": "hip hop",
         "orientation": "h",
         "showlegend": true,
         "textposition": "auto",
         "type": "bar",
         "x": [
          69.63512406367006
         ],
         "xaxis": "x",
         "y": [
          "hip hop"
         ],
         "yaxis": "y"
        },
        {
         "alignmentgroup": "True",
         "hovertemplate": "genre=%{y}<br>popularity=%{x}<extra></extra>",
         "legendgroup": "easy listening",
         "marker": {
          "color": "#FFA15A",
          "pattern": {
           "shape": ""
          }
         },
         "name": "easy listening",
         "offsetgroup": "easy listening",
         "orientation": "h",
         "showlegend": true,
         "textposition": "auto",
         "type": "bar",
         "x": [
          68.35205992509364
         ],
         "xaxis": "x",
         "y": [
          "easy listening"
         ],
         "yaxis": "y"
        },
        {
         "alignmentgroup": "True",
         "hovertemplate": "genre=%{y}<br>popularity=%{x}<extra></extra>",
         "legendgroup": "Folk/Acoustic",
         "marker": {
          "color": "#19d3f3",
          "pattern": {
           "shape": ""
          }
         },
         "name": "Folk/Acoustic",
         "offsetgroup": "Folk/Acoustic",
         "orientation": "h",
         "showlegend": true,
         "textposition": "auto",
         "type": "bar",
         "x": [
          67.3565937315198
         ],
         "xaxis": "x",
         "y": [
          "Folk/Acoustic"
         ],
         "yaxis": "y"
        },
        {
         "alignmentgroup": "True",
         "hovertemplate": "genre=%{y}<br>popularity=%{x}<extra></extra>",
         "legendgroup": "pop",
         "marker": {
          "color": "#FF6692",
          "pattern": {
           "shape": ""
          }
         },
         "name": "pop",
         "offsetgroup": "pop",
         "orientation": "h",
         "showlegend": true,
         "textposition": "auto",
         "type": "bar",
         "x": [
          66.56162931875339
         ],
         "xaxis": "x",
         "y": [
          "pop"
         ],
         "yaxis": "y"
        },
        {
         "alignmentgroup": "True",
         "hovertemplate": "genre=%{y}<br>popularity=%{x}<extra></extra>",
         "legendgroup": "latin",
         "marker": {
          "color": "#B6E880",
          "pattern": {
           "shape": ""
          }
         },
         "name": "latin",
         "offsetgroup": "latin",
         "orientation": "h",
         "showlegend": true,
         "textposition": "auto",
         "type": "bar",
         "x": [
          66.51317001289372
         ],
         "xaxis": "x",
         "y": [
          "latin"
         ],
         "yaxis": "y"
        },
        {
         "alignmentgroup": "True",
         "hovertemplate": "genre=%{y}<br>popularity=%{x}<extra></extra>",
         "legendgroup": "R&B",
         "marker": {
          "color": "#FF97FF",
          "pattern": {
           "shape": ""
          }
         },
         "name": "R&B",
         "offsetgroup": "R&B",
         "orientation": "h",
         "showlegend": true,
         "textposition": "auto",
         "type": "bar",
         "x": [
          65.8761762244148
         ],
         "xaxis": "x",
         "y": [
          "R&B"
         ],
         "yaxis": "y"
        },
        {
         "alignmentgroup": "True",
         "hovertemplate": "genre=%{y}<br>popularity=%{x}<extra></extra>",
         "legendgroup": "jazz",
         "marker": {
          "color": "#FECB52",
          "pattern": {
           "shape": ""
          }
         },
         "name": "jazz",
         "offsetgroup": "jazz",
         "orientation": "h",
         "showlegend": true,
         "textposition": "auto",
         "type": "bar",
         "x": [
          64.6067415730337
         ],
         "xaxis": "x",
         "y": [
          "jazz"
         ],
         "yaxis": "y"
        },
        {
         "alignmentgroup": "True",
         "hovertemplate": "genre=%{y}<br>popularity=%{x}<extra></extra>",
         "legendgroup": "N/A",
         "marker": {
          "color": "#636efa",
          "pattern": {
           "shape": ""
          }
         },
         "name": "N/A",
         "offsetgroup": "N/A",
         "orientation": "h",
         "showlegend": true,
         "textposition": "auto",
         "type": "bar",
         "x": [
          63.83092562867845
         ],
         "xaxis": "x",
         "y": [
          "N/A"
         ],
         "yaxis": "y"
        },
        {
         "alignmentgroup": "True",
         "hovertemplate": "genre=%{y}<br>popularity=%{x}<extra></extra>",
         "legendgroup": "country",
         "marker": {
          "color": "#EF553B",
          "pattern": {
           "shape": ""
          }
         },
         "name": "country",
         "offsetgroup": "country",
         "orientation": "h",
         "showlegend": true,
         "textposition": "auto",
         "type": "bar",
         "x": [
          63.03370786516854
         ],
         "xaxis": "x",
         "y": [
          "country"
         ],
         "yaxis": "y"
        },
        {
         "alignmentgroup": "True",
         "hovertemplate": "genre=%{y}<br>popularity=%{x}<extra></extra>",
         "legendgroup": "Dance/Electronic",
         "marker": {
          "color": "#00cc96",
          "pattern": {
           "shape": ""
          }
         },
         "name": "Dance/Electronic",
         "offsetgroup": "Dance/Electronic",
         "orientation": "h",
         "showlegend": true,
         "textposition": "auto",
         "type": "bar",
         "x": [
          61.76000929071221
         ],
         "xaxis": "x",
         "y": [
          "Dance/Electronic"
         ],
         "yaxis": "y"
        },
        {
         "alignmentgroup": "True",
         "hovertemplate": "genre=%{y}<br>popularity=%{x}<extra></extra>",
         "legendgroup": "World/Traditional",
         "marker": {
          "color": "#ab63fa",
          "pattern": {
           "shape": ""
          }
         },
         "name": "World/Traditional",
         "offsetgroup": "World/Traditional",
         "orientation": "h",
         "showlegend": true,
         "textposition": "auto",
         "type": "bar",
         "x": [
          60.04993757802746
         ],
         "xaxis": "x",
         "y": [
          "World/Traditional"
         ],
         "yaxis": "y"
        },
        {
         "alignmentgroup": "True",
         "hovertemplate": "genre=%{y}<br>popularity=%{x}<extra></extra>",
         "legendgroup": "blues",
         "marker": {
          "color": "#FFA15A",
          "pattern": {
           "shape": ""
          }
         },
         "name": "blues",
         "offsetgroup": "blues",
         "orientation": "h",
         "showlegend": true,
         "textposition": "auto",
         "type": "bar",
         "x": [
          43.44569288389513
         ],
         "xaxis": "x",
         "y": [
          "blues"
         ],
         "yaxis": "y"
        }
       ],
       "layout": {
        "barmode": "relative",
        "font": {
         "size": 18
        },
        "height": 750,
        "legend": {
         "title": {
          "text": "genre"
         },
         "tracegroupgap": 0
        },
        "template": {
         "data": {
          "bar": [
           {
            "error_x": {
             "color": "#2a3f5f"
            },
            "error_y": {
             "color": "#2a3f5f"
            },
            "marker": {
             "line": {
              "color": "#E5ECF6",
              "width": 0.5
             },
             "pattern": {
              "fillmode": "overlay",
              "size": 10,
              "solidity": 0.2
             }
            },
            "type": "bar"
           }
          ],
          "barpolar": [
           {
            "marker": {
             "line": {
              "color": "#E5ECF6",
              "width": 0.5
             },
             "pattern": {
              "fillmode": "overlay",
              "size": 10,
              "solidity": 0.2
             }
            },
            "type": "barpolar"
           }
          ],
          "carpet": [
           {
            "aaxis": {
             "endlinecolor": "#2a3f5f",
             "gridcolor": "white",
             "linecolor": "white",
             "minorgridcolor": "white",
             "startlinecolor": "#2a3f5f"
            },
            "baxis": {
             "endlinecolor": "#2a3f5f",
             "gridcolor": "white",
             "linecolor": "white",
             "minorgridcolor": "white",
             "startlinecolor": "#2a3f5f"
            },
            "type": "carpet"
           }
          ],
          "choropleth": [
           {
            "colorbar": {
             "outlinewidth": 0,
             "ticks": ""
            },
            "type": "choropleth"
           }
          ],
          "contour": [
           {
            "colorbar": {
             "outlinewidth": 0,
             "ticks": ""
            },
            "colorscale": [
             [
              0,
              "#0d0887"
             ],
             [
              0.1111111111111111,
              "#46039f"
             ],
             [
              0.2222222222222222,
              "#7201a8"
             ],
             [
              0.3333333333333333,
              "#9c179e"
             ],
             [
              0.4444444444444444,
              "#bd3786"
             ],
             [
              0.5555555555555556,
              "#d8576b"
             ],
             [
              0.6666666666666666,
              "#ed7953"
             ],
             [
              0.7777777777777778,
              "#fb9f3a"
             ],
             [
              0.8888888888888888,
              "#fdca26"
             ],
             [
              1,
              "#f0f921"
             ]
            ],
            "type": "contour"
           }
          ],
          "contourcarpet": [
           {
            "colorbar": {
             "outlinewidth": 0,
             "ticks": ""
            },
            "type": "contourcarpet"
           }
          ],
          "heatmap": [
           {
            "colorbar": {
             "outlinewidth": 0,
             "ticks": ""
            },
            "colorscale": [
             [
              0,
              "#0d0887"
             ],
             [
              0.1111111111111111,
              "#46039f"
             ],
             [
              0.2222222222222222,
              "#7201a8"
             ],
             [
              0.3333333333333333,
              "#9c179e"
             ],
             [
              0.4444444444444444,
              "#bd3786"
             ],
             [
              0.5555555555555556,
              "#d8576b"
             ],
             [
              0.6666666666666666,
              "#ed7953"
             ],
             [
              0.7777777777777778,
              "#fb9f3a"
             ],
             [
              0.8888888888888888,
              "#fdca26"
             ],
             [
              1,
              "#f0f921"
             ]
            ],
            "type": "heatmap"
           }
          ],
          "heatmapgl": [
           {
            "colorbar": {
             "outlinewidth": 0,
             "ticks": ""
            },
            "colorscale": [
             [
              0,
              "#0d0887"
             ],
             [
              0.1111111111111111,
              "#46039f"
             ],
             [
              0.2222222222222222,
              "#7201a8"
             ],
             [
              0.3333333333333333,
              "#9c179e"
             ],
             [
              0.4444444444444444,
              "#bd3786"
             ],
             [
              0.5555555555555556,
              "#d8576b"
             ],
             [
              0.6666666666666666,
              "#ed7953"
             ],
             [
              0.7777777777777778,
              "#fb9f3a"
             ],
             [
              0.8888888888888888,
              "#fdca26"
             ],
             [
              1,
              "#f0f921"
             ]
            ],
            "type": "heatmapgl"
           }
          ],
          "histogram": [
           {
            "marker": {
             "pattern": {
              "fillmode": "overlay",
              "size": 10,
              "solidity": 0.2
             }
            },
            "type": "histogram"
           }
          ],
          "histogram2d": [
           {
            "colorbar": {
             "outlinewidth": 0,
             "ticks": ""
            },
            "colorscale": [
             [
              0,
              "#0d0887"
             ],
             [
              0.1111111111111111,
              "#46039f"
             ],
             [
              0.2222222222222222,
              "#7201a8"
             ],
             [
              0.3333333333333333,
              "#9c179e"
             ],
             [
              0.4444444444444444,
              "#bd3786"
             ],
             [
              0.5555555555555556,
              "#d8576b"
             ],
             [
              0.6666666666666666,
              "#ed7953"
             ],
             [
              0.7777777777777778,
              "#fb9f3a"
             ],
             [
              0.8888888888888888,
              "#fdca26"
             ],
             [
              1,
              "#f0f921"
             ]
            ],
            "type": "histogram2d"
           }
          ],
          "histogram2dcontour": [
           {
            "colorbar": {
             "outlinewidth": 0,
             "ticks": ""
            },
            "colorscale": [
             [
              0,
              "#0d0887"
             ],
             [
              0.1111111111111111,
              "#46039f"
             ],
             [
              0.2222222222222222,
              "#7201a8"
             ],
             [
              0.3333333333333333,
              "#9c179e"
             ],
             [
              0.4444444444444444,
              "#bd3786"
             ],
             [
              0.5555555555555556,
              "#d8576b"
             ],
             [
              0.6666666666666666,
              "#ed7953"
             ],
             [
              0.7777777777777778,
              "#fb9f3a"
             ],
             [
              0.8888888888888888,
              "#fdca26"
             ],
             [
              1,
              "#f0f921"
             ]
            ],
            "type": "histogram2dcontour"
           }
          ],
          "mesh3d": [
           {
            "colorbar": {
             "outlinewidth": 0,
             "ticks": ""
            },
            "type": "mesh3d"
           }
          ],
          "parcoords": [
           {
            "line": {
             "colorbar": {
              "outlinewidth": 0,
              "ticks": ""
             }
            },
            "type": "parcoords"
           }
          ],
          "pie": [
           {
            "automargin": true,
            "type": "pie"
           }
          ],
          "scatter": [
           {
            "marker": {
             "colorbar": {
              "outlinewidth": 0,
              "ticks": ""
             }
            },
            "type": "scatter"
           }
          ],
          "scatter3d": [
           {
            "line": {
             "colorbar": {
              "outlinewidth": 0,
              "ticks": ""
             }
            },
            "marker": {
             "colorbar": {
              "outlinewidth": 0,
              "ticks": ""
             }
            },
            "type": "scatter3d"
           }
          ],
          "scattercarpet": [
           {
            "marker": {
             "colorbar": {
              "outlinewidth": 0,
              "ticks": ""
             }
            },
            "type": "scattercarpet"
           }
          ],
          "scattergeo": [
           {
            "marker": {
             "colorbar": {
              "outlinewidth": 0,
              "ticks": ""
             }
            },
            "type": "scattergeo"
           }
          ],
          "scattergl": [
           {
            "marker": {
             "colorbar": {
              "outlinewidth": 0,
              "ticks": ""
             }
            },
            "type": "scattergl"
           }
          ],
          "scattermapbox": [
           {
            "marker": {
             "colorbar": {
              "outlinewidth": 0,
              "ticks": ""
             }
            },
            "type": "scattermapbox"
           }
          ],
          "scatterpolar": [
           {
            "marker": {
             "colorbar": {
              "outlinewidth": 0,
              "ticks": ""
             }
            },
            "type": "scatterpolar"
           }
          ],
          "scatterpolargl": [
           {
            "marker": {
             "colorbar": {
              "outlinewidth": 0,
              "ticks": ""
             }
            },
            "type": "scatterpolargl"
           }
          ],
          "scatterternary": [
           {
            "marker": {
             "colorbar": {
              "outlinewidth": 0,
              "ticks": ""
             }
            },
            "type": "scatterternary"
           }
          ],
          "surface": [
           {
            "colorbar": {
             "outlinewidth": 0,
             "ticks": ""
            },
            "colorscale": [
             [
              0,
              "#0d0887"
             ],
             [
              0.1111111111111111,
              "#46039f"
             ],
             [
              0.2222222222222222,
              "#7201a8"
             ],
             [
              0.3333333333333333,
              "#9c179e"
             ],
             [
              0.4444444444444444,
              "#bd3786"
             ],
             [
              0.5555555555555556,
              "#d8576b"
             ],
             [
              0.6666666666666666,
              "#ed7953"
             ],
             [
              0.7777777777777778,
              "#fb9f3a"
             ],
             [
              0.8888888888888888,
              "#fdca26"
             ],
             [
              1,
              "#f0f921"
             ]
            ],
            "type": "surface"
           }
          ],
          "table": [
           {
            "cells": {
             "fill": {
              "color": "#EBF0F8"
             },
             "line": {
              "color": "white"
             }
            },
            "header": {
             "fill": {
              "color": "#C8D4E3"
             },
             "line": {
              "color": "white"
             }
            },
            "type": "table"
           }
          ]
         },
         "layout": {
          "annotationdefaults": {
           "arrowcolor": "#2a3f5f",
           "arrowhead": 0,
           "arrowwidth": 1
          },
          "autotypenumbers": "strict",
          "coloraxis": {
           "colorbar": {
            "outlinewidth": 0,
            "ticks": ""
           }
          },
          "colorscale": {
           "diverging": [
            [
             0,
             "#8e0152"
            ],
            [
             0.1,
             "#c51b7d"
            ],
            [
             0.2,
             "#de77ae"
            ],
            [
             0.3,
             "#f1b6da"
            ],
            [
             0.4,
             "#fde0ef"
            ],
            [
             0.5,
             "#f7f7f7"
            ],
            [
             0.6,
             "#e6f5d0"
            ],
            [
             0.7,
             "#b8e186"
            ],
            [
             0.8,
             "#7fbc41"
            ],
            [
             0.9,
             "#4d9221"
            ],
            [
             1,
             "#276419"
            ]
           ],
           "sequential": [
            [
             0,
             "#0d0887"
            ],
            [
             0.1111111111111111,
             "#46039f"
            ],
            [
             0.2222222222222222,
             "#7201a8"
            ],
            [
             0.3333333333333333,
             "#9c179e"
            ],
            [
             0.4444444444444444,
             "#bd3786"
            ],
            [
             0.5555555555555556,
             "#d8576b"
            ],
            [
             0.6666666666666666,
             "#ed7953"
            ],
            [
             0.7777777777777778,
             "#fb9f3a"
            ],
            [
             0.8888888888888888,
             "#fdca26"
            ],
            [
             1,
             "#f0f921"
            ]
           ],
           "sequentialminus": [
            [
             0,
             "#0d0887"
            ],
            [
             0.1111111111111111,
             "#46039f"
            ],
            [
             0.2222222222222222,
             "#7201a8"
            ],
            [
             0.3333333333333333,
             "#9c179e"
            ],
            [
             0.4444444444444444,
             "#bd3786"
            ],
            [
             0.5555555555555556,
             "#d8576b"
            ],
            [
             0.6666666666666666,
             "#ed7953"
            ],
            [
             0.7777777777777778,
             "#fb9f3a"
            ],
            [
             0.8888888888888888,
             "#fdca26"
            ],
            [
             1,
             "#f0f921"
            ]
           ]
          },
          "colorway": [
           "#636efa",
           "#EF553B",
           "#00cc96",
           "#ab63fa",
           "#FFA15A",
           "#19d3f3",
           "#FF6692",
           "#B6E880",
           "#FF97FF",
           "#FECB52"
          ],
          "font": {
           "color": "#2a3f5f"
          },
          "geo": {
           "bgcolor": "white",
           "lakecolor": "white",
           "landcolor": "#E5ECF6",
           "showlakes": true,
           "showland": true,
           "subunitcolor": "white"
          },
          "hoverlabel": {
           "align": "left"
          },
          "hovermode": "closest",
          "mapbox": {
           "style": "light"
          },
          "paper_bgcolor": "white",
          "plot_bgcolor": "#E5ECF6",
          "polar": {
           "angularaxis": {
            "gridcolor": "white",
            "linecolor": "white",
            "ticks": ""
           },
           "bgcolor": "#E5ECF6",
           "radialaxis": {
            "gridcolor": "white",
            "linecolor": "white",
            "ticks": ""
           }
          },
          "scene": {
           "xaxis": {
            "backgroundcolor": "#E5ECF6",
            "gridcolor": "white",
            "gridwidth": 2,
            "linecolor": "white",
            "showbackground": true,
            "ticks": "",
            "zerolinecolor": "white"
           },
           "yaxis": {
            "backgroundcolor": "#E5ECF6",
            "gridcolor": "white",
            "gridwidth": 2,
            "linecolor": "white",
            "showbackground": true,
            "ticks": "",
            "zerolinecolor": "white"
           },
           "zaxis": {
            "backgroundcolor": "#E5ECF6",
            "gridcolor": "white",
            "gridwidth": 2,
            "linecolor": "white",
            "showbackground": true,
            "ticks": "",
            "zerolinecolor": "white"
           }
          },
          "shapedefaults": {
           "line": {
            "color": "#2a3f5f"
           }
          },
          "ternary": {
           "aaxis": {
            "gridcolor": "white",
            "linecolor": "white",
            "ticks": ""
           },
           "baxis": {
            "gridcolor": "white",
            "linecolor": "white",
            "ticks": ""
           },
           "bgcolor": "#E5ECF6",
           "caxis": {
            "gridcolor": "white",
            "linecolor": "white",
            "ticks": ""
           }
          },
          "title": {
           "x": 0.05
          },
          "xaxis": {
           "automargin": true,
           "gridcolor": "white",
           "linecolor": "white",
           "ticks": "",
           "title": {
            "standoff": 15
           },
           "zerolinecolor": "white",
           "zerolinewidth": 2
          },
          "yaxis": {
           "automargin": true,
           "gridcolor": "white",
           "linecolor": "white",
           "ticks": "",
           "title": {
            "standoff": 15
           },
           "zerolinecolor": "white",
           "zerolinewidth": 2
          }
         }
        },
        "title": {
         "text": "Average popularity of genres"
        },
        "width": 1000,
        "xaxis": {
         "anchor": "y",
         "domain": [
          0,
          1
         ],
         "title": {
          "text": "popularity"
         }
        },
        "yaxis": {
         "anchor": "x",
         "categoryarray": [
          "blues",
          "World/Traditional",
          "Dance/Electronic",
          "country",
          "N/A",
          "jazz",
          "R&B",
          "latin",
          "pop",
          "Folk/Acoustic",
          "easy listening",
          "hip hop",
          "rock",
          "classical",
          "metal"
         ],
         "categoryorder": "array",
         "domain": [
          0,
          1
         ],
         "title": {
          "text": "genre"
         }
        }
       }
      }
     },
     "metadata": {},
     "output_type": "display_data"
    }
   ],
   "source": [
    "fig = px.bar(genres.sort_values(\"popularity\", ascending=False), x=\"popularity\", y=\"genre\",color=\"genre\",\n",
    "             width=1000, height=750, title=\"Average popularity of genres\")\n",
    "fig.update_layout(font_size=18)\n",
    "fig.show()\n"
   ]
  },
  {
   "cell_type": "markdown",
   "metadata": {},
   "source": [
    "Contrary to the amount of songs of those genres, the popularity shows completely different results. A possible explanation could be the one that, since there are fewer songs of genres such as Metal, Classical or Rock, and since they made it in to the charts of Spotify, that would mean that they had to be averagely more popular than maybe a Pop song, which has average popularity lower, but is much more likely to become a so called Hit."
   ]
  },
  {
   "cell_type": "markdown",
   "metadata": {},
   "source": [
    "## Technical values by genre\n",
    "Every genre has it's own parameters of speechiness, danceability ecc. From this graph we can see, for every genre, what are the mean values of those parameters."
   ]
  },
  {
   "cell_type": "code",
   "execution_count": 72,
   "metadata": {},
   "outputs": [
    {
     "data": {
      "application/vnd.plotly.v1+json": {
       "config": {
        "plotlyServerURL": "https://plot.ly"
       },
       "data": [
        {
         "alignmentgroup": "True",
         "hovertemplate": "parameter=%{y}<br>value=%{x}<extra></extra>",
         "legendgroup": "danceability",
         "marker": {
          "color": "#636efa",
          "pattern": {
           "shape": ""
          }
         },
         "name": "danceability",
         "offsetgroup": "danceability",
         "orientation": "h",
         "showlegend": true,
         "textposition": "auto",
         "type": "bar",
         "x": [
          0.6838401908169348
         ],
         "xaxis": "x",
         "y": [
          "danceability"
         ],
         "yaxis": "y"
        },
        {
         "alignmentgroup": "True",
         "hovertemplate": "parameter=%{y}<br>value=%{x}<extra></extra>",
         "legendgroup": "energy",
         "marker": {
          "color": "#EF553B",
          "pattern": {
           "shape": ""
          }
         },
         "name": "energy",
         "offsetgroup": "energy",
         "orientation": "h",
         "showlegend": true,
         "textposition": "auto",
         "type": "bar",
         "x": [
          0.7666873385012923
         ],
         "xaxis": "x",
         "y": [
          "energy"
         ],
         "yaxis": "y"
        },
        {
         "alignmentgroup": "True",
         "hovertemplate": "parameter=%{y}<br>value=%{x}<extra></extra>",
         "legendgroup": "speechiness",
         "marker": {
          "color": "#00cc96",
          "pattern": {
           "shape": ""
          }
         },
         "name": "speechiness",
         "offsetgroup": "speechiness",
         "orientation": "h",
         "showlegend": true,
         "textposition": "auto",
         "type": "bar",
         "x": [
          0.07991860465116277
         ],
         "xaxis": "x",
         "y": [
          "speechiness"
         ],
         "yaxis": "y"
        },
        {
         "alignmentgroup": "True",
         "hovertemplate": "parameter=%{y}<br>value=%{x}<extra></extra>",
         "legendgroup": "acousticness",
         "marker": {
          "color": "#ab63fa",
          "pattern": {
           "shape": ""
          }
         },
         "name": "acousticness",
         "offsetgroup": "acousticness",
         "orientation": "h",
         "showlegend": true,
         "textposition": "auto",
         "type": "bar",
         "x": [
          0.11288435739399334
         ],
         "xaxis": "x",
         "y": [
          "acousticness"
         ],
         "yaxis": "y"
        },
        {
         "alignmentgroup": "True",
         "hovertemplate": "parameter=%{y}<br>value=%{x}<extra></extra>",
         "legendgroup": "instrumentalness",
         "marker": {
          "color": "#FFA15A",
          "pattern": {
           "shape": ""
          }
         },
         "name": "instrumentalness",
         "offsetgroup": "instrumentalness",
         "orientation": "h",
         "showlegend": true,
         "textposition": "auto",
         "type": "bar",
         "x": [
          0.038239249544196545
         ],
         "xaxis": "x",
         "y": [
          "instrumentalness"
         ],
         "yaxis": "y"
        },
        {
         "alignmentgroup": "True",
         "hovertemplate": "parameter=%{y}<br>value=%{x}<extra></extra>",
         "legendgroup": "liveness",
         "marker": {
          "color": "#19d3f3",
          "pattern": {
           "shape": ""
          }
         },
         "name": "liveness",
         "offsetgroup": "liveness",
         "orientation": "h",
         "showlegend": true,
         "textposition": "auto",
         "type": "bar",
         "x": [
          0.1828503875968991
         ],
         "xaxis": "x",
         "y": [
          "liveness"
         ],
         "yaxis": "y"
        },
        {
         "alignmentgroup": "True",
         "hovertemplate": "parameter=%{y}<br>value=%{x}<extra></extra>",
         "legendgroup": "valence",
         "marker": {
          "color": "#FF6692",
          "pattern": {
           "shape": ""
          }
         },
         "name": "valence",
         "offsetgroup": "valence",
         "orientation": "h",
         "showlegend": true,
         "textposition": "auto",
         "type": "bar",
         "x": [
          0.5371173126614991
         ],
         "xaxis": "x",
         "y": [
          "valence"
         ],
         "yaxis": "y"
        },
        {
         "alignmentgroup": "True",
         "hovertemplate": "parameter=%{y}<br>value=%{x}<extra></extra>",
         "legendgroup": "explicit",
         "marker": {
          "color": "#B6E880",
          "pattern": {
           "shape": ""
          }
         },
         "name": "explicit",
         "offsetgroup": "explicit",
         "orientation": "h",
         "showlegend": true,
         "textposition": "auto",
         "type": "bar",
         "x": [
          0.11886304909560723
         ],
         "xaxis": "x",
         "y": [
          "explicit"
         ],
         "yaxis": "y"
        }
       ],
       "layout": {
        "barmode": "relative",
        "font": {
         "size": 18
        },
        "height": 500,
        "legend": {
         "title": {
          "text": "parameter"
         },
         "tracegroupgap": 0
        },
        "template": {
         "data": {
          "bar": [
           {
            "error_x": {
             "color": "#2a3f5f"
            },
            "error_y": {
             "color": "#2a3f5f"
            },
            "marker": {
             "line": {
              "color": "#E5ECF6",
              "width": 0.5
             },
             "pattern": {
              "fillmode": "overlay",
              "size": 10,
              "solidity": 0.2
             }
            },
            "type": "bar"
           }
          ],
          "barpolar": [
           {
            "marker": {
             "line": {
              "color": "#E5ECF6",
              "width": 0.5
             },
             "pattern": {
              "fillmode": "overlay",
              "size": 10,
              "solidity": 0.2
             }
            },
            "type": "barpolar"
           }
          ],
          "carpet": [
           {
            "aaxis": {
             "endlinecolor": "#2a3f5f",
             "gridcolor": "white",
             "linecolor": "white",
             "minorgridcolor": "white",
             "startlinecolor": "#2a3f5f"
            },
            "baxis": {
             "endlinecolor": "#2a3f5f",
             "gridcolor": "white",
             "linecolor": "white",
             "minorgridcolor": "white",
             "startlinecolor": "#2a3f5f"
            },
            "type": "carpet"
           }
          ],
          "choropleth": [
           {
            "colorbar": {
             "outlinewidth": 0,
             "ticks": ""
            },
            "type": "choropleth"
           }
          ],
          "contour": [
           {
            "colorbar": {
             "outlinewidth": 0,
             "ticks": ""
            },
            "colorscale": [
             [
              0,
              "#0d0887"
             ],
             [
              0.1111111111111111,
              "#46039f"
             ],
             [
              0.2222222222222222,
              "#7201a8"
             ],
             [
              0.3333333333333333,
              "#9c179e"
             ],
             [
              0.4444444444444444,
              "#bd3786"
             ],
             [
              0.5555555555555556,
              "#d8576b"
             ],
             [
              0.6666666666666666,
              "#ed7953"
             ],
             [
              0.7777777777777778,
              "#fb9f3a"
             ],
             [
              0.8888888888888888,
              "#fdca26"
             ],
             [
              1,
              "#f0f921"
             ]
            ],
            "type": "contour"
           }
          ],
          "contourcarpet": [
           {
            "colorbar": {
             "outlinewidth": 0,
             "ticks": ""
            },
            "type": "contourcarpet"
           }
          ],
          "heatmap": [
           {
            "colorbar": {
             "outlinewidth": 0,
             "ticks": ""
            },
            "colorscale": [
             [
              0,
              "#0d0887"
             ],
             [
              0.1111111111111111,
              "#46039f"
             ],
             [
              0.2222222222222222,
              "#7201a8"
             ],
             [
              0.3333333333333333,
              "#9c179e"
             ],
             [
              0.4444444444444444,
              "#bd3786"
             ],
             [
              0.5555555555555556,
              "#d8576b"
             ],
             [
              0.6666666666666666,
              "#ed7953"
             ],
             [
              0.7777777777777778,
              "#fb9f3a"
             ],
             [
              0.8888888888888888,
              "#fdca26"
             ],
             [
              1,
              "#f0f921"
             ]
            ],
            "type": "heatmap"
           }
          ],
          "heatmapgl": [
           {
            "colorbar": {
             "outlinewidth": 0,
             "ticks": ""
            },
            "colorscale": [
             [
              0,
              "#0d0887"
             ],
             [
              0.1111111111111111,
              "#46039f"
             ],
             [
              0.2222222222222222,
              "#7201a8"
             ],
             [
              0.3333333333333333,
              "#9c179e"
             ],
             [
              0.4444444444444444,
              "#bd3786"
             ],
             [
              0.5555555555555556,
              "#d8576b"
             ],
             [
              0.6666666666666666,
              "#ed7953"
             ],
             [
              0.7777777777777778,
              "#fb9f3a"
             ],
             [
              0.8888888888888888,
              "#fdca26"
             ],
             [
              1,
              "#f0f921"
             ]
            ],
            "type": "heatmapgl"
           }
          ],
          "histogram": [
           {
            "marker": {
             "pattern": {
              "fillmode": "overlay",
              "size": 10,
              "solidity": 0.2
             }
            },
            "type": "histogram"
           }
          ],
          "histogram2d": [
           {
            "colorbar": {
             "outlinewidth": 0,
             "ticks": ""
            },
            "colorscale": [
             [
              0,
              "#0d0887"
             ],
             [
              0.1111111111111111,
              "#46039f"
             ],
             [
              0.2222222222222222,
              "#7201a8"
             ],
             [
              0.3333333333333333,
              "#9c179e"
             ],
             [
              0.4444444444444444,
              "#bd3786"
             ],
             [
              0.5555555555555556,
              "#d8576b"
             ],
             [
              0.6666666666666666,
              "#ed7953"
             ],
             [
              0.7777777777777778,
              "#fb9f3a"
             ],
             [
              0.8888888888888888,
              "#fdca26"
             ],
             [
              1,
              "#f0f921"
             ]
            ],
            "type": "histogram2d"
           }
          ],
          "histogram2dcontour": [
           {
            "colorbar": {
             "outlinewidth": 0,
             "ticks": ""
            },
            "colorscale": [
             [
              0,
              "#0d0887"
             ],
             [
              0.1111111111111111,
              "#46039f"
             ],
             [
              0.2222222222222222,
              "#7201a8"
             ],
             [
              0.3333333333333333,
              "#9c179e"
             ],
             [
              0.4444444444444444,
              "#bd3786"
             ],
             [
              0.5555555555555556,
              "#d8576b"
             ],
             [
              0.6666666666666666,
              "#ed7953"
             ],
             [
              0.7777777777777778,
              "#fb9f3a"
             ],
             [
              0.8888888888888888,
              "#fdca26"
             ],
             [
              1,
              "#f0f921"
             ]
            ],
            "type": "histogram2dcontour"
           }
          ],
          "mesh3d": [
           {
            "colorbar": {
             "outlinewidth": 0,
             "ticks": ""
            },
            "type": "mesh3d"
           }
          ],
          "parcoords": [
           {
            "line": {
             "colorbar": {
              "outlinewidth": 0,
              "ticks": ""
             }
            },
            "type": "parcoords"
           }
          ],
          "pie": [
           {
            "automargin": true,
            "type": "pie"
           }
          ],
          "scatter": [
           {
            "marker": {
             "colorbar": {
              "outlinewidth": 0,
              "ticks": ""
             }
            },
            "type": "scatter"
           }
          ],
          "scatter3d": [
           {
            "line": {
             "colorbar": {
              "outlinewidth": 0,
              "ticks": ""
             }
            },
            "marker": {
             "colorbar": {
              "outlinewidth": 0,
              "ticks": ""
             }
            },
            "type": "scatter3d"
           }
          ],
          "scattercarpet": [
           {
            "marker": {
             "colorbar": {
              "outlinewidth": 0,
              "ticks": ""
             }
            },
            "type": "scattercarpet"
           }
          ],
          "scattergeo": [
           {
            "marker": {
             "colorbar": {
              "outlinewidth": 0,
              "ticks": ""
             }
            },
            "type": "scattergeo"
           }
          ],
          "scattergl": [
           {
            "marker": {
             "colorbar": {
              "outlinewidth": 0,
              "ticks": ""
             }
            },
            "type": "scattergl"
           }
          ],
          "scattermapbox": [
           {
            "marker": {
             "colorbar": {
              "outlinewidth": 0,
              "ticks": ""
             }
            },
            "type": "scattermapbox"
           }
          ],
          "scatterpolar": [
           {
            "marker": {
             "colorbar": {
              "outlinewidth": 0,
              "ticks": ""
             }
            },
            "type": "scatterpolar"
           }
          ],
          "scatterpolargl": [
           {
            "marker": {
             "colorbar": {
              "outlinewidth": 0,
              "ticks": ""
             }
            },
            "type": "scatterpolargl"
           }
          ],
          "scatterternary": [
           {
            "marker": {
             "colorbar": {
              "outlinewidth": 0,
              "ticks": ""
             }
            },
            "type": "scatterternary"
           }
          ],
          "surface": [
           {
            "colorbar": {
             "outlinewidth": 0,
             "ticks": ""
            },
            "colorscale": [
             [
              0,
              "#0d0887"
             ],
             [
              0.1111111111111111,
              "#46039f"
             ],
             [
              0.2222222222222222,
              "#7201a8"
             ],
             [
              0.3333333333333333,
              "#9c179e"
             ],
             [
              0.4444444444444444,
              "#bd3786"
             ],
             [
              0.5555555555555556,
              "#d8576b"
             ],
             [
              0.6666666666666666,
              "#ed7953"
             ],
             [
              0.7777777777777778,
              "#fb9f3a"
             ],
             [
              0.8888888888888888,
              "#fdca26"
             ],
             [
              1,
              "#f0f921"
             ]
            ],
            "type": "surface"
           }
          ],
          "table": [
           {
            "cells": {
             "fill": {
              "color": "#EBF0F8"
             },
             "line": {
              "color": "white"
             }
            },
            "header": {
             "fill": {
              "color": "#C8D4E3"
             },
             "line": {
              "color": "white"
             }
            },
            "type": "table"
           }
          ]
         },
         "layout": {
          "annotationdefaults": {
           "arrowcolor": "#2a3f5f",
           "arrowhead": 0,
           "arrowwidth": 1
          },
          "autotypenumbers": "strict",
          "coloraxis": {
           "colorbar": {
            "outlinewidth": 0,
            "ticks": ""
           }
          },
          "colorscale": {
           "diverging": [
            [
             0,
             "#8e0152"
            ],
            [
             0.1,
             "#c51b7d"
            ],
            [
             0.2,
             "#de77ae"
            ],
            [
             0.3,
             "#f1b6da"
            ],
            [
             0.4,
             "#fde0ef"
            ],
            [
             0.5,
             "#f7f7f7"
            ],
            [
             0.6,
             "#e6f5d0"
            ],
            [
             0.7,
             "#b8e186"
            ],
            [
             0.8,
             "#7fbc41"
            ],
            [
             0.9,
             "#4d9221"
            ],
            [
             1,
             "#276419"
            ]
           ],
           "sequential": [
            [
             0,
             "#0d0887"
            ],
            [
             0.1111111111111111,
             "#46039f"
            ],
            [
             0.2222222222222222,
             "#7201a8"
            ],
            [
             0.3333333333333333,
             "#9c179e"
            ],
            [
             0.4444444444444444,
             "#bd3786"
            ],
            [
             0.5555555555555556,
             "#d8576b"
            ],
            [
             0.6666666666666666,
             "#ed7953"
            ],
            [
             0.7777777777777778,
             "#fb9f3a"
            ],
            [
             0.8888888888888888,
             "#fdca26"
            ],
            [
             1,
             "#f0f921"
            ]
           ],
           "sequentialminus": [
            [
             0,
             "#0d0887"
            ],
            [
             0.1111111111111111,
             "#46039f"
            ],
            [
             0.2222222222222222,
             "#7201a8"
            ],
            [
             0.3333333333333333,
             "#9c179e"
            ],
            [
             0.4444444444444444,
             "#bd3786"
            ],
            [
             0.5555555555555556,
             "#d8576b"
            ],
            [
             0.6666666666666666,
             "#ed7953"
            ],
            [
             0.7777777777777778,
             "#fb9f3a"
            ],
            [
             0.8888888888888888,
             "#fdca26"
            ],
            [
             1,
             "#f0f921"
            ]
           ]
          },
          "colorway": [
           "#636efa",
           "#EF553B",
           "#00cc96",
           "#ab63fa",
           "#FFA15A",
           "#19d3f3",
           "#FF6692",
           "#B6E880",
           "#FF97FF",
           "#FECB52"
          ],
          "font": {
           "color": "#2a3f5f"
          },
          "geo": {
           "bgcolor": "white",
           "lakecolor": "white",
           "landcolor": "#E5ECF6",
           "showlakes": true,
           "showland": true,
           "subunitcolor": "white"
          },
          "hoverlabel": {
           "align": "left"
          },
          "hovermode": "closest",
          "mapbox": {
           "style": "light"
          },
          "paper_bgcolor": "white",
          "plot_bgcolor": "#E5ECF6",
          "polar": {
           "angularaxis": {
            "gridcolor": "white",
            "linecolor": "white",
            "ticks": ""
           },
           "bgcolor": "#E5ECF6",
           "radialaxis": {
            "gridcolor": "white",
            "linecolor": "white",
            "ticks": ""
           }
          },
          "scene": {
           "xaxis": {
            "backgroundcolor": "#E5ECF6",
            "gridcolor": "white",
            "gridwidth": 2,
            "linecolor": "white",
            "showbackground": true,
            "ticks": "",
            "zerolinecolor": "white"
           },
           "yaxis": {
            "backgroundcolor": "#E5ECF6",
            "gridcolor": "white",
            "gridwidth": 2,
            "linecolor": "white",
            "showbackground": true,
            "ticks": "",
            "zerolinecolor": "white"
           },
           "zaxis": {
            "backgroundcolor": "#E5ECF6",
            "gridcolor": "white",
            "gridwidth": 2,
            "linecolor": "white",
            "showbackground": true,
            "ticks": "",
            "zerolinecolor": "white"
           }
          },
          "shapedefaults": {
           "line": {
            "color": "#2a3f5f"
           }
          },
          "ternary": {
           "aaxis": {
            "gridcolor": "white",
            "linecolor": "white",
            "ticks": ""
           },
           "baxis": {
            "gridcolor": "white",
            "linecolor": "white",
            "ticks": ""
           },
           "bgcolor": "#E5ECF6",
           "caxis": {
            "gridcolor": "white",
            "linecolor": "white",
            "ticks": ""
           }
          },
          "title": {
           "x": 0.05
          },
          "xaxis": {
           "automargin": true,
           "gridcolor": "white",
           "linecolor": "white",
           "ticks": "",
           "title": {
            "standoff": 15
           },
           "zerolinecolor": "white",
           "zerolinewidth": 2
          },
          "yaxis": {
           "automargin": true,
           "gridcolor": "white",
           "linecolor": "white",
           "ticks": "",
           "title": {
            "standoff": 15
           },
           "zerolinecolor": "white",
           "zerolinewidth": 2
          }
         }
        },
        "title": {
         "text": "Mean values per genre"
        },
        "width": 750,
        "xaxis": {
         "anchor": "y",
         "domain": [
          0,
          1
         ],
         "title": {
          "text": "Mean values per Dance/Electronic"
         }
        },
        "yaxis": {
         "anchor": "x",
         "categoryarray": [
          "explicit",
          "valence",
          "liveness",
          "instrumentalness",
          "acousticness",
          "speechiness",
          "energy",
          "danceability"
         ],
         "categoryorder": "array",
         "domain": [
          0,
          1
         ],
         "title": {
          "text": "parameter"
         }
        }
       }
      }
     },
     "metadata": {},
     "output_type": "display_data"
    },
    {
     "data": {
      "application/vnd.plotly.v1+json": {
       "config": {
        "plotlyServerURL": "https://plot.ly"
       },
       "data": [
        {
         "alignmentgroup": "True",
         "hovertemplate": "parameter=%{y}<br>value=%{x}<extra></extra>",
         "legendgroup": "danceability",
         "marker": {
          "color": "#636efa",
          "pattern": {
           "shape": ""
          }
         },
         "name": "danceability",
         "offsetgroup": "danceability",
         "orientation": "h",
         "showlegend": true,
         "textposition": "auto",
         "type": "bar",
         "x": [
          0.5693387314439946
         ],
         "xaxis": "x",
         "y": [
          "danceability"
         ],
         "yaxis": "y"
        },
        {
         "alignmentgroup": "True",
         "hovertemplate": "parameter=%{y}<br>value=%{x}<extra></extra>",
         "legendgroup": "energy",
         "marker": {
          "color": "#EF553B",
          "pattern": {
           "shape": ""
          }
         },
         "name": "energy",
         "offsetgroup": "energy",
         "orientation": "h",
         "showlegend": true,
         "textposition": "auto",
         "type": "bar",
         "x": [
          0.7207894736842105
         ],
         "xaxis": "x",
         "y": [
          "energy"
         ],
         "yaxis": "y"
        },
        {
         "alignmentgroup": "True",
         "hovertemplate": "parameter=%{y}<br>value=%{x}<extra></extra>",
         "legendgroup": "speechiness",
         "marker": {
          "color": "#00cc96",
          "pattern": {
           "shape": ""
          }
         },
         "name": "speechiness",
         "offsetgroup": "speechiness",
         "orientation": "h",
         "showlegend": true,
         "textposition": "auto",
         "type": "bar",
         "x": [
          0.04205789473684211
         ],
         "xaxis": "x",
         "y": [
          "speechiness"
         ],
         "yaxis": "y"
        },
        {
         "alignmentgroup": "True",
         "hovertemplate": "parameter=%{y}<br>value=%{x}<extra></extra>",
         "legendgroup": "acousticness",
         "marker": {
          "color": "#ab63fa",
          "pattern": {
           "shape": ""
          }
         },
         "name": "acousticness",
         "offsetgroup": "acousticness",
         "orientation": "h",
         "showlegend": true,
         "textposition": "auto",
         "type": "bar",
         "x": [
          0.20491749352890426
         ],
         "xaxis": "x",
         "y": [
          "acousticness"
         ],
         "yaxis": "y"
        },
        {
         "alignmentgroup": "True",
         "hovertemplate": "parameter=%{y}<br>value=%{x}<extra></extra>",
         "legendgroup": "instrumentalness",
         "marker": {
          "color": "#FFA15A",
          "pattern": {
           "shape": ""
          }
         },
         "name": "instrumentalness",
         "offsetgroup": "instrumentalness",
         "orientation": "h",
         "showlegend": true,
         "textposition": "auto",
         "type": "bar",
         "x": [
          0.04623877317659632
         ],
         "xaxis": "x",
         "y": [
          "instrumentalness"
         ],
         "yaxis": "y"
        },
        {
         "alignmentgroup": "True",
         "hovertemplate": "parameter=%{y}<br>value=%{x}<extra></extra>",
         "legendgroup": "liveness",
         "marker": {
          "color": "#19d3f3",
          "pattern": {
           "shape": ""
          }
         },
         "name": "liveness",
         "offsetgroup": "liveness",
         "orientation": "h",
         "showlegend": true,
         "textposition": "auto",
         "type": "bar",
         "x": [
          0.193378947368421
         ],
         "xaxis": "x",
         "y": [
          "liveness"
         ],
         "yaxis": "y"
        },
        {
         "alignmentgroup": "True",
         "hovertemplate": "parameter=%{y}<br>value=%{x}<extra></extra>",
         "legendgroup": "valence",
         "marker": {
          "color": "#FF6692",
          "pattern": {
           "shape": ""
          }
         },
         "name": "valence",
         "offsetgroup": "valence",
         "orientation": "h",
         "showlegend": true,
         "textposition": "auto",
         "type": "bar",
         "x": [
          0.5606842105263158
         ],
         "xaxis": "x",
         "y": [
          "valence"
         ],
         "yaxis": "y"
        },
        {
         "alignmentgroup": "True",
         "hovertemplate": "parameter=%{y}<br>value=%{x}<extra></extra>",
         "legendgroup": "explicit",
         "marker": {
          "color": "#B6E880",
          "pattern": {
           "shape": ""
          }
         },
         "name": "explicit",
         "offsetgroup": "explicit",
         "orientation": "h",
         "showlegend": true,
         "textposition": "auto",
         "type": "bar",
         "x": [
          0.05263157894736842
         ],
         "xaxis": "x",
         "y": [
          "explicit"
         ],
         "yaxis": "y"
        }
       ],
       "layout": {
        "barmode": "relative",
        "font": {
         "size": 18
        },
        "height": 500,
        "legend": {
         "title": {
          "text": "parameter"
         },
         "tracegroupgap": 0
        },
        "template": {
         "data": {
          "bar": [
           {
            "error_x": {
             "color": "#2a3f5f"
            },
            "error_y": {
             "color": "#2a3f5f"
            },
            "marker": {
             "line": {
              "color": "#E5ECF6",
              "width": 0.5
             },
             "pattern": {
              "fillmode": "overlay",
              "size": 10,
              "solidity": 0.2
             }
            },
            "type": "bar"
           }
          ],
          "barpolar": [
           {
            "marker": {
             "line": {
              "color": "#E5ECF6",
              "width": 0.5
             },
             "pattern": {
              "fillmode": "overlay",
              "size": 10,
              "solidity": 0.2
             }
            },
            "type": "barpolar"
           }
          ],
          "carpet": [
           {
            "aaxis": {
             "endlinecolor": "#2a3f5f",
             "gridcolor": "white",
             "linecolor": "white",
             "minorgridcolor": "white",
             "startlinecolor": "#2a3f5f"
            },
            "baxis": {
             "endlinecolor": "#2a3f5f",
             "gridcolor": "white",
             "linecolor": "white",
             "minorgridcolor": "white",
             "startlinecolor": "#2a3f5f"
            },
            "type": "carpet"
           }
          ],
          "choropleth": [
           {
            "colorbar": {
             "outlinewidth": 0,
             "ticks": ""
            },
            "type": "choropleth"
           }
          ],
          "contour": [
           {
            "colorbar": {
             "outlinewidth": 0,
             "ticks": ""
            },
            "colorscale": [
             [
              0,
              "#0d0887"
             ],
             [
              0.1111111111111111,
              "#46039f"
             ],
             [
              0.2222222222222222,
              "#7201a8"
             ],
             [
              0.3333333333333333,
              "#9c179e"
             ],
             [
              0.4444444444444444,
              "#bd3786"
             ],
             [
              0.5555555555555556,
              "#d8576b"
             ],
             [
              0.6666666666666666,
              "#ed7953"
             ],
             [
              0.7777777777777778,
              "#fb9f3a"
             ],
             [
              0.8888888888888888,
              "#fdca26"
             ],
             [
              1,
              "#f0f921"
             ]
            ],
            "type": "contour"
           }
          ],
          "contourcarpet": [
           {
            "colorbar": {
             "outlinewidth": 0,
             "ticks": ""
            },
            "type": "contourcarpet"
           }
          ],
          "heatmap": [
           {
            "colorbar": {
             "outlinewidth": 0,
             "ticks": ""
            },
            "colorscale": [
             [
              0,
              "#0d0887"
             ],
             [
              0.1111111111111111,
              "#46039f"
             ],
             [
              0.2222222222222222,
              "#7201a8"
             ],
             [
              0.3333333333333333,
              "#9c179e"
             ],
             [
              0.4444444444444444,
              "#bd3786"
             ],
             [
              0.5555555555555556,
              "#d8576b"
             ],
             [
              0.6666666666666666,
              "#ed7953"
             ],
             [
              0.7777777777777778,
              "#fb9f3a"
             ],
             [
              0.8888888888888888,
              "#fdca26"
             ],
             [
              1,
              "#f0f921"
             ]
            ],
            "type": "heatmap"
           }
          ],
          "heatmapgl": [
           {
            "colorbar": {
             "outlinewidth": 0,
             "ticks": ""
            },
            "colorscale": [
             [
              0,
              "#0d0887"
             ],
             [
              0.1111111111111111,
              "#46039f"
             ],
             [
              0.2222222222222222,
              "#7201a8"
             ],
             [
              0.3333333333333333,
              "#9c179e"
             ],
             [
              0.4444444444444444,
              "#bd3786"
             ],
             [
              0.5555555555555556,
              "#d8576b"
             ],
             [
              0.6666666666666666,
              "#ed7953"
             ],
             [
              0.7777777777777778,
              "#fb9f3a"
             ],
             [
              0.8888888888888888,
              "#fdca26"
             ],
             [
              1,
              "#f0f921"
             ]
            ],
            "type": "heatmapgl"
           }
          ],
          "histogram": [
           {
            "marker": {
             "pattern": {
              "fillmode": "overlay",
              "size": 10,
              "solidity": 0.2
             }
            },
            "type": "histogram"
           }
          ],
          "histogram2d": [
           {
            "colorbar": {
             "outlinewidth": 0,
             "ticks": ""
            },
            "colorscale": [
             [
              0,
              "#0d0887"
             ],
             [
              0.1111111111111111,
              "#46039f"
             ],
             [
              0.2222222222222222,
              "#7201a8"
             ],
             [
              0.3333333333333333,
              "#9c179e"
             ],
             [
              0.4444444444444444,
              "#bd3786"
             ],
             [
              0.5555555555555556,
              "#d8576b"
             ],
             [
              0.6666666666666666,
              "#ed7953"
             ],
             [
              0.7777777777777778,
              "#fb9f3a"
             ],
             [
              0.8888888888888888,
              "#fdca26"
             ],
             [
              1,
              "#f0f921"
             ]
            ],
            "type": "histogram2d"
           }
          ],
          "histogram2dcontour": [
           {
            "colorbar": {
             "outlinewidth": 0,
             "ticks": ""
            },
            "colorscale": [
             [
              0,
              "#0d0887"
             ],
             [
              0.1111111111111111,
              "#46039f"
             ],
             [
              0.2222222222222222,
              "#7201a8"
             ],
             [
              0.3333333333333333,
              "#9c179e"
             ],
             [
              0.4444444444444444,
              "#bd3786"
             ],
             [
              0.5555555555555556,
              "#d8576b"
             ],
             [
              0.6666666666666666,
              "#ed7953"
             ],
             [
              0.7777777777777778,
              "#fb9f3a"
             ],
             [
              0.8888888888888888,
              "#fdca26"
             ],
             [
              1,
              "#f0f921"
             ]
            ],
            "type": "histogram2dcontour"
           }
          ],
          "mesh3d": [
           {
            "colorbar": {
             "outlinewidth": 0,
             "ticks": ""
            },
            "type": "mesh3d"
           }
          ],
          "parcoords": [
           {
            "line": {
             "colorbar": {
              "outlinewidth": 0,
              "ticks": ""
             }
            },
            "type": "parcoords"
           }
          ],
          "pie": [
           {
            "automargin": true,
            "type": "pie"
           }
          ],
          "scatter": [
           {
            "marker": {
             "colorbar": {
              "outlinewidth": 0,
              "ticks": ""
             }
            },
            "type": "scatter"
           }
          ],
          "scatter3d": [
           {
            "line": {
             "colorbar": {
              "outlinewidth": 0,
              "ticks": ""
             }
            },
            "marker": {
             "colorbar": {
              "outlinewidth": 0,
              "ticks": ""
             }
            },
            "type": "scatter3d"
           }
          ],
          "scattercarpet": [
           {
            "marker": {
             "colorbar": {
              "outlinewidth": 0,
              "ticks": ""
             }
            },
            "type": "scattercarpet"
           }
          ],
          "scattergeo": [
           {
            "marker": {
             "colorbar": {
              "outlinewidth": 0,
              "ticks": ""
             }
            },
            "type": "scattergeo"
           }
          ],
          "scattergl": [
           {
            "marker": {
             "colorbar": {
              "outlinewidth": 0,
              "ticks": ""
             }
            },
            "type": "scattergl"
           }
          ],
          "scattermapbox": [
           {
            "marker": {
             "colorbar": {
              "outlinewidth": 0,
              "ticks": ""
             }
            },
            "type": "scattermapbox"
           }
          ],
          "scatterpolar": [
           {
            "marker": {
             "colorbar": {
              "outlinewidth": 0,
              "ticks": ""
             }
            },
            "type": "scatterpolar"
           }
          ],
          "scatterpolargl": [
           {
            "marker": {
             "colorbar": {
              "outlinewidth": 0,
              "ticks": ""
             }
            },
            "type": "scatterpolargl"
           }
          ],
          "scatterternary": [
           {
            "marker": {
             "colorbar": {
              "outlinewidth": 0,
              "ticks": ""
             }
            },
            "type": "scatterternary"
           }
          ],
          "surface": [
           {
            "colorbar": {
             "outlinewidth": 0,
             "ticks": ""
            },
            "colorscale": [
             [
              0,
              "#0d0887"
             ],
             [
              0.1111111111111111,
              "#46039f"
             ],
             [
              0.2222222222222222,
              "#7201a8"
             ],
             [
              0.3333333333333333,
              "#9c179e"
             ],
             [
              0.4444444444444444,
              "#bd3786"
             ],
             [
              0.5555555555555556,
              "#d8576b"
             ],
             [
              0.6666666666666666,
              "#ed7953"
             ],
             [
              0.7777777777777778,
              "#fb9f3a"
             ],
             [
              0.8888888888888888,
              "#fdca26"
             ],
             [
              1,
              "#f0f921"
             ]
            ],
            "type": "surface"
           }
          ],
          "table": [
           {
            "cells": {
             "fill": {
              "color": "#EBF0F8"
             },
             "line": {
              "color": "white"
             }
            },
            "header": {
             "fill": {
              "color": "#C8D4E3"
             },
             "line": {
              "color": "white"
             }
            },
            "type": "table"
           }
          ]
         },
         "layout": {
          "annotationdefaults": {
           "arrowcolor": "#2a3f5f",
           "arrowhead": 0,
           "arrowwidth": 1
          },
          "autotypenumbers": "strict",
          "coloraxis": {
           "colorbar": {
            "outlinewidth": 0,
            "ticks": ""
           }
          },
          "colorscale": {
           "diverging": [
            [
             0,
             "#8e0152"
            ],
            [
             0.1,
             "#c51b7d"
            ],
            [
             0.2,
             "#de77ae"
            ],
            [
             0.3,
             "#f1b6da"
            ],
            [
             0.4,
             "#fde0ef"
            ],
            [
             0.5,
             "#f7f7f7"
            ],
            [
             0.6,
             "#e6f5d0"
            ],
            [
             0.7,
             "#b8e186"
            ],
            [
             0.8,
             "#7fbc41"
            ],
            [
             0.9,
             "#4d9221"
            ],
            [
             1,
             "#276419"
            ]
           ],
           "sequential": [
            [
             0,
             "#0d0887"
            ],
            [
             0.1111111111111111,
             "#46039f"
            ],
            [
             0.2222222222222222,
             "#7201a8"
            ],
            [
             0.3333333333333333,
             "#9c179e"
            ],
            [
             0.4444444444444444,
             "#bd3786"
            ],
            [
             0.5555555555555556,
             "#d8576b"
            ],
            [
             0.6666666666666666,
             "#ed7953"
            ],
            [
             0.7777777777777778,
             "#fb9f3a"
            ],
            [
             0.8888888888888888,
             "#fdca26"
            ],
            [
             1,
             "#f0f921"
            ]
           ],
           "sequentialminus": [
            [
             0,
             "#0d0887"
            ],
            [
             0.1111111111111111,
             "#46039f"
            ],
            [
             0.2222222222222222,
             "#7201a8"
            ],
            [
             0.3333333333333333,
             "#9c179e"
            ],
            [
             0.4444444444444444,
             "#bd3786"
            ],
            [
             0.5555555555555556,
             "#d8576b"
            ],
            [
             0.6666666666666666,
             "#ed7953"
            ],
            [
             0.7777777777777778,
             "#fb9f3a"
            ],
            [
             0.8888888888888888,
             "#fdca26"
            ],
            [
             1,
             "#f0f921"
            ]
           ]
          },
          "colorway": [
           "#636efa",
           "#EF553B",
           "#00cc96",
           "#ab63fa",
           "#FFA15A",
           "#19d3f3",
           "#FF6692",
           "#B6E880",
           "#FF97FF",
           "#FECB52"
          ],
          "font": {
           "color": "#2a3f5f"
          },
          "geo": {
           "bgcolor": "white",
           "lakecolor": "white",
           "landcolor": "#E5ECF6",
           "showlakes": true,
           "showland": true,
           "subunitcolor": "white"
          },
          "hoverlabel": {
           "align": "left"
          },
          "hovermode": "closest",
          "mapbox": {
           "style": "light"
          },
          "paper_bgcolor": "white",
          "plot_bgcolor": "#E5ECF6",
          "polar": {
           "angularaxis": {
            "gridcolor": "white",
            "linecolor": "white",
            "ticks": ""
           },
           "bgcolor": "#E5ECF6",
           "radialaxis": {
            "gridcolor": "white",
            "linecolor": "white",
            "ticks": ""
           }
          },
          "scene": {
           "xaxis": {
            "backgroundcolor": "#E5ECF6",
            "gridcolor": "white",
            "gridwidth": 2,
            "linecolor": "white",
            "showbackground": true,
            "ticks": "",
            "zerolinecolor": "white"
           },
           "yaxis": {
            "backgroundcolor": "#E5ECF6",
            "gridcolor": "white",
            "gridwidth": 2,
            "linecolor": "white",
            "showbackground": true,
            "ticks": "",
            "zerolinecolor": "white"
           },
           "zaxis": {
            "backgroundcolor": "#E5ECF6",
            "gridcolor": "white",
            "gridwidth": 2,
            "linecolor": "white",
            "showbackground": true,
            "ticks": "",
            "zerolinecolor": "white"
           }
          },
          "shapedefaults": {
           "line": {
            "color": "#2a3f5f"
           }
          },
          "ternary": {
           "aaxis": {
            "gridcolor": "white",
            "linecolor": "white",
            "ticks": ""
           },
           "baxis": {
            "gridcolor": "white",
            "linecolor": "white",
            "ticks": ""
           },
           "bgcolor": "#E5ECF6",
           "caxis": {
            "gridcolor": "white",
            "linecolor": "white",
            "ticks": ""
           }
          },
          "title": {
           "x": 0.05
          },
          "xaxis": {
           "automargin": true,
           "gridcolor": "white",
           "linecolor": "white",
           "ticks": "",
           "title": {
            "standoff": 15
           },
           "zerolinecolor": "white",
           "zerolinewidth": 2
          },
          "yaxis": {
           "automargin": true,
           "gridcolor": "white",
           "linecolor": "white",
           "ticks": "",
           "title": {
            "standoff": 15
           },
           "zerolinecolor": "white",
           "zerolinewidth": 2
          }
         }
        },
        "title": {
         "text": "Mean values per genre"
        },
        "width": 750,
        "xaxis": {
         "anchor": "y",
         "domain": [
          0,
          1
         ],
         "title": {
          "text": "Mean values per Folk/Acoustic"
         }
        },
        "yaxis": {
         "anchor": "x",
         "categoryarray": [
          "explicit",
          "valence",
          "liveness",
          "instrumentalness",
          "acousticness",
          "speechiness",
          "energy",
          "danceability"
         ],
         "categoryorder": "array",
         "domain": [
          0,
          1
         ],
         "title": {
          "text": "parameter"
         }
        }
       }
      }
     },
     "metadata": {},
     "output_type": "display_data"
    },
    {
     "data": {
      "application/vnd.plotly.v1+json": {
       "config": {
        "plotlyServerURL": "https://plot.ly"
       },
       "data": [
        {
         "alignmentgroup": "True",
         "hovertemplate": "parameter=%{y}<br>value=%{x}<extra></extra>",
         "legendgroup": "danceability",
         "marker": {
          "color": "#636efa",
          "pattern": {
           "shape": ""
          }
         },
         "name": "danceability",
         "offsetgroup": "danceability",
         "orientation": "h",
         "showlegend": true,
         "textposition": "auto",
         "type": "bar",
         "x": [
          0.70677779707125
         ],
         "xaxis": "x",
         "y": [
          "danceability"
         ],
         "yaxis": "y"
        },
        {
         "alignmentgroup": "True",
         "hovertemplate": "parameter=%{y}<br>value=%{x}<extra></extra>",
         "legendgroup": "energy",
         "marker": {
          "color": "#EF553B",
          "pattern": {
           "shape": ""
          }
         },
         "name": "energy",
         "offsetgroup": "energy",
         "orientation": "h",
         "showlegend": true,
         "textposition": "auto",
         "type": "bar",
         "x": [
          0.6632325056433406
         ],
         "xaxis": "x",
         "y": [
          "energy"
         ],
         "yaxis": "y"
        },
        {
         "alignmentgroup": "True",
         "hovertemplate": "parameter=%{y}<br>value=%{x}<extra></extra>",
         "legendgroup": "speechiness",
         "marker": {
          "color": "#00cc96",
          "pattern": {
           "shape": ""
          }
         },
         "name": "speechiness",
         "offsetgroup": "speechiness",
         "orientation": "h",
         "showlegend": true,
         "textposition": "auto",
         "type": "bar",
         "x": [
          0.11488577878103844
         ],
         "xaxis": "x",
         "y": [
          "speechiness"
         ],
         "yaxis": "y"
        },
        {
         "alignmentgroup": "True",
         "hovertemplate": "parameter=%{y}<br>value=%{x}<extra></extra>",
         "legendgroup": "acousticness",
         "marker": {
          "color": "#ab63fa",
          "pattern": {
           "shape": ""
          }
         },
         "name": "acousticness",
         "offsetgroup": "acousticness",
         "orientation": "h",
         "showlegend": true,
         "textposition": "auto",
         "type": "bar",
         "x": [
          0.1542480044776672
         ],
         "xaxis": "x",
         "y": [
          "acousticness"
         ],
         "yaxis": "y"
        },
        {
         "alignmentgroup": "True",
         "hovertemplate": "parameter=%{y}<br>value=%{x}<extra></extra>",
         "legendgroup": "instrumentalness",
         "marker": {
          "color": "#FFA15A",
          "pattern": {
           "shape": ""
          }
         },
         "name": "instrumentalness",
         "offsetgroup": "instrumentalness",
         "orientation": "h",
         "showlegend": true,
         "textposition": "auto",
         "type": "bar",
         "x": [
          0.006679440570177948
         ],
         "xaxis": "x",
         "y": [
          "instrumentalness"
         ],
         "yaxis": "y"
        },
        {
         "alignmentgroup": "True",
         "hovertemplate": "parameter=%{y}<br>value=%{x}<extra></extra>",
         "legendgroup": "liveness",
         "marker": {
          "color": "#19d3f3",
          "pattern": {
           "shape": ""
          }
         },
         "name": "liveness",
         "offsetgroup": "liveness",
         "orientation": "h",
         "showlegend": true,
         "textposition": "auto",
         "type": "bar",
         "x": [
          0.16268668171557554
         ],
         "xaxis": "x",
         "y": [
          "liveness"
         ],
         "yaxis": "y"
        },
        {
         "alignmentgroup": "True",
         "hovertemplate": "parameter=%{y}<br>value=%{x}<extra></extra>",
         "legendgroup": "valence",
         "marker": {
          "color": "#FF6692",
          "pattern": {
           "shape": ""
          }
         },
         "name": "valence",
         "offsetgroup": "valence",
         "orientation": "h",
         "showlegend": true,
         "textposition": "auto",
         "type": "bar",
         "x": [
          0.5627081264108351
         ],
         "xaxis": "x",
         "y": [
          "valence"
         ],
         "yaxis": "y"
        },
        {
         "alignmentgroup": "True",
         "hovertemplate": "parameter=%{y}<br>value=%{x}<extra></extra>",
         "legendgroup": "explicit",
         "marker": {
          "color": "#B6E880",
          "pattern": {
           "shape": ""
          }
         },
         "name": "explicit",
         "offsetgroup": "explicit",
         "orientation": "h",
         "showlegend": true,
         "textposition": "auto",
         "type": "bar",
         "x": [
          0.27539503386004516
         ],
         "xaxis": "x",
         "y": [
          "explicit"
         ],
         "yaxis": "y"
        }
       ],
       "layout": {
        "barmode": "relative",
        "font": {
         "size": 18
        },
        "height": 500,
        "legend": {
         "title": {
          "text": "parameter"
         },
         "tracegroupgap": 0
        },
        "template": {
         "data": {
          "bar": [
           {
            "error_x": {
             "color": "#2a3f5f"
            },
            "error_y": {
             "color": "#2a3f5f"
            },
            "marker": {
             "line": {
              "color": "#E5ECF6",
              "width": 0.5
             },
             "pattern": {
              "fillmode": "overlay",
              "size": 10,
              "solidity": 0.2
             }
            },
            "type": "bar"
           }
          ],
          "barpolar": [
           {
            "marker": {
             "line": {
              "color": "#E5ECF6",
              "width": 0.5
             },
             "pattern": {
              "fillmode": "overlay",
              "size": 10,
              "solidity": 0.2
             }
            },
            "type": "barpolar"
           }
          ],
          "carpet": [
           {
            "aaxis": {
             "endlinecolor": "#2a3f5f",
             "gridcolor": "white",
             "linecolor": "white",
             "minorgridcolor": "white",
             "startlinecolor": "#2a3f5f"
            },
            "baxis": {
             "endlinecolor": "#2a3f5f",
             "gridcolor": "white",
             "linecolor": "white",
             "minorgridcolor": "white",
             "startlinecolor": "#2a3f5f"
            },
            "type": "carpet"
           }
          ],
          "choropleth": [
           {
            "colorbar": {
             "outlinewidth": 0,
             "ticks": ""
            },
            "type": "choropleth"
           }
          ],
          "contour": [
           {
            "colorbar": {
             "outlinewidth": 0,
             "ticks": ""
            },
            "colorscale": [
             [
              0,
              "#0d0887"
             ],
             [
              0.1111111111111111,
              "#46039f"
             ],
             [
              0.2222222222222222,
              "#7201a8"
             ],
             [
              0.3333333333333333,
              "#9c179e"
             ],
             [
              0.4444444444444444,
              "#bd3786"
             ],
             [
              0.5555555555555556,
              "#d8576b"
             ],
             [
              0.6666666666666666,
              "#ed7953"
             ],
             [
              0.7777777777777778,
              "#fb9f3a"
             ],
             [
              0.8888888888888888,
              "#fdca26"
             ],
             [
              1,
              "#f0f921"
             ]
            ],
            "type": "contour"
           }
          ],
          "contourcarpet": [
           {
            "colorbar": {
             "outlinewidth": 0,
             "ticks": ""
            },
            "type": "contourcarpet"
           }
          ],
          "heatmap": [
           {
            "colorbar": {
             "outlinewidth": 0,
             "ticks": ""
            },
            "colorscale": [
             [
              0,
              "#0d0887"
             ],
             [
              0.1111111111111111,
              "#46039f"
             ],
             [
              0.2222222222222222,
              "#7201a8"
             ],
             [
              0.3333333333333333,
              "#9c179e"
             ],
             [
              0.4444444444444444,
              "#bd3786"
             ],
             [
              0.5555555555555556,
              "#d8576b"
             ],
             [
              0.6666666666666666,
              "#ed7953"
             ],
             [
              0.7777777777777778,
              "#fb9f3a"
             ],
             [
              0.8888888888888888,
              "#fdca26"
             ],
             [
              1,
              "#f0f921"
             ]
            ],
            "type": "heatmap"
           }
          ],
          "heatmapgl": [
           {
            "colorbar": {
             "outlinewidth": 0,
             "ticks": ""
            },
            "colorscale": [
             [
              0,
              "#0d0887"
             ],
             [
              0.1111111111111111,
              "#46039f"
             ],
             [
              0.2222222222222222,
              "#7201a8"
             ],
             [
              0.3333333333333333,
              "#9c179e"
             ],
             [
              0.4444444444444444,
              "#bd3786"
             ],
             [
              0.5555555555555556,
              "#d8576b"
             ],
             [
              0.6666666666666666,
              "#ed7953"
             ],
             [
              0.7777777777777778,
              "#fb9f3a"
             ],
             [
              0.8888888888888888,
              "#fdca26"
             ],
             [
              1,
              "#f0f921"
             ]
            ],
            "type": "heatmapgl"
           }
          ],
          "histogram": [
           {
            "marker": {
             "pattern": {
              "fillmode": "overlay",
              "size": 10,
              "solidity": 0.2
             }
            },
            "type": "histogram"
           }
          ],
          "histogram2d": [
           {
            "colorbar": {
             "outlinewidth": 0,
             "ticks": ""
            },
            "colorscale": [
             [
              0,
              "#0d0887"
             ],
             [
              0.1111111111111111,
              "#46039f"
             ],
             [
              0.2222222222222222,
              "#7201a8"
             ],
             [
              0.3333333333333333,
              "#9c179e"
             ],
             [
              0.4444444444444444,
              "#bd3786"
             ],
             [
              0.5555555555555556,
              "#d8576b"
             ],
             [
              0.6666666666666666,
              "#ed7953"
             ],
             [
              0.7777777777777778,
              "#fb9f3a"
             ],
             [
              0.8888888888888888,
              "#fdca26"
             ],
             [
              1,
              "#f0f921"
             ]
            ],
            "type": "histogram2d"
           }
          ],
          "histogram2dcontour": [
           {
            "colorbar": {
             "outlinewidth": 0,
             "ticks": ""
            },
            "colorscale": [
             [
              0,
              "#0d0887"
             ],
             [
              0.1111111111111111,
              "#46039f"
             ],
             [
              0.2222222222222222,
              "#7201a8"
             ],
             [
              0.3333333333333333,
              "#9c179e"
             ],
             [
              0.4444444444444444,
              "#bd3786"
             ],
             [
              0.5555555555555556,
              "#d8576b"
             ],
             [
              0.6666666666666666,
              "#ed7953"
             ],
             [
              0.7777777777777778,
              "#fb9f3a"
             ],
             [
              0.8888888888888888,
              "#fdca26"
             ],
             [
              1,
              "#f0f921"
             ]
            ],
            "type": "histogram2dcontour"
           }
          ],
          "mesh3d": [
           {
            "colorbar": {
             "outlinewidth": 0,
             "ticks": ""
            },
            "type": "mesh3d"
           }
          ],
          "parcoords": [
           {
            "line": {
             "colorbar": {
              "outlinewidth": 0,
              "ticks": ""
             }
            },
            "type": "parcoords"
           }
          ],
          "pie": [
           {
            "automargin": true,
            "type": "pie"
           }
          ],
          "scatter": [
           {
            "marker": {
             "colorbar": {
              "outlinewidth": 0,
              "ticks": ""
             }
            },
            "type": "scatter"
           }
          ],
          "scatter3d": [
           {
            "line": {
             "colorbar": {
              "outlinewidth": 0,
              "ticks": ""
             }
            },
            "marker": {
             "colorbar": {
              "outlinewidth": 0,
              "ticks": ""
             }
            },
            "type": "scatter3d"
           }
          ],
          "scattercarpet": [
           {
            "marker": {
             "colorbar": {
              "outlinewidth": 0,
              "ticks": ""
             }
            },
            "type": "scattercarpet"
           }
          ],
          "scattergeo": [
           {
            "marker": {
             "colorbar": {
              "outlinewidth": 0,
              "ticks": ""
             }
            },
            "type": "scattergeo"
           }
          ],
          "scattergl": [
           {
            "marker": {
             "colorbar": {
              "outlinewidth": 0,
              "ticks": ""
             }
            },
            "type": "scattergl"
           }
          ],
          "scattermapbox": [
           {
            "marker": {
             "colorbar": {
              "outlinewidth": 0,
              "ticks": ""
             }
            },
            "type": "scattermapbox"
           }
          ],
          "scatterpolar": [
           {
            "marker": {
             "colorbar": {
              "outlinewidth": 0,
              "ticks": ""
             }
            },
            "type": "scatterpolar"
           }
          ],
          "scatterpolargl": [
           {
            "marker": {
             "colorbar": {
              "outlinewidth": 0,
              "ticks": ""
             }
            },
            "type": "scatterpolargl"
           }
          ],
          "scatterternary": [
           {
            "marker": {
             "colorbar": {
              "outlinewidth": 0,
              "ticks": ""
             }
            },
            "type": "scatterternary"
           }
          ],
          "surface": [
           {
            "colorbar": {
             "outlinewidth": 0,
             "ticks": ""
            },
            "colorscale": [
             [
              0,
              "#0d0887"
             ],
             [
              0.1111111111111111,
              "#46039f"
             ],
             [
              0.2222222222222222,
              "#7201a8"
             ],
             [
              0.3333333333333333,
              "#9c179e"
             ],
             [
              0.4444444444444444,
              "#bd3786"
             ],
             [
              0.5555555555555556,
              "#d8576b"
             ],
             [
              0.6666666666666666,
              "#ed7953"
             ],
             [
              0.7777777777777778,
              "#fb9f3a"
             ],
             [
              0.8888888888888888,
              "#fdca26"
             ],
             [
              1,
              "#f0f921"
             ]
            ],
            "type": "surface"
           }
          ],
          "table": [
           {
            "cells": {
             "fill": {
              "color": "#EBF0F8"
             },
             "line": {
              "color": "white"
             }
            },
            "header": {
             "fill": {
              "color": "#C8D4E3"
             },
             "line": {
              "color": "white"
             }
            },
            "type": "table"
           }
          ]
         },
         "layout": {
          "annotationdefaults": {
           "arrowcolor": "#2a3f5f",
           "arrowhead": 0,
           "arrowwidth": 1
          },
          "autotypenumbers": "strict",
          "coloraxis": {
           "colorbar": {
            "outlinewidth": 0,
            "ticks": ""
           }
          },
          "colorscale": {
           "diverging": [
            [
             0,
             "#8e0152"
            ],
            [
             0.1,
             "#c51b7d"
            ],
            [
             0.2,
             "#de77ae"
            ],
            [
             0.3,
             "#f1b6da"
            ],
            [
             0.4,
             "#fde0ef"
            ],
            [
             0.5,
             "#f7f7f7"
            ],
            [
             0.6,
             "#e6f5d0"
            ],
            [
             0.7,
             "#b8e186"
            ],
            [
             0.8,
             "#7fbc41"
            ],
            [
             0.9,
             "#4d9221"
            ],
            [
             1,
             "#276419"
            ]
           ],
           "sequential": [
            [
             0,
             "#0d0887"
            ],
            [
             0.1111111111111111,
             "#46039f"
            ],
            [
             0.2222222222222222,
             "#7201a8"
            ],
            [
             0.3333333333333333,
             "#9c179e"
            ],
            [
             0.4444444444444444,
             "#bd3786"
            ],
            [
             0.5555555555555556,
             "#d8576b"
            ],
            [
             0.6666666666666666,
             "#ed7953"
            ],
            [
             0.7777777777777778,
             "#fb9f3a"
            ],
            [
             0.8888888888888888,
             "#fdca26"
            ],
            [
             1,
             "#f0f921"
            ]
           ],
           "sequentialminus": [
            [
             0,
             "#0d0887"
            ],
            [
             0.1111111111111111,
             "#46039f"
            ],
            [
             0.2222222222222222,
             "#7201a8"
            ],
            [
             0.3333333333333333,
             "#9c179e"
            ],
            [
             0.4444444444444444,
             "#bd3786"
            ],
            [
             0.5555555555555556,
             "#d8576b"
            ],
            [
             0.6666666666666666,
             "#ed7953"
            ],
            [
             0.7777777777777778,
             "#fb9f3a"
            ],
            [
             0.8888888888888888,
             "#fdca26"
            ],
            [
             1,
             "#f0f921"
            ]
           ]
          },
          "colorway": [
           "#636efa",
           "#EF553B",
           "#00cc96",
           "#ab63fa",
           "#FFA15A",
           "#19d3f3",
           "#FF6692",
           "#B6E880",
           "#FF97FF",
           "#FECB52"
          ],
          "font": {
           "color": "#2a3f5f"
          },
          "geo": {
           "bgcolor": "white",
           "lakecolor": "white",
           "landcolor": "#E5ECF6",
           "showlakes": true,
           "showland": true,
           "subunitcolor": "white"
          },
          "hoverlabel": {
           "align": "left"
          },
          "hovermode": "closest",
          "mapbox": {
           "style": "light"
          },
          "paper_bgcolor": "white",
          "plot_bgcolor": "#E5ECF6",
          "polar": {
           "angularaxis": {
            "gridcolor": "white",
            "linecolor": "white",
            "ticks": ""
           },
           "bgcolor": "#E5ECF6",
           "radialaxis": {
            "gridcolor": "white",
            "linecolor": "white",
            "ticks": ""
           }
          },
          "scene": {
           "xaxis": {
            "backgroundcolor": "#E5ECF6",
            "gridcolor": "white",
            "gridwidth": 2,
            "linecolor": "white",
            "showbackground": true,
            "ticks": "",
            "zerolinecolor": "white"
           },
           "yaxis": {
            "backgroundcolor": "#E5ECF6",
            "gridcolor": "white",
            "gridwidth": 2,
            "linecolor": "white",
            "showbackground": true,
            "ticks": "",
            "zerolinecolor": "white"
           },
           "zaxis": {
            "backgroundcolor": "#E5ECF6",
            "gridcolor": "white",
            "gridwidth": 2,
            "linecolor": "white",
            "showbackground": true,
            "ticks": "",
            "zerolinecolor": "white"
           }
          },
          "shapedefaults": {
           "line": {
            "color": "#2a3f5f"
           }
          },
          "ternary": {
           "aaxis": {
            "gridcolor": "white",
            "linecolor": "white",
            "ticks": ""
           },
           "baxis": {
            "gridcolor": "white",
            "linecolor": "white",
            "ticks": ""
           },
           "bgcolor": "#E5ECF6",
           "caxis": {
            "gridcolor": "white",
            "linecolor": "white",
            "ticks": ""
           }
          },
          "title": {
           "x": 0.05
          },
          "xaxis": {
           "automargin": true,
           "gridcolor": "white",
           "linecolor": "white",
           "ticks": "",
           "title": {
            "standoff": 15
           },
           "zerolinecolor": "white",
           "zerolinewidth": 2
          },
          "yaxis": {
           "automargin": true,
           "gridcolor": "white",
           "linecolor": "white",
           "ticks": "",
           "title": {
            "standoff": 15
           },
           "zerolinecolor": "white",
           "zerolinewidth": 2
          }
         }
        },
        "title": {
         "text": "Mean values per genre"
        },
        "width": 750,
        "xaxis": {
         "anchor": "y",
         "domain": [
          0,
          1
         ],
         "title": {
          "text": "Mean values per R&B"
         }
        },
        "yaxis": {
         "anchor": "x",
         "categoryarray": [
          "explicit",
          "valence",
          "liveness",
          "instrumentalness",
          "acousticness",
          "speechiness",
          "energy",
          "danceability"
         ],
         "categoryorder": "array",
         "domain": [
          0,
          1
         ],
         "title": {
          "text": "parameter"
         }
        }
       }
      }
     },
     "metadata": {},
     "output_type": "display_data"
    },
    {
     "data": {
      "application/vnd.plotly.v1+json": {
       "config": {
        "plotlyServerURL": "https://plot.ly"
       },
       "data": [
        {
         "alignmentgroup": "True",
         "hovertemplate": "parameter=%{y}<br>value=%{x}<extra></extra>",
         "legendgroup": "danceability",
         "marker": {
          "color": "#636efa",
          "pattern": {
           "shape": ""
          }
         },
         "name": "danceability",
         "offsetgroup": "danceability",
         "orientation": "h",
         "showlegend": true,
         "textposition": "auto",
         "type": "bar",
         "x": [
          0.5919088319088319
         ],
         "xaxis": "x",
         "y": [
          "danceability"
         ],
         "yaxis": "y"
        },
        {
         "alignmentgroup": "True",
         "hovertemplate": "parameter=%{y}<br>value=%{x}<extra></extra>",
         "legendgroup": "energy",
         "marker": {
          "color": "#EF553B",
          "pattern": {
           "shape": ""
          }
         },
         "name": "energy",
         "offsetgroup": "energy",
         "orientation": "h",
         "showlegend": true,
         "textposition": "auto",
         "type": "bar",
         "x": [
          0.6928888888888889
         ],
         "xaxis": "x",
         "y": [
          "energy"
         ],
         "yaxis": "y"
        },
        {
         "alignmentgroup": "True",
         "hovertemplate": "parameter=%{y}<br>value=%{x}<extra></extra>",
         "legendgroup": "speechiness",
         "marker": {
          "color": "#00cc96",
          "pattern": {
           "shape": ""
          }
         },
         "name": "speechiness",
         "offsetgroup": "speechiness",
         "orientation": "h",
         "showlegend": true,
         "textposition": "auto",
         "type": "bar",
         "x": [
          0.07843333333333333
         ],
         "xaxis": "x",
         "y": [
          "speechiness"
         ],
         "yaxis": "y"
        },
        {
         "alignmentgroup": "True",
         "hovertemplate": "parameter=%{y}<br>value=%{x}<extra></extra>",
         "legendgroup": "acousticness",
         "marker": {
          "color": "#ab63fa",
          "pattern": {
           "shape": ""
          }
         },
         "name": "acousticness",
         "offsetgroup": "acousticness",
         "orientation": "h",
         "showlegend": true,
         "textposition": "auto",
         "type": "bar",
         "x": [
          0.26646263661202185
         ],
         "xaxis": "x",
         "y": [
          "acousticness"
         ],
         "yaxis": "y"
        },
        {
         "alignmentgroup": "True",
         "hovertemplate": "parameter=%{y}<br>value=%{x}<extra></extra>",
         "legendgroup": "instrumentalness",
         "marker": {
          "color": "#FFA15A",
          "pattern": {
           "shape": ""
          }
         },
         "name": "instrumentalness",
         "offsetgroup": "instrumentalness",
         "orientation": "h",
         "showlegend": true,
         "textposition": "auto",
         "type": "bar",
         "x": [
          0.22376624252679075
         ],
         "xaxis": "x",
         "y": [
          "instrumentalness"
         ],
         "yaxis": "y"
        },
        {
         "alignmentgroup": "True",
         "hovertemplate": "parameter=%{y}<br>value=%{x}<extra></extra>",
         "legendgroup": "liveness",
         "marker": {
          "color": "#19d3f3",
          "pattern": {
           "shape": ""
          }
         },
         "name": "liveness",
         "offsetgroup": "liveness",
         "orientation": "h",
         "showlegend": true,
         "textposition": "auto",
         "type": "bar",
         "x": [
          0.20445555555555553
         ],
         "xaxis": "x",
         "y": [
          "liveness"
         ],
         "yaxis": "y"
        },
        {
         "alignmentgroup": "True",
         "hovertemplate": "parameter=%{y}<br>value=%{x}<extra></extra>",
         "legendgroup": "valence",
         "marker": {
          "color": "#FF6692",
          "pattern": {
           "shape": ""
          }
         },
         "name": "valence",
         "offsetgroup": "valence",
         "orientation": "h",
         "showlegend": true,
         "textposition": "auto",
         "type": "bar",
         "x": [
          0.6416666666666668
         ],
         "xaxis": "x",
         "y": [
          "valence"
         ],
         "yaxis": "y"
        },
        {
         "alignmentgroup": "True",
         "hovertemplate": "parameter=%{y}<br>value=%{x}<extra></extra>",
         "legendgroup": "explicit",
         "marker": {
          "color": "#B6E880",
          "pattern": {
           "shape": ""
          }
         },
         "name": "explicit",
         "offsetgroup": "explicit",
         "orientation": "h",
         "showlegend": true,
         "textposition": "auto",
         "type": "bar",
         "x": [
          0
         ],
         "xaxis": "x",
         "y": [
          "explicit"
         ],
         "yaxis": "y"
        }
       ],
       "layout": {
        "barmode": "relative",
        "font": {
         "size": 18
        },
        "height": 500,
        "legend": {
         "title": {
          "text": "parameter"
         },
         "tracegroupgap": 0
        },
        "template": {
         "data": {
          "bar": [
           {
            "error_x": {
             "color": "#2a3f5f"
            },
            "error_y": {
             "color": "#2a3f5f"
            },
            "marker": {
             "line": {
              "color": "#E5ECF6",
              "width": 0.5
             },
             "pattern": {
              "fillmode": "overlay",
              "size": 10,
              "solidity": 0.2
             }
            },
            "type": "bar"
           }
          ],
          "barpolar": [
           {
            "marker": {
             "line": {
              "color": "#E5ECF6",
              "width": 0.5
             },
             "pattern": {
              "fillmode": "overlay",
              "size": 10,
              "solidity": 0.2
             }
            },
            "type": "barpolar"
           }
          ],
          "carpet": [
           {
            "aaxis": {
             "endlinecolor": "#2a3f5f",
             "gridcolor": "white",
             "linecolor": "white",
             "minorgridcolor": "white",
             "startlinecolor": "#2a3f5f"
            },
            "baxis": {
             "endlinecolor": "#2a3f5f",
             "gridcolor": "white",
             "linecolor": "white",
             "minorgridcolor": "white",
             "startlinecolor": "#2a3f5f"
            },
            "type": "carpet"
           }
          ],
          "choropleth": [
           {
            "colorbar": {
             "outlinewidth": 0,
             "ticks": ""
            },
            "type": "choropleth"
           }
          ],
          "contour": [
           {
            "colorbar": {
             "outlinewidth": 0,
             "ticks": ""
            },
            "colorscale": [
             [
              0,
              "#0d0887"
             ],
             [
              0.1111111111111111,
              "#46039f"
             ],
             [
              0.2222222222222222,
              "#7201a8"
             ],
             [
              0.3333333333333333,
              "#9c179e"
             ],
             [
              0.4444444444444444,
              "#bd3786"
             ],
             [
              0.5555555555555556,
              "#d8576b"
             ],
             [
              0.6666666666666666,
              "#ed7953"
             ],
             [
              0.7777777777777778,
              "#fb9f3a"
             ],
             [
              0.8888888888888888,
              "#fdca26"
             ],
             [
              1,
              "#f0f921"
             ]
            ],
            "type": "contour"
           }
          ],
          "contourcarpet": [
           {
            "colorbar": {
             "outlinewidth": 0,
             "ticks": ""
            },
            "type": "contourcarpet"
           }
          ],
          "heatmap": [
           {
            "colorbar": {
             "outlinewidth": 0,
             "ticks": ""
            },
            "colorscale": [
             [
              0,
              "#0d0887"
             ],
             [
              0.1111111111111111,
              "#46039f"
             ],
             [
              0.2222222222222222,
              "#7201a8"
             ],
             [
              0.3333333333333333,
              "#9c179e"
             ],
             [
              0.4444444444444444,
              "#bd3786"
             ],
             [
              0.5555555555555556,
              "#d8576b"
             ],
             [
              0.6666666666666666,
              "#ed7953"
             ],
             [
              0.7777777777777778,
              "#fb9f3a"
             ],
             [
              0.8888888888888888,
              "#fdca26"
             ],
             [
              1,
              "#f0f921"
             ]
            ],
            "type": "heatmap"
           }
          ],
          "heatmapgl": [
           {
            "colorbar": {
             "outlinewidth": 0,
             "ticks": ""
            },
            "colorscale": [
             [
              0,
              "#0d0887"
             ],
             [
              0.1111111111111111,
              "#46039f"
             ],
             [
              0.2222222222222222,
              "#7201a8"
             ],
             [
              0.3333333333333333,
              "#9c179e"
             ],
             [
              0.4444444444444444,
              "#bd3786"
             ],
             [
              0.5555555555555556,
              "#d8576b"
             ],
             [
              0.6666666666666666,
              "#ed7953"
             ],
             [
              0.7777777777777778,
              "#fb9f3a"
             ],
             [
              0.8888888888888888,
              "#fdca26"
             ],
             [
              1,
              "#f0f921"
             ]
            ],
            "type": "heatmapgl"
           }
          ],
          "histogram": [
           {
            "marker": {
             "pattern": {
              "fillmode": "overlay",
              "size": 10,
              "solidity": 0.2
             }
            },
            "type": "histogram"
           }
          ],
          "histogram2d": [
           {
            "colorbar": {
             "outlinewidth": 0,
             "ticks": ""
            },
            "colorscale": [
             [
              0,
              "#0d0887"
             ],
             [
              0.1111111111111111,
              "#46039f"
             ],
             [
              0.2222222222222222,
              "#7201a8"
             ],
             [
              0.3333333333333333,
              "#9c179e"
             ],
             [
              0.4444444444444444,
              "#bd3786"
             ],
             [
              0.5555555555555556,
              "#d8576b"
             ],
             [
              0.6666666666666666,
              "#ed7953"
             ],
             [
              0.7777777777777778,
              "#fb9f3a"
             ],
             [
              0.8888888888888888,
              "#fdca26"
             ],
             [
              1,
              "#f0f921"
             ]
            ],
            "type": "histogram2d"
           }
          ],
          "histogram2dcontour": [
           {
            "colorbar": {
             "outlinewidth": 0,
             "ticks": ""
            },
            "colorscale": [
             [
              0,
              "#0d0887"
             ],
             [
              0.1111111111111111,
              "#46039f"
             ],
             [
              0.2222222222222222,
              "#7201a8"
             ],
             [
              0.3333333333333333,
              "#9c179e"
             ],
             [
              0.4444444444444444,
              "#bd3786"
             ],
             [
              0.5555555555555556,
              "#d8576b"
             ],
             [
              0.6666666666666666,
              "#ed7953"
             ],
             [
              0.7777777777777778,
              "#fb9f3a"
             ],
             [
              0.8888888888888888,
              "#fdca26"
             ],
             [
              1,
              "#f0f921"
             ]
            ],
            "type": "histogram2dcontour"
           }
          ],
          "mesh3d": [
           {
            "colorbar": {
             "outlinewidth": 0,
             "ticks": ""
            },
            "type": "mesh3d"
           }
          ],
          "parcoords": [
           {
            "line": {
             "colorbar": {
              "outlinewidth": 0,
              "ticks": ""
             }
            },
            "type": "parcoords"
           }
          ],
          "pie": [
           {
            "automargin": true,
            "type": "pie"
           }
          ],
          "scatter": [
           {
            "marker": {
             "colorbar": {
              "outlinewidth": 0,
              "ticks": ""
             }
            },
            "type": "scatter"
           }
          ],
          "scatter3d": [
           {
            "line": {
             "colorbar": {
              "outlinewidth": 0,
              "ticks": ""
             }
            },
            "marker": {
             "colorbar": {
              "outlinewidth": 0,
              "ticks": ""
             }
            },
            "type": "scatter3d"
           }
          ],
          "scattercarpet": [
           {
            "marker": {
             "colorbar": {
              "outlinewidth": 0,
              "ticks": ""
             }
            },
            "type": "scattercarpet"
           }
          ],
          "scattergeo": [
           {
            "marker": {
             "colorbar": {
              "outlinewidth": 0,
              "ticks": ""
             }
            },
            "type": "scattergeo"
           }
          ],
          "scattergl": [
           {
            "marker": {
             "colorbar": {
              "outlinewidth": 0,
              "ticks": ""
             }
            },
            "type": "scattergl"
           }
          ],
          "scattermapbox": [
           {
            "marker": {
             "colorbar": {
              "outlinewidth": 0,
              "ticks": ""
             }
            },
            "type": "scattermapbox"
           }
          ],
          "scatterpolar": [
           {
            "marker": {
             "colorbar": {
              "outlinewidth": 0,
              "ticks": ""
             }
            },
            "type": "scatterpolar"
           }
          ],
          "scatterpolargl": [
           {
            "marker": {
             "colorbar": {
              "outlinewidth": 0,
              "ticks": ""
             }
            },
            "type": "scatterpolargl"
           }
          ],
          "scatterternary": [
           {
            "marker": {
             "colorbar": {
              "outlinewidth": 0,
              "ticks": ""
             }
            },
            "type": "scatterternary"
           }
          ],
          "surface": [
           {
            "colorbar": {
             "outlinewidth": 0,
             "ticks": ""
            },
            "colorscale": [
             [
              0,
              "#0d0887"
             ],
             [
              0.1111111111111111,
              "#46039f"
             ],
             [
              0.2222222222222222,
              "#7201a8"
             ],
             [
              0.3333333333333333,
              "#9c179e"
             ],
             [
              0.4444444444444444,
              "#bd3786"
             ],
             [
              0.5555555555555556,
              "#d8576b"
             ],
             [
              0.6666666666666666,
              "#ed7953"
             ],
             [
              0.7777777777777778,
              "#fb9f3a"
             ],
             [
              0.8888888888888888,
              "#fdca26"
             ],
             [
              1,
              "#f0f921"
             ]
            ],
            "type": "surface"
           }
          ],
          "table": [
           {
            "cells": {
             "fill": {
              "color": "#EBF0F8"
             },
             "line": {
              "color": "white"
             }
            },
            "header": {
             "fill": {
              "color": "#C8D4E3"
             },
             "line": {
              "color": "white"
             }
            },
            "type": "table"
           }
          ]
         },
         "layout": {
          "annotationdefaults": {
           "arrowcolor": "#2a3f5f",
           "arrowhead": 0,
           "arrowwidth": 1
          },
          "autotypenumbers": "strict",
          "coloraxis": {
           "colorbar": {
            "outlinewidth": 0,
            "ticks": ""
           }
          },
          "colorscale": {
           "diverging": [
            [
             0,
             "#8e0152"
            ],
            [
             0.1,
             "#c51b7d"
            ],
            [
             0.2,
             "#de77ae"
            ],
            [
             0.3,
             "#f1b6da"
            ],
            [
             0.4,
             "#fde0ef"
            ],
            [
             0.5,
             "#f7f7f7"
            ],
            [
             0.6,
             "#e6f5d0"
            ],
            [
             0.7,
             "#b8e186"
            ],
            [
             0.8,
             "#7fbc41"
            ],
            [
             0.9,
             "#4d9221"
            ],
            [
             1,
             "#276419"
            ]
           ],
           "sequential": [
            [
             0,
             "#0d0887"
            ],
            [
             0.1111111111111111,
             "#46039f"
            ],
            [
             0.2222222222222222,
             "#7201a8"
            ],
            [
             0.3333333333333333,
             "#9c179e"
            ],
            [
             0.4444444444444444,
             "#bd3786"
            ],
            [
             0.5555555555555556,
             "#d8576b"
            ],
            [
             0.6666666666666666,
             "#ed7953"
            ],
            [
             0.7777777777777778,
             "#fb9f3a"
            ],
            [
             0.8888888888888888,
             "#fdca26"
            ],
            [
             1,
             "#f0f921"
            ]
           ],
           "sequentialminus": [
            [
             0,
             "#0d0887"
            ],
            [
             0.1111111111111111,
             "#46039f"
            ],
            [
             0.2222222222222222,
             "#7201a8"
            ],
            [
             0.3333333333333333,
             "#9c179e"
            ],
            [
             0.4444444444444444,
             "#bd3786"
            ],
            [
             0.5555555555555556,
             "#d8576b"
            ],
            [
             0.6666666666666666,
             "#ed7953"
            ],
            [
             0.7777777777777778,
             "#fb9f3a"
            ],
            [
             0.8888888888888888,
             "#fdca26"
            ],
            [
             1,
             "#f0f921"
            ]
           ]
          },
          "colorway": [
           "#636efa",
           "#EF553B",
           "#00cc96",
           "#ab63fa",
           "#FFA15A",
           "#19d3f3",
           "#FF6692",
           "#B6E880",
           "#FF97FF",
           "#FECB52"
          ],
          "font": {
           "color": "#2a3f5f"
          },
          "geo": {
           "bgcolor": "white",
           "lakecolor": "white",
           "landcolor": "#E5ECF6",
           "showlakes": true,
           "showland": true,
           "subunitcolor": "white"
          },
          "hoverlabel": {
           "align": "left"
          },
          "hovermode": "closest",
          "mapbox": {
           "style": "light"
          },
          "paper_bgcolor": "white",
          "plot_bgcolor": "#E5ECF6",
          "polar": {
           "angularaxis": {
            "gridcolor": "white",
            "linecolor": "white",
            "ticks": ""
           },
           "bgcolor": "#E5ECF6",
           "radialaxis": {
            "gridcolor": "white",
            "linecolor": "white",
            "ticks": ""
           }
          },
          "scene": {
           "xaxis": {
            "backgroundcolor": "#E5ECF6",
            "gridcolor": "white",
            "gridwidth": 2,
            "linecolor": "white",
            "showbackground": true,
            "ticks": "",
            "zerolinecolor": "white"
           },
           "yaxis": {
            "backgroundcolor": "#E5ECF6",
            "gridcolor": "white",
            "gridwidth": 2,
            "linecolor": "white",
            "showbackground": true,
            "ticks": "",
            "zerolinecolor": "white"
           },
           "zaxis": {
            "backgroundcolor": "#E5ECF6",
            "gridcolor": "white",
            "gridwidth": 2,
            "linecolor": "white",
            "showbackground": true,
            "ticks": "",
            "zerolinecolor": "white"
           }
          },
          "shapedefaults": {
           "line": {
            "color": "#2a3f5f"
           }
          },
          "ternary": {
           "aaxis": {
            "gridcolor": "white",
            "linecolor": "white",
            "ticks": ""
           },
           "baxis": {
            "gridcolor": "white",
            "linecolor": "white",
            "ticks": ""
           },
           "bgcolor": "#E5ECF6",
           "caxis": {
            "gridcolor": "white",
            "linecolor": "white",
            "ticks": ""
           }
          },
          "title": {
           "x": 0.05
          },
          "xaxis": {
           "automargin": true,
           "gridcolor": "white",
           "linecolor": "white",
           "ticks": "",
           "title": {
            "standoff": 15
           },
           "zerolinecolor": "white",
           "zerolinewidth": 2
          },
          "yaxis": {
           "automargin": true,
           "gridcolor": "white",
           "linecolor": "white",
           "ticks": "",
           "title": {
            "standoff": 15
           },
           "zerolinecolor": "white",
           "zerolinewidth": 2
          }
         }
        },
        "title": {
         "text": "Mean values per genre"
        },
        "width": 750,
        "xaxis": {
         "anchor": "y",
         "domain": [
          0,
          1
         ],
         "title": {
          "text": "Mean values per World/Traditional"
         }
        },
        "yaxis": {
         "anchor": "x",
         "categoryarray": [
          "explicit",
          "valence",
          "liveness",
          "instrumentalness",
          "acousticness",
          "speechiness",
          "energy",
          "danceability"
         ],
         "categoryorder": "array",
         "domain": [
          0,
          1
         ],
         "title": {
          "text": "parameter"
         }
        }
       }
      }
     },
     "metadata": {},
     "output_type": "display_data"
    },
    {
     "data": {
      "application/vnd.plotly.v1+json": {
       "config": {
        "plotlyServerURL": "https://plot.ly"
       },
       "data": [
        {
         "alignmentgroup": "True",
         "hovertemplate": "parameter=%{y}<br>value=%{x}<extra></extra>",
         "legendgroup": "danceability",
         "marker": {
          "color": "#636efa",
          "pattern": {
           "shape": ""
          }
         },
         "name": "danceability",
         "offsetgroup": "danceability",
         "orientation": "h",
         "showlegend": true,
         "textposition": "auto",
         "type": "bar",
         "x": [
          0.622905982905983
         ],
         "xaxis": "x",
         "y": [
          "danceability"
         ],
         "yaxis": "y"
        },
        {
         "alignmentgroup": "True",
         "hovertemplate": "parameter=%{y}<br>value=%{x}<extra></extra>",
         "legendgroup": "energy",
         "marker": {
          "color": "#EF553B",
          "pattern": {
           "shape": ""
          }
         },
         "name": "energy",
         "offsetgroup": "energy",
         "orientation": "h",
         "showlegend": true,
         "textposition": "auto",
         "type": "bar",
         "x": [
          0.6926666666666668
         ],
         "xaxis": "x",
         "y": [
          "energy"
         ],
         "yaxis": "y"
        },
        {
         "alignmentgroup": "True",
         "hovertemplate": "parameter=%{y}<br>value=%{x}<extra></extra>",
         "legendgroup": "speechiness",
         "marker": {
          "color": "#00cc96",
          "pattern": {
           "shape": ""
          }
         },
         "name": "speechiness",
         "offsetgroup": "speechiness",
         "orientation": "h",
         "showlegend": true,
         "textposition": "auto",
         "type": "bar",
         "x": [
          0.08053333333333333
         ],
         "xaxis": "x",
         "y": [
          "speechiness"
         ],
         "yaxis": "y"
        },
        {
         "alignmentgroup": "True",
         "hovertemplate": "parameter=%{y}<br>value=%{x}<extra></extra>",
         "legendgroup": "acousticness",
         "marker": {
          "color": "#ab63fa",
          "pattern": {
           "shape": ""
          }
         },
         "name": "acousticness",
         "offsetgroup": "acousticness",
         "orientation": "h",
         "showlegend": true,
         "textposition": "auto",
         "type": "bar",
         "x": [
          0.01489412568306011
         ],
         "xaxis": "x",
         "y": [
          "acousticness"
         ],
         "yaxis": "y"
        },
        {
         "alignmentgroup": "True",
         "hovertemplate": "parameter=%{y}<br>value=%{x}<extra></extra>",
         "legendgroup": "instrumentalness",
         "marker": {
          "color": "#FFA15A",
          "pattern": {
           "shape": ""
          }
         },
         "name": "instrumentalness",
         "offsetgroup": "instrumentalness",
         "orientation": "h",
         "showlegend": true,
         "textposition": "auto",
         "type": "bar",
         "x": [
          0.15127925549915397
         ],
         "xaxis": "x",
         "y": [
          "instrumentalness"
         ],
         "yaxis": "y"
        },
        {
         "alignmentgroup": "True",
         "hovertemplate": "parameter=%{y}<br>value=%{x}<extra></extra>",
         "legendgroup": "liveness",
         "marker": {
          "color": "#19d3f3",
          "pattern": {
           "shape": ""
          }
         },
         "name": "liveness",
         "offsetgroup": "liveness",
         "orientation": "h",
         "showlegend": true,
         "textposition": "auto",
         "type": "bar",
         "x": [
          0.21666666666666665
         ],
         "xaxis": "x",
         "y": [
          "liveness"
         ],
         "yaxis": "y"
        },
        {
         "alignmentgroup": "True",
         "hovertemplate": "parameter=%{y}<br>value=%{x}<extra></extra>",
         "legendgroup": "valence",
         "marker": {
          "color": "#FF6692",
          "pattern": {
           "shape": ""
          }
         },
         "name": "valence",
         "offsetgroup": "valence",
         "orientation": "h",
         "showlegend": true,
         "textposition": "auto",
         "type": "bar",
         "x": [
          0.434
         ],
         "xaxis": "x",
         "y": [
          "valence"
         ],
         "yaxis": "y"
        },
        {
         "alignmentgroup": "True",
         "hovertemplate": "parameter=%{y}<br>value=%{x}<extra></extra>",
         "legendgroup": "explicit",
         "marker": {
          "color": "#B6E880",
          "pattern": {
           "shape": ""
          }
         },
         "name": "explicit",
         "offsetgroup": "explicit",
         "orientation": "h",
         "showlegend": true,
         "textposition": "auto",
         "type": "bar",
         "x": [
          0
         ],
         "xaxis": "x",
         "y": [
          "explicit"
         ],
         "yaxis": "y"
        }
       ],
       "layout": {
        "barmode": "relative",
        "font": {
         "size": 18
        },
        "height": 500,
        "legend": {
         "title": {
          "text": "parameter"
         },
         "tracegroupgap": 0
        },
        "template": {
         "data": {
          "bar": [
           {
            "error_x": {
             "color": "#2a3f5f"
            },
            "error_y": {
             "color": "#2a3f5f"
            },
            "marker": {
             "line": {
              "color": "#E5ECF6",
              "width": 0.5
             },
             "pattern": {
              "fillmode": "overlay",
              "size": 10,
              "solidity": 0.2
             }
            },
            "type": "bar"
           }
          ],
          "barpolar": [
           {
            "marker": {
             "line": {
              "color": "#E5ECF6",
              "width": 0.5
             },
             "pattern": {
              "fillmode": "overlay",
              "size": 10,
              "solidity": 0.2
             }
            },
            "type": "barpolar"
           }
          ],
          "carpet": [
           {
            "aaxis": {
             "endlinecolor": "#2a3f5f",
             "gridcolor": "white",
             "linecolor": "white",
             "minorgridcolor": "white",
             "startlinecolor": "#2a3f5f"
            },
            "baxis": {
             "endlinecolor": "#2a3f5f",
             "gridcolor": "white",
             "linecolor": "white",
             "minorgridcolor": "white",
             "startlinecolor": "#2a3f5f"
            },
            "type": "carpet"
           }
          ],
          "choropleth": [
           {
            "colorbar": {
             "outlinewidth": 0,
             "ticks": ""
            },
            "type": "choropleth"
           }
          ],
          "contour": [
           {
            "colorbar": {
             "outlinewidth": 0,
             "ticks": ""
            },
            "colorscale": [
             [
              0,
              "#0d0887"
             ],
             [
              0.1111111111111111,
              "#46039f"
             ],
             [
              0.2222222222222222,
              "#7201a8"
             ],
             [
              0.3333333333333333,
              "#9c179e"
             ],
             [
              0.4444444444444444,
              "#bd3786"
             ],
             [
              0.5555555555555556,
              "#d8576b"
             ],
             [
              0.6666666666666666,
              "#ed7953"
             ],
             [
              0.7777777777777778,
              "#fb9f3a"
             ],
             [
              0.8888888888888888,
              "#fdca26"
             ],
             [
              1,
              "#f0f921"
             ]
            ],
            "type": "contour"
           }
          ],
          "contourcarpet": [
           {
            "colorbar": {
             "outlinewidth": 0,
             "ticks": ""
            },
            "type": "contourcarpet"
           }
          ],
          "heatmap": [
           {
            "colorbar": {
             "outlinewidth": 0,
             "ticks": ""
            },
            "colorscale": [
             [
              0,
              "#0d0887"
             ],
             [
              0.1111111111111111,
              "#46039f"
             ],
             [
              0.2222222222222222,
              "#7201a8"
             ],
             [
              0.3333333333333333,
              "#9c179e"
             ],
             [
              0.4444444444444444,
              "#bd3786"
             ],
             [
              0.5555555555555556,
              "#d8576b"
             ],
             [
              0.6666666666666666,
              "#ed7953"
             ],
             [
              0.7777777777777778,
              "#fb9f3a"
             ],
             [
              0.8888888888888888,
              "#fdca26"
             ],
             [
              1,
              "#f0f921"
             ]
            ],
            "type": "heatmap"
           }
          ],
          "heatmapgl": [
           {
            "colorbar": {
             "outlinewidth": 0,
             "ticks": ""
            },
            "colorscale": [
             [
              0,
              "#0d0887"
             ],
             [
              0.1111111111111111,
              "#46039f"
             ],
             [
              0.2222222222222222,
              "#7201a8"
             ],
             [
              0.3333333333333333,
              "#9c179e"
             ],
             [
              0.4444444444444444,
              "#bd3786"
             ],
             [
              0.5555555555555556,
              "#d8576b"
             ],
             [
              0.6666666666666666,
              "#ed7953"
             ],
             [
              0.7777777777777778,
              "#fb9f3a"
             ],
             [
              0.8888888888888888,
              "#fdca26"
             ],
             [
              1,
              "#f0f921"
             ]
            ],
            "type": "heatmapgl"
           }
          ],
          "histogram": [
           {
            "marker": {
             "pattern": {
              "fillmode": "overlay",
              "size": 10,
              "solidity": 0.2
             }
            },
            "type": "histogram"
           }
          ],
          "histogram2d": [
           {
            "colorbar": {
             "outlinewidth": 0,
             "ticks": ""
            },
            "colorscale": [
             [
              0,
              "#0d0887"
             ],
             [
              0.1111111111111111,
              "#46039f"
             ],
             [
              0.2222222222222222,
              "#7201a8"
             ],
             [
              0.3333333333333333,
              "#9c179e"
             ],
             [
              0.4444444444444444,
              "#bd3786"
             ],
             [
              0.5555555555555556,
              "#d8576b"
             ],
             [
              0.6666666666666666,
              "#ed7953"
             ],
             [
              0.7777777777777778,
              "#fb9f3a"
             ],
             [
              0.8888888888888888,
              "#fdca26"
             ],
             [
              1,
              "#f0f921"
             ]
            ],
            "type": "histogram2d"
           }
          ],
          "histogram2dcontour": [
           {
            "colorbar": {
             "outlinewidth": 0,
             "ticks": ""
            },
            "colorscale": [
             [
              0,
              "#0d0887"
             ],
             [
              0.1111111111111111,
              "#46039f"
             ],
             [
              0.2222222222222222,
              "#7201a8"
             ],
             [
              0.3333333333333333,
              "#9c179e"
             ],
             [
              0.4444444444444444,
              "#bd3786"
             ],
             [
              0.5555555555555556,
              "#d8576b"
             ],
             [
              0.6666666666666666,
              "#ed7953"
             ],
             [
              0.7777777777777778,
              "#fb9f3a"
             ],
             [
              0.8888888888888888,
              "#fdca26"
             ],
             [
              1,
              "#f0f921"
             ]
            ],
            "type": "histogram2dcontour"
           }
          ],
          "mesh3d": [
           {
            "colorbar": {
             "outlinewidth": 0,
             "ticks": ""
            },
            "type": "mesh3d"
           }
          ],
          "parcoords": [
           {
            "line": {
             "colorbar": {
              "outlinewidth": 0,
              "ticks": ""
             }
            },
            "type": "parcoords"
           }
          ],
          "pie": [
           {
            "automargin": true,
            "type": "pie"
           }
          ],
          "scatter": [
           {
            "marker": {
             "colorbar": {
              "outlinewidth": 0,
              "ticks": ""
             }
            },
            "type": "scatter"
           }
          ],
          "scatter3d": [
           {
            "line": {
             "colorbar": {
              "outlinewidth": 0,
              "ticks": ""
             }
            },
            "marker": {
             "colorbar": {
              "outlinewidth": 0,
              "ticks": ""
             }
            },
            "type": "scatter3d"
           }
          ],
          "scattercarpet": [
           {
            "marker": {
             "colorbar": {
              "outlinewidth": 0,
              "ticks": ""
             }
            },
            "type": "scattercarpet"
           }
          ],
          "scattergeo": [
           {
            "marker": {
             "colorbar": {
              "outlinewidth": 0,
              "ticks": ""
             }
            },
            "type": "scattergeo"
           }
          ],
          "scattergl": [
           {
            "marker": {
             "colorbar": {
              "outlinewidth": 0,
              "ticks": ""
             }
            },
            "type": "scattergl"
           }
          ],
          "scattermapbox": [
           {
            "marker": {
             "colorbar": {
              "outlinewidth": 0,
              "ticks": ""
             }
            },
            "type": "scattermapbox"
           }
          ],
          "scatterpolar": [
           {
            "marker": {
             "colorbar": {
              "outlinewidth": 0,
              "ticks": ""
             }
            },
            "type": "scatterpolar"
           }
          ],
          "scatterpolargl": [
           {
            "marker": {
             "colorbar": {
              "outlinewidth": 0,
              "ticks": ""
             }
            },
            "type": "scatterpolargl"
           }
          ],
          "scatterternary": [
           {
            "marker": {
             "colorbar": {
              "outlinewidth": 0,
              "ticks": ""
             }
            },
            "type": "scatterternary"
           }
          ],
          "surface": [
           {
            "colorbar": {
             "outlinewidth": 0,
             "ticks": ""
            },
            "colorscale": [
             [
              0,
              "#0d0887"
             ],
             [
              0.1111111111111111,
              "#46039f"
             ],
             [
              0.2222222222222222,
              "#7201a8"
             ],
             [
              0.3333333333333333,
              "#9c179e"
             ],
             [
              0.4444444444444444,
              "#bd3786"
             ],
             [
              0.5555555555555556,
              "#d8576b"
             ],
             [
              0.6666666666666666,
              "#ed7953"
             ],
             [
              0.7777777777777778,
              "#fb9f3a"
             ],
             [
              0.8888888888888888,
              "#fdca26"
             ],
             [
              1,
              "#f0f921"
             ]
            ],
            "type": "surface"
           }
          ],
          "table": [
           {
            "cells": {
             "fill": {
              "color": "#EBF0F8"
             },
             "line": {
              "color": "white"
             }
            },
            "header": {
             "fill": {
              "color": "#C8D4E3"
             },
             "line": {
              "color": "white"
             }
            },
            "type": "table"
           }
          ]
         },
         "layout": {
          "annotationdefaults": {
           "arrowcolor": "#2a3f5f",
           "arrowhead": 0,
           "arrowwidth": 1
          },
          "autotypenumbers": "strict",
          "coloraxis": {
           "colorbar": {
            "outlinewidth": 0,
            "ticks": ""
           }
          },
          "colorscale": {
           "diverging": [
            [
             0,
             "#8e0152"
            ],
            [
             0.1,
             "#c51b7d"
            ],
            [
             0.2,
             "#de77ae"
            ],
            [
             0.3,
             "#f1b6da"
            ],
            [
             0.4,
             "#fde0ef"
            ],
            [
             0.5,
             "#f7f7f7"
            ],
            [
             0.6,
             "#e6f5d0"
            ],
            [
             0.7,
             "#b8e186"
            ],
            [
             0.8,
             "#7fbc41"
            ],
            [
             0.9,
             "#4d9221"
            ],
            [
             1,
             "#276419"
            ]
           ],
           "sequential": [
            [
             0,
             "#0d0887"
            ],
            [
             0.1111111111111111,
             "#46039f"
            ],
            [
             0.2222222222222222,
             "#7201a8"
            ],
            [
             0.3333333333333333,
             "#9c179e"
            ],
            [
             0.4444444444444444,
             "#bd3786"
            ],
            [
             0.5555555555555556,
             "#d8576b"
            ],
            [
             0.6666666666666666,
             "#ed7953"
            ],
            [
             0.7777777777777778,
             "#fb9f3a"
            ],
            [
             0.8888888888888888,
             "#fdca26"
            ],
            [
             1,
             "#f0f921"
            ]
           ],
           "sequentialminus": [
            [
             0,
             "#0d0887"
            ],
            [
             0.1111111111111111,
             "#46039f"
            ],
            [
             0.2222222222222222,
             "#7201a8"
            ],
            [
             0.3333333333333333,
             "#9c179e"
            ],
            [
             0.4444444444444444,
             "#bd3786"
            ],
            [
             0.5555555555555556,
             "#d8576b"
            ],
            [
             0.6666666666666666,
             "#ed7953"
            ],
            [
             0.7777777777777778,
             "#fb9f3a"
            ],
            [
             0.8888888888888888,
             "#fdca26"
            ],
            [
             1,
             "#f0f921"
            ]
           ]
          },
          "colorway": [
           "#636efa",
           "#EF553B",
           "#00cc96",
           "#ab63fa",
           "#FFA15A",
           "#19d3f3",
           "#FF6692",
           "#B6E880",
           "#FF97FF",
           "#FECB52"
          ],
          "font": {
           "color": "#2a3f5f"
          },
          "geo": {
           "bgcolor": "white",
           "lakecolor": "white",
           "landcolor": "#E5ECF6",
           "showlakes": true,
           "showland": true,
           "subunitcolor": "white"
          },
          "hoverlabel": {
           "align": "left"
          },
          "hovermode": "closest",
          "mapbox": {
           "style": "light"
          },
          "paper_bgcolor": "white",
          "plot_bgcolor": "#E5ECF6",
          "polar": {
           "angularaxis": {
            "gridcolor": "white",
            "linecolor": "white",
            "ticks": ""
           },
           "bgcolor": "#E5ECF6",
           "radialaxis": {
            "gridcolor": "white",
            "linecolor": "white",
            "ticks": ""
           }
          },
          "scene": {
           "xaxis": {
            "backgroundcolor": "#E5ECF6",
            "gridcolor": "white",
            "gridwidth": 2,
            "linecolor": "white",
            "showbackground": true,
            "ticks": "",
            "zerolinecolor": "white"
           },
           "yaxis": {
            "backgroundcolor": "#E5ECF6",
            "gridcolor": "white",
            "gridwidth": 2,
            "linecolor": "white",
            "showbackground": true,
            "ticks": "",
            "zerolinecolor": "white"
           },
           "zaxis": {
            "backgroundcolor": "#E5ECF6",
            "gridcolor": "white",
            "gridwidth": 2,
            "linecolor": "white",
            "showbackground": true,
            "ticks": "",
            "zerolinecolor": "white"
           }
          },
          "shapedefaults": {
           "line": {
            "color": "#2a3f5f"
           }
          },
          "ternary": {
           "aaxis": {
            "gridcolor": "white",
            "linecolor": "white",
            "ticks": ""
           },
           "baxis": {
            "gridcolor": "white",
            "linecolor": "white",
            "ticks": ""
           },
           "bgcolor": "#E5ECF6",
           "caxis": {
            "gridcolor": "white",
            "linecolor": "white",
            "ticks": ""
           }
          },
          "title": {
           "x": 0.05
          },
          "xaxis": {
           "automargin": true,
           "gridcolor": "white",
           "linecolor": "white",
           "ticks": "",
           "title": {
            "standoff": 15
           },
           "zerolinecolor": "white",
           "zerolinewidth": 2
          },
          "yaxis": {
           "automargin": true,
           "gridcolor": "white",
           "linecolor": "white",
           "ticks": "",
           "title": {
            "standoff": 15
           },
           "zerolinecolor": "white",
           "zerolinewidth": 2
          }
         }
        },
        "title": {
         "text": "Mean values per genre"
        },
        "width": 750,
        "xaxis": {
         "anchor": "y",
         "domain": [
          0,
          1
         ],
         "title": {
          "text": "Mean values per blues"
         }
        },
        "yaxis": {
         "anchor": "x",
         "categoryarray": [
          "explicit",
          "valence",
          "liveness",
          "instrumentalness",
          "acousticness",
          "speechiness",
          "energy",
          "danceability"
         ],
         "categoryorder": "array",
         "domain": [
          0,
          1
         ],
         "title": {
          "text": "parameter"
         }
        }
       }
      }
     },
     "metadata": {},
     "output_type": "display_data"
    },
    {
     "data": {
      "application/vnd.plotly.v1+json": {
       "config": {
        "plotlyServerURL": "https://plot.ly"
       },
       "data": [
        {
         "alignmentgroup": "True",
         "hovertemplate": "parameter=%{y}<br>value=%{x}<extra></extra>",
         "legendgroup": "danceability",
         "marker": {
          "color": "#636efa",
          "pattern": {
           "shape": ""
          }
         },
         "name": "danceability",
         "offsetgroup": "danceability",
         "orientation": "h",
         "showlegend": true,
         "textposition": "auto",
         "type": "bar",
         "x": [
          0.6051282051282051
         ],
         "xaxis": "x",
         "y": [
          "danceability"
         ],
         "yaxis": "y"
        },
        {
         "alignmentgroup": "True",
         "hovertemplate": "parameter=%{y}<br>value=%{x}<extra></extra>",
         "legendgroup": "energy",
         "marker": {
          "color": "#EF553B",
          "pattern": {
           "shape": ""
          }
         },
         "name": "energy",
         "offsetgroup": "energy",
         "orientation": "h",
         "showlegend": true,
         "textposition": "auto",
         "type": "bar",
         "x": [
          0.578
         ],
         "xaxis": "x",
         "y": [
          "energy"
         ],
         "yaxis": "y"
        },
        {
         "alignmentgroup": "True",
         "hovertemplate": "parameter=%{y}<br>value=%{x}<extra></extra>",
         "legendgroup": "speechiness",
         "marker": {
          "color": "#00cc96",
          "pattern": {
           "shape": ""
          }
         },
         "name": "speechiness",
         "offsetgroup": "speechiness",
         "orientation": "h",
         "showlegend": true,
         "textposition": "auto",
         "type": "bar",
         "x": [
          0.0528
         ],
         "xaxis": "x",
         "y": [
          "speechiness"
         ],
         "yaxis": "y"
        },
        {
         "alignmentgroup": "True",
         "hovertemplate": "parameter=%{y}<br>value=%{x}<extra></extra>",
         "legendgroup": "acousticness",
         "marker": {
          "color": "#ab63fa",
          "pattern": {
           "shape": ""
          }
         },
         "name": "acousticness",
         "offsetgroup": "acousticness",
         "orientation": "h",
         "showlegend": true,
         "textposition": "auto",
         "type": "bar",
         "x": [
          0.6270491803278688
         ],
         "xaxis": "x",
         "y": [
          "acousticness"
         ],
         "yaxis": "y"
        },
        {
         "alignmentgroup": "True",
         "hovertemplate": "parameter=%{y}<br>value=%{x}<extra></extra>",
         "legendgroup": "instrumentalness",
         "marker": {
          "color": "#FFA15A",
          "pattern": {
           "shape": ""
          }
         },
         "name": "instrumentalness",
         "offsetgroup": "instrumentalness",
         "orientation": "h",
         "showlegend": true,
         "textposition": "auto",
         "type": "bar",
         "x": [
          1.6446700507614215E-4
         ],
         "xaxis": "x",
         "y": [
          "instrumentalness"
         ],
         "yaxis": "y"
        },
        {
         "alignmentgroup": "True",
         "hovertemplate": "parameter=%{y}<br>value=%{x}<extra></extra>",
         "legendgroup": "liveness",
         "marker": {
          "color": "#19d3f3",
          "pattern": {
           "shape": ""
          }
         },
         "name": "liveness",
         "offsetgroup": "liveness",
         "orientation": "h",
         "showlegend": true,
         "textposition": "auto",
         "type": "bar",
         "x": [
          0.0837
         ],
         "xaxis": "x",
         "y": [
          "liveness"
         ],
         "yaxis": "y"
        },
        {
         "alignmentgroup": "True",
         "hovertemplate": "parameter=%{y}<br>value=%{x}<extra></extra>",
         "legendgroup": "valence",
         "marker": {
          "color": "#FF6692",
          "pattern": {
           "shape": ""
          }
         },
         "name": "valence",
         "offsetgroup": "valence",
         "orientation": "h",
         "showlegend": true,
         "textposition": "auto",
         "type": "bar",
         "x": [
          0.264
         ],
         "xaxis": "x",
         "y": [
          "valence"
         ],
         "yaxis": "y"
        },
        {
         "alignmentgroup": "True",
         "hovertemplate": "parameter=%{y}<br>value=%{x}<extra></extra>",
         "legendgroup": "explicit",
         "marker": {
          "color": "#B6E880",
          "pattern": {
           "shape": ""
          }
         },
         "name": "explicit",
         "offsetgroup": "explicit",
         "orientation": "h",
         "showlegend": true,
         "textposition": "auto",
         "type": "bar",
         "x": [
          0
         ],
         "xaxis": "x",
         "y": [
          "explicit"
         ],
         "yaxis": "y"
        }
       ],
       "layout": {
        "barmode": "relative",
        "font": {
         "size": 18
        },
        "height": 500,
        "legend": {
         "title": {
          "text": "parameter"
         },
         "tracegroupgap": 0
        },
        "template": {
         "data": {
          "bar": [
           {
            "error_x": {
             "color": "#2a3f5f"
            },
            "error_y": {
             "color": "#2a3f5f"
            },
            "marker": {
             "line": {
              "color": "#E5ECF6",
              "width": 0.5
             },
             "pattern": {
              "fillmode": "overlay",
              "size": 10,
              "solidity": 0.2
             }
            },
            "type": "bar"
           }
          ],
          "barpolar": [
           {
            "marker": {
             "line": {
              "color": "#E5ECF6",
              "width": 0.5
             },
             "pattern": {
              "fillmode": "overlay",
              "size": 10,
              "solidity": 0.2
             }
            },
            "type": "barpolar"
           }
          ],
          "carpet": [
           {
            "aaxis": {
             "endlinecolor": "#2a3f5f",
             "gridcolor": "white",
             "linecolor": "white",
             "minorgridcolor": "white",
             "startlinecolor": "#2a3f5f"
            },
            "baxis": {
             "endlinecolor": "#2a3f5f",
             "gridcolor": "white",
             "linecolor": "white",
             "minorgridcolor": "white",
             "startlinecolor": "#2a3f5f"
            },
            "type": "carpet"
           }
          ],
          "choropleth": [
           {
            "colorbar": {
             "outlinewidth": 0,
             "ticks": ""
            },
            "type": "choropleth"
           }
          ],
          "contour": [
           {
            "colorbar": {
             "outlinewidth": 0,
             "ticks": ""
            },
            "colorscale": [
             [
              0,
              "#0d0887"
             ],
             [
              0.1111111111111111,
              "#46039f"
             ],
             [
              0.2222222222222222,
              "#7201a8"
             ],
             [
              0.3333333333333333,
              "#9c179e"
             ],
             [
              0.4444444444444444,
              "#bd3786"
             ],
             [
              0.5555555555555556,
              "#d8576b"
             ],
             [
              0.6666666666666666,
              "#ed7953"
             ],
             [
              0.7777777777777778,
              "#fb9f3a"
             ],
             [
              0.8888888888888888,
              "#fdca26"
             ],
             [
              1,
              "#f0f921"
             ]
            ],
            "type": "contour"
           }
          ],
          "contourcarpet": [
           {
            "colorbar": {
             "outlinewidth": 0,
             "ticks": ""
            },
            "type": "contourcarpet"
           }
          ],
          "heatmap": [
           {
            "colorbar": {
             "outlinewidth": 0,
             "ticks": ""
            },
            "colorscale": [
             [
              0,
              "#0d0887"
             ],
             [
              0.1111111111111111,
              "#46039f"
             ],
             [
              0.2222222222222222,
              "#7201a8"
             ],
             [
              0.3333333333333333,
              "#9c179e"
             ],
             [
              0.4444444444444444,
              "#bd3786"
             ],
             [
              0.5555555555555556,
              "#d8576b"
             ],
             [
              0.6666666666666666,
              "#ed7953"
             ],
             [
              0.7777777777777778,
              "#fb9f3a"
             ],
             [
              0.8888888888888888,
              "#fdca26"
             ],
             [
              1,
              "#f0f921"
             ]
            ],
            "type": "heatmap"
           }
          ],
          "heatmapgl": [
           {
            "colorbar": {
             "outlinewidth": 0,
             "ticks": ""
            },
            "colorscale": [
             [
              0,
              "#0d0887"
             ],
             [
              0.1111111111111111,
              "#46039f"
             ],
             [
              0.2222222222222222,
              "#7201a8"
             ],
             [
              0.3333333333333333,
              "#9c179e"
             ],
             [
              0.4444444444444444,
              "#bd3786"
             ],
             [
              0.5555555555555556,
              "#d8576b"
             ],
             [
              0.6666666666666666,
              "#ed7953"
             ],
             [
              0.7777777777777778,
              "#fb9f3a"
             ],
             [
              0.8888888888888888,
              "#fdca26"
             ],
             [
              1,
              "#f0f921"
             ]
            ],
            "type": "heatmapgl"
           }
          ],
          "histogram": [
           {
            "marker": {
             "pattern": {
              "fillmode": "overlay",
              "size": 10,
              "solidity": 0.2
             }
            },
            "type": "histogram"
           }
          ],
          "histogram2d": [
           {
            "colorbar": {
             "outlinewidth": 0,
             "ticks": ""
            },
            "colorscale": [
             [
              0,
              "#0d0887"
             ],
             [
              0.1111111111111111,
              "#46039f"
             ],
             [
              0.2222222222222222,
              "#7201a8"
             ],
             [
              0.3333333333333333,
              "#9c179e"
             ],
             [
              0.4444444444444444,
              "#bd3786"
             ],
             [
              0.5555555555555556,
              "#d8576b"
             ],
             [
              0.6666666666666666,
              "#ed7953"
             ],
             [
              0.7777777777777778,
              "#fb9f3a"
             ],
             [
              0.8888888888888888,
              "#fdca26"
             ],
             [
              1,
              "#f0f921"
             ]
            ],
            "type": "histogram2d"
           }
          ],
          "histogram2dcontour": [
           {
            "colorbar": {
             "outlinewidth": 0,
             "ticks": ""
            },
            "colorscale": [
             [
              0,
              "#0d0887"
             ],
             [
              0.1111111111111111,
              "#46039f"
             ],
             [
              0.2222222222222222,
              "#7201a8"
             ],
             [
              0.3333333333333333,
              "#9c179e"
             ],
             [
              0.4444444444444444,
              "#bd3786"
             ],
             [
              0.5555555555555556,
              "#d8576b"
             ],
             [
              0.6666666666666666,
              "#ed7953"
             ],
             [
              0.7777777777777778,
              "#fb9f3a"
             ],
             [
              0.8888888888888888,
              "#fdca26"
             ],
             [
              1,
              "#f0f921"
             ]
            ],
            "type": "histogram2dcontour"
           }
          ],
          "mesh3d": [
           {
            "colorbar": {
             "outlinewidth": 0,
             "ticks": ""
            },
            "type": "mesh3d"
           }
          ],
          "parcoords": [
           {
            "line": {
             "colorbar": {
              "outlinewidth": 0,
              "ticks": ""
             }
            },
            "type": "parcoords"
           }
          ],
          "pie": [
           {
            "automargin": true,
            "type": "pie"
           }
          ],
          "scatter": [
           {
            "marker": {
             "colorbar": {
              "outlinewidth": 0,
              "ticks": ""
             }
            },
            "type": "scatter"
           }
          ],
          "scatter3d": [
           {
            "line": {
             "colorbar": {
              "outlinewidth": 0,
              "ticks": ""
             }
            },
            "marker": {
             "colorbar": {
              "outlinewidth": 0,
              "ticks": ""
             }
            },
            "type": "scatter3d"
           }
          ],
          "scattercarpet": [
           {
            "marker": {
             "colorbar": {
              "outlinewidth": 0,
              "ticks": ""
             }
            },
            "type": "scattercarpet"
           }
          ],
          "scattergeo": [
           {
            "marker": {
             "colorbar": {
              "outlinewidth": 0,
              "ticks": ""
             }
            },
            "type": "scattergeo"
           }
          ],
          "scattergl": [
           {
            "marker": {
             "colorbar": {
              "outlinewidth": 0,
              "ticks": ""
             }
            },
            "type": "scattergl"
           }
          ],
          "scattermapbox": [
           {
            "marker": {
             "colorbar": {
              "outlinewidth": 0,
              "ticks": ""
             }
            },
            "type": "scattermapbox"
           }
          ],
          "scatterpolar": [
           {
            "marker": {
             "colorbar": {
              "outlinewidth": 0,
              "ticks": ""
             }
            },
            "type": "scatterpolar"
           }
          ],
          "scatterpolargl": [
           {
            "marker": {
             "colorbar": {
              "outlinewidth": 0,
              "ticks": ""
             }
            },
            "type": "scatterpolargl"
           }
          ],
          "scatterternary": [
           {
            "marker": {
             "colorbar": {
              "outlinewidth": 0,
              "ticks": ""
             }
            },
            "type": "scatterternary"
           }
          ],
          "surface": [
           {
            "colorbar": {
             "outlinewidth": 0,
             "ticks": ""
            },
            "colorscale": [
             [
              0,
              "#0d0887"
             ],
             [
              0.1111111111111111,
              "#46039f"
             ],
             [
              0.2222222222222222,
              "#7201a8"
             ],
             [
              0.3333333333333333,
              "#9c179e"
             ],
             [
              0.4444444444444444,
              "#bd3786"
             ],
             [
              0.5555555555555556,
              "#d8576b"
             ],
             [
              0.6666666666666666,
              "#ed7953"
             ],
             [
              0.7777777777777778,
              "#fb9f3a"
             ],
             [
              0.8888888888888888,
              "#fdca26"
             ],
             [
              1,
              "#f0f921"
             ]
            ],
            "type": "surface"
           }
          ],
          "table": [
           {
            "cells": {
             "fill": {
              "color": "#EBF0F8"
             },
             "line": {
              "color": "white"
             }
            },
            "header": {
             "fill": {
              "color": "#C8D4E3"
             },
             "line": {
              "color": "white"
             }
            },
            "type": "table"
           }
          ]
         },
         "layout": {
          "annotationdefaults": {
           "arrowcolor": "#2a3f5f",
           "arrowhead": 0,
           "arrowwidth": 1
          },
          "autotypenumbers": "strict",
          "coloraxis": {
           "colorbar": {
            "outlinewidth": 0,
            "ticks": ""
           }
          },
          "colorscale": {
           "diverging": [
            [
             0,
             "#8e0152"
            ],
            [
             0.1,
             "#c51b7d"
            ],
            [
             0.2,
             "#de77ae"
            ],
            [
             0.3,
             "#f1b6da"
            ],
            [
             0.4,
             "#fde0ef"
            ],
            [
             0.5,
             "#f7f7f7"
            ],
            [
             0.6,
             "#e6f5d0"
            ],
            [
             0.7,
             "#b8e186"
            ],
            [
             0.8,
             "#7fbc41"
            ],
            [
             0.9,
             "#4d9221"
            ],
            [
             1,
             "#276419"
            ]
           ],
           "sequential": [
            [
             0,
             "#0d0887"
            ],
            [
             0.1111111111111111,
             "#46039f"
            ],
            [
             0.2222222222222222,
             "#7201a8"
            ],
            [
             0.3333333333333333,
             "#9c179e"
            ],
            [
             0.4444444444444444,
             "#bd3786"
            ],
            [
             0.5555555555555556,
             "#d8576b"
            ],
            [
             0.6666666666666666,
             "#ed7953"
            ],
            [
             0.7777777777777778,
             "#fb9f3a"
            ],
            [
             0.8888888888888888,
             "#fdca26"
            ],
            [
             1,
             "#f0f921"
            ]
           ],
           "sequentialminus": [
            [
             0,
             "#0d0887"
            ],
            [
             0.1111111111111111,
             "#46039f"
            ],
            [
             0.2222222222222222,
             "#7201a8"
            ],
            [
             0.3333333333333333,
             "#9c179e"
            ],
            [
             0.4444444444444444,
             "#bd3786"
            ],
            [
             0.5555555555555556,
             "#d8576b"
            ],
            [
             0.6666666666666666,
             "#ed7953"
            ],
            [
             0.7777777777777778,
             "#fb9f3a"
            ],
            [
             0.8888888888888888,
             "#fdca26"
            ],
            [
             1,
             "#f0f921"
            ]
           ]
          },
          "colorway": [
           "#636efa",
           "#EF553B",
           "#00cc96",
           "#ab63fa",
           "#FFA15A",
           "#19d3f3",
           "#FF6692",
           "#B6E880",
           "#FF97FF",
           "#FECB52"
          ],
          "font": {
           "color": "#2a3f5f"
          },
          "geo": {
           "bgcolor": "white",
           "lakecolor": "white",
           "landcolor": "#E5ECF6",
           "showlakes": true,
           "showland": true,
           "subunitcolor": "white"
          },
          "hoverlabel": {
           "align": "left"
          },
          "hovermode": "closest",
          "mapbox": {
           "style": "light"
          },
          "paper_bgcolor": "white",
          "plot_bgcolor": "#E5ECF6",
          "polar": {
           "angularaxis": {
            "gridcolor": "white",
            "linecolor": "white",
            "ticks": ""
           },
           "bgcolor": "#E5ECF6",
           "radialaxis": {
            "gridcolor": "white",
            "linecolor": "white",
            "ticks": ""
           }
          },
          "scene": {
           "xaxis": {
            "backgroundcolor": "#E5ECF6",
            "gridcolor": "white",
            "gridwidth": 2,
            "linecolor": "white",
            "showbackground": true,
            "ticks": "",
            "zerolinecolor": "white"
           },
           "yaxis": {
            "backgroundcolor": "#E5ECF6",
            "gridcolor": "white",
            "gridwidth": 2,
            "linecolor": "white",
            "showbackground": true,
            "ticks": "",
            "zerolinecolor": "white"
           },
           "zaxis": {
            "backgroundcolor": "#E5ECF6",
            "gridcolor": "white",
            "gridwidth": 2,
            "linecolor": "white",
            "showbackground": true,
            "ticks": "",
            "zerolinecolor": "white"
           }
          },
          "shapedefaults": {
           "line": {
            "color": "#2a3f5f"
           }
          },
          "ternary": {
           "aaxis": {
            "gridcolor": "white",
            "linecolor": "white",
            "ticks": ""
           },
           "baxis": {
            "gridcolor": "white",
            "linecolor": "white",
            "ticks": ""
           },
           "bgcolor": "#E5ECF6",
           "caxis": {
            "gridcolor": "white",
            "linecolor": "white",
            "ticks": ""
           }
          },
          "title": {
           "x": 0.05
          },
          "xaxis": {
           "automargin": true,
           "gridcolor": "white",
           "linecolor": "white",
           "ticks": "",
           "title": {
            "standoff": 15
           },
           "zerolinecolor": "white",
           "zerolinewidth": 2
          },
          "yaxis": {
           "automargin": true,
           "gridcolor": "white",
           "linecolor": "white",
           "ticks": "",
           "title": {
            "standoff": 15
           },
           "zerolinecolor": "white",
           "zerolinewidth": 2
          }
         }
        },
        "title": {
         "text": "Mean values per genre"
        },
        "width": 750,
        "xaxis": {
         "anchor": "y",
         "domain": [
          0,
          1
         ],
         "title": {
          "text": "Mean values per classical"
         }
        },
        "yaxis": {
         "anchor": "x",
         "categoryarray": [
          "explicit",
          "valence",
          "liveness",
          "instrumentalness",
          "acousticness",
          "speechiness",
          "energy",
          "danceability"
         ],
         "categoryorder": "array",
         "domain": [
          0,
          1
         ],
         "title": {
          "text": "parameter"
         }
        }
       }
      }
     },
     "metadata": {},
     "output_type": "display_data"
    },
    {
     "data": {
      "application/vnd.plotly.v1+json": {
       "config": {
        "plotlyServerURL": "https://plot.ly"
       },
       "data": [
        {
         "alignmentgroup": "True",
         "hovertemplate": "parameter=%{y}<br>value=%{x}<extra></extra>",
         "legendgroup": "danceability",
         "marker": {
          "color": "#636efa",
          "pattern": {
           "shape": ""
          }
         },
         "name": "danceability",
         "offsetgroup": "danceability",
         "orientation": "h",
         "showlegend": true,
         "textposition": "auto",
         "type": "bar",
         "x": [
          0.5954871794871794
         ],
         "xaxis": "x",
         "y": [
          "danceability"
         ],
         "yaxis": "y"
        },
        {
         "alignmentgroup": "True",
         "hovertemplate": "parameter=%{y}<br>value=%{x}<extra></extra>",
         "legendgroup": "energy",
         "marker": {
          "color": "#EF553B",
          "pattern": {
           "shape": ""
          }
         },
         "name": "energy",
         "offsetgroup": "energy",
         "orientation": "h",
         "showlegend": true,
         "textposition": "auto",
         "type": "bar",
         "x": [
          0.7297
         ],
         "xaxis": "x",
         "y": [
          "energy"
         ],
         "yaxis": "y"
        },
        {
         "alignmentgroup": "True",
         "hovertemplate": "parameter=%{y}<br>value=%{x}<extra></extra>",
         "legendgroup": "speechiness",
         "marker": {
          "color": "#00cc96",
          "pattern": {
           "shape": ""
          }
         },
         "name": "speechiness",
         "offsetgroup": "speechiness",
         "orientation": "h",
         "showlegend": true,
         "textposition": "auto",
         "type": "bar",
         "x": [
          0.06069
         ],
         "xaxis": "x",
         "y": [
          "speechiness"
         ],
         "yaxis": "y"
        },
        {
         "alignmentgroup": "True",
         "hovertemplate": "parameter=%{y}<br>value=%{x}<extra></extra>",
         "legendgroup": "acousticness",
         "marker": {
          "color": "#ab63fa",
          "pattern": {
           "shape": ""
          }
         },
         "name": "acousticness",
         "offsetgroup": "acousticness",
         "orientation": "h",
         "showlegend": true,
         "textposition": "auto",
         "type": "bar",
         "x": [
          0.22725512295081968
         ],
         "xaxis": "x",
         "y": [
          "acousticness"
         ],
         "yaxis": "y"
        },
        {
         "alignmentgroup": "True",
         "hovertemplate": "parameter=%{y}<br>value=%{x}<extra></extra>",
         "legendgroup": "instrumentalness",
         "marker": {
          "color": "#FFA15A",
          "pattern": {
           "shape": ""
          }
         },
         "name": "instrumentalness",
         "offsetgroup": "instrumentalness",
         "orientation": "h",
         "showlegend": true,
         "textposition": "auto",
         "type": "bar",
         "x": [
          1.4500000000000003E-5
         ],
         "xaxis": "x",
         "y": [
          "instrumentalness"
         ],
         "yaxis": "y"
        },
        {
         "alignmentgroup": "True",
         "hovertemplate": "parameter=%{y}<br>value=%{x}<extra></extra>",
         "legendgroup": "liveness",
         "marker": {
          "color": "#19d3f3",
          "pattern": {
           "shape": ""
          }
         },
         "name": "liveness",
         "offsetgroup": "liveness",
         "orientation": "h",
         "showlegend": true,
         "textposition": "auto",
         "type": "bar",
         "x": [
          0.18194000000000002
         ],
         "xaxis": "x",
         "y": [
          "liveness"
         ],
         "yaxis": "y"
        },
        {
         "alignmentgroup": "True",
         "hovertemplate": "parameter=%{y}<br>value=%{x}<extra></extra>",
         "legendgroup": "valence",
         "marker": {
          "color": "#FF6692",
          "pattern": {
           "shape": ""
          }
         },
         "name": "valence",
         "offsetgroup": "valence",
         "orientation": "h",
         "showlegend": true,
         "textposition": "auto",
         "type": "bar",
         "x": [
          0.53375
         ],
         "xaxis": "x",
         "y": [
          "valence"
         ],
         "yaxis": "y"
        },
        {
         "alignmentgroup": "True",
         "hovertemplate": "parameter=%{y}<br>value=%{x}<extra></extra>",
         "legendgroup": "explicit",
         "marker": {
          "color": "#B6E880",
          "pattern": {
           "shape": ""
          }
         },
         "name": "explicit",
         "offsetgroup": "explicit",
         "orientation": "h",
         "showlegend": true,
         "textposition": "auto",
         "type": "bar",
         "x": [
          0.05
         ],
         "xaxis": "x",
         "y": [
          "explicit"
         ],
         "yaxis": "y"
        }
       ],
       "layout": {
        "barmode": "relative",
        "font": {
         "size": 18
        },
        "height": 500,
        "legend": {
         "title": {
          "text": "parameter"
         },
         "tracegroupgap": 0
        },
        "template": {
         "data": {
          "bar": [
           {
            "error_x": {
             "color": "#2a3f5f"
            },
            "error_y": {
             "color": "#2a3f5f"
            },
            "marker": {
             "line": {
              "color": "#E5ECF6",
              "width": 0.5
             },
             "pattern": {
              "fillmode": "overlay",
              "size": 10,
              "solidity": 0.2
             }
            },
            "type": "bar"
           }
          ],
          "barpolar": [
           {
            "marker": {
             "line": {
              "color": "#E5ECF6",
              "width": 0.5
             },
             "pattern": {
              "fillmode": "overlay",
              "size": 10,
              "solidity": 0.2
             }
            },
            "type": "barpolar"
           }
          ],
          "carpet": [
           {
            "aaxis": {
             "endlinecolor": "#2a3f5f",
             "gridcolor": "white",
             "linecolor": "white",
             "minorgridcolor": "white",
             "startlinecolor": "#2a3f5f"
            },
            "baxis": {
             "endlinecolor": "#2a3f5f",
             "gridcolor": "white",
             "linecolor": "white",
             "minorgridcolor": "white",
             "startlinecolor": "#2a3f5f"
            },
            "type": "carpet"
           }
          ],
          "choropleth": [
           {
            "colorbar": {
             "outlinewidth": 0,
             "ticks": ""
            },
            "type": "choropleth"
           }
          ],
          "contour": [
           {
            "colorbar": {
             "outlinewidth": 0,
             "ticks": ""
            },
            "colorscale": [
             [
              0,
              "#0d0887"
             ],
             [
              0.1111111111111111,
              "#46039f"
             ],
             [
              0.2222222222222222,
              "#7201a8"
             ],
             [
              0.3333333333333333,
              "#9c179e"
             ],
             [
              0.4444444444444444,
              "#bd3786"
             ],
             [
              0.5555555555555556,
              "#d8576b"
             ],
             [
              0.6666666666666666,
              "#ed7953"
             ],
             [
              0.7777777777777778,
              "#fb9f3a"
             ],
             [
              0.8888888888888888,
              "#fdca26"
             ],
             [
              1,
              "#f0f921"
             ]
            ],
            "type": "contour"
           }
          ],
          "contourcarpet": [
           {
            "colorbar": {
             "outlinewidth": 0,
             "ticks": ""
            },
            "type": "contourcarpet"
           }
          ],
          "heatmap": [
           {
            "colorbar": {
             "outlinewidth": 0,
             "ticks": ""
            },
            "colorscale": [
             [
              0,
              "#0d0887"
             ],
             [
              0.1111111111111111,
              "#46039f"
             ],
             [
              0.2222222222222222,
              "#7201a8"
             ],
             [
              0.3333333333333333,
              "#9c179e"
             ],
             [
              0.4444444444444444,
              "#bd3786"
             ],
             [
              0.5555555555555556,
              "#d8576b"
             ],
             [
              0.6666666666666666,
              "#ed7953"
             ],
             [
              0.7777777777777778,
              "#fb9f3a"
             ],
             [
              0.8888888888888888,
              "#fdca26"
             ],
             [
              1,
              "#f0f921"
             ]
            ],
            "type": "heatmap"
           }
          ],
          "heatmapgl": [
           {
            "colorbar": {
             "outlinewidth": 0,
             "ticks": ""
            },
            "colorscale": [
             [
              0,
              "#0d0887"
             ],
             [
              0.1111111111111111,
              "#46039f"
             ],
             [
              0.2222222222222222,
              "#7201a8"
             ],
             [
              0.3333333333333333,
              "#9c179e"
             ],
             [
              0.4444444444444444,
              "#bd3786"
             ],
             [
              0.5555555555555556,
              "#d8576b"
             ],
             [
              0.6666666666666666,
              "#ed7953"
             ],
             [
              0.7777777777777778,
              "#fb9f3a"
             ],
             [
              0.8888888888888888,
              "#fdca26"
             ],
             [
              1,
              "#f0f921"
             ]
            ],
            "type": "heatmapgl"
           }
          ],
          "histogram": [
           {
            "marker": {
             "pattern": {
              "fillmode": "overlay",
              "size": 10,
              "solidity": 0.2
             }
            },
            "type": "histogram"
           }
          ],
          "histogram2d": [
           {
            "colorbar": {
             "outlinewidth": 0,
             "ticks": ""
            },
            "colorscale": [
             [
              0,
              "#0d0887"
             ],
             [
              0.1111111111111111,
              "#46039f"
             ],
             [
              0.2222222222222222,
              "#7201a8"
             ],
             [
              0.3333333333333333,
              "#9c179e"
             ],
             [
              0.4444444444444444,
              "#bd3786"
             ],
             [
              0.5555555555555556,
              "#d8576b"
             ],
             [
              0.6666666666666666,
              "#ed7953"
             ],
             [
              0.7777777777777778,
              "#fb9f3a"
             ],
             [
              0.8888888888888888,
              "#fdca26"
             ],
             [
              1,
              "#f0f921"
             ]
            ],
            "type": "histogram2d"
           }
          ],
          "histogram2dcontour": [
           {
            "colorbar": {
             "outlinewidth": 0,
             "ticks": ""
            },
            "colorscale": [
             [
              0,
              "#0d0887"
             ],
             [
              0.1111111111111111,
              "#46039f"
             ],
             [
              0.2222222222222222,
              "#7201a8"
             ],
             [
              0.3333333333333333,
              "#9c179e"
             ],
             [
              0.4444444444444444,
              "#bd3786"
             ],
             [
              0.5555555555555556,
              "#d8576b"
             ],
             [
              0.6666666666666666,
              "#ed7953"
             ],
             [
              0.7777777777777778,
              "#fb9f3a"
             ],
             [
              0.8888888888888888,
              "#fdca26"
             ],
             [
              1,
              "#f0f921"
             ]
            ],
            "type": "histogram2dcontour"
           }
          ],
          "mesh3d": [
           {
            "colorbar": {
             "outlinewidth": 0,
             "ticks": ""
            },
            "type": "mesh3d"
           }
          ],
          "parcoords": [
           {
            "line": {
             "colorbar": {
              "outlinewidth": 0,
              "ticks": ""
             }
            },
            "type": "parcoords"
           }
          ],
          "pie": [
           {
            "automargin": true,
            "type": "pie"
           }
          ],
          "scatter": [
           {
            "marker": {
             "colorbar": {
              "outlinewidth": 0,
              "ticks": ""
             }
            },
            "type": "scatter"
           }
          ],
          "scatter3d": [
           {
            "line": {
             "colorbar": {
              "outlinewidth": 0,
              "ticks": ""
             }
            },
            "marker": {
             "colorbar": {
              "outlinewidth": 0,
              "ticks": ""
             }
            },
            "type": "scatter3d"
           }
          ],
          "scattercarpet": [
           {
            "marker": {
             "colorbar": {
              "outlinewidth": 0,
              "ticks": ""
             }
            },
            "type": "scattercarpet"
           }
          ],
          "scattergeo": [
           {
            "marker": {
             "colorbar": {
              "outlinewidth": 0,
              "ticks": ""
             }
            },
            "type": "scattergeo"
           }
          ],
          "scattergl": [
           {
            "marker": {
             "colorbar": {
              "outlinewidth": 0,
              "ticks": ""
             }
            },
            "type": "scattergl"
           }
          ],
          "scattermapbox": [
           {
            "marker": {
             "colorbar": {
              "outlinewidth": 0,
              "ticks": ""
             }
            },
            "type": "scattermapbox"
           }
          ],
          "scatterpolar": [
           {
            "marker": {
             "colorbar": {
              "outlinewidth": 0,
              "ticks": ""
             }
            },
            "type": "scatterpolar"
           }
          ],
          "scatterpolargl": [
           {
            "marker": {
             "colorbar": {
              "outlinewidth": 0,
              "ticks": ""
             }
            },
            "type": "scatterpolargl"
           }
          ],
          "scatterternary": [
           {
            "marker": {
             "colorbar": {
              "outlinewidth": 0,
              "ticks": ""
             }
            },
            "type": "scatterternary"
           }
          ],
          "surface": [
           {
            "colorbar": {
             "outlinewidth": 0,
             "ticks": ""
            },
            "colorscale": [
             [
              0,
              "#0d0887"
             ],
             [
              0.1111111111111111,
              "#46039f"
             ],
             [
              0.2222222222222222,
              "#7201a8"
             ],
             [
              0.3333333333333333,
              "#9c179e"
             ],
             [
              0.4444444444444444,
              "#bd3786"
             ],
             [
              0.5555555555555556,
              "#d8576b"
             ],
             [
              0.6666666666666666,
              "#ed7953"
             ],
             [
              0.7777777777777778,
              "#fb9f3a"
             ],
             [
              0.8888888888888888,
              "#fdca26"
             ],
             [
              1,
              "#f0f921"
             ]
            ],
            "type": "surface"
           }
          ],
          "table": [
           {
            "cells": {
             "fill": {
              "color": "#EBF0F8"
             },
             "line": {
              "color": "white"
             }
            },
            "header": {
             "fill": {
              "color": "#C8D4E3"
             },
             "line": {
              "color": "white"
             }
            },
            "type": "table"
           }
          ]
         },
         "layout": {
          "annotationdefaults": {
           "arrowcolor": "#2a3f5f",
           "arrowhead": 0,
           "arrowwidth": 1
          },
          "autotypenumbers": "strict",
          "coloraxis": {
           "colorbar": {
            "outlinewidth": 0,
            "ticks": ""
           }
          },
          "colorscale": {
           "diverging": [
            [
             0,
             "#8e0152"
            ],
            [
             0.1,
             "#c51b7d"
            ],
            [
             0.2,
             "#de77ae"
            ],
            [
             0.3,
             "#f1b6da"
            ],
            [
             0.4,
             "#fde0ef"
            ],
            [
             0.5,
             "#f7f7f7"
            ],
            [
             0.6,
             "#e6f5d0"
            ],
            [
             0.7,
             "#b8e186"
            ],
            [
             0.8,
             "#7fbc41"
            ],
            [
             0.9,
             "#4d9221"
            ],
            [
             1,
             "#276419"
            ]
           ],
           "sequential": [
            [
             0,
             "#0d0887"
            ],
            [
             0.1111111111111111,
             "#46039f"
            ],
            [
             0.2222222222222222,
             "#7201a8"
            ],
            [
             0.3333333333333333,
             "#9c179e"
            ],
            [
             0.4444444444444444,
             "#bd3786"
            ],
            [
             0.5555555555555556,
             "#d8576b"
            ],
            [
             0.6666666666666666,
             "#ed7953"
            ],
            [
             0.7777777777777778,
             "#fb9f3a"
            ],
            [
             0.8888888888888888,
             "#fdca26"
            ],
            [
             1,
             "#f0f921"
            ]
           ],
           "sequentialminus": [
            [
             0,
             "#0d0887"
            ],
            [
             0.1111111111111111,
             "#46039f"
            ],
            [
             0.2222222222222222,
             "#7201a8"
            ],
            [
             0.3333333333333333,
             "#9c179e"
            ],
            [
             0.4444444444444444,
             "#bd3786"
            ],
            [
             0.5555555555555556,
             "#d8576b"
            ],
            [
             0.6666666666666666,
             "#ed7953"
            ],
            [
             0.7777777777777778,
             "#fb9f3a"
            ],
            [
             0.8888888888888888,
             "#fdca26"
            ],
            [
             1,
             "#f0f921"
            ]
           ]
          },
          "colorway": [
           "#636efa",
           "#EF553B",
           "#00cc96",
           "#ab63fa",
           "#FFA15A",
           "#19d3f3",
           "#FF6692",
           "#B6E880",
           "#FF97FF",
           "#FECB52"
          ],
          "font": {
           "color": "#2a3f5f"
          },
          "geo": {
           "bgcolor": "white",
           "lakecolor": "white",
           "landcolor": "#E5ECF6",
           "showlakes": true,
           "showland": true,
           "subunitcolor": "white"
          },
          "hoverlabel": {
           "align": "left"
          },
          "hovermode": "closest",
          "mapbox": {
           "style": "light"
          },
          "paper_bgcolor": "white",
          "plot_bgcolor": "#E5ECF6",
          "polar": {
           "angularaxis": {
            "gridcolor": "white",
            "linecolor": "white",
            "ticks": ""
           },
           "bgcolor": "#E5ECF6",
           "radialaxis": {
            "gridcolor": "white",
            "linecolor": "white",
            "ticks": ""
           }
          },
          "scene": {
           "xaxis": {
            "backgroundcolor": "#E5ECF6",
            "gridcolor": "white",
            "gridwidth": 2,
            "linecolor": "white",
            "showbackground": true,
            "ticks": "",
            "zerolinecolor": "white"
           },
           "yaxis": {
            "backgroundcolor": "#E5ECF6",
            "gridcolor": "white",
            "gridwidth": 2,
            "linecolor": "white",
            "showbackground": true,
            "ticks": "",
            "zerolinecolor": "white"
           },
           "zaxis": {
            "backgroundcolor": "#E5ECF6",
            "gridcolor": "white",
            "gridwidth": 2,
            "linecolor": "white",
            "showbackground": true,
            "ticks": "",
            "zerolinecolor": "white"
           }
          },
          "shapedefaults": {
           "line": {
            "color": "#2a3f5f"
           }
          },
          "ternary": {
           "aaxis": {
            "gridcolor": "white",
            "linecolor": "white",
            "ticks": ""
           },
           "baxis": {
            "gridcolor": "white",
            "linecolor": "white",
            "ticks": ""
           },
           "bgcolor": "#E5ECF6",
           "caxis": {
            "gridcolor": "white",
            "linecolor": "white",
            "ticks": ""
           }
          },
          "title": {
           "x": 0.05
          },
          "xaxis": {
           "automargin": true,
           "gridcolor": "white",
           "linecolor": "white",
           "ticks": "",
           "title": {
            "standoff": 15
           },
           "zerolinecolor": "white",
           "zerolinewidth": 2
          },
          "yaxis": {
           "automargin": true,
           "gridcolor": "white",
           "linecolor": "white",
           "ticks": "",
           "title": {
            "standoff": 15
           },
           "zerolinecolor": "white",
           "zerolinewidth": 2
          }
         }
        },
        "title": {
         "text": "Mean values per genre"
        },
        "width": 750,
        "xaxis": {
         "anchor": "y",
         "domain": [
          0,
          1
         ],
         "title": {
          "text": "Mean values per country"
         }
        },
        "yaxis": {
         "anchor": "x",
         "categoryarray": [
          "explicit",
          "valence",
          "liveness",
          "instrumentalness",
          "acousticness",
          "speechiness",
          "energy",
          "danceability"
         ],
         "categoryorder": "array",
         "domain": [
          0,
          1
         ],
         "title": {
          "text": "parameter"
         }
        }
       }
      }
     },
     "metadata": {},
     "output_type": "display_data"
    },
    {
     "data": {
      "application/vnd.plotly.v1+json": {
       "config": {
        "plotlyServerURL": "https://plot.ly"
       },
       "data": [
        {
         "alignmentgroup": "True",
         "hovertemplate": "parameter=%{y}<br>value=%{x}<extra></extra>",
         "legendgroup": "danceability",
         "marker": {
          "color": "#636efa",
          "pattern": {
           "shape": ""
          }
         },
         "name": "danceability",
         "offsetgroup": "danceability",
         "orientation": "h",
         "showlegend": true,
         "textposition": "auto",
         "type": "bar",
         "x": [
          0.5953846153846154
         ],
         "xaxis": "x",
         "y": [
          "danceability"
         ],
         "yaxis": "y"
        },
        {
         "alignmentgroup": "True",
         "hovertemplate": "parameter=%{y}<br>value=%{x}<extra></extra>",
         "legendgroup": "energy",
         "marker": {
          "color": "#EF553B",
          "pattern": {
           "shape": ""
          }
         },
         "name": "energy",
         "offsetgroup": "energy",
         "orientation": "h",
         "showlegend": true,
         "textposition": "auto",
         "type": "bar",
         "x": [
          0.6586666666666666
         ],
         "xaxis": "x",
         "y": [
          "energy"
         ],
         "yaxis": "y"
        },
        {
         "alignmentgroup": "True",
         "hovertemplate": "parameter=%{y}<br>value=%{x}<extra></extra>",
         "legendgroup": "speechiness",
         "marker": {
          "color": "#00cc96",
          "pattern": {
           "shape": ""
          }
         },
         "name": "speechiness",
         "offsetgroup": "speechiness",
         "orientation": "h",
         "showlegend": true,
         "textposition": "auto",
         "type": "bar",
         "x": [
          0.0526
         ],
         "xaxis": "x",
         "y": [
          "speechiness"
         ],
         "yaxis": "y"
        },
        {
         "alignmentgroup": "True",
         "hovertemplate": "parameter=%{y}<br>value=%{x}<extra></extra>",
         "legendgroup": "acousticness",
         "marker": {
          "color": "#ab63fa",
          "pattern": {
           "shape": ""
          }
         },
         "name": "acousticness",
         "offsetgroup": "acousticness",
         "orientation": "h",
         "showlegend": true,
         "textposition": "auto",
         "type": "bar",
         "x": [
          0.2630505464480874
         ],
         "xaxis": "x",
         "y": [
          "acousticness"
         ],
         "yaxis": "y"
        },
        {
         "alignmentgroup": "True",
         "hovertemplate": "parameter=%{y}<br>value=%{x}<extra></extra>",
         "legendgroup": "instrumentalness",
         "marker": {
          "color": "#FFA15A",
          "pattern": {
           "shape": ""
          }
         },
         "name": "instrumentalness",
         "offsetgroup": "instrumentalness",
         "orientation": "h",
         "showlegend": true,
         "textposition": "auto",
         "type": "bar",
         "x": [
          0.04541218274111675
         ],
         "xaxis": "x",
         "y": [
          "instrumentalness"
         ],
         "yaxis": "y"
        },
        {
         "alignmentgroup": "True",
         "hovertemplate": "parameter=%{y}<br>value=%{x}<extra></extra>",
         "legendgroup": "liveness",
         "marker": {
          "color": "#19d3f3",
          "pattern": {
           "shape": ""
          }
         },
         "name": "liveness",
         "offsetgroup": "liveness",
         "orientation": "h",
         "showlegend": true,
         "textposition": "auto",
         "type": "bar",
         "x": [
          0.14073333333333335
         ],
         "xaxis": "x",
         "y": [
          "liveness"
         ],
         "yaxis": "y"
        },
        {
         "alignmentgroup": "True",
         "hovertemplate": "parameter=%{y}<br>value=%{x}<extra></extra>",
         "legendgroup": "valence",
         "marker": {
          "color": "#FF6692",
          "pattern": {
           "shape": ""
          }
         },
         "name": "valence",
         "offsetgroup": "valence",
         "orientation": "h",
         "showlegend": true,
         "textposition": "auto",
         "type": "bar",
         "x": [
          0.51
         ],
         "xaxis": "x",
         "y": [
          "valence"
         ],
         "yaxis": "y"
        },
        {
         "alignmentgroup": "True",
         "hovertemplate": "parameter=%{y}<br>value=%{x}<extra></extra>",
         "legendgroup": "explicit",
         "marker": {
          "color": "#B6E880",
          "pattern": {
           "shape": ""
          }
         },
         "name": "explicit",
         "offsetgroup": "explicit",
         "orientation": "h",
         "showlegend": true,
         "textposition": "auto",
         "type": "bar",
         "x": [
          0
         ],
         "xaxis": "x",
         "y": [
          "explicit"
         ],
         "yaxis": "y"
        }
       ],
       "layout": {
        "barmode": "relative",
        "font": {
         "size": 18
        },
        "height": 500,
        "legend": {
         "title": {
          "text": "parameter"
         },
         "tracegroupgap": 0
        },
        "template": {
         "data": {
          "bar": [
           {
            "error_x": {
             "color": "#2a3f5f"
            },
            "error_y": {
             "color": "#2a3f5f"
            },
            "marker": {
             "line": {
              "color": "#E5ECF6",
              "width": 0.5
             },
             "pattern": {
              "fillmode": "overlay",
              "size": 10,
              "solidity": 0.2
             }
            },
            "type": "bar"
           }
          ],
          "barpolar": [
           {
            "marker": {
             "line": {
              "color": "#E5ECF6",
              "width": 0.5
             },
             "pattern": {
              "fillmode": "overlay",
              "size": 10,
              "solidity": 0.2
             }
            },
            "type": "barpolar"
           }
          ],
          "carpet": [
           {
            "aaxis": {
             "endlinecolor": "#2a3f5f",
             "gridcolor": "white",
             "linecolor": "white",
             "minorgridcolor": "white",
             "startlinecolor": "#2a3f5f"
            },
            "baxis": {
             "endlinecolor": "#2a3f5f",
             "gridcolor": "white",
             "linecolor": "white",
             "minorgridcolor": "white",
             "startlinecolor": "#2a3f5f"
            },
            "type": "carpet"
           }
          ],
          "choropleth": [
           {
            "colorbar": {
             "outlinewidth": 0,
             "ticks": ""
            },
            "type": "choropleth"
           }
          ],
          "contour": [
           {
            "colorbar": {
             "outlinewidth": 0,
             "ticks": ""
            },
            "colorscale": [
             [
              0,
              "#0d0887"
             ],
             [
              0.1111111111111111,
              "#46039f"
             ],
             [
              0.2222222222222222,
              "#7201a8"
             ],
             [
              0.3333333333333333,
              "#9c179e"
             ],
             [
              0.4444444444444444,
              "#bd3786"
             ],
             [
              0.5555555555555556,
              "#d8576b"
             ],
             [
              0.6666666666666666,
              "#ed7953"
             ],
             [
              0.7777777777777778,
              "#fb9f3a"
             ],
             [
              0.8888888888888888,
              "#fdca26"
             ],
             [
              1,
              "#f0f921"
             ]
            ],
            "type": "contour"
           }
          ],
          "contourcarpet": [
           {
            "colorbar": {
             "outlinewidth": 0,
             "ticks": ""
            },
            "type": "contourcarpet"
           }
          ],
          "heatmap": [
           {
            "colorbar": {
             "outlinewidth": 0,
             "ticks": ""
            },
            "colorscale": [
             [
              0,
              "#0d0887"
             ],
             [
              0.1111111111111111,
              "#46039f"
             ],
             [
              0.2222222222222222,
              "#7201a8"
             ],
             [
              0.3333333333333333,
              "#9c179e"
             ],
             [
              0.4444444444444444,
              "#bd3786"
             ],
             [
              0.5555555555555556,
              "#d8576b"
             ],
             [
              0.6666666666666666,
              "#ed7953"
             ],
             [
              0.7777777777777778,
              "#fb9f3a"
             ],
             [
              0.8888888888888888,
              "#fdca26"
             ],
             [
              1,
              "#f0f921"
             ]
            ],
            "type": "heatmap"
           }
          ],
          "heatmapgl": [
           {
            "colorbar": {
             "outlinewidth": 0,
             "ticks": ""
            },
            "colorscale": [
             [
              0,
              "#0d0887"
             ],
             [
              0.1111111111111111,
              "#46039f"
             ],
             [
              0.2222222222222222,
              "#7201a8"
             ],
             [
              0.3333333333333333,
              "#9c179e"
             ],
             [
              0.4444444444444444,
              "#bd3786"
             ],
             [
              0.5555555555555556,
              "#d8576b"
             ],
             [
              0.6666666666666666,
              "#ed7953"
             ],
             [
              0.7777777777777778,
              "#fb9f3a"
             ],
             [
              0.8888888888888888,
              "#fdca26"
             ],
             [
              1,
              "#f0f921"
             ]
            ],
            "type": "heatmapgl"
           }
          ],
          "histogram": [
           {
            "marker": {
             "pattern": {
              "fillmode": "overlay",
              "size": 10,
              "solidity": 0.2
             }
            },
            "type": "histogram"
           }
          ],
          "histogram2d": [
           {
            "colorbar": {
             "outlinewidth": 0,
             "ticks": ""
            },
            "colorscale": [
             [
              0,
              "#0d0887"
             ],
             [
              0.1111111111111111,
              "#46039f"
             ],
             [
              0.2222222222222222,
              "#7201a8"
             ],
             [
              0.3333333333333333,
              "#9c179e"
             ],
             [
              0.4444444444444444,
              "#bd3786"
             ],
             [
              0.5555555555555556,
              "#d8576b"
             ],
             [
              0.6666666666666666,
              "#ed7953"
             ],
             [
              0.7777777777777778,
              "#fb9f3a"
             ],
             [
              0.8888888888888888,
              "#fdca26"
             ],
             [
              1,
              "#f0f921"
             ]
            ],
            "type": "histogram2d"
           }
          ],
          "histogram2dcontour": [
           {
            "colorbar": {
             "outlinewidth": 0,
             "ticks": ""
            },
            "colorscale": [
             [
              0,
              "#0d0887"
             ],
             [
              0.1111111111111111,
              "#46039f"
             ],
             [
              0.2222222222222222,
              "#7201a8"
             ],
             [
              0.3333333333333333,
              "#9c179e"
             ],
             [
              0.4444444444444444,
              "#bd3786"
             ],
             [
              0.5555555555555556,
              "#d8576b"
             ],
             [
              0.6666666666666666,
              "#ed7953"
             ],
             [
              0.7777777777777778,
              "#fb9f3a"
             ],
             [
              0.8888888888888888,
              "#fdca26"
             ],
             [
              1,
              "#f0f921"
             ]
            ],
            "type": "histogram2dcontour"
           }
          ],
          "mesh3d": [
           {
            "colorbar": {
             "outlinewidth": 0,
             "ticks": ""
            },
            "type": "mesh3d"
           }
          ],
          "parcoords": [
           {
            "line": {
             "colorbar": {
              "outlinewidth": 0,
              "ticks": ""
             }
            },
            "type": "parcoords"
           }
          ],
          "pie": [
           {
            "automargin": true,
            "type": "pie"
           }
          ],
          "scatter": [
           {
            "marker": {
             "colorbar": {
              "outlinewidth": 0,
              "ticks": ""
             }
            },
            "type": "scatter"
           }
          ],
          "scatter3d": [
           {
            "line": {
             "colorbar": {
              "outlinewidth": 0,
              "ticks": ""
             }
            },
            "marker": {
             "colorbar": {
              "outlinewidth": 0,
              "ticks": ""
             }
            },
            "type": "scatter3d"
           }
          ],
          "scattercarpet": [
           {
            "marker": {
             "colorbar": {
              "outlinewidth": 0,
              "ticks": ""
             }
            },
            "type": "scattercarpet"
           }
          ],
          "scattergeo": [
           {
            "marker": {
             "colorbar": {
              "outlinewidth": 0,
              "ticks": ""
             }
            },
            "type": "scattergeo"
           }
          ],
          "scattergl": [
           {
            "marker": {
             "colorbar": {
              "outlinewidth": 0,
              "ticks": ""
             }
            },
            "type": "scattergl"
           }
          ],
          "scattermapbox": [
           {
            "marker": {
             "colorbar": {
              "outlinewidth": 0,
              "ticks": ""
             }
            },
            "type": "scattermapbox"
           }
          ],
          "scatterpolar": [
           {
            "marker": {
             "colorbar": {
              "outlinewidth": 0,
              "ticks": ""
             }
            },
            "type": "scatterpolar"
           }
          ],
          "scatterpolargl": [
           {
            "marker": {
             "colorbar": {
              "outlinewidth": 0,
              "ticks": ""
             }
            },
            "type": "scatterpolargl"
           }
          ],
          "scatterternary": [
           {
            "marker": {
             "colorbar": {
              "outlinewidth": 0,
              "ticks": ""
             }
            },
            "type": "scatterternary"
           }
          ],
          "surface": [
           {
            "colorbar": {
             "outlinewidth": 0,
             "ticks": ""
            },
            "colorscale": [
             [
              0,
              "#0d0887"
             ],
             [
              0.1111111111111111,
              "#46039f"
             ],
             [
              0.2222222222222222,
              "#7201a8"
             ],
             [
              0.3333333333333333,
              "#9c179e"
             ],
             [
              0.4444444444444444,
              "#bd3786"
             ],
             [
              0.5555555555555556,
              "#d8576b"
             ],
             [
              0.6666666666666666,
              "#ed7953"
             ],
             [
              0.7777777777777778,
              "#fb9f3a"
             ],
             [
              0.8888888888888888,
              "#fdca26"
             ],
             [
              1,
              "#f0f921"
             ]
            ],
            "type": "surface"
           }
          ],
          "table": [
           {
            "cells": {
             "fill": {
              "color": "#EBF0F8"
             },
             "line": {
              "color": "white"
             }
            },
            "header": {
             "fill": {
              "color": "#C8D4E3"
             },
             "line": {
              "color": "white"
             }
            },
            "type": "table"
           }
          ]
         },
         "layout": {
          "annotationdefaults": {
           "arrowcolor": "#2a3f5f",
           "arrowhead": 0,
           "arrowwidth": 1
          },
          "autotypenumbers": "strict",
          "coloraxis": {
           "colorbar": {
            "outlinewidth": 0,
            "ticks": ""
           }
          },
          "colorscale": {
           "diverging": [
            [
             0,
             "#8e0152"
            ],
            [
             0.1,
             "#c51b7d"
            ],
            [
             0.2,
             "#de77ae"
            ],
            [
             0.3,
             "#f1b6da"
            ],
            [
             0.4,
             "#fde0ef"
            ],
            [
             0.5,
             "#f7f7f7"
            ],
            [
             0.6,
             "#e6f5d0"
            ],
            [
             0.7,
             "#b8e186"
            ],
            [
             0.8,
             "#7fbc41"
            ],
            [
             0.9,
             "#4d9221"
            ],
            [
             1,
             "#276419"
            ]
           ],
           "sequential": [
            [
             0,
             "#0d0887"
            ],
            [
             0.1111111111111111,
             "#46039f"
            ],
            [
             0.2222222222222222,
             "#7201a8"
            ],
            [
             0.3333333333333333,
             "#9c179e"
            ],
            [
             0.4444444444444444,
             "#bd3786"
            ],
            [
             0.5555555555555556,
             "#d8576b"
            ],
            [
             0.6666666666666666,
             "#ed7953"
            ],
            [
             0.7777777777777778,
             "#fb9f3a"
            ],
            [
             0.8888888888888888,
             "#fdca26"
            ],
            [
             1,
             "#f0f921"
            ]
           ],
           "sequentialminus": [
            [
             0,
             "#0d0887"
            ],
            [
             0.1111111111111111,
             "#46039f"
            ],
            [
             0.2222222222222222,
             "#7201a8"
            ],
            [
             0.3333333333333333,
             "#9c179e"
            ],
            [
             0.4444444444444444,
             "#bd3786"
            ],
            [
             0.5555555555555556,
             "#d8576b"
            ],
            [
             0.6666666666666666,
             "#ed7953"
            ],
            [
             0.7777777777777778,
             "#fb9f3a"
            ],
            [
             0.8888888888888888,
             "#fdca26"
            ],
            [
             1,
             "#f0f921"
            ]
           ]
          },
          "colorway": [
           "#636efa",
           "#EF553B",
           "#00cc96",
           "#ab63fa",
           "#FFA15A",
           "#19d3f3",
           "#FF6692",
           "#B6E880",
           "#FF97FF",
           "#FECB52"
          ],
          "font": {
           "color": "#2a3f5f"
          },
          "geo": {
           "bgcolor": "white",
           "lakecolor": "white",
           "landcolor": "#E5ECF6",
           "showlakes": true,
           "showland": true,
           "subunitcolor": "white"
          },
          "hoverlabel": {
           "align": "left"
          },
          "hovermode": "closest",
          "mapbox": {
           "style": "light"
          },
          "paper_bgcolor": "white",
          "plot_bgcolor": "#E5ECF6",
          "polar": {
           "angularaxis": {
            "gridcolor": "white",
            "linecolor": "white",
            "ticks": ""
           },
           "bgcolor": "#E5ECF6",
           "radialaxis": {
            "gridcolor": "white",
            "linecolor": "white",
            "ticks": ""
           }
          },
          "scene": {
           "xaxis": {
            "backgroundcolor": "#E5ECF6",
            "gridcolor": "white",
            "gridwidth": 2,
            "linecolor": "white",
            "showbackground": true,
            "ticks": "",
            "zerolinecolor": "white"
           },
           "yaxis": {
            "backgroundcolor": "#E5ECF6",
            "gridcolor": "white",
            "gridwidth": 2,
            "linecolor": "white",
            "showbackground": true,
            "ticks": "",
            "zerolinecolor": "white"
           },
           "zaxis": {
            "backgroundcolor": "#E5ECF6",
            "gridcolor": "white",
            "gridwidth": 2,
            "linecolor": "white",
            "showbackground": true,
            "ticks": "",
            "zerolinecolor": "white"
           }
          },
          "shapedefaults": {
           "line": {
            "color": "#2a3f5f"
           }
          },
          "ternary": {
           "aaxis": {
            "gridcolor": "white",
            "linecolor": "white",
            "ticks": ""
           },
           "baxis": {
            "gridcolor": "white",
            "linecolor": "white",
            "ticks": ""
           },
           "bgcolor": "#E5ECF6",
           "caxis": {
            "gridcolor": "white",
            "linecolor": "white",
            "ticks": ""
           }
          },
          "title": {
           "x": 0.05
          },
          "xaxis": {
           "automargin": true,
           "gridcolor": "white",
           "linecolor": "white",
           "ticks": "",
           "title": {
            "standoff": 15
           },
           "zerolinecolor": "white",
           "zerolinewidth": 2
          },
          "yaxis": {
           "automargin": true,
           "gridcolor": "white",
           "linecolor": "white",
           "ticks": "",
           "title": {
            "standoff": 15
           },
           "zerolinecolor": "white",
           "zerolinewidth": 2
          }
         }
        },
        "title": {
         "text": "Mean values per genre"
        },
        "width": 750,
        "xaxis": {
         "anchor": "y",
         "domain": [
          0,
          1
         ],
         "title": {
          "text": "Mean values per easy listening"
         }
        },
        "yaxis": {
         "anchor": "x",
         "categoryarray": [
          "explicit",
          "valence",
          "liveness",
          "instrumentalness",
          "acousticness",
          "speechiness",
          "energy",
          "danceability"
         ],
         "categoryorder": "array",
         "domain": [
          0,
          1
         ],
         "title": {
          "text": "parameter"
         }
        }
       }
      }
     },
     "metadata": {},
     "output_type": "display_data"
    },
    {
     "data": {
      "application/vnd.plotly.v1+json": {
       "config": {
        "plotlyServerURL": "https://plot.ly"
       },
       "data": [
        {
         "alignmentgroup": "True",
         "hovertemplate": "parameter=%{y}<br>value=%{x}<extra></extra>",
         "legendgroup": "danceability",
         "marker": {
          "color": "#636efa",
          "pattern": {
           "shape": ""
          }
         },
         "name": "danceability",
         "offsetgroup": "danceability",
         "orientation": "h",
         "showlegend": true,
         "textposition": "auto",
         "type": "bar",
         "x": [
          0.7354740918803429
         ],
         "xaxis": "x",
         "y": [
          "danceability"
         ],
         "yaxis": "y"
        },
        {
         "alignmentgroup": "True",
         "hovertemplate": "parameter=%{y}<br>value=%{x}<extra></extra>",
         "legendgroup": "energy",
         "marker": {
          "color": "#EF553B",
          "pattern": {
           "shape": ""
          }
         },
         "name": "energy",
         "offsetgroup": "energy",
         "orientation": "h",
         "showlegend": true,
         "textposition": "auto",
         "type": "bar",
         "x": [
          0.698658854166668
         ],
         "xaxis": "x",
         "y": [
          "energy"
         ],
         "yaxis": "y"
        },
        {
         "alignmentgroup": "True",
         "hovertemplate": "parameter=%{y}<br>value=%{x}<extra></extra>",
         "legendgroup": "speechiness",
         "marker": {
          "color": "#00cc96",
          "pattern": {
           "shape": ""
          }
         },
         "name": "speechiness",
         "offsetgroup": "speechiness",
         "orientation": "h",
         "showlegend": true,
         "textposition": "auto",
         "type": "bar",
         "x": [
          0.1517407552083334
         ],
         "xaxis": "x",
         "y": [
          "speechiness"
         ],
         "yaxis": "y"
        },
        {
         "alignmentgroup": "True",
         "hovertemplate": "parameter=%{y}<br>value=%{x}<extra></extra>",
         "legendgroup": "acousticness",
         "marker": {
          "color": "#ab63fa",
          "pattern": {
           "shape": ""
          }
         },
         "name": "acousticness",
         "offsetgroup": "acousticness",
         "orientation": "h",
         "showlegend": true,
         "textposition": "auto",
         "type": "bar",
         "x": [
          0.11916703087645164
         ],
         "xaxis": "x",
         "y": [
          "acousticness"
         ],
         "yaxis": "y"
        },
        {
         "alignmentgroup": "True",
         "hovertemplate": "parameter=%{y}<br>value=%{x}<extra></extra>",
         "legendgroup": "instrumentalness",
         "marker": {
          "color": "#FFA15A",
          "pattern": {
           "shape": ""
          }
         },
         "name": "instrumentalness",
         "offsetgroup": "instrumentalness",
         "orientation": "h",
         "showlegend": true,
         "textposition": "auto",
         "type": "bar",
         "x": [
          0.006863077583016069
         ],
         "xaxis": "x",
         "y": [
          "instrumentalness"
         ],
         "yaxis": "y"
        },
        {
         "alignmentgroup": "True",
         "hovertemplate": "parameter=%{y}<br>value=%{x}<extra></extra>",
         "legendgroup": "liveness",
         "marker": {
          "color": "#19d3f3",
          "pattern": {
           "shape": ""
          }
         },
         "name": "liveness",
         "offsetgroup": "liveness",
         "orientation": "h",
         "showlegend": true,
         "textposition": "auto",
         "type": "bar",
         "x": [
          0.18750833333333308
         ],
         "xaxis": "x",
         "y": [
          "liveness"
         ],
         "yaxis": "y"
        },
        {
         "alignmentgroup": "True",
         "hovertemplate": "parameter=%{y}<br>value=%{x}<extra></extra>",
         "legendgroup": "valence",
         "marker": {
          "color": "#FF6692",
          "pattern": {
           "shape": ""
          }
         },
         "name": "valence",
         "offsetgroup": "valence",
         "orientation": "h",
         "showlegend": true,
         "textposition": "auto",
         "type": "bar",
         "x": [
          0.5608850260416668
         ],
         "xaxis": "x",
         "y": [
          "valence"
         ],
         "yaxis": "y"
        },
        {
         "alignmentgroup": "True",
         "hovertemplate": "parameter=%{y}<br>value=%{x}<extra></extra>",
         "legendgroup": "explicit",
         "marker": {
          "color": "#B6E880",
          "pattern": {
           "shape": ""
          }
         },
         "name": "explicit",
         "offsetgroup": "explicit",
         "orientation": "h",
         "showlegend": true,
         "textposition": "auto",
         "type": "bar",
         "x": [
          0.5455729166666666
         ],
         "xaxis": "x",
         "y": [
          "explicit"
         ],
         "yaxis": "y"
        }
       ],
       "layout": {
        "barmode": "relative",
        "font": {
         "size": 18
        },
        "height": 500,
        "legend": {
         "title": {
          "text": "parameter"
         },
         "tracegroupgap": 0
        },
        "template": {
         "data": {
          "bar": [
           {
            "error_x": {
             "color": "#2a3f5f"
            },
            "error_y": {
             "color": "#2a3f5f"
            },
            "marker": {
             "line": {
              "color": "#E5ECF6",
              "width": 0.5
             },
             "pattern": {
              "fillmode": "overlay",
              "size": 10,
              "solidity": 0.2
             }
            },
            "type": "bar"
           }
          ],
          "barpolar": [
           {
            "marker": {
             "line": {
              "color": "#E5ECF6",
              "width": 0.5
             },
             "pattern": {
              "fillmode": "overlay",
              "size": 10,
              "solidity": 0.2
             }
            },
            "type": "barpolar"
           }
          ],
          "carpet": [
           {
            "aaxis": {
             "endlinecolor": "#2a3f5f",
             "gridcolor": "white",
             "linecolor": "white",
             "minorgridcolor": "white",
             "startlinecolor": "#2a3f5f"
            },
            "baxis": {
             "endlinecolor": "#2a3f5f",
             "gridcolor": "white",
             "linecolor": "white",
             "minorgridcolor": "white",
             "startlinecolor": "#2a3f5f"
            },
            "type": "carpet"
           }
          ],
          "choropleth": [
           {
            "colorbar": {
             "outlinewidth": 0,
             "ticks": ""
            },
            "type": "choropleth"
           }
          ],
          "contour": [
           {
            "colorbar": {
             "outlinewidth": 0,
             "ticks": ""
            },
            "colorscale": [
             [
              0,
              "#0d0887"
             ],
             [
              0.1111111111111111,
              "#46039f"
             ],
             [
              0.2222222222222222,
              "#7201a8"
             ],
             [
              0.3333333333333333,
              "#9c179e"
             ],
             [
              0.4444444444444444,
              "#bd3786"
             ],
             [
              0.5555555555555556,
              "#d8576b"
             ],
             [
              0.6666666666666666,
              "#ed7953"
             ],
             [
              0.7777777777777778,
              "#fb9f3a"
             ],
             [
              0.8888888888888888,
              "#fdca26"
             ],
             [
              1,
              "#f0f921"
             ]
            ],
            "type": "contour"
           }
          ],
          "contourcarpet": [
           {
            "colorbar": {
             "outlinewidth": 0,
             "ticks": ""
            },
            "type": "contourcarpet"
           }
          ],
          "heatmap": [
           {
            "colorbar": {
             "outlinewidth": 0,
             "ticks": ""
            },
            "colorscale": [
             [
              0,
              "#0d0887"
             ],
             [
              0.1111111111111111,
              "#46039f"
             ],
             [
              0.2222222222222222,
              "#7201a8"
             ],
             [
              0.3333333333333333,
              "#9c179e"
             ],
             [
              0.4444444444444444,
              "#bd3786"
             ],
             [
              0.5555555555555556,
              "#d8576b"
             ],
             [
              0.6666666666666666,
              "#ed7953"
             ],
             [
              0.7777777777777778,
              "#fb9f3a"
             ],
             [
              0.8888888888888888,
              "#fdca26"
             ],
             [
              1,
              "#f0f921"
             ]
            ],
            "type": "heatmap"
           }
          ],
          "heatmapgl": [
           {
            "colorbar": {
             "outlinewidth": 0,
             "ticks": ""
            },
            "colorscale": [
             [
              0,
              "#0d0887"
             ],
             [
              0.1111111111111111,
              "#46039f"
             ],
             [
              0.2222222222222222,
              "#7201a8"
             ],
             [
              0.3333333333333333,
              "#9c179e"
             ],
             [
              0.4444444444444444,
              "#bd3786"
             ],
             [
              0.5555555555555556,
              "#d8576b"
             ],
             [
              0.6666666666666666,
              "#ed7953"
             ],
             [
              0.7777777777777778,
              "#fb9f3a"
             ],
             [
              0.8888888888888888,
              "#fdca26"
             ],
             [
              1,
              "#f0f921"
             ]
            ],
            "type": "heatmapgl"
           }
          ],
          "histogram": [
           {
            "marker": {
             "pattern": {
              "fillmode": "overlay",
              "size": 10,
              "solidity": 0.2
             }
            },
            "type": "histogram"
           }
          ],
          "histogram2d": [
           {
            "colorbar": {
             "outlinewidth": 0,
             "ticks": ""
            },
            "colorscale": [
             [
              0,
              "#0d0887"
             ],
             [
              0.1111111111111111,
              "#46039f"
             ],
             [
              0.2222222222222222,
              "#7201a8"
             ],
             [
              0.3333333333333333,
              "#9c179e"
             ],
             [
              0.4444444444444444,
              "#bd3786"
             ],
             [
              0.5555555555555556,
              "#d8576b"
             ],
             [
              0.6666666666666666,
              "#ed7953"
             ],
             [
              0.7777777777777778,
              "#fb9f3a"
             ],
             [
              0.8888888888888888,
              "#fdca26"
             ],
             [
              1,
              "#f0f921"
             ]
            ],
            "type": "histogram2d"
           }
          ],
          "histogram2dcontour": [
           {
            "colorbar": {
             "outlinewidth": 0,
             "ticks": ""
            },
            "colorscale": [
             [
              0,
              "#0d0887"
             ],
             [
              0.1111111111111111,
              "#46039f"
             ],
             [
              0.2222222222222222,
              "#7201a8"
             ],
             [
              0.3333333333333333,
              "#9c179e"
             ],
             [
              0.4444444444444444,
              "#bd3786"
             ],
             [
              0.5555555555555556,
              "#d8576b"
             ],
             [
              0.6666666666666666,
              "#ed7953"
             ],
             [
              0.7777777777777778,
              "#fb9f3a"
             ],
             [
              0.8888888888888888,
              "#fdca26"
             ],
             [
              1,
              "#f0f921"
             ]
            ],
            "type": "histogram2dcontour"
           }
          ],
          "mesh3d": [
           {
            "colorbar": {
             "outlinewidth": 0,
             "ticks": ""
            },
            "type": "mesh3d"
           }
          ],
          "parcoords": [
           {
            "line": {
             "colorbar": {
              "outlinewidth": 0,
              "ticks": ""
             }
            },
            "type": "parcoords"
           }
          ],
          "pie": [
           {
            "automargin": true,
            "type": "pie"
           }
          ],
          "scatter": [
           {
            "marker": {
             "colorbar": {
              "outlinewidth": 0,
              "ticks": ""
             }
            },
            "type": "scatter"
           }
          ],
          "scatter3d": [
           {
            "line": {
             "colorbar": {
              "outlinewidth": 0,
              "ticks": ""
             }
            },
            "marker": {
             "colorbar": {
              "outlinewidth": 0,
              "ticks": ""
             }
            },
            "type": "scatter3d"
           }
          ],
          "scattercarpet": [
           {
            "marker": {
             "colorbar": {
              "outlinewidth": 0,
              "ticks": ""
             }
            },
            "type": "scattercarpet"
           }
          ],
          "scattergeo": [
           {
            "marker": {
             "colorbar": {
              "outlinewidth": 0,
              "ticks": ""
             }
            },
            "type": "scattergeo"
           }
          ],
          "scattergl": [
           {
            "marker": {
             "colorbar": {
              "outlinewidth": 0,
              "ticks": ""
             }
            },
            "type": "scattergl"
           }
          ],
          "scattermapbox": [
           {
            "marker": {
             "colorbar": {
              "outlinewidth": 0,
              "ticks": ""
             }
            },
            "type": "scattermapbox"
           }
          ],
          "scatterpolar": [
           {
            "marker": {
             "colorbar": {
              "outlinewidth": 0,
              "ticks": ""
             }
            },
            "type": "scatterpolar"
           }
          ],
          "scatterpolargl": [
           {
            "marker": {
             "colorbar": {
              "outlinewidth": 0,
              "ticks": ""
             }
            },
            "type": "scatterpolargl"
           }
          ],
          "scatterternary": [
           {
            "marker": {
             "colorbar": {
              "outlinewidth": 0,
              "ticks": ""
             }
            },
            "type": "scatterternary"
           }
          ],
          "surface": [
           {
            "colorbar": {
             "outlinewidth": 0,
             "ticks": ""
            },
            "colorscale": [
             [
              0,
              "#0d0887"
             ],
             [
              0.1111111111111111,
              "#46039f"
             ],
             [
              0.2222222222222222,
              "#7201a8"
             ],
             [
              0.3333333333333333,
              "#9c179e"
             ],
             [
              0.4444444444444444,
              "#bd3786"
             ],
             [
              0.5555555555555556,
              "#d8576b"
             ],
             [
              0.6666666666666666,
              "#ed7953"
             ],
             [
              0.7777777777777778,
              "#fb9f3a"
             ],
             [
              0.8888888888888888,
              "#fdca26"
             ],
             [
              1,
              "#f0f921"
             ]
            ],
            "type": "surface"
           }
          ],
          "table": [
           {
            "cells": {
             "fill": {
              "color": "#EBF0F8"
             },
             "line": {
              "color": "white"
             }
            },
            "header": {
             "fill": {
              "color": "#C8D4E3"
             },
             "line": {
              "color": "white"
             }
            },
            "type": "table"
           }
          ]
         },
         "layout": {
          "annotationdefaults": {
           "arrowcolor": "#2a3f5f",
           "arrowhead": 0,
           "arrowwidth": 1
          },
          "autotypenumbers": "strict",
          "coloraxis": {
           "colorbar": {
            "outlinewidth": 0,
            "ticks": ""
           }
          },
          "colorscale": {
           "diverging": [
            [
             0,
             "#8e0152"
            ],
            [
             0.1,
             "#c51b7d"
            ],
            [
             0.2,
             "#de77ae"
            ],
            [
             0.3,
             "#f1b6da"
            ],
            [
             0.4,
             "#fde0ef"
            ],
            [
             0.5,
             "#f7f7f7"
            ],
            [
             0.6,
             "#e6f5d0"
            ],
            [
             0.7,
             "#b8e186"
            ],
            [
             0.8,
             "#7fbc41"
            ],
            [
             0.9,
             "#4d9221"
            ],
            [
             1,
             "#276419"
            ]
           ],
           "sequential": [
            [
             0,
             "#0d0887"
            ],
            [
             0.1111111111111111,
             "#46039f"
            ],
            [
             0.2222222222222222,
             "#7201a8"
            ],
            [
             0.3333333333333333,
             "#9c179e"
            ],
            [
             0.4444444444444444,
             "#bd3786"
            ],
            [
             0.5555555555555556,
             "#d8576b"
            ],
            [
             0.6666666666666666,
             "#ed7953"
            ],
            [
             0.7777777777777778,
             "#fb9f3a"
            ],
            [
             0.8888888888888888,
             "#fdca26"
            ],
            [
             1,
             "#f0f921"
            ]
           ],
           "sequentialminus": [
            [
             0,
             "#0d0887"
            ],
            [
             0.1111111111111111,
             "#46039f"
            ],
            [
             0.2222222222222222,
             "#7201a8"
            ],
            [
             0.3333333333333333,
             "#9c179e"
            ],
            [
             0.4444444444444444,
             "#bd3786"
            ],
            [
             0.5555555555555556,
             "#d8576b"
            ],
            [
             0.6666666666666666,
             "#ed7953"
            ],
            [
             0.7777777777777778,
             "#fb9f3a"
            ],
            [
             0.8888888888888888,
             "#fdca26"
            ],
            [
             1,
             "#f0f921"
            ]
           ]
          },
          "colorway": [
           "#636efa",
           "#EF553B",
           "#00cc96",
           "#ab63fa",
           "#FFA15A",
           "#19d3f3",
           "#FF6692",
           "#B6E880",
           "#FF97FF",
           "#FECB52"
          ],
          "font": {
           "color": "#2a3f5f"
          },
          "geo": {
           "bgcolor": "white",
           "lakecolor": "white",
           "landcolor": "#E5ECF6",
           "showlakes": true,
           "showland": true,
           "subunitcolor": "white"
          },
          "hoverlabel": {
           "align": "left"
          },
          "hovermode": "closest",
          "mapbox": {
           "style": "light"
          },
          "paper_bgcolor": "white",
          "plot_bgcolor": "#E5ECF6",
          "polar": {
           "angularaxis": {
            "gridcolor": "white",
            "linecolor": "white",
            "ticks": ""
           },
           "bgcolor": "#E5ECF6",
           "radialaxis": {
            "gridcolor": "white",
            "linecolor": "white",
            "ticks": ""
           }
          },
          "scene": {
           "xaxis": {
            "backgroundcolor": "#E5ECF6",
            "gridcolor": "white",
            "gridwidth": 2,
            "linecolor": "white",
            "showbackground": true,
            "ticks": "",
            "zerolinecolor": "white"
           },
           "yaxis": {
            "backgroundcolor": "#E5ECF6",
            "gridcolor": "white",
            "gridwidth": 2,
            "linecolor": "white",
            "showbackground": true,
            "ticks": "",
            "zerolinecolor": "white"
           },
           "zaxis": {
            "backgroundcolor": "#E5ECF6",
            "gridcolor": "white",
            "gridwidth": 2,
            "linecolor": "white",
            "showbackground": true,
            "ticks": "",
            "zerolinecolor": "white"
           }
          },
          "shapedefaults": {
           "line": {
            "color": "#2a3f5f"
           }
          },
          "ternary": {
           "aaxis": {
            "gridcolor": "white",
            "linecolor": "white",
            "ticks": ""
           },
           "baxis": {
            "gridcolor": "white",
            "linecolor": "white",
            "ticks": ""
           },
           "bgcolor": "#E5ECF6",
           "caxis": {
            "gridcolor": "white",
            "linecolor": "white",
            "ticks": ""
           }
          },
          "title": {
           "x": 0.05
          },
          "xaxis": {
           "automargin": true,
           "gridcolor": "white",
           "linecolor": "white",
           "ticks": "",
           "title": {
            "standoff": 15
           },
           "zerolinecolor": "white",
           "zerolinewidth": 2
          },
          "yaxis": {
           "automargin": true,
           "gridcolor": "white",
           "linecolor": "white",
           "ticks": "",
           "title": {
            "standoff": 15
           },
           "zerolinecolor": "white",
           "zerolinewidth": 2
          }
         }
        },
        "title": {
         "text": "Mean values per genre"
        },
        "width": 750,
        "xaxis": {
         "anchor": "y",
         "domain": [
          0,
          1
         ],
         "title": {
          "text": "Mean values per hip hop"
         }
        },
        "yaxis": {
         "anchor": "x",
         "categoryarray": [
          "explicit",
          "valence",
          "liveness",
          "instrumentalness",
          "acousticness",
          "speechiness",
          "energy",
          "danceability"
         ],
         "categoryorder": "array",
         "domain": [
          0,
          1
         ],
         "title": {
          "text": "parameter"
         }
        }
       }
      }
     },
     "metadata": {},
     "output_type": "display_data"
    },
    {
     "data": {
      "application/vnd.plotly.v1+json": {
       "config": {
        "plotlyServerURL": "https://plot.ly"
       },
       "data": [
        {
         "alignmentgroup": "True",
         "hovertemplate": "parameter=%{y}<br>value=%{x}<extra></extra>",
         "legendgroup": "danceability",
         "marker": {
          "color": "#636efa",
          "pattern": {
           "shape": ""
          }
         },
         "name": "danceability",
         "offsetgroup": "danceability",
         "orientation": "h",
         "showlegend": true,
         "textposition": "auto",
         "type": "bar",
         "x": [
          0.5620512820512821
         ],
         "xaxis": "x",
         "y": [
          "danceability"
         ],
         "yaxis": "y"
        },
        {
         "alignmentgroup": "True",
         "hovertemplate": "parameter=%{y}<br>value=%{x}<extra></extra>",
         "legendgroup": "energy",
         "marker": {
          "color": "#EF553B",
          "pattern": {
           "shape": ""
          }
         },
         "name": "energy",
         "offsetgroup": "energy",
         "orientation": "h",
         "showlegend": true,
         "textposition": "auto",
         "type": "bar",
         "x": [
          0.23299999999999998
         ],
         "xaxis": "x",
         "y": [
          "energy"
         ],
         "yaxis": "y"
        },
        {
         "alignmentgroup": "True",
         "hovertemplate": "parameter=%{y}<br>value=%{x}<extra></extra>",
         "legendgroup": "speechiness",
         "marker": {
          "color": "#00cc96",
          "pattern": {
           "shape": ""
          }
         },
         "name": "speechiness",
         "offsetgroup": "speechiness",
         "orientation": "h",
         "showlegend": true,
         "textposition": "auto",
         "type": "bar",
         "x": [
          0.0317
         ],
         "xaxis": "x",
         "y": [
          "speechiness"
         ],
         "yaxis": "y"
        },
        {
         "alignmentgroup": "True",
         "hovertemplate": "parameter=%{y}<br>value=%{x}<extra></extra>",
         "legendgroup": "acousticness",
         "marker": {
          "color": "#ab63fa",
          "pattern": {
           "shape": ""
          }
         },
         "name": "acousticness",
         "offsetgroup": "acousticness",
         "orientation": "h",
         "showlegend": true,
         "textposition": "auto",
         "type": "bar",
         "x": [
          0.7028688524590163
         ],
         "xaxis": "x",
         "y": [
          "acousticness"
         ],
         "yaxis": "y"
        },
        {
         "alignmentgroup": "True",
         "hovertemplate": "parameter=%{y}<br>value=%{x}<extra></extra>",
         "legendgroup": "instrumentalness",
         "marker": {
          "color": "#FFA15A",
          "pattern": {
           "shape": ""
          }
         },
         "name": "instrumentalness",
         "offsetgroup": "instrumentalness",
         "orientation": "h",
         "showlegend": true,
         "textposition": "auto",
         "type": "bar",
         "x": [
          0.0045106598984771575
         ],
         "xaxis": "x",
         "y": [
          "instrumentalness"
         ],
         "yaxis": "y"
        },
        {
         "alignmentgroup": "True",
         "hovertemplate": "parameter=%{y}<br>value=%{x}<extra></extra>",
         "legendgroup": "liveness",
         "marker": {
          "color": "#19d3f3",
          "pattern": {
           "shape": ""
          }
         },
         "name": "liveness",
         "offsetgroup": "liveness",
         "orientation": "h",
         "showlegend": true,
         "textposition": "auto",
         "type": "bar",
         "x": [
          0.10994999999999999
         ],
         "xaxis": "x",
         "y": [
          "liveness"
         ],
         "yaxis": "y"
        },
        {
         "alignmentgroup": "True",
         "hovertemplate": "parameter=%{y}<br>value=%{x}<extra></extra>",
         "legendgroup": "valence",
         "marker": {
          "color": "#FF6692",
          "pattern": {
           "shape": ""
          }
         },
         "name": "valence",
         "offsetgroup": "valence",
         "orientation": "h",
         "showlegend": true,
         "textposition": "auto",
         "type": "bar",
         "x": [
          0.22499999999999998
         ],
         "xaxis": "x",
         "y": [
          "valence"
         ],
         "yaxis": "y"
        },
        {
         "alignmentgroup": "True",
         "hovertemplate": "parameter=%{y}<br>value=%{x}<extra></extra>",
         "legendgroup": "explicit",
         "marker": {
          "color": "#B6E880",
          "pattern": {
           "shape": ""
          }
         },
         "name": "explicit",
         "offsetgroup": "explicit",
         "orientation": "h",
         "showlegend": true,
         "textposition": "auto",
         "type": "bar",
         "x": [
          0
         ],
         "xaxis": "x",
         "y": [
          "explicit"
         ],
         "yaxis": "y"
        }
       ],
       "layout": {
        "barmode": "relative",
        "font": {
         "size": 18
        },
        "height": 500,
        "legend": {
         "title": {
          "text": "parameter"
         },
         "tracegroupgap": 0
        },
        "template": {
         "data": {
          "bar": [
           {
            "error_x": {
             "color": "#2a3f5f"
            },
            "error_y": {
             "color": "#2a3f5f"
            },
            "marker": {
             "line": {
              "color": "#E5ECF6",
              "width": 0.5
             },
             "pattern": {
              "fillmode": "overlay",
              "size": 10,
              "solidity": 0.2
             }
            },
            "type": "bar"
           }
          ],
          "barpolar": [
           {
            "marker": {
             "line": {
              "color": "#E5ECF6",
              "width": 0.5
             },
             "pattern": {
              "fillmode": "overlay",
              "size": 10,
              "solidity": 0.2
             }
            },
            "type": "barpolar"
           }
          ],
          "carpet": [
           {
            "aaxis": {
             "endlinecolor": "#2a3f5f",
             "gridcolor": "white",
             "linecolor": "white",
             "minorgridcolor": "white",
             "startlinecolor": "#2a3f5f"
            },
            "baxis": {
             "endlinecolor": "#2a3f5f",
             "gridcolor": "white",
             "linecolor": "white",
             "minorgridcolor": "white",
             "startlinecolor": "#2a3f5f"
            },
            "type": "carpet"
           }
          ],
          "choropleth": [
           {
            "colorbar": {
             "outlinewidth": 0,
             "ticks": ""
            },
            "type": "choropleth"
           }
          ],
          "contour": [
           {
            "colorbar": {
             "outlinewidth": 0,
             "ticks": ""
            },
            "colorscale": [
             [
              0,
              "#0d0887"
             ],
             [
              0.1111111111111111,
              "#46039f"
             ],
             [
              0.2222222222222222,
              "#7201a8"
             ],
             [
              0.3333333333333333,
              "#9c179e"
             ],
             [
              0.4444444444444444,
              "#bd3786"
             ],
             [
              0.5555555555555556,
              "#d8576b"
             ],
             [
              0.6666666666666666,
              "#ed7953"
             ],
             [
              0.7777777777777778,
              "#fb9f3a"
             ],
             [
              0.8888888888888888,
              "#fdca26"
             ],
             [
              1,
              "#f0f921"
             ]
            ],
            "type": "contour"
           }
          ],
          "contourcarpet": [
           {
            "colorbar": {
             "outlinewidth": 0,
             "ticks": ""
            },
            "type": "contourcarpet"
           }
          ],
          "heatmap": [
           {
            "colorbar": {
             "outlinewidth": 0,
             "ticks": ""
            },
            "colorscale": [
             [
              0,
              "#0d0887"
             ],
             [
              0.1111111111111111,
              "#46039f"
             ],
             [
              0.2222222222222222,
              "#7201a8"
             ],
             [
              0.3333333333333333,
              "#9c179e"
             ],
             [
              0.4444444444444444,
              "#bd3786"
             ],
             [
              0.5555555555555556,
              "#d8576b"
             ],
             [
              0.6666666666666666,
              "#ed7953"
             ],
             [
              0.7777777777777778,
              "#fb9f3a"
             ],
             [
              0.8888888888888888,
              "#fdca26"
             ],
             [
              1,
              "#f0f921"
             ]
            ],
            "type": "heatmap"
           }
          ],
          "heatmapgl": [
           {
            "colorbar": {
             "outlinewidth": 0,
             "ticks": ""
            },
            "colorscale": [
             [
              0,
              "#0d0887"
             ],
             [
              0.1111111111111111,
              "#46039f"
             ],
             [
              0.2222222222222222,
              "#7201a8"
             ],
             [
              0.3333333333333333,
              "#9c179e"
             ],
             [
              0.4444444444444444,
              "#bd3786"
             ],
             [
              0.5555555555555556,
              "#d8576b"
             ],
             [
              0.6666666666666666,
              "#ed7953"
             ],
             [
              0.7777777777777778,
              "#fb9f3a"
             ],
             [
              0.8888888888888888,
              "#fdca26"
             ],
             [
              1,
              "#f0f921"
             ]
            ],
            "type": "heatmapgl"
           }
          ],
          "histogram": [
           {
            "marker": {
             "pattern": {
              "fillmode": "overlay",
              "size": 10,
              "solidity": 0.2
             }
            },
            "type": "histogram"
           }
          ],
          "histogram2d": [
           {
            "colorbar": {
             "outlinewidth": 0,
             "ticks": ""
            },
            "colorscale": [
             [
              0,
              "#0d0887"
             ],
             [
              0.1111111111111111,
              "#46039f"
             ],
             [
              0.2222222222222222,
              "#7201a8"
             ],
             [
              0.3333333333333333,
              "#9c179e"
             ],
             [
              0.4444444444444444,
              "#bd3786"
             ],
             [
              0.5555555555555556,
              "#d8576b"
             ],
             [
              0.6666666666666666,
              "#ed7953"
             ],
             [
              0.7777777777777778,
              "#fb9f3a"
             ],
             [
              0.8888888888888888,
              "#fdca26"
             ],
             [
              1,
              "#f0f921"
             ]
            ],
            "type": "histogram2d"
           }
          ],
          "histogram2dcontour": [
           {
            "colorbar": {
             "outlinewidth": 0,
             "ticks": ""
            },
            "colorscale": [
             [
              0,
              "#0d0887"
             ],
             [
              0.1111111111111111,
              "#46039f"
             ],
             [
              0.2222222222222222,
              "#7201a8"
             ],
             [
              0.3333333333333333,
              "#9c179e"
             ],
             [
              0.4444444444444444,
              "#bd3786"
             ],
             [
              0.5555555555555556,
              "#d8576b"
             ],
             [
              0.6666666666666666,
              "#ed7953"
             ],
             [
              0.7777777777777778,
              "#fb9f3a"
             ],
             [
              0.8888888888888888,
              "#fdca26"
             ],
             [
              1,
              "#f0f921"
             ]
            ],
            "type": "histogram2dcontour"
           }
          ],
          "mesh3d": [
           {
            "colorbar": {
             "outlinewidth": 0,
             "ticks": ""
            },
            "type": "mesh3d"
           }
          ],
          "parcoords": [
           {
            "line": {
             "colorbar": {
              "outlinewidth": 0,
              "ticks": ""
             }
            },
            "type": "parcoords"
           }
          ],
          "pie": [
           {
            "automargin": true,
            "type": "pie"
           }
          ],
          "scatter": [
           {
            "marker": {
             "colorbar": {
              "outlinewidth": 0,
              "ticks": ""
             }
            },
            "type": "scatter"
           }
          ],
          "scatter3d": [
           {
            "line": {
             "colorbar": {
              "outlinewidth": 0,
              "ticks": ""
             }
            },
            "marker": {
             "colorbar": {
              "outlinewidth": 0,
              "ticks": ""
             }
            },
            "type": "scatter3d"
           }
          ],
          "scattercarpet": [
           {
            "marker": {
             "colorbar": {
              "outlinewidth": 0,
              "ticks": ""
             }
            },
            "type": "scattercarpet"
           }
          ],
          "scattergeo": [
           {
            "marker": {
             "colorbar": {
              "outlinewidth": 0,
              "ticks": ""
             }
            },
            "type": "scattergeo"
           }
          ],
          "scattergl": [
           {
            "marker": {
             "colorbar": {
              "outlinewidth": 0,
              "ticks": ""
             }
            },
            "type": "scattergl"
           }
          ],
          "scattermapbox": [
           {
            "marker": {
             "colorbar": {
              "outlinewidth": 0,
              "ticks": ""
             }
            },
            "type": "scattermapbox"
           }
          ],
          "scatterpolar": [
           {
            "marker": {
             "colorbar": {
              "outlinewidth": 0,
              "ticks": ""
             }
            },
            "type": "scatterpolar"
           }
          ],
          "scatterpolargl": [
           {
            "marker": {
             "colorbar": {
              "outlinewidth": 0,
              "ticks": ""
             }
            },
            "type": "scatterpolargl"
           }
          ],
          "scatterternary": [
           {
            "marker": {
             "colorbar": {
              "outlinewidth": 0,
              "ticks": ""
             }
            },
            "type": "scatterternary"
           }
          ],
          "surface": [
           {
            "colorbar": {
             "outlinewidth": 0,
             "ticks": ""
            },
            "colorscale": [
             [
              0,
              "#0d0887"
             ],
             [
              0.1111111111111111,
              "#46039f"
             ],
             [
              0.2222222222222222,
              "#7201a8"
             ],
             [
              0.3333333333333333,
              "#9c179e"
             ],
             [
              0.4444444444444444,
              "#bd3786"
             ],
             [
              0.5555555555555556,
              "#d8576b"
             ],
             [
              0.6666666666666666,
              "#ed7953"
             ],
             [
              0.7777777777777778,
              "#fb9f3a"
             ],
             [
              0.8888888888888888,
              "#fdca26"
             ],
             [
              1,
              "#f0f921"
             ]
            ],
            "type": "surface"
           }
          ],
          "table": [
           {
            "cells": {
             "fill": {
              "color": "#EBF0F8"
             },
             "line": {
              "color": "white"
             }
            },
            "header": {
             "fill": {
              "color": "#C8D4E3"
             },
             "line": {
              "color": "white"
             }
            },
            "type": "table"
           }
          ]
         },
         "layout": {
          "annotationdefaults": {
           "arrowcolor": "#2a3f5f",
           "arrowhead": 0,
           "arrowwidth": 1
          },
          "autotypenumbers": "strict",
          "coloraxis": {
           "colorbar": {
            "outlinewidth": 0,
            "ticks": ""
           }
          },
          "colorscale": {
           "diverging": [
            [
             0,
             "#8e0152"
            ],
            [
             0.1,
             "#c51b7d"
            ],
            [
             0.2,
             "#de77ae"
            ],
            [
             0.3,
             "#f1b6da"
            ],
            [
             0.4,
             "#fde0ef"
            ],
            [
             0.5,
             "#f7f7f7"
            ],
            [
             0.6,
             "#e6f5d0"
            ],
            [
             0.7,
             "#b8e186"
            ],
            [
             0.8,
             "#7fbc41"
            ],
            [
             0.9,
             "#4d9221"
            ],
            [
             1,
             "#276419"
            ]
           ],
           "sequential": [
            [
             0,
             "#0d0887"
            ],
            [
             0.1111111111111111,
             "#46039f"
            ],
            [
             0.2222222222222222,
             "#7201a8"
            ],
            [
             0.3333333333333333,
             "#9c179e"
            ],
            [
             0.4444444444444444,
             "#bd3786"
            ],
            [
             0.5555555555555556,
             "#d8576b"
            ],
            [
             0.6666666666666666,
             "#ed7953"
            ],
            [
             0.7777777777777778,
             "#fb9f3a"
            ],
            [
             0.8888888888888888,
             "#fdca26"
            ],
            [
             1,
             "#f0f921"
            ]
           ],
           "sequentialminus": [
            [
             0,
             "#0d0887"
            ],
            [
             0.1111111111111111,
             "#46039f"
            ],
            [
             0.2222222222222222,
             "#7201a8"
            ],
            [
             0.3333333333333333,
             "#9c179e"
            ],
            [
             0.4444444444444444,
             "#bd3786"
            ],
            [
             0.5555555555555556,
             "#d8576b"
            ],
            [
             0.6666666666666666,
             "#ed7953"
            ],
            [
             0.7777777777777778,
             "#fb9f3a"
            ],
            [
             0.8888888888888888,
             "#fdca26"
            ],
            [
             1,
             "#f0f921"
            ]
           ]
          },
          "colorway": [
           "#636efa",
           "#EF553B",
           "#00cc96",
           "#ab63fa",
           "#FFA15A",
           "#19d3f3",
           "#FF6692",
           "#B6E880",
           "#FF97FF",
           "#FECB52"
          ],
          "font": {
           "color": "#2a3f5f"
          },
          "geo": {
           "bgcolor": "white",
           "lakecolor": "white",
           "landcolor": "#E5ECF6",
           "showlakes": true,
           "showland": true,
           "subunitcolor": "white"
          },
          "hoverlabel": {
           "align": "left"
          },
          "hovermode": "closest",
          "mapbox": {
           "style": "light"
          },
          "paper_bgcolor": "white",
          "plot_bgcolor": "#E5ECF6",
          "polar": {
           "angularaxis": {
            "gridcolor": "white",
            "linecolor": "white",
            "ticks": ""
           },
           "bgcolor": "#E5ECF6",
           "radialaxis": {
            "gridcolor": "white",
            "linecolor": "white",
            "ticks": ""
           }
          },
          "scene": {
           "xaxis": {
            "backgroundcolor": "#E5ECF6",
            "gridcolor": "white",
            "gridwidth": 2,
            "linecolor": "white",
            "showbackground": true,
            "ticks": "",
            "zerolinecolor": "white"
           },
           "yaxis": {
            "backgroundcolor": "#E5ECF6",
            "gridcolor": "white",
            "gridwidth": 2,
            "linecolor": "white",
            "showbackground": true,
            "ticks": "",
            "zerolinecolor": "white"
           },
           "zaxis": {
            "backgroundcolor": "#E5ECF6",
            "gridcolor": "white",
            "gridwidth": 2,
            "linecolor": "white",
            "showbackground": true,
            "ticks": "",
            "zerolinecolor": "white"
           }
          },
          "shapedefaults": {
           "line": {
            "color": "#2a3f5f"
           }
          },
          "ternary": {
           "aaxis": {
            "gridcolor": "white",
            "linecolor": "white",
            "ticks": ""
           },
           "baxis": {
            "gridcolor": "white",
            "linecolor": "white",
            "ticks": ""
           },
           "bgcolor": "#E5ECF6",
           "caxis": {
            "gridcolor": "white",
            "linecolor": "white",
            "ticks": ""
           }
          },
          "title": {
           "x": 0.05
          },
          "xaxis": {
           "automargin": true,
           "gridcolor": "white",
           "linecolor": "white",
           "ticks": "",
           "title": {
            "standoff": 15
           },
           "zerolinecolor": "white",
           "zerolinewidth": 2
          },
          "yaxis": {
           "automargin": true,
           "gridcolor": "white",
           "linecolor": "white",
           "ticks": "",
           "title": {
            "standoff": 15
           },
           "zerolinecolor": "white",
           "zerolinewidth": 2
          }
         }
        },
        "title": {
         "text": "Mean values per genre"
        },
        "width": 750,
        "xaxis": {
         "anchor": "y",
         "domain": [
          0,
          1
         ],
         "title": {
          "text": "Mean values per jazz"
         }
        },
        "yaxis": {
         "anchor": "x",
         "categoryarray": [
          "explicit",
          "valence",
          "liveness",
          "instrumentalness",
          "acousticness",
          "speechiness",
          "energy",
          "danceability"
         ],
         "categoryorder": "array",
         "domain": [
          0,
          1
         ],
         "title": {
          "text": "parameter"
         }
        }
       }
      }
     },
     "metadata": {},
     "output_type": "display_data"
    },
    {
     "data": {
      "application/vnd.plotly.v1+json": {
       "config": {
        "plotlyServerURL": "https://plot.ly"
       },
       "data": [
        {
         "alignmentgroup": "True",
         "hovertemplate": "parameter=%{y}<br>value=%{x}<extra></extra>",
         "legendgroup": "danceability",
         "marker": {
          "color": "#636efa",
          "pattern": {
           "shape": ""
          }
         },
         "name": "danceability",
         "offsetgroup": "danceability",
         "orientation": "h",
         "showlegend": true,
         "textposition": "auto",
         "type": "bar",
         "x": [
          0.7449012189995797
         ],
         "xaxis": "x",
         "y": [
          "danceability"
         ],
         "yaxis": "y"
        },
        {
         "alignmentgroup": "True",
         "hovertemplate": "parameter=%{y}<br>value=%{x}<extra></extra>",
         "legendgroup": "energy",
         "marker": {
          "color": "#EF553B",
          "pattern": {
           "shape": ""
          }
         },
         "name": "energy",
         "offsetgroup": "energy",
         "orientation": "h",
         "showlegend": true,
         "textposition": "auto",
         "type": "bar",
         "x": [
          0.7884426229508201
         ],
         "xaxis": "x",
         "y": [
          "energy"
         ],
         "yaxis": "y"
        },
        {
         "alignmentgroup": "True",
         "hovertemplate": "parameter=%{y}<br>value=%{x}<extra></extra>",
         "legendgroup": "speechiness",
         "marker": {
          "color": "#00cc96",
          "pattern": {
           "shape": ""
          }
         },
         "name": "speechiness",
         "offsetgroup": "speechiness",
         "orientation": "h",
         "showlegend": true,
         "textposition": "auto",
         "type": "bar",
         "x": [
          0.09951639344262295
         ],
         "xaxis": "x",
         "y": [
          "speechiness"
         ],
         "yaxis": "y"
        },
        {
         "alignmentgroup": "True",
         "hovertemplate": "parameter=%{y}<br>value=%{x}<extra></extra>",
         "legendgroup": "acousticness",
         "marker": {
          "color": "#ab63fa",
          "pattern": {
           "shape": ""
          }
         },
         "name": "acousticness",
         "offsetgroup": "acousticness",
         "orientation": "h",
         "showlegend": true,
         "textposition": "auto",
         "type": "bar",
         "x": [
          0.17069176632625635
         ],
         "xaxis": "x",
         "y": [
          "acousticness"
         ],
         "yaxis": "y"
        },
        {
         "alignmentgroup": "True",
         "hovertemplate": "parameter=%{y}<br>value=%{x}<extra></extra>",
         "legendgroup": "instrumentalness",
         "marker": {
          "color": "#FFA15A",
          "pattern": {
           "shape": ""
          }
         },
         "name": "instrumentalness",
         "offsetgroup": "instrumentalness",
         "orientation": "h",
         "showlegend": true,
         "textposition": "auto",
         "type": "bar",
         "x": [
          6.318305733544145E-4
         ],
         "xaxis": "x",
         "y": [
          "instrumentalness"
         ],
         "yaxis": "y"
        },
        {
         "alignmentgroup": "True",
         "hovertemplate": "parameter=%{y}<br>value=%{x}<extra></extra>",
         "legendgroup": "liveness",
         "marker": {
          "color": "#19d3f3",
          "pattern": {
           "shape": ""
          }
         },
         "name": "liveness",
         "offsetgroup": "liveness",
         "orientation": "h",
         "showlegend": true,
         "textposition": "auto",
         "type": "bar",
         "x": [
          0.198088524590164
         ],
         "xaxis": "x",
         "y": [
          "liveness"
         ],
         "yaxis": "y"
        },
        {
         "alignmentgroup": "True",
         "hovertemplate": "parameter=%{y}<br>value=%{x}<extra></extra>",
         "legendgroup": "valence",
         "marker": {
          "color": "#FF6692",
          "pattern": {
           "shape": ""
          }
         },
         "name": "valence",
         "offsetgroup": "valence",
         "orientation": "h",
         "showlegend": true,
         "textposition": "auto",
         "type": "bar",
         "x": [
          0.6909180327868852
         ],
         "xaxis": "x",
         "y": [
          "valence"
         ],
         "yaxis": "y"
        },
        {
         "alignmentgroup": "True",
         "hovertemplate": "parameter=%{y}<br>value=%{x}<extra></extra>",
         "legendgroup": "explicit",
         "marker": {
          "color": "#B6E880",
          "pattern": {
           "shape": ""
          }
         },
         "name": "explicit",
         "offsetgroup": "explicit",
         "orientation": "h",
         "showlegend": true,
         "textposition": "auto",
         "type": "bar",
         "x": [
          0.09836065573770492
         ],
         "xaxis": "x",
         "y": [
          "explicit"
         ],
         "yaxis": "y"
        }
       ],
       "layout": {
        "barmode": "relative",
        "font": {
         "size": 18
        },
        "height": 500,
        "legend": {
         "title": {
          "text": "parameter"
         },
         "tracegroupgap": 0
        },
        "template": {
         "data": {
          "bar": [
           {
            "error_x": {
             "color": "#2a3f5f"
            },
            "error_y": {
             "color": "#2a3f5f"
            },
            "marker": {
             "line": {
              "color": "#E5ECF6",
              "width": 0.5
             },
             "pattern": {
              "fillmode": "overlay",
              "size": 10,
              "solidity": 0.2
             }
            },
            "type": "bar"
           }
          ],
          "barpolar": [
           {
            "marker": {
             "line": {
              "color": "#E5ECF6",
              "width": 0.5
             },
             "pattern": {
              "fillmode": "overlay",
              "size": 10,
              "solidity": 0.2
             }
            },
            "type": "barpolar"
           }
          ],
          "carpet": [
           {
            "aaxis": {
             "endlinecolor": "#2a3f5f",
             "gridcolor": "white",
             "linecolor": "white",
             "minorgridcolor": "white",
             "startlinecolor": "#2a3f5f"
            },
            "baxis": {
             "endlinecolor": "#2a3f5f",
             "gridcolor": "white",
             "linecolor": "white",
             "minorgridcolor": "white",
             "startlinecolor": "#2a3f5f"
            },
            "type": "carpet"
           }
          ],
          "choropleth": [
           {
            "colorbar": {
             "outlinewidth": 0,
             "ticks": ""
            },
            "type": "choropleth"
           }
          ],
          "contour": [
           {
            "colorbar": {
             "outlinewidth": 0,
             "ticks": ""
            },
            "colorscale": [
             [
              0,
              "#0d0887"
             ],
             [
              0.1111111111111111,
              "#46039f"
             ],
             [
              0.2222222222222222,
              "#7201a8"
             ],
             [
              0.3333333333333333,
              "#9c179e"
             ],
             [
              0.4444444444444444,
              "#bd3786"
             ],
             [
              0.5555555555555556,
              "#d8576b"
             ],
             [
              0.6666666666666666,
              "#ed7953"
             ],
             [
              0.7777777777777778,
              "#fb9f3a"
             ],
             [
              0.8888888888888888,
              "#fdca26"
             ],
             [
              1,
              "#f0f921"
             ]
            ],
            "type": "contour"
           }
          ],
          "contourcarpet": [
           {
            "colorbar": {
             "outlinewidth": 0,
             "ticks": ""
            },
            "type": "contourcarpet"
           }
          ],
          "heatmap": [
           {
            "colorbar": {
             "outlinewidth": 0,
             "ticks": ""
            },
            "colorscale": [
             [
              0,
              "#0d0887"
             ],
             [
              0.1111111111111111,
              "#46039f"
             ],
             [
              0.2222222222222222,
              "#7201a8"
             ],
             [
              0.3333333333333333,
              "#9c179e"
             ],
             [
              0.4444444444444444,
              "#bd3786"
             ],
             [
              0.5555555555555556,
              "#d8576b"
             ],
             [
              0.6666666666666666,
              "#ed7953"
             ],
             [
              0.7777777777777778,
              "#fb9f3a"
             ],
             [
              0.8888888888888888,
              "#fdca26"
             ],
             [
              1,
              "#f0f921"
             ]
            ],
            "type": "heatmap"
           }
          ],
          "heatmapgl": [
           {
            "colorbar": {
             "outlinewidth": 0,
             "ticks": ""
            },
            "colorscale": [
             [
              0,
              "#0d0887"
             ],
             [
              0.1111111111111111,
              "#46039f"
             ],
             [
              0.2222222222222222,
              "#7201a8"
             ],
             [
              0.3333333333333333,
              "#9c179e"
             ],
             [
              0.4444444444444444,
              "#bd3786"
             ],
             [
              0.5555555555555556,
              "#d8576b"
             ],
             [
              0.6666666666666666,
              "#ed7953"
             ],
             [
              0.7777777777777778,
              "#fb9f3a"
             ],
             [
              0.8888888888888888,
              "#fdca26"
             ],
             [
              1,
              "#f0f921"
             ]
            ],
            "type": "heatmapgl"
           }
          ],
          "histogram": [
           {
            "marker": {
             "pattern": {
              "fillmode": "overlay",
              "size": 10,
              "solidity": 0.2
             }
            },
            "type": "histogram"
           }
          ],
          "histogram2d": [
           {
            "colorbar": {
             "outlinewidth": 0,
             "ticks": ""
            },
            "colorscale": [
             [
              0,
              "#0d0887"
             ],
             [
              0.1111111111111111,
              "#46039f"
             ],
             [
              0.2222222222222222,
              "#7201a8"
             ],
             [
              0.3333333333333333,
              "#9c179e"
             ],
             [
              0.4444444444444444,
              "#bd3786"
             ],
             [
              0.5555555555555556,
              "#d8576b"
             ],
             [
              0.6666666666666666,
              "#ed7953"
             ],
             [
              0.7777777777777778,
              "#fb9f3a"
             ],
             [
              0.8888888888888888,
              "#fdca26"
             ],
             [
              1,
              "#f0f921"
             ]
            ],
            "type": "histogram2d"
           }
          ],
          "histogram2dcontour": [
           {
            "colorbar": {
             "outlinewidth": 0,
             "ticks": ""
            },
            "colorscale": [
             [
              0,
              "#0d0887"
             ],
             [
              0.1111111111111111,
              "#46039f"
             ],
             [
              0.2222222222222222,
              "#7201a8"
             ],
             [
              0.3333333333333333,
              "#9c179e"
             ],
             [
              0.4444444444444444,
              "#bd3786"
             ],
             [
              0.5555555555555556,
              "#d8576b"
             ],
             [
              0.6666666666666666,
              "#ed7953"
             ],
             [
              0.7777777777777778,
              "#fb9f3a"
             ],
             [
              0.8888888888888888,
              "#fdca26"
             ],
             [
              1,
              "#f0f921"
             ]
            ],
            "type": "histogram2dcontour"
           }
          ],
          "mesh3d": [
           {
            "colorbar": {
             "outlinewidth": 0,
             "ticks": ""
            },
            "type": "mesh3d"
           }
          ],
          "parcoords": [
           {
            "line": {
             "colorbar": {
              "outlinewidth": 0,
              "ticks": ""
             }
            },
            "type": "parcoords"
           }
          ],
          "pie": [
           {
            "automargin": true,
            "type": "pie"
           }
          ],
          "scatter": [
           {
            "marker": {
             "colorbar": {
              "outlinewidth": 0,
              "ticks": ""
             }
            },
            "type": "scatter"
           }
          ],
          "scatter3d": [
           {
            "line": {
             "colorbar": {
              "outlinewidth": 0,
              "ticks": ""
             }
            },
            "marker": {
             "colorbar": {
              "outlinewidth": 0,
              "ticks": ""
             }
            },
            "type": "scatter3d"
           }
          ],
          "scattercarpet": [
           {
            "marker": {
             "colorbar": {
              "outlinewidth": 0,
              "ticks": ""
             }
            },
            "type": "scattercarpet"
           }
          ],
          "scattergeo": [
           {
            "marker": {
             "colorbar": {
              "outlinewidth": 0,
              "ticks": ""
             }
            },
            "type": "scattergeo"
           }
          ],
          "scattergl": [
           {
            "marker": {
             "colorbar": {
              "outlinewidth": 0,
              "ticks": ""
             }
            },
            "type": "scattergl"
           }
          ],
          "scattermapbox": [
           {
            "marker": {
             "colorbar": {
              "outlinewidth": 0,
              "ticks": ""
             }
            },
            "type": "scattermapbox"
           }
          ],
          "scatterpolar": [
           {
            "marker": {
             "colorbar": {
              "outlinewidth": 0,
              "ticks": ""
             }
            },
            "type": "scatterpolar"
           }
          ],
          "scatterpolargl": [
           {
            "marker": {
             "colorbar": {
              "outlinewidth": 0,
              "ticks": ""
             }
            },
            "type": "scatterpolargl"
           }
          ],
          "scatterternary": [
           {
            "marker": {
             "colorbar": {
              "outlinewidth": 0,
              "ticks": ""
             }
            },
            "type": "scatterternary"
           }
          ],
          "surface": [
           {
            "colorbar": {
             "outlinewidth": 0,
             "ticks": ""
            },
            "colorscale": [
             [
              0,
              "#0d0887"
             ],
             [
              0.1111111111111111,
              "#46039f"
             ],
             [
              0.2222222222222222,
              "#7201a8"
             ],
             [
              0.3333333333333333,
              "#9c179e"
             ],
             [
              0.4444444444444444,
              "#bd3786"
             ],
             [
              0.5555555555555556,
              "#d8576b"
             ],
             [
              0.6666666666666666,
              "#ed7953"
             ],
             [
              0.7777777777777778,
              "#fb9f3a"
             ],
             [
              0.8888888888888888,
              "#fdca26"
             ],
             [
              1,
              "#f0f921"
             ]
            ],
            "type": "surface"
           }
          ],
          "table": [
           {
            "cells": {
             "fill": {
              "color": "#EBF0F8"
             },
             "line": {
              "color": "white"
             }
            },
            "header": {
             "fill": {
              "color": "#C8D4E3"
             },
             "line": {
              "color": "white"
             }
            },
            "type": "table"
           }
          ]
         },
         "layout": {
          "annotationdefaults": {
           "arrowcolor": "#2a3f5f",
           "arrowhead": 0,
           "arrowwidth": 1
          },
          "autotypenumbers": "strict",
          "coloraxis": {
           "colorbar": {
            "outlinewidth": 0,
            "ticks": ""
           }
          },
          "colorscale": {
           "diverging": [
            [
             0,
             "#8e0152"
            ],
            [
             0.1,
             "#c51b7d"
            ],
            [
             0.2,
             "#de77ae"
            ],
            [
             0.3,
             "#f1b6da"
            ],
            [
             0.4,
             "#fde0ef"
            ],
            [
             0.5,
             "#f7f7f7"
            ],
            [
             0.6,
             "#e6f5d0"
            ],
            [
             0.7,
             "#b8e186"
            ],
            [
             0.8,
             "#7fbc41"
            ],
            [
             0.9,
             "#4d9221"
            ],
            [
             1,
             "#276419"
            ]
           ],
           "sequential": [
            [
             0,
             "#0d0887"
            ],
            [
             0.1111111111111111,
             "#46039f"
            ],
            [
             0.2222222222222222,
             "#7201a8"
            ],
            [
             0.3333333333333333,
             "#9c179e"
            ],
            [
             0.4444444444444444,
             "#bd3786"
            ],
            [
             0.5555555555555556,
             "#d8576b"
            ],
            [
             0.6666666666666666,
             "#ed7953"
            ],
            [
             0.7777777777777778,
             "#fb9f3a"
            ],
            [
             0.8888888888888888,
             "#fdca26"
            ],
            [
             1,
             "#f0f921"
            ]
           ],
           "sequentialminus": [
            [
             0,
             "#0d0887"
            ],
            [
             0.1111111111111111,
             "#46039f"
            ],
            [
             0.2222222222222222,
             "#7201a8"
            ],
            [
             0.3333333333333333,
             "#9c179e"
            ],
            [
             0.4444444444444444,
             "#bd3786"
            ],
            [
             0.5555555555555556,
             "#d8576b"
            ],
            [
             0.6666666666666666,
             "#ed7953"
            ],
            [
             0.7777777777777778,
             "#fb9f3a"
            ],
            [
             0.8888888888888888,
             "#fdca26"
            ],
            [
             1,
             "#f0f921"
            ]
           ]
          },
          "colorway": [
           "#636efa",
           "#EF553B",
           "#00cc96",
           "#ab63fa",
           "#FFA15A",
           "#19d3f3",
           "#FF6692",
           "#B6E880",
           "#FF97FF",
           "#FECB52"
          ],
          "font": {
           "color": "#2a3f5f"
          },
          "geo": {
           "bgcolor": "white",
           "lakecolor": "white",
           "landcolor": "#E5ECF6",
           "showlakes": true,
           "showland": true,
           "subunitcolor": "white"
          },
          "hoverlabel": {
           "align": "left"
          },
          "hovermode": "closest",
          "mapbox": {
           "style": "light"
          },
          "paper_bgcolor": "white",
          "plot_bgcolor": "#E5ECF6",
          "polar": {
           "angularaxis": {
            "gridcolor": "white",
            "linecolor": "white",
            "ticks": ""
           },
           "bgcolor": "#E5ECF6",
           "radialaxis": {
            "gridcolor": "white",
            "linecolor": "white",
            "ticks": ""
           }
          },
          "scene": {
           "xaxis": {
            "backgroundcolor": "#E5ECF6",
            "gridcolor": "white",
            "gridwidth": 2,
            "linecolor": "white",
            "showbackground": true,
            "ticks": "",
            "zerolinecolor": "white"
           },
           "yaxis": {
            "backgroundcolor": "#E5ECF6",
            "gridcolor": "white",
            "gridwidth": 2,
            "linecolor": "white",
            "showbackground": true,
            "ticks": "",
            "zerolinecolor": "white"
           },
           "zaxis": {
            "backgroundcolor": "#E5ECF6",
            "gridcolor": "white",
            "gridwidth": 2,
            "linecolor": "white",
            "showbackground": true,
            "ticks": "",
            "zerolinecolor": "white"
           }
          },
          "shapedefaults": {
           "line": {
            "color": "#2a3f5f"
           }
          },
          "ternary": {
           "aaxis": {
            "gridcolor": "white",
            "linecolor": "white",
            "ticks": ""
           },
           "baxis": {
            "gridcolor": "white",
            "linecolor": "white",
            "ticks": ""
           },
           "bgcolor": "#E5ECF6",
           "caxis": {
            "gridcolor": "white",
            "linecolor": "white",
            "ticks": ""
           }
          },
          "title": {
           "x": 0.05
          },
          "xaxis": {
           "automargin": true,
           "gridcolor": "white",
           "linecolor": "white",
           "ticks": "",
           "title": {
            "standoff": 15
           },
           "zerolinecolor": "white",
           "zerolinewidth": 2
          },
          "yaxis": {
           "automargin": true,
           "gridcolor": "white",
           "linecolor": "white",
           "ticks": "",
           "title": {
            "standoff": 15
           },
           "zerolinecolor": "white",
           "zerolinewidth": 2
          }
         }
        },
        "title": {
         "text": "Mean values per genre"
        },
        "width": 750,
        "xaxis": {
         "anchor": "y",
         "domain": [
          0,
          1
         ],
         "title": {
          "text": "Mean values per latin"
         }
        },
        "yaxis": {
         "anchor": "x",
         "categoryarray": [
          "explicit",
          "valence",
          "liveness",
          "instrumentalness",
          "acousticness",
          "speechiness",
          "energy",
          "danceability"
         ],
         "categoryorder": "array",
         "domain": [
          0,
          1
         ],
         "title": {
          "text": "parameter"
         }
        }
       }
      }
     },
     "metadata": {},
     "output_type": "display_data"
    },
    {
     "data": {
      "application/vnd.plotly.v1+json": {
       "config": {
        "plotlyServerURL": "https://plot.ly"
       },
       "data": [
        {
         "alignmentgroup": "True",
         "hovertemplate": "parameter=%{y}<br>value=%{x}<extra></extra>",
         "legendgroup": "danceability",
         "marker": {
          "color": "#636efa",
          "pattern": {
           "shape": ""
          }
         },
         "name": "danceability",
         "offsetgroup": "danceability",
         "orientation": "h",
         "showlegend": true,
         "textposition": "auto",
         "type": "bar",
         "x": [
          0.5229955229955228
         ],
         "xaxis": "x",
         "y": [
          "danceability"
         ],
         "yaxis": "y"
        },
        {
         "alignmentgroup": "True",
         "hovertemplate": "parameter=%{y}<br>value=%{x}<extra></extra>",
         "legendgroup": "energy",
         "marker": {
          "color": "#EF553B",
          "pattern": {
           "shape": ""
          }
         },
         "name": "energy",
         "offsetgroup": "energy",
         "orientation": "h",
         "showlegend": true,
         "textposition": "auto",
         "type": "bar",
         "x": [
          0.8383809523809524
         ],
         "xaxis": "x",
         "y": [
          "energy"
         ],
         "yaxis": "y"
        },
        {
         "alignmentgroup": "True",
         "hovertemplate": "parameter=%{y}<br>value=%{x}<extra></extra>",
         "legendgroup": "speechiness",
         "marker": {
          "color": "#00cc96",
          "pattern": {
           "shape": ""
          }
         },
         "name": "speechiness",
         "offsetgroup": "speechiness",
         "orientation": "h",
         "showlegend": true,
         "textposition": "auto",
         "type": "bar",
         "x": [
          0.047333333333333324
         ],
         "xaxis": "x",
         "y": [
          "speechiness"
         ],
         "yaxis": "y"
        },
        {
         "alignmentgroup": "True",
         "hovertemplate": "parameter=%{y}<br>value=%{x}<extra></extra>",
         "legendgroup": "acousticness",
         "marker": {
          "color": "#ab63fa",
          "pattern": {
           "shape": ""
          }
         },
         "name": "acousticness",
         "offsetgroup": "acousticness",
         "orientation": "h",
         "showlegend": true,
         "textposition": "auto",
         "type": "bar",
         "x": [
          0.0448500471636742
         ],
         "xaxis": "x",
         "y": [
          "acousticness"
         ],
         "yaxis": "y"
        },
        {
         "alignmentgroup": "True",
         "hovertemplate": "parameter=%{y}<br>value=%{x}<extra></extra>",
         "legendgroup": "instrumentalness",
         "marker": {
          "color": "#FFA15A",
          "pattern": {
           "shape": ""
          }
         },
         "name": "instrumentalness",
         "offsetgroup": "instrumentalness",
         "orientation": "h",
         "showlegend": true,
         "textposition": "auto",
         "type": "bar",
         "x": [
          0.005347104826363712
         ],
         "xaxis": "x",
         "y": [
          "instrumentalness"
         ],
         "yaxis": "y"
        },
        {
         "alignmentgroup": "True",
         "hovertemplate": "parameter=%{y}<br>value=%{x}<extra></extra>",
         "legendgroup": "liveness",
         "marker": {
          "color": "#19d3f3",
          "pattern": {
           "shape": ""
          }
         },
         "name": "liveness",
         "offsetgroup": "liveness",
         "orientation": "h",
         "showlegend": true,
         "textposition": "auto",
         "type": "bar",
         "x": [
          0.19338571428571427
         ],
         "xaxis": "x",
         "y": [
          "liveness"
         ],
         "yaxis": "y"
        },
        {
         "alignmentgroup": "True",
         "hovertemplate": "parameter=%{y}<br>value=%{x}<extra></extra>",
         "legendgroup": "valence",
         "marker": {
          "color": "#FF6692",
          "pattern": {
           "shape": ""
          }
         },
         "name": "valence",
         "offsetgroup": "valence",
         "orientation": "h",
         "showlegend": true,
         "textposition": "auto",
         "type": "bar",
         "x": [
          0.45321746031746024
         ],
         "xaxis": "x",
         "y": [
          "valence"
         ],
         "yaxis": "y"
        },
        {
         "alignmentgroup": "True",
         "hovertemplate": "parameter=%{y}<br>value=%{x}<extra></extra>",
         "legendgroup": "explicit",
         "marker": {
          "color": "#B6E880",
          "pattern": {
           "shape": ""
          }
         },
         "name": "explicit",
         "offsetgroup": "explicit",
         "orientation": "h",
         "showlegend": true,
         "textposition": "auto",
         "type": "bar",
         "x": [
          0.14285714285714285
         ],
         "xaxis": "x",
         "y": [
          "explicit"
         ],
         "yaxis": "y"
        }
       ],
       "layout": {
        "barmode": "relative",
        "font": {
         "size": 18
        },
        "height": 500,
        "legend": {
         "title": {
          "text": "parameter"
         },
         "tracegroupgap": 0
        },
        "template": {
         "data": {
          "bar": [
           {
            "error_x": {
             "color": "#2a3f5f"
            },
            "error_y": {
             "color": "#2a3f5f"
            },
            "marker": {
             "line": {
              "color": "#E5ECF6",
              "width": 0.5
             },
             "pattern": {
              "fillmode": "overlay",
              "size": 10,
              "solidity": 0.2
             }
            },
            "type": "bar"
           }
          ],
          "barpolar": [
           {
            "marker": {
             "line": {
              "color": "#E5ECF6",
              "width": 0.5
             },
             "pattern": {
              "fillmode": "overlay",
              "size": 10,
              "solidity": 0.2
             }
            },
            "type": "barpolar"
           }
          ],
          "carpet": [
           {
            "aaxis": {
             "endlinecolor": "#2a3f5f",
             "gridcolor": "white",
             "linecolor": "white",
             "minorgridcolor": "white",
             "startlinecolor": "#2a3f5f"
            },
            "baxis": {
             "endlinecolor": "#2a3f5f",
             "gridcolor": "white",
             "linecolor": "white",
             "minorgridcolor": "white",
             "startlinecolor": "#2a3f5f"
            },
            "type": "carpet"
           }
          ],
          "choropleth": [
           {
            "colorbar": {
             "outlinewidth": 0,
             "ticks": ""
            },
            "type": "choropleth"
           }
          ],
          "contour": [
           {
            "colorbar": {
             "outlinewidth": 0,
             "ticks": ""
            },
            "colorscale": [
             [
              0,
              "#0d0887"
             ],
             [
              0.1111111111111111,
              "#46039f"
             ],
             [
              0.2222222222222222,
              "#7201a8"
             ],
             [
              0.3333333333333333,
              "#9c179e"
             ],
             [
              0.4444444444444444,
              "#bd3786"
             ],
             [
              0.5555555555555556,
              "#d8576b"
             ],
             [
              0.6666666666666666,
              "#ed7953"
             ],
             [
              0.7777777777777778,
              "#fb9f3a"
             ],
             [
              0.8888888888888888,
              "#fdca26"
             ],
             [
              1,
              "#f0f921"
             ]
            ],
            "type": "contour"
           }
          ],
          "contourcarpet": [
           {
            "colorbar": {
             "outlinewidth": 0,
             "ticks": ""
            },
            "type": "contourcarpet"
           }
          ],
          "heatmap": [
           {
            "colorbar": {
             "outlinewidth": 0,
             "ticks": ""
            },
            "colorscale": [
             [
              0,
              "#0d0887"
             ],
             [
              0.1111111111111111,
              "#46039f"
             ],
             [
              0.2222222222222222,
              "#7201a8"
             ],
             [
              0.3333333333333333,
              "#9c179e"
             ],
             [
              0.4444444444444444,
              "#bd3786"
             ],
             [
              0.5555555555555556,
              "#d8576b"
             ],
             [
              0.6666666666666666,
              "#ed7953"
             ],
             [
              0.7777777777777778,
              "#fb9f3a"
             ],
             [
              0.8888888888888888,
              "#fdca26"
             ],
             [
              1,
              "#f0f921"
             ]
            ],
            "type": "heatmap"
           }
          ],
          "heatmapgl": [
           {
            "colorbar": {
             "outlinewidth": 0,
             "ticks": ""
            },
            "colorscale": [
             [
              0,
              "#0d0887"
             ],
             [
              0.1111111111111111,
              "#46039f"
             ],
             [
              0.2222222222222222,
              "#7201a8"
             ],
             [
              0.3333333333333333,
              "#9c179e"
             ],
             [
              0.4444444444444444,
              "#bd3786"
             ],
             [
              0.5555555555555556,
              "#d8576b"
             ],
             [
              0.6666666666666666,
              "#ed7953"
             ],
             [
              0.7777777777777778,
              "#fb9f3a"
             ],
             [
              0.8888888888888888,
              "#fdca26"
             ],
             [
              1,
              "#f0f921"
             ]
            ],
            "type": "heatmapgl"
           }
          ],
          "histogram": [
           {
            "marker": {
             "pattern": {
              "fillmode": "overlay",
              "size": 10,
              "solidity": 0.2
             }
            },
            "type": "histogram"
           }
          ],
          "histogram2d": [
           {
            "colorbar": {
             "outlinewidth": 0,
             "ticks": ""
            },
            "colorscale": [
             [
              0,
              "#0d0887"
             ],
             [
              0.1111111111111111,
              "#46039f"
             ],
             [
              0.2222222222222222,
              "#7201a8"
             ],
             [
              0.3333333333333333,
              "#9c179e"
             ],
             [
              0.4444444444444444,
              "#bd3786"
             ],
             [
              0.5555555555555556,
              "#d8576b"
             ],
             [
              0.6666666666666666,
              "#ed7953"
             ],
             [
              0.7777777777777778,
              "#fb9f3a"
             ],
             [
              0.8888888888888888,
              "#fdca26"
             ],
             [
              1,
              "#f0f921"
             ]
            ],
            "type": "histogram2d"
           }
          ],
          "histogram2dcontour": [
           {
            "colorbar": {
             "outlinewidth": 0,
             "ticks": ""
            },
            "colorscale": [
             [
              0,
              "#0d0887"
             ],
             [
              0.1111111111111111,
              "#46039f"
             ],
             [
              0.2222222222222222,
              "#7201a8"
             ],
             [
              0.3333333333333333,
              "#9c179e"
             ],
             [
              0.4444444444444444,
              "#bd3786"
             ],
             [
              0.5555555555555556,
              "#d8576b"
             ],
             [
              0.6666666666666666,
              "#ed7953"
             ],
             [
              0.7777777777777778,
              "#fb9f3a"
             ],
             [
              0.8888888888888888,
              "#fdca26"
             ],
             [
              1,
              "#f0f921"
             ]
            ],
            "type": "histogram2dcontour"
           }
          ],
          "mesh3d": [
           {
            "colorbar": {
             "outlinewidth": 0,
             "ticks": ""
            },
            "type": "mesh3d"
           }
          ],
          "parcoords": [
           {
            "line": {
             "colorbar": {
              "outlinewidth": 0,
              "ticks": ""
             }
            },
            "type": "parcoords"
           }
          ],
          "pie": [
           {
            "automargin": true,
            "type": "pie"
           }
          ],
          "scatter": [
           {
            "marker": {
             "colorbar": {
              "outlinewidth": 0,
              "ticks": ""
             }
            },
            "type": "scatter"
           }
          ],
          "scatter3d": [
           {
            "line": {
             "colorbar": {
              "outlinewidth": 0,
              "ticks": ""
             }
            },
            "marker": {
             "colorbar": {
              "outlinewidth": 0,
              "ticks": ""
             }
            },
            "type": "scatter3d"
           }
          ],
          "scattercarpet": [
           {
            "marker": {
             "colorbar": {
              "outlinewidth": 0,
              "ticks": ""
             }
            },
            "type": "scattercarpet"
           }
          ],
          "scattergeo": [
           {
            "marker": {
             "colorbar": {
              "outlinewidth": 0,
              "ticks": ""
             }
            },
            "type": "scattergeo"
           }
          ],
          "scattergl": [
           {
            "marker": {
             "colorbar": {
              "outlinewidth": 0,
              "ticks": ""
             }
            },
            "type": "scattergl"
           }
          ],
          "scattermapbox": [
           {
            "marker": {
             "colorbar": {
              "outlinewidth": 0,
              "ticks": ""
             }
            },
            "type": "scattermapbox"
           }
          ],
          "scatterpolar": [
           {
            "marker": {
             "colorbar": {
              "outlinewidth": 0,
              "ticks": ""
             }
            },
            "type": "scatterpolar"
           }
          ],
          "scatterpolargl": [
           {
            "marker": {
             "colorbar": {
              "outlinewidth": 0,
              "ticks": ""
             }
            },
            "type": "scatterpolargl"
           }
          ],
          "scatterternary": [
           {
            "marker": {
             "colorbar": {
              "outlinewidth": 0,
              "ticks": ""
             }
            },
            "type": "scatterternary"
           }
          ],
          "surface": [
           {
            "colorbar": {
             "outlinewidth": 0,
             "ticks": ""
            },
            "colorscale": [
             [
              0,
              "#0d0887"
             ],
             [
              0.1111111111111111,
              "#46039f"
             ],
             [
              0.2222222222222222,
              "#7201a8"
             ],
             [
              0.3333333333333333,
              "#9c179e"
             ],
             [
              0.4444444444444444,
              "#bd3786"
             ],
             [
              0.5555555555555556,
              "#d8576b"
             ],
             [
              0.6666666666666666,
              "#ed7953"
             ],
             [
              0.7777777777777778,
              "#fb9f3a"
             ],
             [
              0.8888888888888888,
              "#fdca26"
             ],
             [
              1,
              "#f0f921"
             ]
            ],
            "type": "surface"
           }
          ],
          "table": [
           {
            "cells": {
             "fill": {
              "color": "#EBF0F8"
             },
             "line": {
              "color": "white"
             }
            },
            "header": {
             "fill": {
              "color": "#C8D4E3"
             },
             "line": {
              "color": "white"
             }
            },
            "type": "table"
           }
          ]
         },
         "layout": {
          "annotationdefaults": {
           "arrowcolor": "#2a3f5f",
           "arrowhead": 0,
           "arrowwidth": 1
          },
          "autotypenumbers": "strict",
          "coloraxis": {
           "colorbar": {
            "outlinewidth": 0,
            "ticks": ""
           }
          },
          "colorscale": {
           "diverging": [
            [
             0,
             "#8e0152"
            ],
            [
             0.1,
             "#c51b7d"
            ],
            [
             0.2,
             "#de77ae"
            ],
            [
             0.3,
             "#f1b6da"
            ],
            [
             0.4,
             "#fde0ef"
            ],
            [
             0.5,
             "#f7f7f7"
            ],
            [
             0.6,
             "#e6f5d0"
            ],
            [
             0.7,
             "#b8e186"
            ],
            [
             0.8,
             "#7fbc41"
            ],
            [
             0.9,
             "#4d9221"
            ],
            [
             1,
             "#276419"
            ]
           ],
           "sequential": [
            [
             0,
             "#0d0887"
            ],
            [
             0.1111111111111111,
             "#46039f"
            ],
            [
             0.2222222222222222,
             "#7201a8"
            ],
            [
             0.3333333333333333,
             "#9c179e"
            ],
            [
             0.4444444444444444,
             "#bd3786"
            ],
            [
             0.5555555555555556,
             "#d8576b"
            ],
            [
             0.6666666666666666,
             "#ed7953"
            ],
            [
             0.7777777777777778,
             "#fb9f3a"
            ],
            [
             0.8888888888888888,
             "#fdca26"
            ],
            [
             1,
             "#f0f921"
            ]
           ],
           "sequentialminus": [
            [
             0,
             "#0d0887"
            ],
            [
             0.1111111111111111,
             "#46039f"
            ],
            [
             0.2222222222222222,
             "#7201a8"
            ],
            [
             0.3333333333333333,
             "#9c179e"
            ],
            [
             0.4444444444444444,
             "#bd3786"
            ],
            [
             0.5555555555555556,
             "#d8576b"
            ],
            [
             0.6666666666666666,
             "#ed7953"
            ],
            [
             0.7777777777777778,
             "#fb9f3a"
            ],
            [
             0.8888888888888888,
             "#fdca26"
            ],
            [
             1,
             "#f0f921"
            ]
           ]
          },
          "colorway": [
           "#636efa",
           "#EF553B",
           "#00cc96",
           "#ab63fa",
           "#FFA15A",
           "#19d3f3",
           "#FF6692",
           "#B6E880",
           "#FF97FF",
           "#FECB52"
          ],
          "font": {
           "color": "#2a3f5f"
          },
          "geo": {
           "bgcolor": "white",
           "lakecolor": "white",
           "landcolor": "#E5ECF6",
           "showlakes": true,
           "showland": true,
           "subunitcolor": "white"
          },
          "hoverlabel": {
           "align": "left"
          },
          "hovermode": "closest",
          "mapbox": {
           "style": "light"
          },
          "paper_bgcolor": "white",
          "plot_bgcolor": "#E5ECF6",
          "polar": {
           "angularaxis": {
            "gridcolor": "white",
            "linecolor": "white",
            "ticks": ""
           },
           "bgcolor": "#E5ECF6",
           "radialaxis": {
            "gridcolor": "white",
            "linecolor": "white",
            "ticks": ""
           }
          },
          "scene": {
           "xaxis": {
            "backgroundcolor": "#E5ECF6",
            "gridcolor": "white",
            "gridwidth": 2,
            "linecolor": "white",
            "showbackground": true,
            "ticks": "",
            "zerolinecolor": "white"
           },
           "yaxis": {
            "backgroundcolor": "#E5ECF6",
            "gridcolor": "white",
            "gridwidth": 2,
            "linecolor": "white",
            "showbackground": true,
            "ticks": "",
            "zerolinecolor": "white"
           },
           "zaxis": {
            "backgroundcolor": "#E5ECF6",
            "gridcolor": "white",
            "gridwidth": 2,
            "linecolor": "white",
            "showbackground": true,
            "ticks": "",
            "zerolinecolor": "white"
           }
          },
          "shapedefaults": {
           "line": {
            "color": "#2a3f5f"
           }
          },
          "ternary": {
           "aaxis": {
            "gridcolor": "white",
            "linecolor": "white",
            "ticks": ""
           },
           "baxis": {
            "gridcolor": "white",
            "linecolor": "white",
            "ticks": ""
           },
           "bgcolor": "#E5ECF6",
           "caxis": {
            "gridcolor": "white",
            "linecolor": "white",
            "ticks": ""
           }
          },
          "title": {
           "x": 0.05
          },
          "xaxis": {
           "automargin": true,
           "gridcolor": "white",
           "linecolor": "white",
           "ticks": "",
           "title": {
            "standoff": 15
           },
           "zerolinecolor": "white",
           "zerolinewidth": 2
          },
          "yaxis": {
           "automargin": true,
           "gridcolor": "white",
           "linecolor": "white",
           "ticks": "",
           "title": {
            "standoff": 15
           },
           "zerolinecolor": "white",
           "zerolinewidth": 2
          }
         }
        },
        "title": {
         "text": "Mean values per genre"
        },
        "width": 750,
        "xaxis": {
         "anchor": "y",
         "domain": [
          0,
          1
         ],
         "title": {
          "text": "Mean values per metal"
         }
        },
        "yaxis": {
         "anchor": "x",
         "categoryarray": [
          "explicit",
          "valence",
          "liveness",
          "instrumentalness",
          "acousticness",
          "speechiness",
          "energy",
          "danceability"
         ],
         "categoryorder": "array",
         "domain": [
          0,
          1
         ],
         "title": {
          "text": "parameter"
         }
        }
       }
      }
     },
     "metadata": {},
     "output_type": "display_data"
    },
    {
     "data": {
      "application/vnd.plotly.v1+json": {
       "config": {
        "plotlyServerURL": "https://plot.ly"
       },
       "data": [
        {
         "alignmentgroup": "True",
         "hovertemplate": "parameter=%{y}<br>value=%{x}<extra></extra>",
         "legendgroup": "danceability",
         "marker": {
          "color": "#636efa",
          "pattern": {
           "shape": ""
          }
         },
         "name": "danceability",
         "offsetgroup": "danceability",
         "orientation": "h",
         "showlegend": true,
         "textposition": "auto",
         "type": "bar",
         "x": [
          0.6879302999727746
         ],
         "xaxis": "x",
         "y": [
          "danceability"
         ],
         "yaxis": "y"
        },
        {
         "alignmentgroup": "True",
         "hovertemplate": "parameter=%{y}<br>value=%{x}<extra></extra>",
         "legendgroup": "energy",
         "marker": {
          "color": "#EF553B",
          "pattern": {
           "shape": ""
          }
         },
         "name": "energy",
         "offsetgroup": "energy",
         "orientation": "h",
         "showlegend": true,
         "textposition": "auto",
         "type": "bar",
         "x": [
          0.7148107432854459
         ],
         "xaxis": "x",
         "y": [
          "energy"
         ],
         "yaxis": "y"
        },
        {
         "alignmentgroup": "True",
         "hovertemplate": "parameter=%{y}<br>value=%{x}<extra></extra>",
         "legendgroup": "speechiness",
         "marker": {
          "color": "#00cc96",
          "pattern": {
           "shape": ""
          }
         },
         "name": "speechiness",
         "offsetgroup": "speechiness",
         "orientation": "h",
         "showlegend": true,
         "textposition": "auto",
         "type": "bar",
         "x": [
          0.10130212367270461
         ],
         "xaxis": "x",
         "y": [
          "speechiness"
         ],
         "yaxis": "y"
        },
        {
         "alignmentgroup": "True",
         "hovertemplate": "parameter=%{y}<br>value=%{x}<extra></extra>",
         "legendgroup": "acousticness",
         "marker": {
          "color": "#ab63fa",
          "pattern": {
           "shape": ""
          }
         },
         "name": "acousticness",
         "offsetgroup": "acousticness",
         "orientation": "h",
         "showlegend": true,
         "textposition": "auto",
         "type": "bar",
         "x": [
          0.1353929498469196
         ],
         "xaxis": "x",
         "y": [
          "acousticness"
         ],
         "yaxis": "y"
        },
        {
         "alignmentgroup": "True",
         "hovertemplate": "parameter=%{y}<br>value=%{x}<extra></extra>",
         "legendgroup": "instrumentalness",
         "marker": {
          "color": "#FFA15A",
          "pattern": {
           "shape": ""
          }
         },
         "name": "instrumentalness",
         "offsetgroup": "instrumentalness",
         "orientation": "h",
         "showlegend": true,
         "textposition": "auto",
         "type": "bar",
         "x": [
          0.011446129665152184
         ],
         "xaxis": "x",
         "y": [
          "instrumentalness"
         ],
         "yaxis": "y"
        },
        {
         "alignmentgroup": "True",
         "hovertemplate": "parameter=%{y}<br>value=%{x}<extra></extra>",
         "legendgroup": "liveness",
         "marker": {
          "color": "#19d3f3",
          "pattern": {
           "shape": ""
          }
         },
         "name": "liveness",
         "offsetgroup": "liveness",
         "orientation": "h",
         "showlegend": true,
         "textposition": "auto",
         "type": "bar",
         "x": [
          0.17961992504684562
         ],
         "xaxis": "x",
         "y": [
          "liveness"
         ],
         "yaxis": "y"
        },
        {
         "alignmentgroup": "True",
         "hovertemplate": "parameter=%{y}<br>value=%{x}<extra></extra>",
         "legendgroup": "valence",
         "marker": {
          "color": "#FF6692",
          "pattern": {
           "shape": ""
          }
         },
         "name": "valence",
         "offsetgroup": "valence",
         "orientation": "h",
         "showlegend": true,
         "textposition": "auto",
         "type": "bar",
         "x": [
          0.5543927545284193
         ],
         "xaxis": "x",
         "y": [
          "valence"
         ],
         "yaxis": "y"
        },
        {
         "alignmentgroup": "True",
         "hovertemplate": "parameter=%{y}<br>value=%{x}<extra></extra>",
         "legendgroup": "explicit",
         "marker": {
          "color": "#B6E880",
          "pattern": {
           "shape": ""
          }
         },
         "name": "explicit",
         "offsetgroup": "explicit",
         "orientation": "h",
         "showlegend": true,
         "textposition": "auto",
         "type": "bar",
         "x": [
          0.2517176764522174
         ],
         "xaxis": "x",
         "y": [
          "explicit"
         ],
         "yaxis": "y"
        }
       ],
       "layout": {
        "barmode": "relative",
        "font": {
         "size": 18
        },
        "height": 500,
        "legend": {
         "title": {
          "text": "parameter"
         },
         "tracegroupgap": 0
        },
        "template": {
         "data": {
          "bar": [
           {
            "error_x": {
             "color": "#2a3f5f"
            },
            "error_y": {
             "color": "#2a3f5f"
            },
            "marker": {
             "line": {
              "color": "#E5ECF6",
              "width": 0.5
             },
             "pattern": {
              "fillmode": "overlay",
              "size": 10,
              "solidity": 0.2
             }
            },
            "type": "bar"
           }
          ],
          "barpolar": [
           {
            "marker": {
             "line": {
              "color": "#E5ECF6",
              "width": 0.5
             },
             "pattern": {
              "fillmode": "overlay",
              "size": 10,
              "solidity": 0.2
             }
            },
            "type": "barpolar"
           }
          ],
          "carpet": [
           {
            "aaxis": {
             "endlinecolor": "#2a3f5f",
             "gridcolor": "white",
             "linecolor": "white",
             "minorgridcolor": "white",
             "startlinecolor": "#2a3f5f"
            },
            "baxis": {
             "endlinecolor": "#2a3f5f",
             "gridcolor": "white",
             "linecolor": "white",
             "minorgridcolor": "white",
             "startlinecolor": "#2a3f5f"
            },
            "type": "carpet"
           }
          ],
          "choropleth": [
           {
            "colorbar": {
             "outlinewidth": 0,
             "ticks": ""
            },
            "type": "choropleth"
           }
          ],
          "contour": [
           {
            "colorbar": {
             "outlinewidth": 0,
             "ticks": ""
            },
            "colorscale": [
             [
              0,
              "#0d0887"
             ],
             [
              0.1111111111111111,
              "#46039f"
             ],
             [
              0.2222222222222222,
              "#7201a8"
             ],
             [
              0.3333333333333333,
              "#9c179e"
             ],
             [
              0.4444444444444444,
              "#bd3786"
             ],
             [
              0.5555555555555556,
              "#d8576b"
             ],
             [
              0.6666666666666666,
              "#ed7953"
             ],
             [
              0.7777777777777778,
              "#fb9f3a"
             ],
             [
              0.8888888888888888,
              "#fdca26"
             ],
             [
              1,
              "#f0f921"
             ]
            ],
            "type": "contour"
           }
          ],
          "contourcarpet": [
           {
            "colorbar": {
             "outlinewidth": 0,
             "ticks": ""
            },
            "type": "contourcarpet"
           }
          ],
          "heatmap": [
           {
            "colorbar": {
             "outlinewidth": 0,
             "ticks": ""
            },
            "colorscale": [
             [
              0,
              "#0d0887"
             ],
             [
              0.1111111111111111,
              "#46039f"
             ],
             [
              0.2222222222222222,
              "#7201a8"
             ],
             [
              0.3333333333333333,
              "#9c179e"
             ],
             [
              0.4444444444444444,
              "#bd3786"
             ],
             [
              0.5555555555555556,
              "#d8576b"
             ],
             [
              0.6666666666666666,
              "#ed7953"
             ],
             [
              0.7777777777777778,
              "#fb9f3a"
             ],
             [
              0.8888888888888888,
              "#fdca26"
             ],
             [
              1,
              "#f0f921"
             ]
            ],
            "type": "heatmap"
           }
          ],
          "heatmapgl": [
           {
            "colorbar": {
             "outlinewidth": 0,
             "ticks": ""
            },
            "colorscale": [
             [
              0,
              "#0d0887"
             ],
             [
              0.1111111111111111,
              "#46039f"
             ],
             [
              0.2222222222222222,
              "#7201a8"
             ],
             [
              0.3333333333333333,
              "#9c179e"
             ],
             [
              0.4444444444444444,
              "#bd3786"
             ],
             [
              0.5555555555555556,
              "#d8576b"
             ],
             [
              0.6666666666666666,
              "#ed7953"
             ],
             [
              0.7777777777777778,
              "#fb9f3a"
             ],
             [
              0.8888888888888888,
              "#fdca26"
             ],
             [
              1,
              "#f0f921"
             ]
            ],
            "type": "heatmapgl"
           }
          ],
          "histogram": [
           {
            "marker": {
             "pattern": {
              "fillmode": "overlay",
              "size": 10,
              "solidity": 0.2
             }
            },
            "type": "histogram"
           }
          ],
          "histogram2d": [
           {
            "colorbar": {
             "outlinewidth": 0,
             "ticks": ""
            },
            "colorscale": [
             [
              0,
              "#0d0887"
             ],
             [
              0.1111111111111111,
              "#46039f"
             ],
             [
              0.2222222222222222,
              "#7201a8"
             ],
             [
              0.3333333333333333,
              "#9c179e"
             ],
             [
              0.4444444444444444,
              "#bd3786"
             ],
             [
              0.5555555555555556,
              "#d8576b"
             ],
             [
              0.6666666666666666,
              "#ed7953"
             ],
             [
              0.7777777777777778,
              "#fb9f3a"
             ],
             [
              0.8888888888888888,
              "#fdca26"
             ],
             [
              1,
              "#f0f921"
             ]
            ],
            "type": "histogram2d"
           }
          ],
          "histogram2dcontour": [
           {
            "colorbar": {
             "outlinewidth": 0,
             "ticks": ""
            },
            "colorscale": [
             [
              0,
              "#0d0887"
             ],
             [
              0.1111111111111111,
              "#46039f"
             ],
             [
              0.2222222222222222,
              "#7201a8"
             ],
             [
              0.3333333333333333,
              "#9c179e"
             ],
             [
              0.4444444444444444,
              "#bd3786"
             ],
             [
              0.5555555555555556,
              "#d8576b"
             ],
             [
              0.6666666666666666,
              "#ed7953"
             ],
             [
              0.7777777777777778,
              "#fb9f3a"
             ],
             [
              0.8888888888888888,
              "#fdca26"
             ],
             [
              1,
              "#f0f921"
             ]
            ],
            "type": "histogram2dcontour"
           }
          ],
          "mesh3d": [
           {
            "colorbar": {
             "outlinewidth": 0,
             "ticks": ""
            },
            "type": "mesh3d"
           }
          ],
          "parcoords": [
           {
            "line": {
             "colorbar": {
              "outlinewidth": 0,
              "ticks": ""
             }
            },
            "type": "parcoords"
           }
          ],
          "pie": [
           {
            "automargin": true,
            "type": "pie"
           }
          ],
          "scatter": [
           {
            "marker": {
             "colorbar": {
              "outlinewidth": 0,
              "ticks": ""
             }
            },
            "type": "scatter"
           }
          ],
          "scatter3d": [
           {
            "line": {
             "colorbar": {
              "outlinewidth": 0,
              "ticks": ""
             }
            },
            "marker": {
             "colorbar": {
              "outlinewidth": 0,
              "ticks": ""
             }
            },
            "type": "scatter3d"
           }
          ],
          "scattercarpet": [
           {
            "marker": {
             "colorbar": {
              "outlinewidth": 0,
              "ticks": ""
             }
            },
            "type": "scattercarpet"
           }
          ],
          "scattergeo": [
           {
            "marker": {
             "colorbar": {
              "outlinewidth": 0,
              "ticks": ""
             }
            },
            "type": "scattergeo"
           }
          ],
          "scattergl": [
           {
            "marker": {
             "colorbar": {
              "outlinewidth": 0,
              "ticks": ""
             }
            },
            "type": "scattergl"
           }
          ],
          "scattermapbox": [
           {
            "marker": {
             "colorbar": {
              "outlinewidth": 0,
              "ticks": ""
             }
            },
            "type": "scattermapbox"
           }
          ],
          "scatterpolar": [
           {
            "marker": {
             "colorbar": {
              "outlinewidth": 0,
              "ticks": ""
             }
            },
            "type": "scatterpolar"
           }
          ],
          "scatterpolargl": [
           {
            "marker": {
             "colorbar": {
              "outlinewidth": 0,
              "ticks": ""
             }
            },
            "type": "scatterpolargl"
           }
          ],
          "scatterternary": [
           {
            "marker": {
             "colorbar": {
              "outlinewidth": 0,
              "ticks": ""
             }
            },
            "type": "scatterternary"
           }
          ],
          "surface": [
           {
            "colorbar": {
             "outlinewidth": 0,
             "ticks": ""
            },
            "colorscale": [
             [
              0,
              "#0d0887"
             ],
             [
              0.1111111111111111,
              "#46039f"
             ],
             [
              0.2222222222222222,
              "#7201a8"
             ],
             [
              0.3333333333333333,
              "#9c179e"
             ],
             [
              0.4444444444444444,
              "#bd3786"
             ],
             [
              0.5555555555555556,
              "#d8576b"
             ],
             [
              0.6666666666666666,
              "#ed7953"
             ],
             [
              0.7777777777777778,
              "#fb9f3a"
             ],
             [
              0.8888888888888888,
              "#fdca26"
             ],
             [
              1,
              "#f0f921"
             ]
            ],
            "type": "surface"
           }
          ],
          "table": [
           {
            "cells": {
             "fill": {
              "color": "#EBF0F8"
             },
             "line": {
              "color": "white"
             }
            },
            "header": {
             "fill": {
              "color": "#C8D4E3"
             },
             "line": {
              "color": "white"
             }
            },
            "type": "table"
           }
          ]
         },
         "layout": {
          "annotationdefaults": {
           "arrowcolor": "#2a3f5f",
           "arrowhead": 0,
           "arrowwidth": 1
          },
          "autotypenumbers": "strict",
          "coloraxis": {
           "colorbar": {
            "outlinewidth": 0,
            "ticks": ""
           }
          },
          "colorscale": {
           "diverging": [
            [
             0,
             "#8e0152"
            ],
            [
             0.1,
             "#c51b7d"
            ],
            [
             0.2,
             "#de77ae"
            ],
            [
             0.3,
             "#f1b6da"
            ],
            [
             0.4,
             "#fde0ef"
            ],
            [
             0.5,
             "#f7f7f7"
            ],
            [
             0.6,
             "#e6f5d0"
            ],
            [
             0.7,
             "#b8e186"
            ],
            [
             0.8,
             "#7fbc41"
            ],
            [
             0.9,
             "#4d9221"
            ],
            [
             1,
             "#276419"
            ]
           ],
           "sequential": [
            [
             0,
             "#0d0887"
            ],
            [
             0.1111111111111111,
             "#46039f"
            ],
            [
             0.2222222222222222,
             "#7201a8"
            ],
            [
             0.3333333333333333,
             "#9c179e"
            ],
            [
             0.4444444444444444,
             "#bd3786"
            ],
            [
             0.5555555555555556,
             "#d8576b"
            ],
            [
             0.6666666666666666,
             "#ed7953"
            ],
            [
             0.7777777777777778,
             "#fb9f3a"
            ],
            [
             0.8888888888888888,
             "#fdca26"
            ],
            [
             1,
             "#f0f921"
            ]
           ],
           "sequentialminus": [
            [
             0,
             "#0d0887"
            ],
            [
             0.1111111111111111,
             "#46039f"
            ],
            [
             0.2222222222222222,
             "#7201a8"
            ],
            [
             0.3333333333333333,
             "#9c179e"
            ],
            [
             0.4444444444444444,
             "#bd3786"
            ],
            [
             0.5555555555555556,
             "#d8576b"
            ],
            [
             0.6666666666666666,
             "#ed7953"
            ],
            [
             0.7777777777777778,
             "#fb9f3a"
            ],
            [
             0.8888888888888888,
             "#fdca26"
            ],
            [
             1,
             "#f0f921"
            ]
           ]
          },
          "colorway": [
           "#636efa",
           "#EF553B",
           "#00cc96",
           "#ab63fa",
           "#FFA15A",
           "#19d3f3",
           "#FF6692",
           "#B6E880",
           "#FF97FF",
           "#FECB52"
          ],
          "font": {
           "color": "#2a3f5f"
          },
          "geo": {
           "bgcolor": "white",
           "lakecolor": "white",
           "landcolor": "#E5ECF6",
           "showlakes": true,
           "showland": true,
           "subunitcolor": "white"
          },
          "hoverlabel": {
           "align": "left"
          },
          "hovermode": "closest",
          "mapbox": {
           "style": "light"
          },
          "paper_bgcolor": "white",
          "plot_bgcolor": "#E5ECF6",
          "polar": {
           "angularaxis": {
            "gridcolor": "white",
            "linecolor": "white",
            "ticks": ""
           },
           "bgcolor": "#E5ECF6",
           "radialaxis": {
            "gridcolor": "white",
            "linecolor": "white",
            "ticks": ""
           }
          },
          "scene": {
           "xaxis": {
            "backgroundcolor": "#E5ECF6",
            "gridcolor": "white",
            "gridwidth": 2,
            "linecolor": "white",
            "showbackground": true,
            "ticks": "",
            "zerolinecolor": "white"
           },
           "yaxis": {
            "backgroundcolor": "#E5ECF6",
            "gridcolor": "white",
            "gridwidth": 2,
            "linecolor": "white",
            "showbackground": true,
            "ticks": "",
            "zerolinecolor": "white"
           },
           "zaxis": {
            "backgroundcolor": "#E5ECF6",
            "gridcolor": "white",
            "gridwidth": 2,
            "linecolor": "white",
            "showbackground": true,
            "ticks": "",
            "zerolinecolor": "white"
           }
          },
          "shapedefaults": {
           "line": {
            "color": "#2a3f5f"
           }
          },
          "ternary": {
           "aaxis": {
            "gridcolor": "white",
            "linecolor": "white",
            "ticks": ""
           },
           "baxis": {
            "gridcolor": "white",
            "linecolor": "white",
            "ticks": ""
           },
           "bgcolor": "#E5ECF6",
           "caxis": {
            "gridcolor": "white",
            "linecolor": "white",
            "ticks": ""
           }
          },
          "title": {
           "x": 0.05
          },
          "xaxis": {
           "automargin": true,
           "gridcolor": "white",
           "linecolor": "white",
           "ticks": "",
           "title": {
            "standoff": 15
           },
           "zerolinecolor": "white",
           "zerolinewidth": 2
          },
          "yaxis": {
           "automargin": true,
           "gridcolor": "white",
           "linecolor": "white",
           "ticks": "",
           "title": {
            "standoff": 15
           },
           "zerolinecolor": "white",
           "zerolinewidth": 2
          }
         }
        },
        "title": {
         "text": "Mean values per genre"
        },
        "width": 750,
        "xaxis": {
         "anchor": "y",
         "domain": [
          0,
          1
         ],
         "title": {
          "text": "Mean values per pop"
         }
        },
        "yaxis": {
         "anchor": "x",
         "categoryarray": [
          "explicit",
          "valence",
          "liveness",
          "instrumentalness",
          "acousticness",
          "speechiness",
          "energy",
          "danceability"
         ],
         "categoryorder": "array",
         "domain": [
          0,
          1
         ],
         "title": {
          "text": "parameter"
         }
        }
       }
      }
     },
     "metadata": {},
     "output_type": "display_data"
    },
    {
     "data": {
      "application/vnd.plotly.v1+json": {
       "config": {
        "plotlyServerURL": "https://plot.ly"
       },
       "data": [
        {
         "alignmentgroup": "True",
         "hovertemplate": "parameter=%{y}<br>value=%{x}<extra></extra>",
         "legendgroup": "danceability",
         "marker": {
          "color": "#636efa",
          "pattern": {
           "shape": ""
          }
         },
         "name": "danceability",
         "offsetgroup": "danceability",
         "orientation": "h",
         "showlegend": true,
         "textposition": "auto",
         "type": "bar",
         "x": [
          0.5689085545722715
         ],
         "xaxis": "x",
         "y": [
          "danceability"
         ],
         "yaxis": "y"
        },
        {
         "alignmentgroup": "True",
         "hovertemplate": "parameter=%{y}<br>value=%{x}<extra></extra>",
         "legendgroup": "energy",
         "marker": {
          "color": "#EF553B",
          "pattern": {
           "shape": ""
          }
         },
         "name": "energy",
         "offsetgroup": "energy",
         "orientation": "h",
         "showlegend": true,
         "textposition": "auto",
         "type": "bar",
         "x": [
          0.7931283185840708
         ],
         "xaxis": "x",
         "y": [
          "energy"
         ],
         "yaxis": "y"
        },
        {
         "alignmentgroup": "True",
         "hovertemplate": "parameter=%{y}<br>value=%{x}<extra></extra>",
         "legendgroup": "speechiness",
         "marker": {
          "color": "#00cc96",
          "pattern": {
           "shape": ""
          }
         },
         "name": "speechiness",
         "offsetgroup": "speechiness",
         "orientation": "h",
         "showlegend": true,
         "textposition": "auto",
         "type": "bar",
         "x": [
          0.059051769911504404
         ],
         "xaxis": "x",
         "y": [
          "speechiness"
         ],
         "yaxis": "y"
        },
        {
         "alignmentgroup": "True",
         "hovertemplate": "parameter=%{y}<br>value=%{x}<extra></extra>",
         "legendgroup": "acousticness",
         "marker": {
          "color": "#ab63fa",
          "pattern": {
           "shape": ""
          }
         },
         "name": "acousticness",
         "offsetgroup": "acousticness",
         "orientation": "h",
         "showlegend": true,
         "textposition": "auto",
         "type": "bar",
         "x": [
          0.07966428895256056
         ],
         "xaxis": "x",
         "y": [
          "acousticness"
         ],
         "yaxis": "y"
        },
        {
         "alignmentgroup": "True",
         "hovertemplate": "parameter=%{y}<br>value=%{x}<extra></extra>",
         "legendgroup": "instrumentalness",
         "marker": {
          "color": "#FFA15A",
          "pattern": {
           "shape": ""
          }
         },
         "name": "instrumentalness",
         "offsetgroup": "instrumentalness",
         "orientation": "h",
         "showlegend": true,
         "textposition": "auto",
         "type": "bar",
         "x": [
          0.03104307479448362
         ],
         "xaxis": "x",
         "y": [
          "instrumentalness"
         ],
         "yaxis": "y"
        },
        {
         "alignmentgroup": "True",
         "hovertemplate": "parameter=%{y}<br>value=%{x}<extra></extra>",
         "legendgroup": "liveness",
         "marker": {
          "color": "#19d3f3",
          "pattern": {
           "shape": ""
          }
         },
         "name": "liveness",
         "offsetgroup": "liveness",
         "orientation": "h",
         "showlegend": true,
         "textposition": "auto",
         "type": "bar",
         "x": [
          0.19768539823008852
         ],
         "xaxis": "x",
         "y": [
          "liveness"
         ],
         "yaxis": "y"
        },
        {
         "alignmentgroup": "True",
         "hovertemplate": "parameter=%{y}<br>value=%{x}<extra></extra>",
         "legendgroup": "valence",
         "marker": {
          "color": "#FF6692",
          "pattern": {
           "shape": ""
          }
         },
         "name": "valence",
         "offsetgroup": "valence",
         "orientation": "h",
         "showlegend": true,
         "textposition": "auto",
         "type": "bar",
         "x": [
          0.5245685840707963
         ],
         "xaxis": "x",
         "y": [
          "valence"
         ],
         "yaxis": "y"
        },
        {
         "alignmentgroup": "True",
         "hovertemplate": "parameter=%{y}<br>value=%{x}<extra></extra>",
         "legendgroup": "explicit",
         "marker": {
          "color": "#B6E880",
          "pattern": {
           "shape": ""
          }
         },
         "name": "explicit",
         "offsetgroup": "explicit",
         "orientation": "h",
         "showlegend": true,
         "textposition": "auto",
         "type": "bar",
         "x": [
          0.08849557522123894
         ],
         "xaxis": "x",
         "y": [
          "explicit"
         ],
         "yaxis": "y"
        }
       ],
       "layout": {
        "barmode": "relative",
        "font": {
         "size": 18
        },
        "height": 500,
        "legend": {
         "title": {
          "text": "parameter"
         },
         "tracegroupgap": 0
        },
        "template": {
         "data": {
          "bar": [
           {
            "error_x": {
             "color": "#2a3f5f"
            },
            "error_y": {
             "color": "#2a3f5f"
            },
            "marker": {
             "line": {
              "color": "#E5ECF6",
              "width": 0.5
             },
             "pattern": {
              "fillmode": "overlay",
              "size": 10,
              "solidity": 0.2
             }
            },
            "type": "bar"
           }
          ],
          "barpolar": [
           {
            "marker": {
             "line": {
              "color": "#E5ECF6",
              "width": 0.5
             },
             "pattern": {
              "fillmode": "overlay",
              "size": 10,
              "solidity": 0.2
             }
            },
            "type": "barpolar"
           }
          ],
          "carpet": [
           {
            "aaxis": {
             "endlinecolor": "#2a3f5f",
             "gridcolor": "white",
             "linecolor": "white",
             "minorgridcolor": "white",
             "startlinecolor": "#2a3f5f"
            },
            "baxis": {
             "endlinecolor": "#2a3f5f",
             "gridcolor": "white",
             "linecolor": "white",
             "minorgridcolor": "white",
             "startlinecolor": "#2a3f5f"
            },
            "type": "carpet"
           }
          ],
          "choropleth": [
           {
            "colorbar": {
             "outlinewidth": 0,
             "ticks": ""
            },
            "type": "choropleth"
           }
          ],
          "contour": [
           {
            "colorbar": {
             "outlinewidth": 0,
             "ticks": ""
            },
            "colorscale": [
             [
              0,
              "#0d0887"
             ],
             [
              0.1111111111111111,
              "#46039f"
             ],
             [
              0.2222222222222222,
              "#7201a8"
             ],
             [
              0.3333333333333333,
              "#9c179e"
             ],
             [
              0.4444444444444444,
              "#bd3786"
             ],
             [
              0.5555555555555556,
              "#d8576b"
             ],
             [
              0.6666666666666666,
              "#ed7953"
             ],
             [
              0.7777777777777778,
              "#fb9f3a"
             ],
             [
              0.8888888888888888,
              "#fdca26"
             ],
             [
              1,
              "#f0f921"
             ]
            ],
            "type": "contour"
           }
          ],
          "contourcarpet": [
           {
            "colorbar": {
             "outlinewidth": 0,
             "ticks": ""
            },
            "type": "contourcarpet"
           }
          ],
          "heatmap": [
           {
            "colorbar": {
             "outlinewidth": 0,
             "ticks": ""
            },
            "colorscale": [
             [
              0,
              "#0d0887"
             ],
             [
              0.1111111111111111,
              "#46039f"
             ],
             [
              0.2222222222222222,
              "#7201a8"
             ],
             [
              0.3333333333333333,
              "#9c179e"
             ],
             [
              0.4444444444444444,
              "#bd3786"
             ],
             [
              0.5555555555555556,
              "#d8576b"
             ],
             [
              0.6666666666666666,
              "#ed7953"
             ],
             [
              0.7777777777777778,
              "#fb9f3a"
             ],
             [
              0.8888888888888888,
              "#fdca26"
             ],
             [
              1,
              "#f0f921"
             ]
            ],
            "type": "heatmap"
           }
          ],
          "heatmapgl": [
           {
            "colorbar": {
             "outlinewidth": 0,
             "ticks": ""
            },
            "colorscale": [
             [
              0,
              "#0d0887"
             ],
             [
              0.1111111111111111,
              "#46039f"
             ],
             [
              0.2222222222222222,
              "#7201a8"
             ],
             [
              0.3333333333333333,
              "#9c179e"
             ],
             [
              0.4444444444444444,
              "#bd3786"
             ],
             [
              0.5555555555555556,
              "#d8576b"
             ],
             [
              0.6666666666666666,
              "#ed7953"
             ],
             [
              0.7777777777777778,
              "#fb9f3a"
             ],
             [
              0.8888888888888888,
              "#fdca26"
             ],
             [
              1,
              "#f0f921"
             ]
            ],
            "type": "heatmapgl"
           }
          ],
          "histogram": [
           {
            "marker": {
             "pattern": {
              "fillmode": "overlay",
              "size": 10,
              "solidity": 0.2
             }
            },
            "type": "histogram"
           }
          ],
          "histogram2d": [
           {
            "colorbar": {
             "outlinewidth": 0,
             "ticks": ""
            },
            "colorscale": [
             [
              0,
              "#0d0887"
             ],
             [
              0.1111111111111111,
              "#46039f"
             ],
             [
              0.2222222222222222,
              "#7201a8"
             ],
             [
              0.3333333333333333,
              "#9c179e"
             ],
             [
              0.4444444444444444,
              "#bd3786"
             ],
             [
              0.5555555555555556,
              "#d8576b"
             ],
             [
              0.6666666666666666,
              "#ed7953"
             ],
             [
              0.7777777777777778,
              "#fb9f3a"
             ],
             [
              0.8888888888888888,
              "#fdca26"
             ],
             [
              1,
              "#f0f921"
             ]
            ],
            "type": "histogram2d"
           }
          ],
          "histogram2dcontour": [
           {
            "colorbar": {
             "outlinewidth": 0,
             "ticks": ""
            },
            "colorscale": [
             [
              0,
              "#0d0887"
             ],
             [
              0.1111111111111111,
              "#46039f"
             ],
             [
              0.2222222222222222,
              "#7201a8"
             ],
             [
              0.3333333333333333,
              "#9c179e"
             ],
             [
              0.4444444444444444,
              "#bd3786"
             ],
             [
              0.5555555555555556,
              "#d8576b"
             ],
             [
              0.6666666666666666,
              "#ed7953"
             ],
             [
              0.7777777777777778,
              "#fb9f3a"
             ],
             [
              0.8888888888888888,
              "#fdca26"
             ],
             [
              1,
              "#f0f921"
             ]
            ],
            "type": "histogram2dcontour"
           }
          ],
          "mesh3d": [
           {
            "colorbar": {
             "outlinewidth": 0,
             "ticks": ""
            },
            "type": "mesh3d"
           }
          ],
          "parcoords": [
           {
            "line": {
             "colorbar": {
              "outlinewidth": 0,
              "ticks": ""
             }
            },
            "type": "parcoords"
           }
          ],
          "pie": [
           {
            "automargin": true,
            "type": "pie"
           }
          ],
          "scatter": [
           {
            "marker": {
             "colorbar": {
              "outlinewidth": 0,
              "ticks": ""
             }
            },
            "type": "scatter"
           }
          ],
          "scatter3d": [
           {
            "line": {
             "colorbar": {
              "outlinewidth": 0,
              "ticks": ""
             }
            },
            "marker": {
             "colorbar": {
              "outlinewidth": 0,
              "ticks": ""
             }
            },
            "type": "scatter3d"
           }
          ],
          "scattercarpet": [
           {
            "marker": {
             "colorbar": {
              "outlinewidth": 0,
              "ticks": ""
             }
            },
            "type": "scattercarpet"
           }
          ],
          "scattergeo": [
           {
            "marker": {
             "colorbar": {
              "outlinewidth": 0,
              "ticks": ""
             }
            },
            "type": "scattergeo"
           }
          ],
          "scattergl": [
           {
            "marker": {
             "colorbar": {
              "outlinewidth": 0,
              "ticks": ""
             }
            },
            "type": "scattergl"
           }
          ],
          "scattermapbox": [
           {
            "marker": {
             "colorbar": {
              "outlinewidth": 0,
              "ticks": ""
             }
            },
            "type": "scattermapbox"
           }
          ],
          "scatterpolar": [
           {
            "marker": {
             "colorbar": {
              "outlinewidth": 0,
              "ticks": ""
             }
            },
            "type": "scatterpolar"
           }
          ],
          "scatterpolargl": [
           {
            "marker": {
             "colorbar": {
              "outlinewidth": 0,
              "ticks": ""
             }
            },
            "type": "scatterpolargl"
           }
          ],
          "scatterternary": [
           {
            "marker": {
             "colorbar": {
              "outlinewidth": 0,
              "ticks": ""
             }
            },
            "type": "scatterternary"
           }
          ],
          "surface": [
           {
            "colorbar": {
             "outlinewidth": 0,
             "ticks": ""
            },
            "colorscale": [
             [
              0,
              "#0d0887"
             ],
             [
              0.1111111111111111,
              "#46039f"
             ],
             [
              0.2222222222222222,
              "#7201a8"
             ],
             [
              0.3333333333333333,
              "#9c179e"
             ],
             [
              0.4444444444444444,
              "#bd3786"
             ],
             [
              0.5555555555555556,
              "#d8576b"
             ],
             [
              0.6666666666666666,
              "#ed7953"
             ],
             [
              0.7777777777777778,
              "#fb9f3a"
             ],
             [
              0.8888888888888888,
              "#fdca26"
             ],
             [
              1,
              "#f0f921"
             ]
            ],
            "type": "surface"
           }
          ],
          "table": [
           {
            "cells": {
             "fill": {
              "color": "#EBF0F8"
             },
             "line": {
              "color": "white"
             }
            },
            "header": {
             "fill": {
              "color": "#C8D4E3"
             },
             "line": {
              "color": "white"
             }
            },
            "type": "table"
           }
          ]
         },
         "layout": {
          "annotationdefaults": {
           "arrowcolor": "#2a3f5f",
           "arrowhead": 0,
           "arrowwidth": 1
          },
          "autotypenumbers": "strict",
          "coloraxis": {
           "colorbar": {
            "outlinewidth": 0,
            "ticks": ""
           }
          },
          "colorscale": {
           "diverging": [
            [
             0,
             "#8e0152"
            ],
            [
             0.1,
             "#c51b7d"
            ],
            [
             0.2,
             "#de77ae"
            ],
            [
             0.3,
             "#f1b6da"
            ],
            [
             0.4,
             "#fde0ef"
            ],
            [
             0.5,
             "#f7f7f7"
            ],
            [
             0.6,
             "#e6f5d0"
            ],
            [
             0.7,
             "#b8e186"
            ],
            [
             0.8,
             "#7fbc41"
            ],
            [
             0.9,
             "#4d9221"
            ],
            [
             1,
             "#276419"
            ]
           ],
           "sequential": [
            [
             0,
             "#0d0887"
            ],
            [
             0.1111111111111111,
             "#46039f"
            ],
            [
             0.2222222222222222,
             "#7201a8"
            ],
            [
             0.3333333333333333,
             "#9c179e"
            ],
            [
             0.4444444444444444,
             "#bd3786"
            ],
            [
             0.5555555555555556,
             "#d8576b"
            ],
            [
             0.6666666666666666,
             "#ed7953"
            ],
            [
             0.7777777777777778,
             "#fb9f3a"
            ],
            [
             0.8888888888888888,
             "#fdca26"
            ],
            [
             1,
             "#f0f921"
            ]
           ],
           "sequentialminus": [
            [
             0,
             "#0d0887"
            ],
            [
             0.1111111111111111,
             "#46039f"
            ],
            [
             0.2222222222222222,
             "#7201a8"
            ],
            [
             0.3333333333333333,
             "#9c179e"
            ],
            [
             0.4444444444444444,
             "#bd3786"
            ],
            [
             0.5555555555555556,
             "#d8576b"
            ],
            [
             0.6666666666666666,
             "#ed7953"
            ],
            [
             0.7777777777777778,
             "#fb9f3a"
            ],
            [
             0.8888888888888888,
             "#fdca26"
            ],
            [
             1,
             "#f0f921"
            ]
           ]
          },
          "colorway": [
           "#636efa",
           "#EF553B",
           "#00cc96",
           "#ab63fa",
           "#FFA15A",
           "#19d3f3",
           "#FF6692",
           "#B6E880",
           "#FF97FF",
           "#FECB52"
          ],
          "font": {
           "color": "#2a3f5f"
          },
          "geo": {
           "bgcolor": "white",
           "lakecolor": "white",
           "landcolor": "#E5ECF6",
           "showlakes": true,
           "showland": true,
           "subunitcolor": "white"
          },
          "hoverlabel": {
           "align": "left"
          },
          "hovermode": "closest",
          "mapbox": {
           "style": "light"
          },
          "paper_bgcolor": "white",
          "plot_bgcolor": "#E5ECF6",
          "polar": {
           "angularaxis": {
            "gridcolor": "white",
            "linecolor": "white",
            "ticks": ""
           },
           "bgcolor": "#E5ECF6",
           "radialaxis": {
            "gridcolor": "white",
            "linecolor": "white",
            "ticks": ""
           }
          },
          "scene": {
           "xaxis": {
            "backgroundcolor": "#E5ECF6",
            "gridcolor": "white",
            "gridwidth": 2,
            "linecolor": "white",
            "showbackground": true,
            "ticks": "",
            "zerolinecolor": "white"
           },
           "yaxis": {
            "backgroundcolor": "#E5ECF6",
            "gridcolor": "white",
            "gridwidth": 2,
            "linecolor": "white",
            "showbackground": true,
            "ticks": "",
            "zerolinecolor": "white"
           },
           "zaxis": {
            "backgroundcolor": "#E5ECF6",
            "gridcolor": "white",
            "gridwidth": 2,
            "linecolor": "white",
            "showbackground": true,
            "ticks": "",
            "zerolinecolor": "white"
           }
          },
          "shapedefaults": {
           "line": {
            "color": "#2a3f5f"
           }
          },
          "ternary": {
           "aaxis": {
            "gridcolor": "white",
            "linecolor": "white",
            "ticks": ""
           },
           "baxis": {
            "gridcolor": "white",
            "linecolor": "white",
            "ticks": ""
           },
           "bgcolor": "#E5ECF6",
           "caxis": {
            "gridcolor": "white",
            "linecolor": "white",
            "ticks": ""
           }
          },
          "title": {
           "x": 0.05
          },
          "xaxis": {
           "automargin": true,
           "gridcolor": "white",
           "linecolor": "white",
           "ticks": "",
           "title": {
            "standoff": 15
           },
           "zerolinecolor": "white",
           "zerolinewidth": 2
          },
          "yaxis": {
           "automargin": true,
           "gridcolor": "white",
           "linecolor": "white",
           "ticks": "",
           "title": {
            "standoff": 15
           },
           "zerolinecolor": "white",
           "zerolinewidth": 2
          }
         }
        },
        "title": {
         "text": "Mean values per genre"
        },
        "width": 750,
        "xaxis": {
         "anchor": "y",
         "domain": [
          0,
          1
         ],
         "title": {
          "text": "Mean values per rock"
         }
        },
        "yaxis": {
         "anchor": "x",
         "categoryarray": [
          "explicit",
          "valence",
          "liveness",
          "instrumentalness",
          "acousticness",
          "speechiness",
          "energy",
          "danceability"
         ],
         "categoryorder": "array",
         "domain": [
          0,
          1
         ],
         "title": {
          "text": "parameter"
         }
        }
       }
      }
     },
     "metadata": {},
     "output_type": "display_data"
    }
   ],
   "source": [
    "\n",
    "genre_num_songs = df_genre_exp.groupby(\"genre\").size().reset_index()\n",
    "genre_num_songs.columns = [\"genre\", \"songs\"]\n",
    "genre_num_songs.drop(genre_num_songs[genre_num_songs.genre.isin(\n",
    "    [\"N/A\"])].index.values, inplace=True)\n",
    "valid_genres = genre_num_songs.genre.values\n",
    "\n",
    "for genre in valid_genres:\n",
    "    values_data = genres.drop([\"popularity\"], axis=1)[genres.genre == genre]\n",
    "\n",
    "    values_data = values_data.drop([\"genre\", \"tempo\", \"key\", \"loudness\"], axis=1).transpose().reset_index()\n",
    "    values_data.columns = [\"parameter\", \"value\"]\n",
    "\n",
    "    fig = px.bar(values_data, x=\"value\", y=\"parameter\", color=\"parameter\",\n",
    "             width=750, height=500, title=\"Mean values per genre\")\n",
    "    fig.update_layout(font_size=18, xaxis_title=f\"Mean values per {genre}\")\n",
    "    fig.show()\n"
   ]
  },
  {
   "cell_type": "markdown",
   "metadata": {},
   "source": [
    "From all the graphs oer genre, we can derive to the following conclusions:\n",
    "- As could've been expected, Blues and World/Traditional have the higher values of Instrumentalness, so the absence of vocals such as words or spoken lyrics.\n",
    "- Jazz has the lowest value of Energy, so it's pretty calm and definitely not upbeat.\n",
    "- Hip Hop is more explicit and spoken, as defined by parameters Explicit and Speechiness, which are higher than the other genres. Since it's pretty much all words, it was predictable. "
   ]
  },
  {
   "cell_type": "markdown",
   "metadata": {},
   "source": [
    "## "
   ]
  },
  {
   "cell_type": "markdown",
   "metadata": {},
   "source": [
    "## How long are the most popular songs?\n",
    "This is the correlation between danceability of the songs and the corresponding years."
   ]
  },
  {
   "cell_type": "code",
   "execution_count": 73,
   "metadata": {},
   "outputs": [
    {
     "data": {
      "application/vnd.plotly.v1+json": {
       "config": {
        "plotlyServerURL": "https://plot.ly"
       },
       "data": [
        {
         "customdata": [
          [
           "Britney Spears",
           "Oops!...I Did It Again"
          ],
          [
           "Bon Jovi",
           "It's My Life"
          ],
          [
           "*NSYNC",
           "Bye Bye Bye"
          ],
          [
           "Eminem",
           "The Real Slim Shady"
          ],
          [
           "Robbie Williams",
           "Rock DJ"
          ],
          [
           "Modjo",
           "Lady - Hear Me Tonight"
          ],
          [
           "Gigi D'Agostino",
           "L'Amour Toujours"
          ],
          [
           "Bomfunk MC's",
           "Freestyler"
          ],
          [
           "Aaliyah",
           "Try Again"
          ],
          [
           "Alice Deejay",
           "Better Off Alone"
          ],
          [
           "Linkin Park",
           "In the End"
          ],
          [
           "Sonique",
           "It Feels So Good"
          ],
          [
           "M.O.P.",
           "Cold as Ice"
          ],
          [
           "Limp Bizkit",
           "Take A Look Around"
          ],
          [
           "Darude",
           "Sandstorm"
          ],
          [
           "Da Brat",
           "What'chu Like (feat. Tyrese)"
          ],
          [
           "Moloko",
           "The Time Is Now"
          ],
          [
           "Chicane",
           "Don't Give Up"
          ],
          [
           "Debelah Morgan",
           "Dance with Me"
          ],
          [
           "Madonna",
           "Music"
          ],
          [
           "Ruff Endz",
           "No More"
          ],
          [
           "Kylie Minogue",
           "Spinning Around"
          ],
          [
           "LeAnn Rimes",
           "I Need You"
          ],
          [
           "Avant",
           "Separated"
          ],
          [
           "Toni Braxton",
           "He Wasn't Man Enough"
          ],
          [
           "Bow Wow",
           "Bounce With Me (feat. Xscape) - Edited Album Version"
          ],
          [
           "Samantha Mumba",
           "Gotta Tell You"
          ],
          [
           "Mýa",
           "Case Of The Ex (Whatcha Gonna Do)"
          ],
          [
           "Mary Mary",
           "Shackles (Praise You)"
          ],
          [
           "Next",
           "Wifey"
          ],
          [
           "Janet Jackson",
           "Doesn't Really Matter"
          ],
          [
           "Ricky Martin",
           "She Bangs - English Version"
          ],
          [
           "Jagged Edge",
           "He Can't Love U"
          ],
          [
           "JAY-Z",
           "I Just Wanna Love U (Give It 2 Me)"
          ],
          [
           "Baha Men",
           "Who Let The Dogs Out"
          ],
          [
           "LeAnn Rimes",
           "Can't Fight The Moonlight"
          ],
          [
           "Oasis",
           "Go Let It Out"
          ],
          [
           "DJ Ötzi",
           "Hey Baby (Radio Mix)"
          ],
          [
           "P!nk",
           "Most Girls"
          ],
          [
           "Mariah Carey",
           "Against All Odds (Take A Look at Me Now) (feat. Westlife)"
          ],
          [
           "Craig David",
           "Fill Me In"
          ],
          [
           "Madonna",
           "American Pie"
          ],
          [
           "Sammie",
           "I Like It"
          ],
          [
           "Craig David",
           "7 Days"
          ],
          [
           "Kandi",
           "Don't Think I'm Not"
          ],
          [
           "P!nk",
           "There You Go"
          ],
          [
           "Vengaboys",
           "Shalala Lala"
          ],
          [
           "Ronan Keating",
           "Life Is A Rollercoaster"
          ],
          [
           "3 Doors Down",
           "Kryptonite"
          ],
          [
           "Carl Thomas",
           "I Wish"
          ],
          [
           "Mystikal",
           "Shake Ya Ass"
          ],
          [
           "Fuel",
           "Hemorrhage (In My Hands)"
          ],
          [
           "Westlife",
           "My Love"
          ],
          [
           "All Saints",
           "Pure Shores"
          ],
          [
           "Destiny's Child",
           "Independent Women, Pt. 1"
          ],
          [
           "*NSYNC",
           "It's Gonna Be Me"
          ],
          [
           "Erykah Badu",
           "Bag Lady"
          ],
          [
           "Matchbox Twenty",
           "Bent"
          ],
          [
           "Gabrielle",
           "Rise"
          ],
          [
           "Backstreet Boys",
           "Shape of My Heart"
          ],
          [
           "The Corrs",
           "Breathless"
          ],
          [
           "Joe",
           "I Wanna Know"
          ],
          [
           "Britney Spears",
           "Lucky"
          ],
          [
           "Nelly",
           "Country Grammar (Hot Shit)"
          ],
          [
           "Shaggy",
           "It Wasn't Me"
          ],
          [
           "Destiny's Child",
           "Survivor"
          ],
          [
           "Eminem",
           "Stan"
          ],
          [
           "Kylie Minogue",
           "Can't Get You out of My Head"
          ],
          [
           "Christina Aguilera",
           "Lady Marmalade - From \"Moulin Rouge\" Soundtrack"
          ],
          [
           "Nelly Furtado",
           "I'm Like A Bird"
          ],
          [
           "Shakira",
           "Whenever, Wherever"
          ],
          [
           "Jimmy Eat World",
           "The Middle"
          ],
          [
           "Train",
           "Drops of Jupiter (Tell Me)"
          ],
          [
           "Geri Halliwell",
           "It's Raining Men"
          ],
          [
           "Blu Cantrell",
           "Hit 'Em Up Style (Oops!)"
          ],
          [
           "Britney Spears",
           "I'm a Slave 4 U"
          ],
          [
           "Kylie Minogue",
           "In Your Eyes"
          ],
          [
           "Missy Elliott",
           "One Minute Man (feat. Ludacris)"
          ],
          [
           "Mary J. Blige",
           "Family Affair"
          ],
          [
           "Faithless",
           "We Come 1 - Radio Edit"
          ],
          [
           "Limp Bizkit",
           "Rollin' (Air Raid Vehicle)"
          ],
          [
           "Lasgo",
           "Something"
          ],
          [
           "iio",
           "Rapture (feat.Nadia Ali)"
          ],
          [
           "Emma Bunton",
           "What Took You So Long?"
          ],
          [
           "112",
           "It's Over Now"
          ],
          [
           "Blue",
           "All Rise"
          ],
          [
           "Jessica Simpson",
           "Irresistible"
          ],
          [
           "Michael Jackson",
           "You Rock My World"
          ],
          [
           "Eve",
           "Let Me Blow Ya Mind"
          ],
          [
           "Jennifer Lopez",
           "Ain't It Funny"
          ],
          [
           "Brandy",
           "Another Day in Paradise - R&B-Version"
          ],
          [
           "Nickelback",
           "How You Remind Me"
          ],
          [
           "Daft Punk",
           "One More Time"
          ],
          [
           "Outkast",
           "Ms. Jackson"
          ],
          [
           "Fragma",
           "Everytime You Need Me - Radio Version"
          ],
          [
           "Mariah Carey",
           "Loverboy"
          ],
          [
           "Joe",
           "Stutter (feat. Mystikal) - Double Take Remix"
          ],
          [
           "P.O.D.",
           "Youth of the Nation"
          ],
          [
           "Jennifer Lopez",
           "Play"
          ],
          [
           "Missy Elliott",
           "Get Ur Freak On"
          ],
          [
           "Ricky Martin",
           "Nobody Wants to Be Lonely (with Christina Aguilera)"
          ],
          [
           "Christina Milian",
           "AM To PM"
          ],
          [
           "Roger Sanchez",
           "Another Chance"
          ],
          [
           "Gorillaz",
           "Clint Eastwood"
          ],
          [
           "2Pac",
           "Until The End Of Time"
          ],
          [
           "Tamia",
           "Stranger in My House"
          ],
          [
           "Mary J. Blige",
           "No More Drama"
          ],
          [
           "Jennifer Lopez",
           "Love Don't Cost a Thing"
          ],
          [
           "Jamiroquai",
           "Little L"
          ],
          [
           "Case",
           "Missing You"
          ],
          [
           "112",
           "Peaches & Cream"
          ],
          [
           "Five",
           "Let's Dance - Radio Edit"
          ],
          [
           "Rui Da Silva",
           "Touch Me (Radio Edit) [feat. Cassandra]"
          ],
          [
           "Alien Ant Farm",
           "Smooth Criminal"
          ],
          [
           "Erick Sermon",
           "Music (feat. Marvin Gaye)"
          ],
          [
           "D12",
           "Purple Pills"
          ],
          [
           "Usher",
           "Pop Ya Collar - Radio Edit"
          ],
          [
           "Madonna",
           "Don't Tell Me"
          ],
          [
           "Blue",
           "If You Come Back"
          ],
          [
           "Atomic Kitten",
           "Eternal Flame - Single Version"
          ],
          [
           "Jagged Edge",
           "Where the Party At (feat. Nelly)"
          ],
          [
           "Afroman",
           "Because I Got High"
          ],
          [
           "S Club 7",
           "Don't Stop Movin'"
          ],
          [
           "Craig David",
           "Fill Me In"
          ],
          [
           "Nelly Furtado",
           "Turn Off The Light"
          ],
          [
           "The Supermen Lovers",
           "Starlight - Radio Edit"
          ],
          [
           "Mis-Teeq",
           "All I Want - Sunship Radio Edit"
          ],
          [
           "Jagged Edge",
           "Promise"
          ],
          [
           "S Club 7",
           "Have You Ever"
          ],
          [
           "Enya",
           "Only Time"
          ],
          [
           "Faith Hill",
           "There You'll Be"
          ],
          [
           "Ronan Keating",
           "Lovin' Each Day"
          ],
          [
           "Destiny's Child",
           "Bootylicious"
          ],
          [
           "Steps",
           "It's the Way You Make Me Feel"
          ],
          [
           "Sunshine Anderson",
           "Heard It All Before"
          ],
          [
           "Lenny Kravitz",
           "Again"
          ],
          [
           "Daniel Bedingfield",
           "Gotta Get Thru This - D'N'D Radio Edit"
          ],
          [
           "DB Boulevard",
           "Point Of View - Radio Edit"
          ],
          [
           "Janet Jackson",
           "All For You"
          ],
          [
           "Atomic Kitten",
           "Whole Again"
          ],
          [
           "Ja Rule",
           "Livin' It Up"
          ],
          [
           "Destiny's Child",
           "Independent Women, Pt. 1"
          ],
          [
           "DJ Pied Piper & The Masters Of Ceremonies",
           "Do You Really Like It? - Radio Edit"
          ],
          [
           "Jennifer Lopez",
           "I'm Real (feat. Ja Rule) - Murder Remix"
          ],
          [
           "Musiq Soulchild",
           "Love"
          ],
          [
           "So Solid Crew",
           "21 Seconds"
          ],
          [
           "Robbie Williams",
           "Eternity"
          ],
          [
           "Basement Jaxx",
           "Romeo"
          ],
          [
           "Ludacris",
           "Southern Hospitality (Featuring Pharrell)"
          ],
          [
           "Gabrielle",
           "Rise"
          ],
          [
           "Nelly",
           "Ride Wit Me"
          ],
          [
           "Trick Daddy",
           "I'm a Thug"
          ],
          [
           "Travis",
           "Sing"
          ],
          [
           "JAY-Z",
           "Izzo (H.O.V.A.)"
          ],
          [
           "Gabrielle",
           "Out Of Reach"
          ],
          [
           "OPM",
           "Heaven Is a Halfpipe (If I Die)"
          ],
          [
           "K-Ci & JoJo",
           "Crazy"
          ],
          [
           "Staind",
           "It's Been Awhile"
          ],
          [
           "3LW",
           "No More (Baby I'ma Do Right)"
          ],
          [
           "Ginuwine",
           "Differences"
          ],
          [
           "*NSYNC",
           "Gone"
          ],
          [
           "Lifehouse",
           "Hanging By A Moment"
          ],
          [
           "Nelly",
           "Dilemma"
          ],
          [
           "Eminem",
           "Without Me"
          ],
          [
           "Avril Lavigne",
           "Complicated"
          ],
          [
           "Vanessa Carlton",
           "A Thousand Miles"
          ],
          [
           "The Calling",
           "Wherever You Will Go"
          ],
          [
           "Shakira",
           "Underneath Your Clothes"
          ],
          [
           "No Doubt",
           "Underneath It All"
          ],
          [
           "Truth Hurts",
           "Addictive"
          ],
          [
           "Busta Rhymes",
           "I Know What You Want (feat. Flipmode Squad)"
          ],
          [
           "Eminem",
           "'Till I Collapse"
          ],
          [
           "Diddy",
           "I Need a Girl (Pt. 2) [feat. Loon, Ginuwine & Mario Winans]"
          ],
          [
           "Christina Milian",
           "When You Look At Me - Radio Edit"
          ],
          [
           "Madonna",
           "Die Another Day"
          ],
          [
           "Jennifer Lopez",
           "I'm Gonna Be Alright (feat. Nas)"
          ],
          [
           "Angie Martinez",
           "If I Could Go! (feat. Lil' Mo & Sacario)"
          ],
          [
           "Linkin Park",
           "In the End"
          ],
          [
           "Las Ketchup",
           "The Ketchup Song (Aserejé) - Spanglish Version"
          ],
          [
           "Aaliyah",
           "Rock The Boat"
          ],
          [
           "Holly Valance",
           "Kiss Kiss"
          ],
          [
           "Sugababes",
           "Round Round"
          ],
          [
           "Marilyn Manson",
           "Tainted Love"
          ],
          [
           "Brandy",
           "What About Us?"
          ],
          [
           "Chad Kroeger",
           "Hero (feat. Josey Scott)"
          ],
          [
           "Britney Spears",
           "Overprotected - Radio Edit"
          ],
          [
           "Scooter",
           "The Logical Song"
          ],
          [
           "Missy Elliott",
           "4 My People (feat. Eve)"
          ],
          [
           "Aaliyah",
           "More Than A Woman"
          ],
          [
           "Brandy",
           "Full Moon"
          ],
          [
           "Blue",
           "One Love"
          ],
          [
           "Busta Rhymes",
           "Pass The Courvoisier Part II (feat. P. Diddy & Pharrell) - Remix"
          ],
          [
           "Céline Dion",
           "A New Day Has Come - Radio Remix"
          ],
          [
           "Scooter",
           "Nessaja"
          ],
          [
           "Eve",
           "Gangsta Lovin'"
          ],
          [
           "Disturbing Tha Peace",
           "Move Bitch"
          ],
          [
           "Khia",
           "My Neck, My Back (Lick It)"
          ],
          [
           "Tweet",
           "Oops (Oh My) [feat. Missy Elliott]"
          ],
          [
           "Kylie Minogue",
           "Spinning Around"
          ],
          [
           "Nelly",
           "Hot In Herre"
          ],
          [
           "Gareth Gates",
           "Anyone of Us (Stupid Mistake)"
          ],
          [
           "Christina Aguilera",
           "Dirrty (feat. Redman)"
          ],
          [
           "B2K",
           "Uh Huh"
          ],
          [
           "Sugababes",
           "Freak Like Me"
          ],
          [
           "Dirty Vegas",
           "Days Go By"
          ],
          [
           "Fat Joe",
           "What's Luv? (feat. Ja-Rule & Ashanti)"
          ],
          [
           "Liberty X",
           "Just A Little"
          ],
          [
           "No Doubt",
           "Hella Good"
          ],
          [
           "LL Cool J",
           "Luv U Better"
          ],
          [
           "Red Hot Chili Peppers",
           "Can't Stop"
          ],
          [
           "Musiq Soulchild",
           "Halfcrazy"
          ],
          [
           "Sean Paul",
           "Gimme the Light"
          ],
          [
           "Faith Evans",
           "I Love You"
          ],
          [
           "Charli Baltimore",
           "Down 4 U"
          ],
          [
           "Kylie Minogue",
           "Love at First Sight"
          ],
          [
           "N.O.R.E.",
           "Nothin'"
          ],
          [
           "Gareth Gates",
           "Unchained Melody"
          ],
          [
           "Diddy",
           "I Need a Girl (Pt. 1) [feat. Usher & Loon]"
          ],
          [
           "Big Brovaz",
           "Nu Flow"
          ],
          [
           "No Doubt",
           "Hey Baby"
          ],
          [
           "Ashanti",
           "Baby"
          ],
          [
           "Sophie Ellis-Bextor",
           "Murder On The Dancefloor"
          ],
          [
           "Justin Timberlake",
           "Like I Love You"
          ],
          [
           "Mary J. Blige",
           "Rainy Dayz"
          ],
          [
           "A1",
           "Caught in the Middle"
          ],
          [
           "Eminem",
           "Cleanin' Out My Closet"
          ],
          [
           "Ashanti",
           "Happy"
          ],
          [
           "Delta Goodrem",
           "Born to Try"
          ],
          [
           "P!nk",
           "Get the Party Started"
          ],
          [
           "Alicia Keys",
           "A Woman's Worth"
          ],
          [
           "Daniel Bedingfield",
           "Gotta Get Thru This - D'N'D Radio Edit"
          ],
          [
           "Coldplay",
           "Clocks"
          ],
          [
           "Missy Elliott",
           "Work It"
          ],
          [
           "Ronan Keating",
           "If Tomorrow Never Comes"
          ],
          [
           "Big Tymers",
           "Still Fly"
          ],
          [
           "Creed",
           "My Sacrifice"
          ],
          [
           "Ja Rule",
           "Always On Time"
          ],
          [
           "Ashanti",
           "Foolish"
          ],
          [
           "Avril Lavigne",
           "Sk8er Boi"
          ],
          [
           "DJ Sammy",
           "Heaven"
          ],
          [
           "Britney Spears",
           "I'm Not a Girl, Not Yet a Woman"
          ],
          [
           "Cam’ron",
           "Oh Boy"
          ],
          [
           "Red Hot Chili Peppers",
           "By the Way"
          ],
          [
           "Elvis Presley",
           "A Little Less Conversation - JXL Radio Edit Remix"
          ],
          [
           "Atomic Kitten",
           "The Tide Is High - Radio Mix"
          ],
          [
           "*NSYNC",
           "Girlfriend"
          ],
          [
           "Robbie Williams",
           "Somethin' Stupid"
          ],
          [
           "Alanis Morissette",
           "Hands Clean"
          ],
          [
           "Usher",
           "U Don't Have to Call"
          ],
          [
           "Creed",
           "One Last Breath - Radio Version"
          ],
          [
           "The Goo Goo Dolls",
           "Here Is Gone"
          ],
          [
           "Puddle Of Mudd",
           "She Hates Me"
          ],
          [
           "Ludacris",
           "Rollout (My Business)"
          ],
          [
           "Blazin' Squad",
           "Crossroads - Radio Edit"
          ],
          [
           "Default",
           "Wasting My Time"
          ],
          [
           "Michelle Branch",
           "All You Wanted"
          ],
          [
           "Daniel Bedingfield",
           "If You're Not The One"
          ],
          [
           "Enrique Iglesias",
           "Escape"
          ],
          [
           "Puddle Of Mudd",
           "Blurry"
          ],
          [
           "Coldplay",
           "In My Place"
          ],
          [
           "Outkast",
           "The Whole World (feat. Killer Mike)"
          ],
          [
           "P!nk",
           "Don't Let Me Get Me - Radio Edit"
          ],
          [
           "50 Cent",
           "In Da Club"
          ],
          [
           "Sean Paul",
           "Get Busy"
          ],
          [
           "Eminem",
           "Lose Yourself - From \"8 Mile\" Soundtrack"
          ],
          [
           "Beyoncé",
           "Crazy In Love (feat. Jay-Z)"
          ],
          [
           "Counting Crows",
           "Big Yellow Taxi"
          ],
          [
           "Black Eyed Peas",
           "Where Is The Love?"
          ],
          [
           "Jennifer Lopez",
           "Jenny from the Block (feat. Jadakiss & Styles P.) - Track Masters Remix"
          ],
          [
           "Black Eyed Peas",
           "Shut Up"
          ],
          [
           "Benny Benassi",
           "Satisfaction (Isak Original Extended) - Benny Benassi Presents The Biz"
          ],
          [
           "Busta Rhymes",
           "I Know What You Want (feat. Flipmode Squad)"
          ],
          [
           "Panjabi MC",
           "Mundian to Bach Ke"
          ],
          [
           "Mis-Teeq",
           "Scandalous - U.S. Radio Edit"
          ],
          [
           "JAY-Z",
           "03' Bonnie & Clyde"
          ],
          [
           "50 Cent",
           "P.I.M.P."
          ],
          [
           "Jamelia",
           "Superstar"
          ],
          [
           "Linkin Park",
           "Faint"
          ],
          [
           "DMX",
           "X Gon' Give It To Ya"
          ],
          [
           "Evanescence",
           "Bring Me To Life"
          ],
          [
           "Sugababes",
           "Hole In The Head"
          ],
          [
           "Craig David",
           "Rise & Fall (feat. Sting)"
          ],
          [
           "Three Days Grace",
           "I Hate Everything About You"
          ],
          [
           "Lil Jon & The East Side Boyz",
           "Get Low"
          ],
          [
           "B2K",
           "Bump, Bump, Bump (feat. P. Diddy)"
          ],
          [
           "Baby Bash",
           "Suga Suga"
          ],
          [
           "Aaliyah",
           "Miss You - Main"
          ],
          [
           "Britney Spears",
           "Me Against the Music (feat. Madonna) - LP Version / Video Mix"
          ],
          [
           "Blue",
           "Sorry Seems To Be The Hardest Word"
          ],
          [
           "Delta Goodrem",
           "Lost Without You"
          ],
          [
           "Justin Timberlake",
           "Rock Your Body"
          ],
          [
           "The White Stripes",
           "Seven Nation Army"
          ],
          [
           "Youngbloodz",
           "Damn! (feat. Lil' Jon) - Club Mix"
          ],
          [
           "Beyoncé",
           "Baby Boy (feat. Sean Paul)"
          ],
          [
           "Lil' Kim",
           "Magic Stick"
          ],
          [
           "Christina Aguilera",
           "Can't Hold Us Down (feat. Lil' Kim)"
          ],
          [
           "Nickelback",
           "Someday"
          ],
          [
           "Blue",
           "U Make Me Wanna - Radio Edit"
          ],
          [
           "Ashanti",
           "Rain On Me"
          ],
          [
           "Trapt",
           "Headstrong"
          ],
          [
           "Simply Red",
           "Sunrise"
          ],
          [
           "Lumidee",
           "Never Leave You (Uh Oooh, Uh Oooh)"
          ],
          [
           "Girls Aloud",
           "Sound Of The Underground"
          ],
          [
           "Nelly",
           "Shake Ya Tailfeather (feat. P. Diddy & Murphy Lee) - 2016 Remaster"
          ],
          [
           "Room 5",
           "Make Luv"
          ],
          [
           "Fatman Scoop",
           "Be Faithful"
          ],
          [
           "Limp Bizkit",
           "Behind Blue Eyes"
          ],
          [
           "Sugababes",
           "Too Lost In You"
          ],
          [
           "50 Cent",
           "Wanksta - From \"8 Mile\" Soundtrack"
          ],
          [
           "Pharrell Williams",
           "Frontin' (feat. Jay-Z) - Club Mix"
          ],
          [
           "Chingy",
           "Right Thurr"
          ],
          [
           "Eminem",
           "Sing For The Moment"
          ],
          [
           "Lil' Kim",
           "The Jump Off (feat. Mr. Cheeks) - Remix"
          ],
          [
           "Mýa",
           "My Love Is Like...Wo - Main Mix"
          ],
          [
           "50 Cent",
           "21 Questions"
          ],
          [
           "Nelly",
           "Air Force Ones"
          ],
          [
           "Missy Elliott",
           "Gossip Folks (feat. Ludacris)"
          ],
          [
           "Girls Aloud",
           "Jump"
          ],
          [
           "Ultrabeat",
           "Pretty Green Eyes - Radio Edit"
          ],
          [
           "Christina Aguilera",
           "Fighter"
          ],
          [
           "Frankie J",
           "Don't Wanna Try"
          ],
          [
           "Snoop Dogg",
           "Beautiful"
          ],
          [
           "Floetry",
           "Say Yes"
          ],
          [
           "Ginuwine",
           "In Those Jeans"
          ],
          [
           "Electric Six",
           "Danger! High Voltage - Soulchild Radio Mix"
          ],
          [
           "Rachel Stevens",
           "Sweet Dreams My LA Ex - Radio Edit"
          ],
          [
           "Ludacris",
           "Stand Up"
          ],
          [
           "Nas",
           "I Can"
          ],
          [
           "3 Doors Down",
           "When I'm Gone"
          ],
          [
           "Tyrese",
           "How You Gonna Act Like That"
          ],
          [
           "Justin Timberlake",
           "Cry Me a River"
          ],
          [
           "Westlife",
           "Mandy"
          ],
          [
           "No Doubt",
           "It's My Life"
          ],
          [
           "Amanda Perez",
           "Angel"
          ],
          [
           "JAY-Z",
           "Excuse Me Miss"
          ],
          [
           "Coldplay",
           "Clocks"
          ],
          [
           "Kelly Rowland",
           "Stole"
          ],
          [
           "Missy Elliott",
           "Work It"
          ],
          [
           "Ashanti",
           "Rock Wit U (Awww Baby)"
          ],
          [
           "Junior Senior",
           "Move Your Feet"
          ],
          [
           "Audioslave",
           "Like a Stone"
          ],
          [
           "Sean Paul",
           "Like Glue"
          ],
          [
           "Jaheim",
           "Put That Woman First"
          ],
          [
           "Jennifer Lopez",
           "All I Have (feat. LL Cool J)"
          ],
          [
           "Monica",
           "So Gone"
          ],
          [
           "Dido",
           "White Flag"
          ],
          [
           "The Roots",
           "The Seed (2.0)"
          ],
          [
           "Chingy",
           "Holidae In"
          ],
          [
           "Fabolous",
           "Can't Let You Go (feat. Mike Shorey & Lil' Mo)"
          ],
          [
           "Kelly Clarkson",
           "Miss Independent"
          ],
          [
           "Ja Rule",
           "Mesmerize"
          ],
          [
           "Matchbox Twenty",
           "Unwell"
          ],
          [
           "Outkast",
           "The Way You Move (feat. Sleepy Brown)"
          ],
          [
           "Fabolous",
           "Into You (feat. Tamia)"
          ],
          [
           "Switchfoot",
           "Meant to Live"
          ],
          [
           "Daniel Bedingfield",
           "If You're Not The One"
          ],
          [
           "Good Charlotte",
           "Lifestyles of the Rich & Famous"
          ],
          [
           "Wayne Wonder",
           "No Letting Go"
          ],
          [
           "The Strokes",
           "Reptilia"
          ],
          [
           "Avril Lavigne",
           "I'm with You"
          ],
          [
           "Will Young",
           "Leave Right Now"
          ],
          [
           "Usher",
           "Yeah! (feat. Lil Jon & Ludacris)"
          ],
          [
           "Maroon 5",
           "This Love"
          ],
          [
           "Britney Spears",
           "Toxic"
          ],
          [
           "Outkast",
           "Hey Ya!"
          ],
          [
           "Hoobastank",
           "The Reason"
          ],
          [
           "Anastacia",
           "Left Outside Alone"
          ],
          [
           "Daddy Yankee",
           "Gasolina"
          ],
          [
           "Black Eyed Peas",
           "Let's Get It Started - Spike Mix"
          ],
          [
           "O-Zone",
           "Dragostea Din Tei"
          ],
          [
           "Terror Squad",
           "Lean Back"
          ],
          [
           "Gwen Stefani",
           "What You Waiting For?"
          ],
          [
           "Ashanti",
           "Only U - No Intro"
          ],
          [
           "The Rasmus",
           "In the Shadows"
          ],
          [
           "Houston",
           "I Like That"
          ],
          [
           "Beyoncé",
           "Naughty Girl"
          ],
          [
           "Linkin Park",
           "Numb"
          ],
          [
           "Lloyd Banks",
           "On Fire"
          ],
          [
           "Akon",
           "Locked Up"
          ],
          [
           "D12",
           "My Band"
          ],
          [
           "Jay Sean",
           "Eyes On You - Radio Mix"
          ],
          [
           "Mario Winans",
           "I Don't Wanna Know (feat. Enya & P. Diddy) - 2016 Remaster"
          ],
          [
           "Destiny's Child",
           "Lose My Breath"
          ],
          [
           "Eric Prydz",
           "Call on Me - Radio Mix"
          ],
          [
           "Ciara",
           "Goodies (feat. Petey Pablo)"
          ],
          [
           "Kelis",
           "Trick Me"
          ],
          [
           "LL Cool J",
           "Headsprung"
          ],
          [
           "Spiderbait",
           "Black Betty - Edit"
          ],
          [
           "George Michael",
           "Amazing"
          ],
          [
           "Britney Spears",
           "My Prerogative"
          ],
          [
           "Nina Sky",
           "Move Ya Body"
          ],
          [
           "Baby Bash",
           "Suga Suga"
          ],
          [
           "Petey Pablo",
           "Freek-A-Leek"
          ],
          [
           "JAY-Z",
           "Dirt Off Your Shoulder"
          ],
          [
           "Juanes",
           "La Camisa Negra"
          ],
          [
           "Avril Lavigne",
           "Nobody's Home"
          ],
          [
           "Robbie Williams",
           "Radio"
          ],
          [
           "Black Eyed Peas",
           "Hey Mama"
          ],
          [
           "Ying Yang Twins",
           "Salt Shaker"
          ],
          [
           "Enrique Iglesias",
           "Not In Love - Radio Mix"
          ],
          [
           "Kelis",
           "Milkshake"
          ],
          [
           "Linkin Park",
           "Breaking the Habit"
          ],
          [
           "JoJo",
           "Leave (Get Out) - Radio Edit"
          ],
          [
           "Christina Milian",
           "Dip It Low"
          ],
          [
           "Avant",
           "Read Your Mind"
          ],
          [
           "Eminem",
           "Just Lose It"
          ],
          [
           "Sugababes",
           "Too Lost In You"
          ],
          [
           "Snoop Dogg",
           "Drop It Like It's Hot"
          ],
          [
           "Sean Paul",
           "I'm Still in Love with You (feat. Sasha)"
          ],
          [
           "The Shapeshifters",
           "Lola's Theme - Radio Edit"
          ],
          [
           "D12",
           "How Come"
          ],
          [
           "Basement Jaxx",
           "Good Luck"
          ],
          [
           "Kevin Lyttle",
           "Turn Me On"
          ],
          [
           "Chingy",
           "One Call Away"
          ],
          [
           "T.I.",
           "Bring Em Out"
          ],
          [
           "DJ Casper",
           "Cha Cha Slide - Hardino Mix"
          ],
          [
           "Kylie Minogue",
           "I Believe in You"
          ],
          [
           "Twista",
           "Overnight Celebrity"
          ],
          [
           "N.E.R.D",
           "She Wants To Move"
          ],
          [
           "Britney Spears",
           "Everytime"
          ],
          [
           "U2",
           "Vertigo"
          ],
          [
           "Franz Ferdinand",
           "Take Me Out"
          ],
          [
           "J-Kwon",
           "Tipsy - Club Mix"
          ],
          [
           "G-Unit",
           "Wanna Get To Know You"
          ],
          [
           "Lil' Flip",
           "Sunshine (feat. Lea)"
          ],
          [
           "Kanye West",
           "Jesus Walks"
          ],
          [
           "Evanescence",
           "My Immortal"
          ],
          [
           "Nelly",
           "My Place"
          ],
          [
           "Lemar",
           "If There's Any Justice"
          ],
          [
           "No Doubt",
           "It's My Life"
          ],
          [
           "Avril Lavigne",
           "Don't Tell Me"
          ],
          [
           "Twista",
           "Slow Jamz"
          ],
          [
           "Green Day",
           "American Idiot"
          ],
          [
           "Kelis",
           "Millionaire"
          ],
          [
           "Scissor Sisters",
           "Comfortably Numb"
          ],
          [
           "Alicia Keys",
           "Diary (feat. Tony! Toni! Tone! & Jermaine Paul)"
          ],
          [
           "Kanye West",
           "Through The Wire"
          ],
          [
           "Special D.",
           "Come With Me - Radio Edit"
          ],
          [
           "Ludacris",
           "Splash Waterfalls"
          ],
          [
           "Avril Lavigne",
           "My Happy Ending"
          ],
          [
           "Dido",
           "White Flag"
          ],
          [
           "Eamon",
           "Fuck It (I Don't Want You Back)"
          ],
          [
           "Beyoncé",
           "Me, Myself and I"
          ],
          [
           "3 Doors Down",
           "Here Without You"
          ],
          [
           "Kanye West",
           "All Falls Down"
          ],
          [
           "Twista",
           "Sunshine (feat. Anthony Hamilton)"
          ],
          [
           "Katie Melua",
           "The Closest Thing to Crazy"
          ],
          [
           "Usher",
           "My Boo"
          ],
          [
           "Lloyd",
           "Southside"
          ],
          [
           "LMC",
           "Take Me To The Clouds Above - LMC Vs. U2 / Radio Edit"
          ],
          [
           "The Streets",
           "Fit but You Know It"
          ],
          [
           "JUVENILE",
           "Slow Motion"
          ],
          [
           "Outkast",
           "The Way You Move (feat. Sleepy Brown)"
          ],
          [
           "Girls Aloud",
           "Love Machine"
          ],
          [
           "Jessica Simpson",
           "With You"
          ],
          [
           "Eminem",
           "Like Toy Soldiers"
          ],
          [
           "Gary Jules",
           "Mad World (Feat. Michael Andrews)"
          ],
          [
           "Ashlee Simpson",
           "Pieces Of Me"
          ],
          [
           "Will Young",
           "Leave Right Now"
          ],
          [
           "Alicia Keys",
           "You Don't Know My Name"
          ],
          [
           "Mariah Carey",
           "We Belong Together"
          ],
          [
           "Mario",
           "Let Me Love You"
          ],
          [
           "Kanye West",
           "Gold Digger"
          ],
          [
           "Rihanna",
           "Pon de Replay"
          ],
          [
           "50 Cent",
           "Candy Shop"
          ],
          [
           "James Blunt",
           "You're Beautiful"
          ],
          [
           "Green Day",
           "Boulevard of Broken Dreams"
          ],
          [
           "The Pussycat Dolls",
           "Don't Cha"
          ],
          [
           "Daniel Powter",
           "Bad Day"
          ],
          [
           "Akon",
           "Bananza (Belly Dancer)"
          ],
          [
           "Madonna",
           "Hung Up"
          ],
          [
           "50 Cent",
           "Just A Lil Bit"
          ],
          [
           "Crazy Frog",
           "Axel F"
          ],
          [
           "Eminem",
           "Ass Like That"
          ],
          [
           "Sean Paul",
           "We Be Burnin'"
          ],
          [
           "Gwen Stefani",
           "Rich Girl"
          ],
          [
           "The Chemical Brothers",
           "Galvanize"
          ],
          [
           "Fort Minor",
           "Remember the Name (feat. Styles of Beyond)"
          ],
          [
           "50 Cent",
           "Disco Inferno"
          ],
          [
           "The Game",
           "How We Do"
          ],
          [
           "Chris Brown",
           "Run It! (feat. Juelz Santana)"
          ],
          [
           "Mariah Carey",
           "It's Like That"
          ],
          [
           "Black Eyed Peas",
           "My Humps"
          ],
          [
           "Ciara",
           "Oh (feat. Ludacris)"
          ],
          [
           "50 Cent",
           "Outta Control - Remix"
          ],
          [
           "Baby Bash",
           "Baby, I'm Back"
          ],
          [
           "Jennifer Lopez",
           "Get Right"
          ],
          [
           "JAY-Z",
           "Numb / Encore"
          ],
          [
           "The Game",
           "Hate It Or Love It"
          ],
          [
           "Gorillaz",
           "Feel Good Inc."
          ],
          [
           "Black Eyed Peas",
           "Don't Phunk With My Heart"
          ],
          [
           "Akon",
           "Lonely"
          ],
          [
           "Bodyrockers",
           "I Like The Way - Radio Edit"
          ],
          [
           "Sugababes",
           "Push The Button"
          ],
          [
           "Jeezy",
           "Soul Survivor"
          ],
          [
           "Eminem",
           "Mockingbird"
          ],
          [
           "Shakira",
           "La Tortura (feat. Alejandro Sanz)"
          ],
          [
           "Gorillaz",
           "DARE"
          ],
          [
           "Snoop Dogg",
           "Signs"
          ],
          [
           "Robbie Williams",
           "Tripping"
          ],
          [
           "David Banner",
           "Play"
          ],
          [
           "Trillville",
           "Some Cut"
          ],
          [
           "D4L",
           "Laffy Taffy"
          ],
          [
           "Missy Elliott",
           "Lose Control (feat. Ciara & Fat Man Scoop)"
          ],
          [
           "Rob Thomas",
           "Lonely No More"
          ],
          [
           "Brian McFadden",
           "Almost Here"
          ],
          [
           "Bobby V.",
           "Slow Down - 12\" Version"
          ],
          [
           "Backstreet Boys",
           "Incomplete"
          ],
          [
           "Pretty Ricky",
           "Grind With Me"
          ],
          [
           "Kanye West",
           "Diamonds From Sierra Leone - Remix"
          ],
          [
           "Snoop Dogg",
           "Drop It Like It's Hot"
          ],
          [
           "Fat Joe",
           "Get It Poppin' (feat. Nelly) - Radio Version"
          ],
          [
           "Destiny's Child",
           "Soldier (feat. T.I. & Lil' Wayne)"
          ],
          [
           "Ciara",
           "1, 2 Step (feat. Missy Elliott) - Main"
          ],
          [
           "Amerie",
           "1 Thing"
          ],
          [
           "Ludacris",
           "Get Back"
          ],
          [
           "Franz Ferdinand",
           "Do You Want To"
          ],
          [
           "Natalie Imbruglia",
           "Shiver"
          ],
          [
           "Gwen Stefani",
           "Hollaback Girl"
          ],
          [
           "Pretty Ricky",
           "Your Body"
          ],
          [
           "Thirty Seconds To Mars",
           "The Kill"
          ],
          [
           "Alicia Keys",
           "Karma"
          ],
          [
           "2Pac",
           "Ghetto Gospel"
          ],
          [
           "Craig David",
           "Don't Love You No More (I'm Sorry)"
          ],
          [
           "Katie Melua",
           "Nine Million Bicycles"
          ],
          [
           "Lil Jon & The East Side Boyz",
           "Lovers And Friends"
          ],
          [
           "Mariah Carey",
           "Don't Forget About Us - Radio Edit"
          ],
          [
           "Ying Yang Twins",
           "Wait (The Whisper Song)"
          ],
          [
           "Bow Wow",
           "Like You (feat. Ciara)"
          ],
          [
           "Kaiser Chiefs",
           "Everyday I Love You Less And Less"
          ],
          [
           "Kelly Clarkson",
           "Behind These Hazel Eyes"
          ],
          [
           "Black Eyed Peas",
           "Don't Lie"
          ],
          [
           "Westlife",
           "You Raise Me Up"
          ],
          [
           "Ray J",
           "One Wish"
          ],
          [
           "Papa Roach",
           "Scars"
          ],
          [
           "Arctic Monkeys",
           "I Bet You Look Good On The Dancefloor"
          ],
          [
           "Shayne Ward",
           "That's My Goal"
          ],
          [
           "Bow Wow",
           "Let Me Hold You (feat. Omarion)"
          ],
          [
           "Kaiser Chiefs",
           "I Predict A Riot"
          ],
          [
           "Usher",
           "Caught Up"
          ],
          [
           "Kelly Clarkson",
           "Because of You"
          ],
          [
           "3 Doors Down",
           "Let Me Go"
          ],
          [
           "Nickelback",
           "Photograph"
          ],
          [
           "T-Pain",
           "I'm Sprung"
          ],
          [
           "Destiny's Child",
           "Cater 2 U"
          ],
          [
           "The Pussycat Dolls",
           "Stickwitu"
          ],
          [
           "Ryan Cabrera",
           "True"
          ],
          [
           "Stereophonics",
           "Dakota"
          ],
          [
           "Eminem",
           "Like Toy Soldiers"
          ],
          [
           "Nelly",
           "Over And Over"
          ],
          [
           "Coldplay",
           "Speed of Sound"
          ],
          [
           "KT Tunstall",
           "Suddenly I See"
          ],
          [
           "Destiny's Child",
           "Girl"
          ],
          [
           "Kelly Clarkson",
           "Since U Been Gone"
          ],
          [
           "U2",
           "Sometimes You Can't Make It On Your Own"
          ],
          [
           "The All-American Rejects",
           "Dirty Little Secret"
          ],
          [
           "Toby Keith",
           "As Good As I Once Was"
          ],
          [
           "Gwen Stefani",
           "Cool"
          ],
          [
           "Foo Fighters",
           "Best of You"
          ],
          [
           "Shakira",
           "Hips Don't Lie (feat. Wyclef Jean)"
          ],
          [
           "Sean Paul",
           "Temperature"
          ],
          [
           "Justin Timberlake",
           "SexyBack (feat. Timbaland)"
          ],
          [
           "Beyoncé",
           "Irreplaceable"
          ],
          [
           "Amy Winehouse",
           "Rehab"
          ],
          [
           "Rihanna",
           "SOS"
          ],
          [
           "Gnarls Barkley",
           "Crazy"
          ],
          [
           "Busta Rhymes",
           "Touch It"
          ],
          [
           "Nelly Furtado",
           "Maneater"
          ],
          [
           "Bob Sinclar",
           "Rock This Party - Everybody Dance Now"
          ],
          [
           "Diddy",
           "Come to Me (feat. Nicole Scherzinger)"
          ],
          [
           "Madonna",
           "Sorry"
          ],
          [
           "Chamillionaire",
           "Ridin'"
          ],
          [
           "Black Eyed Peas",
           "Pump It"
          ],
          [
           "Nelly Furtado",
           "Promiscuous"
          ],
          [
           "Fedde Le Grand",
           "Put Your Hands Up for Detroit - Radio Edit"
          ],
          [
           "Sean Paul",
           "(When You Gonna) Give It Up to Me (feat. Keyshia Cole) - Radio Version"
          ],
          [
           "The Pussycat Dolls",
           "Buttons"
          ],
          [
           "Ciara",
           "Get Up (feat. Chamillionaire)"
          ],
          [
           "Eminem",
           "Shake That"
          ],
          [
           "Cherish",
           "Do It To It"
          ],
          [
           "Muse",
           "Supermassive Black Hole"
          ],
          [
           "Chris Brown",
           "Gimme That"
          ],
          [
           "Infernal",
           "From Paris to Berlin"
          ],
          [
           "Cassie",
           "Me & U"
          ],
          [
           "E-40",
           "U and Dat (feat. T. Pain & Kandi Girl)"
          ],
          [
           "The Pussycat Dolls",
           "Beep"
          ],
          [
           "Lil Jon",
           "Snap Yo Fingers"
          ],
          [
           "Armand Van Helden",
           "My My My - Radio Edit"
          ],
          [
           "The Notorious B.I.G.",
           "Nasty Girl (feat. Diddy, Nelly, Jagged Edge & Avery Storm) - 2005 Remaster"
          ],
          [
           "Yung Joc",
           "It's Goin' Down (feat. Nitti)"
          ],
          [
           "Shayne Ward",
           "No Promises"
          ],
          [
           "Justin Timberlake",
           "My Love (feat. T.I.)"
          ],
          [
           "Nickelback",
           "Savin' Me"
          ],
          [
           "Nelly",
           "Grillz"
          ],
          [
           "Take That",
           "Patience"
          ],
          [
           "Fergie",
           "London Bridge"
          ],
          [
           "Cascada",
           "Everytime We Touch - Radio Edit"
          ],
          [
           "D4L",
           "Laffy Taffy"
          ],
          [
           "LL Cool J",
           "Control Myself"
          ],
          [
           "Beyoncé",
           "Deja Vu (feat. Jay-Z)"
          ],
          [
           "P!nk",
           "Stupid Girls"
          ],
          [
           "Eminem",
           "When I'm Gone"
          ],
          [
           "Kelis",
           "Bossy"
          ],
          [
           "Bob Sinclar",
           "Love Generation - Radio Edit"
          ],
          [
           "Meck",
           "Thunder in My Heart Again (Radio Edit)"
          ],
          [
           "Mary J. Blige",
           "Be Without You - Kendu Mix"
          ],
          [
           "Girls Aloud",
           "Something Kinda Ooooh"
          ],
          [
           "Rihanna",
           "Unfaithful"
          ],
          [
           "Kanye West",
           "Touch The Sky"
          ],
          [
           "Dem Franchize Boyz",
           "Lean Wit It, Rock Wit It"
          ],
          [
           "Evanescence",
           "Call Me When You're Sober"
          ],
          [
           "Chingy",
           "Pullin' Me Back"
          ],
          [
           "Nickelback",
           "Far Away"
          ],
          [
           "Fall Out Boy",
           "Dance, Dance"
          ],
          [
           "Leona Lewis",
           "A Moment Like This"
          ],
          [
           "T.I.",
           "What You Know"
          ],
          [
           "Ludacris",
           "Money Maker"
          ],
          [
           "Nick Lachey",
           "What's Left Of Me"
          ],
          [
           "Jibbs",
           "Chain Hang Low"
          ],
          [
           "Arctic Monkeys",
           "When The Sun Goes Down"
          ],
          [
           "Rascal Flatts",
           "Life is a Highway"
          ],
          [
           "Beyoncé",
           "Check On It (feat. Slim Thug)"
          ],
          [
           "Keyshia Cole",
           "Love"
          ],
          [
           "Lily Allen",
           "Smile"
          ],
          [
           "Ne-Yo",
           "Sexy Love"
          ],
          [
           "JoJo",
           "Too Little Too Late"
          ],
          [
           "Mary J. Blige",
           "One"
          ],
          [
           "Bubba Sparxxx",
           "Ms. New Booty"
          ],
          [
           "Amy Winehouse",
           "You Know I'm No Good"
          ],
          [
           "Rascal Flatts",
           "What Hurts The Most"
          ],
          [
           "Red Hot Chili Peppers",
           "Dani California"
          ],
          [
           "Scissor Sisters",
           "I Don't Feel Like Dancin'"
          ],
          [
           "Ne-Yo",
           "So Sick"
          ],
          [
           "Hinder",
           "Lips Of An Angel"
          ],
          [
           "The Raconteurs",
           "Steady, As She Goes"
          ],
          [
           "The Fratellis",
           "Chelsea Dagger"
          ],
          [
           "Fort Minor",
           "Where'd You Go (feat. Holly Brook & Jonah Matranga)"
          ],
          [
           "The Pussycat Dolls",
           "Stickwitu"
          ],
          [
           "Panic! At The Disco",
           "I Write Sins Not Tragedies"
          ],
          [
           "James Blunt",
           "Goodbye My Lover"
          ],
          [
           "Christina Aguilera",
           "Ain't No Other Man"
          ],
          [
           "Westlife",
           "The Rose"
          ],
          [
           "Keane",
           "Is It Any Wonder?"
          ],
          [
           "Orson",
           "No Tomorrow"
          ],
          [
           "T-Pain",
           "I'm N Luv (Wit a Stripper) (feat. Mike Jones)"
          ],
          [
           "KT Tunstall",
           "Black Horse And The Cherry Tree"
          ],
          [
           "Natasha Bedingfield",
           "Unwritten"
          ],
          [
           "Razorlight",
           "America"
          ],
          [
           "James Morrison",
           "You Give Me Something"
          ],
          [
           "Snow Patrol",
           "You're All I Have"
          ],
          [
           "The Fray",
           "How to Save a Life"
          ],
          [
           "Sandi Thom",
           "I Wish I Was a Punk Rocker (with Flowers in My Hair)"
          ],
          [
           "My Chemical Romance",
           "Welcome to the Black Parade"
          ],
          [
           "Razorlight",
           "In The Morning"
          ],
          [
           "The All-American Rejects",
           "Dirty Little Secret"
          ],
          [
           "James Morrison",
           "Wonderful World"
          ],
          [
           "Chris Brown",
           "Yo (Excuse Me Miss)"
          ],
          [
           "P!nk",
           "Who Knew"
          ],
          [
           "The Kooks",
           "Naive"
          ],
          [
           "Leona Lewis",
           "Bleeding Love"
          ],
          [
           "Rihanna",
           "Umbrella"
          ],
          [
           "Britney Spears",
           "Gimme More"
          ],
          [
           "Fergie",
           "Big Girls Don't Cry (Personal)"
          ],
          [
           "Mark Ronson",
           "Valerie (feat. Amy Winehouse) - Version Revisited"
          ],
          [
           "Plain White T's",
           "Hey There Delilah"
          ],
          [
           "Justin Timberlake",
           "What Goes Around.../...Comes Around (Interlude)"
          ],
          [
           "Gwen Stefani",
           "The Sweet Escape"
          ],
          [
           "Timbaland",
           "The Way I Are"
          ],
          [
           "Nelly Furtado",
           "Say It Right"
          ],
          [
           "Ida Corr",
           "Let Me Think About It"
          ],
          [
           "Alex Gaudino",
           "Destination Calabria - Radio Edit"
          ],
          [
           "September",
           "Cry for You"
          ],
          [
           "Akon",
           "Smack That"
          ],
          [
           "Timbaland",
           "Give It To Me"
          ],
          [
           "50 Cent",
           "Ayo Technology"
          ],
          [
           "Eric Prydz",
           "Proper Education - Radio Edit"
          ],
          [
           "Fedde Le Grand",
           "Put Your Hands Up For Detroit - Radio Edit"
          ],
          [
           "Ciara",
           "Like a Boy"
          ],
          [
           "Kanye West",
           "Stronger"
          ],
          [
           "Beyoncé",
           "Beautiful Liar"
          ],
          [
           "Gym Class Heroes",
           "Cupid's Chokehold / Breakfast in America - Radio Mix"
          ],
          [
           "Akon",
           "I Wanna Love You"
          ],
          [
           "Soulja Boy",
           "Crank That (Soulja Boy)"
          ],
          [
           "Fat Joe",
           "Make It Rain"
          ],
          [
           "P!nk",
           "U + Ur Hand"
          ],
          [
           "Rihanna",
           "Shut Up And Drive"
          ],
          [
           "Lloyd",
           "Get It Shawty"
          ],
          [
           "Kanye West",
           "Can't Tell Me Nothing"
          ],
          [
           "Camille Jones",
           "The Creeps - Fedde Le Grand Radio Mix"
          ],
          [
           "Linkin Park",
           "What I've Done"
          ],
          [
           "Keyshia Cole",
           "Last Night"
          ],
          [
           "Chris Brown",
           "Kiss Kiss (feat. T-Pain)"
          ],
          [
           "Shop Boyz",
           "Party Like A Rock Star"
          ],
          [
           "Finger Eleven",
           "Paralyzer"
          ],
          [
           "Justin Timberlake",
           "Summer Love"
          ],
          [
           "MiMS",
           "This Is Why I'm Hot"
          ],
          [
           "Fabolous",
           "Make Me Better"
          ],
          [
           "Seether",
           "Fake It"
          ],
          [
           "Take That",
           "Patience"
          ],
          [
           "Arctic Monkeys",
           "Brianstorm"
          ],
          [
           "Justin Timberlake",
           "My Love (feat. T.I.)"
          ],
          [
           "Fergie",
           "Glamorous"
          ],
          [
           "Linkin Park",
           "Bleed It Out"
          ],
          [
           "My Chemical Romance",
           "Teenagers"
          ],
          [
           "Calvin Harris",
           "Acceptable in the 80's"
          ],
          [
           "Sugababes",
           "About You Now"
          ],
          [
           "Avril Lavigne",
           "Girlfriend"
          ],
          [
           "Ne-Yo",
           "Because Of You"
          ],
          [
           "Daughtry",
           "It's Not Over"
          ],
          [
           "Unk",
           "Walk It Out"
          ],
          [
           "Lloyd",
           "You"
          ],
          [
           "Klaxons",
           "Golden Skans"
          ],
          [
           "T-Pain",
           "Bartender (feat. Akon)"
          ],
          [
           "Baby Boy Da Prince",
           "The Way I Live - Main Explicit"
          ],
          [
           "Fergie",
           "Fergalicious"
          ],
          [
           "Omarion",
           "Ice Box"
          ],
          [
           "Pretty Ricky",
           "On the Hotline - Amended Version"
          ],
          [
           "Nickelback",
           "Rockstar"
          ],
          [
           "Fall Out Boy",
           "Thnks fr th Mmrs"
          ],
          [
           "Justin Timberlake",
           "LoveStoned / I Think She Knows (Interlude)"
          ],
          [
           "All Time Low",
           "Dear Maria, Count Me In"
          ],
          [
           "Amy Winehouse",
           "Back To Black"
          ],
          [
           "Keyshia Cole",
           "Let It Go"
          ],
          [
           "Ciara",
           "Promise"
          ],
          [
           "Enrique Iglesias",
           "Do You Know? (The Ping Pong Song)"
          ],
          [
           "T2",
           "Heartbroken - Edit"
          ],
          [
           "Robyn",
           "With Every Heartbeat"
          ],
          [
           "Maroon 5",
           "Makes Me Wonder"
          ],
          [
           "Fall Out Boy",
           "This Ain't A Scene, It's An Arms Race"
          ],
          [
           "Paramore",
           "Misery Business"
          ],
          [
           "Hinder",
           "Better Than Me"
          ],
          [
           "Huey",
           "Pop, Lock & Drop It - Video Edit"
          ],
          [
           "Foo Fighters",
           "The Pretender"
          ],
          [
           "Plies",
           "Shawty (feat. T Pain)"
          ],
          [
           "Kaiser Chiefs",
           "Ruby"
          ],
          [
           "Mark Ronson",
           "Stop Me (feat. Daniel Merriweather)"
          ],
          [
           "Bow Wow",
           "Outta My System (feat. T-Pain & Johntá Austin)"
          ],
          [
           "Jim Jones",
           "We Fly High"
          ],
          [
           "The Red Jumpsuit Apparatus",
           "Face Down"
          ],
          [
           "MIKA",
           "Grace Kelly"
          ],
          [
           "Christina Aguilera",
           "Candyman"
          ],
          [
           "Sean Kingston",
           "Beautiful Girls"
          ],
          [
           "Akon",
           "Don't Matter"
          ],
          [
           "James Blunt",
           "1973"
          ],
          [
           "Carrie Underwood",
           "Before He Cheats"
          ],
          [
           "Just Jack",
           "Starz In Their Eyes"
          ],
          [
           "T-Pain",
           "Buy U a Drank (Shawty Snappin') (feat. Yung Joc)"
          ],
          [
           "Bone Thugs-N-Harmony",
           "I Tried"
          ],
          [
           "Avril Lavigne",
           "When You're Gone"
          ],
          [
           "Rich Boy",
           "Throw Some D's"
          ],
          [
           "MIKA",
           "Love Today"
          ],
          [
           "Manic Street Preachers",
           "Your Love Alone Is Not Enough (feat. Nina Persson)"
          ],
          [
           "Elliott Yamin",
           "Wait for You"
          ],
          [
           "Wyclef Jean",
           "Sweetest Girl (Dollar Bill) (feat. Akon, Lil' Wayne & Niia)"
          ],
          [
           "Boys Like Girls",
           "The Great Escape"
          ],
          [
           "Take That",
           "Rule The World - Radio Edit"
          ],
          [
           "J. Holiday",
           "Bed"
          ],
          [
           "Red Hot Chili Peppers",
           "Snow (Hey Oh)"
          ],
          [
           "Ludacris",
           "Runaway Love"
          ],
          [
           "Flo Rida",
           "Low (feat. T-Pain)"
          ],
          [
           "Katy Perry",
           "I Kissed A Girl"
          ],
          [
           "Rihanna",
           "Take A Bow"
          ],
          [
           "Alicia Keys",
           "No One"
          ],
          [
           "Timbaland",
           "Apologize"
          ],
          [
           "Ne-Yo",
           "Miss Independent"
          ],
          [
           "Chris Brown",
           "With You"
          ],
          [
           "Beyoncé",
           "If I Were a Boy"
          ],
          [
           "Kardinal Offishall",
           "Dangerous"
          ],
          [
           "Madcon",
           "Beggin (original version)"
          ],
          [
           "September",
           "Cry for You"
          ],
          [
           "Rihanna",
           "Disturbia"
          ],
          [
           "Guru Josh Project",
           "Infinity 2008"
          ],
          [
           "Britney Spears",
           "Break the Ice"
          ],
          [
           "Lil Wayne",
           "Lollipop"
          ],
          [
           "Basshunter",
           "Now You're Gone - Video Edit"
          ],
          [
           "Kanye West",
           "Flashing Lights"
          ],
          [
           "Madonna",
           "4 Minutes (feat. Justin Timberlake & Timbaland)"
          ],
          [
           "Katy Perry",
           "Hot N Cold"
          ],
          [
           "Rihanna",
           "Don't Stop The Music"
          ],
          [
           "Snoop Dogg",
           "Sensual Seduction"
          ],
          [
           "Akon",
           "Right Now (Na Na Na)"
          ],
          [
           "Britney Spears",
           "Womanizer"
          ],
          [
           "Eric Prydz",
           "Pjanoo - Radio Edit"
          ],
          [
           "Kelly Rowland",
           "Work"
          ],
          [
           "Jeezy",
           "Put On"
          ],
          [
           "Madonna",
           "Give It 2 Me"
          ],
          [
           "The Pussycat Dolls",
           "When I Grow Up"
          ],
          [
           "will.i.am",
           "Heartbreaker"
          ],
          [
           "Soulja Boy",
           "Crank That (Soulja Boy)"
          ],
          [
           "Britney Spears",
           "Piece of Me"
          ],
          [
           "T.I.",
           "Live Your Life"
          ],
          [
           "Ne-Yo",
           "Closer"
          ],
          [
           "Lil Wayne",
           "A Milli"
          ],
          [
           "Colby O'Donis",
           "What You Got"
          ],
          [
           "Miley Cyrus",
           "See You Again"
          ],
          [
           "Basshunter",
           "All I Ever Wanted - Radio Edit"
          ],
          [
           "Chris Brown",
           "Kiss Kiss (feat. T-Pain)"
          ],
          [
           "Finger Eleven",
           "Paralyzer"
          ],
          [
           "Alesha Dixon",
           "The Boy Does Nothing"
          ],
          [
           "Dizzee Rascal",
           "Dance Wiv Me - Radio Edit"
          ],
          [
           "Gabriella Cilmi",
           "Sweet About Me"
          ],
          [
           "Jack White",
           "Another Way to Die"
          ],
          [
           "Plies",
           "Hypnotized (feat. Akon)"
          ],
          [
           "The Pussycat Dolls",
           "I Hate This Part"
          ],
          [
           "Sean Kingston",
           "Take You There"
          ],
          [
           "Natasha Bedingfield",
           "Pocketful of Sunshine"
          ],
          [
           "The Offspring",
           "You're Gonna Go Far, Kid"
          ],
          [
           "Kanye West",
           "Homecoming"
          ],
          [
           "Estelle",
           "American Boy"
          ],
          [
           "Saving Abel",
           "Addicted"
          ],
          [
           "Pendulum",
           "Propane Nightmares"
          ],
          [
           "The Game",
           "My Life"
          ],
          [
           "Danity Kane",
           "Damaged"
          ],
          [
           "P!nk",
           "So What"
          ],
          [
           "Kanye West",
           "Love Lockdown"
          ],
          [
           "Gym Class Heroes",
           "Cookie Jar (feat. The-Dream)"
          ],
          [
           "M.I.A.",
           "Paper Planes"
          ],
          [
           "3 Doors Down",
           "It's Not My Time"
          ],
          [
           "Kylie Minogue",
           "Wow"
          ],
          [
           "Mariah Carey",
           "Touch My Body"
          ],
          [
           "MGMT",
           "Kids"
          ],
          [
           "The Ting Tings",
           "Shut Up and Let Me Go"
          ],
          [
           "Lil Wayne",
           "Got Money"
          ],
          [
           "Santana",
           "Into the Night (feat. Chad Kroeger)"
          ],
          [
           "The-Dream",
           "I Luv Your Girl"
          ],
          [
           "Wiley",
           "Wearing My Rolex - Radio Edit"
          ],
          [
           "Usher",
           "Love in This Club (feat. Young Jeezy)"
          ],
          [
           "Sam Sparro",
           "Black & Gold - Radio Edit"
          ],
          [
           "H \"two\" O",
           "What's It Gonna Be (feat. Platnum)"
          ],
          [
           "The Ting Tings",
           "That's Not My Name"
          ],
          [
           "Plies",
           "Bust It Baby, Pt. 2 (feat. Ne-Yo)"
          ],
          [
           "James Morrison",
           "Broken Strings"
          ],
          [
           "Leona Lewis",
           "Run"
          ],
          [
           "Metro Station",
           "Shake It"
          ],
          [
           "T.I.",
           "Whatever You Like"
          ],
          [
           "Trey Songz",
           "Can't Help but Wait"
          ],
          [
           "OneRepublic",
           "Stop And Stare"
          ],
          [
           "Alexandra Burke",
           "Hallelujah"
          ],
          [
           "Mary J. Blige",
           "Just Fine"
          ],
          [
           "Jordin Sparks",
           "One Step At a Time"
          ],
          [
           "Coldplay",
           "Viva La Vida"
          ],
          [
           "Kings of Leon",
           "Sex on Fire"
          ],
          [
           "Kanye West",
           "Good Life"
          ],
          [
           "Duffy",
           "Mercy"
          ],
          [
           "David Archuleta",
           "Crush"
          ],
          [
           "J. Holiday",
           "Suffocate - Superclean"
          ],
          [
           "Gavin DeGraw",
           "In Love With a Girl"
          ],
          [
           "Jordin Sparks",
           "Tattoo"
          ],
          [
           "Coldplay",
           "Violet Hill"
          ],
          [
           "Ray J",
           "Sexy Can I feat. Yung Berg"
          ],
          [
           "Jennifer Hudson",
           "Spotlight"
          ],
          [
           "John Legend",
           "Green Light (feat. André 3000)"
          ],
          [
           "Jonas Brothers",
           "Burnin' Up"
          ],
          [
           "Lupe Fiasco",
           "Superstar (feat. Matthew Santos)"
          ],
          [
           "Chris Brown",
           "Forever"
          ],
          [
           "Adele",
           "Chasing Pavements"
          ],
          [
           "Leona Lewis",
           "Better in Time"
          ],
          [
           "Fergie",
           "Clumsy"
          ],
          [
           "T-Pain",
           "Can't Believe It (feat. Lil' Wayne)"
          ],
          [
           "Black Eyed Peas",
           "I Gotta Feeling"
          ],
          [
           "Lady Gaga",
           "Poker Face"
          ],
          [
           "Beyoncé",
           "Halo"
          ],
          [
           "David Guetta",
           "Sexy Bitch (feat. Akon)"
          ],
          [
           "Flo Rida",
           "Right Round"
          ],
          [
           "Taylor Swift",
           "Love Story"
          ],
          [
           "Pitbull",
           "Hotel Room Service"
          ],
          [
           "Britney Spears",
           "Circus"
          ],
          [
           "Lady Gaga",
           "LoveGame"
          ],
          [
           "Skillet",
           "Monster"
          ],
          [
           "The Prodigy",
           "Omen"
          ],
          [
           "Black Eyed Peas",
           "Meet Me Halfway"
          ],
          [
           "Kanye West",
           "Heartless"
          ],
          [
           "Kid Cudi",
           "Day 'N' Nite (Nightmare)"
          ],
          [
           "Lady Gaga",
           "Just Dance"
          ],
          [
           "Britney Spears",
           "If U Seek Amy"
          ],
          [
           "Pitbull",
           "I Know You Want Me (Calle Ocho)"
          ],
          [
           "Mariah Carey",
           "Obsessed"
          ],
          [
           "Beyoncé",
           "Sweet Dreams"
          ],
          [
           "Agnes",
           "Release Me"
          ],
          [
           "Black Eyed Peas",
           "Boom Boom Pow"
          ],
          [
           "Shakira",
           "She Wolf"
          ],
          [
           "Lady Gaga",
           "Paparazzi"
          ],
          [
           "JAY-Z",
           "Empire State Of Mind"
          ],
          [
           "OneRepublic",
           "All The Right Moves"
          ],
          [
           "Jeremih",
           "Birthday Sex"
          ],
          [
           "Cascada",
           "Evacuate The Dancefloor"
          ],
          [
           "Linkin Park",
           "New Divide"
          ],
          [
           "Kevin Rudolf",
           "Let It Rock"
          ],
          [
           "JAY-Z",
           "Run This Town"
          ],
          [
           "Lady Gaga",
           "Bad Romance"
          ],
          [
           "T.I.",
           "Live Your Life"
          ],
          [
           "Eminem",
           "We Made You"
          ],
          [
           "Dizzee Rascal",
           "Bonkers"
          ],
          [
           "Ciara",
           "Love Sex Magic (feat. Justin Timberlake)"
          ],
          [
           "Rihanna",
           "Russian Roulette"
          ],
          [
           "Soulja Boy",
           "Turn My Swag On"
          ],
          [
           "The xx",
           "Intro"
          ],
          [
           "Jay Sean",
           "Down"
          ],
          [
           "Keri Hilson",
           "Turnin Me On - Original Dirty"
          ],
          [
           "David Guetta",
           "When Love Takes Over (feat. Kelly Rowland)"
          ],
          [
           "Cheryl",
           "Fight For This Love"
          ],
          [
           "Soulja Boy",
           "Kiss Me Thru The Phone"
          ],
          [
           "Eminem",
           "Crack A Bottle"
          ],
          [
           "P!nk",
           "Sober"
          ],
          [
           "Tinchy Stryder",
           "Number 1"
          ],
          [
           "Pixie Lott",
           "Mama Do (Uh Oh, Uh Oh)"
          ],
          [
           "JLS",
           "Beat Again - Radio Edit"
          ],
          [
           "3OH!3",
           "DONTTRUSTME"
          ],
          [
           "A.R. Rahman",
           "Jai Ho! (You Are My Destiny)"
          ],
          [
           "The Pussycat Dolls",
           "I Hate This Part"
          ],
          [
           "Akon",
           "Beautiful"
          ],
          [
           "Alexandra Burke",
           "Bad Boys (feat. Flo Rida)"
          ],
          [
           "Mario",
           "Break Up"
          ],
          [
           "Drake",
           "Forever"
          ],
          [
           "Selena Gomez & The Scene",
           "Naturally"
          ],
          [
           "Kanye West",
           "Love Lockdown"
          ],
          [
           "The Veronicas",
           "Untouched"
          ],
          [
           "Fabolous",
           "Throw It In The Bag"
          ],
          [
           "Jason Derulo",
           "Whatcha Say"
          ],
          [
           "Lily Allen",
           "Not Fair"
          ],
          [
           "T.I.",
           "Dead And Gone"
          ],
          [
           "Sean Kingston",
           "Fire Burning"
          ],
          [
           "Empire of the Sun",
           "Walking On A Dream"
          ],
          [
           "Cobra Starship",
           "Good Girls Go Bad (feat. Leighton Meester)"
          ],
          [
           "Nickelback",
           "If Today Was Your Last Day"
          ],
          [
           "La Roux",
           "Bulletproof"
          ],
          [
           "Kasabian",
           "Fire"
          ],
          [
           "Calvin Harris",
           "I'm Not Alone - Radio Edit"
          ],
          [
           "Justin Bieber",
           "One Time"
          ],
          [
           "Jamie Foxx",
           "Blame It"
          ],
          [
           "La Roux",
           "In For The Kill"
          ],
          [
           "Muse",
           "Uprising"
          ],
          [
           "Nickelback",
           "Gotta Be Somebody"
          ],
          [
           "James Morrison",
           "Broken Strings"
          ],
          [
           "T.I.",
           "Whatever You Like"
          ],
          [
           "Dizzee Rascal",
           "Holiday"
          ],
          [
           "Beyoncé",
           "Single Ladies (Put a Ring on It)"
          ],
          [
           "Boys Like Girls",
           "Love Drunk"
          ],
          [
           "The-Dream",
           "Rockin' That Shit"
          ],
          [
           "OneRepublic",
           "Secrets"
          ],
          [
           "JLS",
           "Everybody in Love"
          ],
          [
           "Jason Aldean",
           "Big Green Tractor"
          ],
          [
           "The Fray",
           "Never Say Never"
          ],
          [
           "Lily Allen",
           "The Fear"
          ],
          [
           "Kings of Leon",
           "Sex on Fire"
          ],
          [
           "Drake",
           "Best I Ever Had"
          ],
          [
           "Kelly Clarkson",
           "Already Gone"
          ],
          [
           "Miley Cyrus",
           "Party In The U.S.A."
          ],
          [
           "Jordin Sparks",
           "Battlefield"
          ],
          [
           "Ne-Yo",
           "Mad"
          ],
          [
           "Green Day",
           "21 Guns"
          ],
          [
           "Keri Hilson",
           "Knock You Down"
          ],
          [
           "Taylor Swift",
           "You Belong With Me"
          ],
          [
           "Shinedown",
           "Second Chance"
          ],
          [
           "Asher Roth",
           "I Love College"
          ],
          [
           "Katy Perry",
           "Waking Up In Vegas"
          ],
          [
           "Kelly Clarkson",
           "My Life Would Suck Without You"
          ],
          [
           "Mumford & Sons",
           "Little Lion Man"
          ],
          [
           "The Fray",
           "You Found Me"
          ],
          [
           "Bruno Mars",
           "Just the Way You Are"
          ],
          [
           "Eminem",
           "Love The Way You Lie"
          ],
          [
           "Lady Gaga",
           "Bad Romance"
          ],
          [
           "Stromae",
           "Alors on danse - Radio Edit"
          ],
          [
           "Kesha",
           "TiK ToK"
          ],
          [
           "David Guetta",
           "Memories (feat. Kid Cudi)"
          ],
          [
           "Taio Cruz",
           "Dynamite"
          ],
          [
           "Rihanna",
           "Only Girl (In The World)"
          ],
          [
           "Katy Perry",
           "California Gurls"
          ],
          [
           "Kesha",
           "Take It Off"
          ],
          [
           "INNA",
           "Hot - Play & Win Radio Version"
          ],
          [
           "Far East Movement",
           "Like A G6"
          ],
          [
           "David Guetta",
           "Gettin' Over You (feat. Fergie & LMFAO)"
          ],
          [
           "Duck Sauce",
           "Barbra Streisand - Radio Edit"
          ],
          [
           "Lucenzo",
           "Danza Kuduro (feat. Don Omar)"
          ],
          [
           "Rihanna",
           "Te Amo"
          ],
          [
           "Timbaland",
           "Carry Out (Featuring Justin Timberlake)"
          ],
          [
           "DJ Fresh",
           "Gold Dust - Radio Edit"
          ],
          [
           "Edward Maya",
           "Stereo Love - Radio Edit"
          ],
          [
           "Taio Cruz",
           "Break Your Heart"
          ],
          [
           "Black Eyed Peas",
           "Imma Be"
          ],
          [
           "Sidney Samson",
           "Riverside"
          ],
          [
           "Eminem",
           "Not Afraid"
          ],
          [
           "Lady Gaga",
           "Alejandro"
          ],
          [
           "Rihanna",
           "Rude Boy"
          ],
          [
           "Ne-Yo",
           "Beautiful Monster"
          ],
          [
           "3OH!3",
           "Starstrukk"
          ],
          [
           "Black Eyed Peas",
           "The Time (Dirty Bit)"
          ],
          [
           "Kelly Rowland",
           "Commander"
          ],
          [
           "Swedish House Mafia",
           "One (Your Name) - Radio Edit"
          ],
          [
           "Chris Brown",
           "Deuces (feat. Tyga & Kevin McCall)"
          ],
          [
           "Usher",
           "DJ Got Us Fallin' In Love (feat. Pitbull)"
          ],
          [
           "Iyaz",
           "Replay"
          ],
          [
           "Flo Rida",
           "Club Can't Handle Me (feat. David Guetta)"
          ],
          [
           "Sean Kingston",
           "Eenie Meenie"
          ],
          [
           "Waka Flocka Flame",
           "No Hands (feat. Roscoe Dash & Wale)"
          ],
          [
           "Tinie Tempah",
           "Written in the Stars (feat. Eric Turner)"
          ],
          [
           "Bruno Mars",
           "Talking to the Moon"
          ],
          [
           "Miley Cyrus",
           "Can't Be Tamed"
          ],
          [
           "Mike Posner",
           "Cooler Than Me - Single Mix"
          ],
          [
           "Lady Gaga",
           "Telephone"
          ],
          [
           "Yolanda Be Cool",
           "We No Speak Americano (JT Radio Edit)"
          ],
          [
           "Rihanna",
           "Hard"
          ],
          [
           "Tinie Tempah",
           "Pass Out"
          ],
          [
           "Adam Lambert",
           "Whataya Want from Me"
          ],
          [
           "Trey Songz",
           "Bottoms Up (feat. Nicki Minaj)"
          ],
          [
           "Timbaland",
           "If We Ever Meet Again (Featuring Katy Perry)"
          ],
          [
           "Enrique Iglesias",
           "I Like It"
          ],
          [
           "Tim Berg",
           "Seek Bromance - Avicii’s Vocal Edit"
          ],
          [
           "Usher",
           "OMG (feat. will.i.am)"
          ],
          [
           "Maroon 5",
           "Misery"
          ],
          [
           "Jay Sean",
           "Down"
          ],
          [
           "Rihanna",
           "Man Down"
          ],
          [
           "3OH!3",
           "My First Kiss (feat. Ke$ha)"
          ],
          [
           "Justin Bieber",
           "Baby"
          ],
          [
           "Cali Swag District",
           "Teach Me How to Dougie"
          ],
          [
           "Swedish House Mafia",
           "Miami 2 Ibiza - Swedish House Mafia vs. Tinie Tempah"
          ],
          [
           "K'NAAN",
           "Wavin' Flag"
          ],
          [
           "Ludacris",
           "How Low"
          ],
          [
           "Kesha",
           "Blah Blah Blah (feat. 3OH!3)"
          ],
          [
           "DJ Khaled",
           "All I Do Is Win (feat. T-Pain, Ludacris, Snoop Dogg & Rick Ross)"
          ],
          [
           "Jason Derulo",
           "In My Head"
          ],
          [
           "Aloe Blacc",
           "I Need A Dollar"
          ],
          [
           "B.o.B",
           "Airplanes (feat. Hayley Williams of Paramore)"
          ],
          [
           "Ludacris",
           "My Chick Bad"
          ],
          [
           "Nelly",
           "Just A Dream"
          ],
          [
           "Rihanna",
           "What's My Name?"
          ],
          [
           "Shontelle",
           "Impossible"
          ],
          [
           "Take That",
           "The Flood"
          ],
          [
           "Trey Songz",
           "Say Aah (feat. Fabolous)"
          ],
          [
           "Jason Derulo",
           "Whatcha Say"
          ],
          [
           "Drake",
           "Over"
          ],
          [
           "Example",
           "Kickstarts"
          ],
          [
           "Plan B",
           "She Said"
          ],
          [
           "The Saturdays",
           "Higher"
          ],
          [
           "Jay Sean",
           "Do You Remember"
          ],
          [
           "Usher",
           "Hey Daddy (Daddy's Home)"
          ],
          [
           "Lil Wayne",
           "Right Above It"
          ],
          [
           "The Wanted",
           "All Time Low"
          ],
          [
           "Kesha",
           "Your Love Is My Drug"
          ],
          [
           "Ellie Goulding",
           "Starry Eyed"
          ],
          [
           "Drake",
           "Find Your Love"
          ],
          [
           "Jason Derulo",
           "Ridin' Solo"
          ],
          [
           "Two Door Cinema Club",
           "What You Know"
          ],
          [
           "JAY-Z",
           "Young Forever"
          ],
          [
           "Young Money",
           "BedRock"
          ],
          [
           "B.o.B",
           "Nothin' on You (feat. Bruno Mars)"
          ],
          [
           "Katy Perry",
           "Teenage Dream"
          ],
          [
           "Scouting For Girls",
           "This Ain't a Love Song"
          ],
          [
           "Travie McCoy",
           "Billionaire (feat. Bruno Mars)"
          ],
          [
           "Owl City",
           "Fireflies"
          ],
          [
           "Alicia Keys",
           "Empire State of Mind (Part II) Broken Down"
          ],
          [
           "Lady A",
           "Need You Now"
          ],
          [
           "Taylor Swift",
           "Back To December"
          ],
          [
           "Neon Trees",
           "Animal"
          ],
          [
           "Kris Allen",
           "Live Like We're Dying"
          ],
          [
           "Matt Cardle",
           "When We Collide"
          ],
          [
           "Robyn",
           "Dancing On My Own"
          ],
          [
           "The Band Perry",
           "If I Die Young"
          ],
          [
           "B.o.B",
           "Magic (feat. Rivers Cuomo)"
          ],
          [
           "Adele",
           "Rolling in the Deep"
          ],
          [
           "Maroon 5",
           "Moves Like Jagger - Studio Recording From \"The Voice\" Performance"
          ],
          [
           "LMFAO",
           "Party Rock Anthem"
          ],
          [
           "Katy Perry",
           "Firework"
          ],
          [
           "Bruno Mars",
           "Grenade"
          ],
          [
           "Pitbull",
           "Hey Baby (Drop It to the Floor) (feat. T-Pain)"
          ],
          [
           "Alexandra Stan",
           "Mr. Saxobeat"
          ],
          [
           "David Guetta",
           "Who's That Chick? (feat. Rihanna)"
          ],
          [
           "Jennifer Lopez",
           "On The Floor"
          ],
          [
           "Rihanna",
           "S&M"
          ],
          [
           "Kesha",
           "Blow"
          ],
          [
           "Snoop Dogg",
           "Sweat - Remix"
          ],
          [
           "Taio Cruz",
           "Higher"
          ],
          [
           "Usher",
           "More - RedOne Jimmy Joker Remix"
          ],
          [
           "Example",
           "Changed the Way You Kiss Me - Radio Edit"
          ],
          [
           "Black Eyed Peas",
           "Just Can’t Get Enough"
          ],
          [
           "David Guetta",
           "Where Them Girls At (feat. Nicki Minaj & Flo Rida)"
          ],
          [
           "Lykke Li",
           "I Follow Rivers - The Magician Remix"
          ],
          [
           "Pitbull",
           "Give Me Everything (feat. Ne-Yo, Afrojack & Nayer)"
          ],
          [
           "Selena Gomez & The Scene",
           "Love You Like A Love Song"
          ],
          [
           "Wiz Khalifa",
           "Black and Yellow"
          ],
          [
           "Katy Perry",
           "E.T."
          ],
          [
           "Britney Spears",
           "I Wanna Go"
          ],
          [
           "Gym Class Heroes",
           "Stereo Hearts (feat. Adam Levine)"
          ],
          [
           "Edward Maya",
           "Stereo Love - Radio Edit"
          ],
          [
           "Enrique Iglesias",
           "Tonight (I'm Fuckin' You)"
          ],
          [
           "Jeremih",
           "Down On Me"
          ],
          [
           "Sak Noel",
           "Loca People - Radio Edit"
          ],
          [
           "Olly Murs",
           "Heart Skips a Beat (feat. Rizzle Kicks)"
          ],
          [
           "LMFAO",
           "Sexy And I Know It"
          ],
          [
           "Cobra Starship",
           "You Make Me Feel... (feat. Sabi)"
          ],
          [
           "Jessie J",
           "Do It Like A Dude"
          ],
          [
           "DJ Fresh",
           "Louder (feat. Sian Evans) - Radio Edit"
          ],
          [
           "Waka Flocka Flame",
           "No Hands (feat. Roscoe Dash & Wale)"
          ],
          [
           "Nickelback",
           "When We Stand Together"
          ],
          [
           "M83",
           "Midnight City"
          ],
          [
           "Britney Spears",
           "Till the World Ends"
          ],
          [
           "Labrinth",
           "Earthquake (feat. Tinie Tempah)"
          ],
          [
           "Jason Derulo",
           "Don't Wanna Go Home"
          ],
          [
           "Coldplay",
           "Paradise"
          ],
          [
           "Katy Perry",
           "Last Friday Night (T.G.I.F.)"
          ],
          [
           "Adele",
           "Set Fire to the Rain"
          ],
          [
           "Dr. Dre",
           "I Need A Doctor"
          ],
          [
           "Lil Wayne",
           "6 Foot 7 Foot"
          ],
          [
           "DJ Khaled",
           "I'm On One"
          ],
          [
           "Chris Brown",
           "Look At Me Now (feat. Lil' Wayne & Busta Rhymes)"
          ],
          [
           "Far East Movement",
           "Rocketeer"
          ],
          [
           "The Wanted",
           "Glad You Came"
          ],
          [
           "Kesha",
           "We R Who We R"
          ],
          [
           "Kelly Rowland",
           "Motivation"
          ],
          [
           "Rihanna",
           "We Found Love"
          ],
          [
           "Nicole Scherzinger",
           "Don't Hold Your Breath"
          ],
          [
           "Mann",
           "Buzzin Remix"
          ],
          [
           "Chris Brown",
           "Yeah 3x"
          ],
          [
           "Swedish House Mafia",
           "Save The World"
          ],
          [
           "Kanye West",
           "All Of The Lights"
          ],
          [
           "Miguel",
           "Sure Thing"
          ],
          [
           "Diddy - Dirty Money",
           "Coming Home"
          ],
          [
           "Rihanna",
           "What's My Name?"
          ],
          [
           "Chris Brown",
           "Beautiful People"
          ],
          [
           "Avril Lavigne",
           "What the Hell"
          ],
          [
           "Professor Green",
           "Read All About It"
          ],
          [
           "Chase & Status",
           "Blind Faith"
          ],
          [
           "Chip",
           "Champion (feat. Chris Brown)"
          ],
          [
           "Selena Gomez & The Scene",
           "Who Says"
          ],
          [
           "Rizzle Kicks",
           "Down With The Trumpets"
          ],
          [
           "Lady Gaga",
           "Born This Way"
          ],
          [
           "Nicki Minaj",
           "Super Bass"
          ],
          [
           "Mac Miller",
           "Donald Trump"
          ],
          [
           "Calvin Harris",
           "Bounce (feat. Kelis) - Radio Edit"
          ],
          [
           "David Guetta",
           "Without You (feat. Usher)"
          ],
          [
           "Foster The People",
           "Pumped Up Kicks"
          ],
          [
           "Drake",
           "Headlines"
          ],
          [
           "Jessie J",
           "Price Tag"
          ],
          [
           "Jason Aldean",
           "Dirt Road Anthem"
          ],
          [
           "Wiz Khalifa",
           "Roll Up"
          ],
          [
           "OneRepublic",
           "Good Life"
          ],
          [
           "Bad Meets Evil",
           "Lighters"
          ],
          [
           "Bruno Mars",
           "The Lazy Song"
          ],
          [
           "Lupe Fiasco",
           "The Show Goes On"
          ],
          [
           "James Morrison",
           "I Won't Let You Go"
          ],
          [
           "Jason Derulo",
           "It Girl"
          ],
          [
           "Adele",
           "Someone Like You"
          ],
          [
           "Red Hot Chili Peppers",
           "The Adventures of Rain Dance Maggie"
          ],
          [
           "Keri Hilson",
           "Pretty Girl Rock"
          ],
          [
           "P!nk",
           "F**kin' Perfect"
          ],
          [
           "Blake Shelton",
           "Honey Bee"
          ],
          [
           "Lady Gaga",
           "The Edge Of Glory"
          ],
          [
           "Lady A",
           "Just A Kiss"
          ],
          [
           "Hot Chelle Rae",
           "Tonight Tonight"
          ],
          [
           "Grouplove",
           "Tongue Tied"
          ],
          [
           "Coldplay",
           "Every Teardrop Is a Waterfall"
          ],
          [
           "Beyoncé",
           "Best Thing I Never Had"
          ],
          [
           "P!nk",
           "Raise Your Glass"
          ],
          [
           "Christina Perri",
           "Jar of Hearts"
          ],
          [
           "Bruno Mars",
           "Marry You"
          ],
          [
           "The Band Perry",
           "If I Die Young"
          ],
          [
           "Lil Wayne",
           "How To Love"
          ],
          [
           "Charlene Soraia",
           "Wherever You Will Go"
          ],
          [
           "Christina Perri",
           "A Thousand Years"
          ],
          [
           "Rihanna",
           "We Found Love"
          ],
          [
           "Carly Rae Jepsen",
           "Call Me Maybe"
          ],
          [
           "fun.",
           "We Are Young (feat. Janelle Monáe)"
          ],
          [
           "Sean Paul",
           "She Doesn't Mind"
          ],
          [
           "Pitbull",
           "International Love (feat. Chris Brown)"
          ],
          [
           "DEV",
           "In The Dark"
          ],
          [
           "Adele",
           "Skyfall"
          ],
          [
           "David Guetta",
           "Turn Me On (feat. Nicki Minaj)"
          ],
          [
           "Rihanna",
           "Where Have You Been"
          ],
          [
           "JAY-Z",
           "Ni**as In Paris"
          ],
          [
           "Maroon 5",
           "One More Night"
          ],
          [
           "Skrillex",
           "Bangarang (feat. Sirah)"
          ],
          [
           "The Wanted",
           "Chasing The Sun"
          ],
          [
           "Flo Rida",
           "Whistle"
          ],
          [
           "will.i.am",
           "This Is Love"
          ],
          [
           "David Guetta",
           "She Wolf (Falling to Pieces) [feat. Sia]"
          ],
          [
           "Nicki Minaj",
           "Pound The Alarm"
          ],
          [
           "Kendrick Lamar",
           "Swimming Pools (Drank) - Extended Version"
          ],
          [
           "MARINA",
           "Primadonna"
          ],
          [
           "Kanye West",
           "Mercy"
          ],
          [
           "DJ Fresh",
           "Hot Right Now (feat. RITA ORA) - Radio Edit"
          ],
          [
           "LMFAO",
           "Sexy And I Know It"
          ],
          [
           "PSY",
           "Gangnam Style (강남스타일)"
          ],
          [
           "Kesha",
           "Die Young"
          ],
          [
           "Usher",
           "Scream"
          ],
          [
           "Olly Murs",
           "Troublemaker (feat. Flo Rida)"
          ],
          [
           "Linkin Park",
           "BURN IT DOWN"
          ],
          [
           "Bruno Mars",
           "Locked out of Heaven"
          ],
          [
           "Avicii",
           "Levels - Radio Edit"
          ],
          [
           "Flo Rida",
           "Good Feeling"
          ],
          [
           "Rihanna",
           "Diamonds"
          ],
          [
           "Wiz Khalifa",
           "Work Hard, Play Hard"
          ],
          [
           "Katy Perry",
           "Part Of Me"
          ],
          [
           "Nicki Minaj",
           "Starships"
          ],
          [
           "Kendrick Lamar",
           "m.A.A.d city"
          ],
          [
           "Asaf Avidan & the Mojos",
           "One Day / Reckoning Song (Wankelmut Remix) [Radio Edit]"
          ],
          [
           "Florence + The Machine",
           "Spectrum (Say My Name) - Calvin Harris Remix"
          ],
          [
           "Azealia Banks",
           "212"
          ],
          [
           "Maroon 5",
           "Payphone"
          ],
          [
           "James Arthur",
           "Impossible"
          ],
          [
           "Michel Teló",
           "Ai Se Eu Te Pego - Live"
          ],
          [
           "Otto Knows",
           "Million Voices - Radio Edit"
          ],
          [
           "Icona Pop",
           "I Love It"
          ],
          [
           "Tyga",
           "Rack City"
          ],
          [
           "Calvin Harris",
           "Feel So Close - Radio Edit"
          ],
          [
           "Jennifer Lopez",
           "Dance Again"
          ],
          [
           "Grimes",
           "Oblivion"
          ],
          [
           "Adele",
           "Rumour Has It"
          ],
          [
           "Coldplay",
           "Paradise"
          ],
          [
           "Chris Brown",
           "Turn Up the Music"
          ],
          [
           "Frank Ocean",
           "Lost"
          ],
          [
           "Calvin Harris",
           "Let's Go (feat. Ne-Yo)"
          ],
          [
           "The Script",
           "Hall of Fame (feat. will.i.am)"
          ],
          [
           "Swedish House Mafia",
           "Don't You Worry Child - Radio Edit"
          ],
          [
           "MARINA",
           "How to Be a Heartbreaker"
          ],
          [
           "Justin Bieber",
           "Boyfriend"
          ],
          [
           "David Guetta",
           "Titanium (feat. Sia)"
          ],
          [
           "Jessie J",
           "Domino"
          ],
          [
           "Taylor Swift",
           "I Knew You Were Trouble."
          ],
          [
           "ScHoolboy Q",
           "Hands on the Wheel (feat. Asap Rocky)"
          ],
          [
           "P!nk",
           "Try"
          ],
          [
           "Robbie Williams",
           "Candy"
          ],
          [
           "Snoop Dogg",
           "Young, Wild & Free (feat. Bruno Mars)"
          ],
          [
           "Justin Bieber",
           "As Long As You Love Me"
          ],
          [
           "Rita Ora",
           "R.I.P. (feat. Tinie Tempah)"
          ],
          [
           "Alex Clare",
           "Too Close"
          ],
          [
           "Tyga",
           "Faded"
          ],
          [
           "Alesso",
           "Years - ラジオ・エディット"
          ],
          [
           "Guy Sebastian",
           "Battle Scars (feat. Lupe Fiasco)"
          ],
          [
           "Katy Perry",
           "The One That Got Away"
          ],
          [
           "Avicii",
           "Silhouettes - Original Radio Edit"
          ],
          [
           "Gotye",
           "Somebody That I Used To Know"
          ],
          [
           "Flo Rida",
           "Wild Ones (feat. Sia)"
          ],
          [
           "One Direction",
           "What Makes You Beautiful"
          ],
          [
           "Lana Del Rey",
           "Born To Die"
          ],
          [
           "Kesha",
           "C'Mon"
          ],
          [
           "Owl City",
           "Good Time"
          ],
          [
           "Calvin Harris",
           "We'll Be Coming Back (feat. Example)"
          ],
          [
           "Emeli Sandé",
           "Read All About It, Pt. III"
          ],
          [
           "Ellie Goulding",
           "Lights - Single Version"
          ],
          [
           "Train",
           "Drive By"
          ],
          [
           "Disclosure",
           "Latch"
          ],
          [
           "Coldplay",
           "Princess of China"
          ],
          [
           "One Direction",
           "Live While We're Young"
          ],
          [
           "Gym Class Heroes",
           "Ass Back Home (feat. Neon Hitch)"
          ],
          [
           "Carrie Underwood",
           "Blown Away"
          ],
          [
           "alt-J",
           "Breezeblocks"
          ],
          [
           "Chris Brown",
           "Don't Wake Me Up"
          ],
          [
           "Kelly Clarkson",
           "Stronger (What Doesn't Kill You)"
          ],
          [
           "Drake",
           "The Motto"
          ],
          [
           "Katy Perry",
           "Wide Awake"
          ],
          [
           "Rita Ora",
           "How We Do (Party)"
          ],
          [
           "Rudimental",
           "Feel the Love (feat. John Newman)"
          ],
          [
           "Lana Del Rey",
           "Ride"
          ],
          [
           "Ne-Yo",
           "Let Me Love You (Until You Learn To Love Yourself)"
          ],
          [
           "Demi Lovato",
           "Give Your Heart a Break"
          ],
          [
           "Drake",
           "Take Care"
          ],
          [
           "Little Mix",
           "Wings"
          ],
          [
           "Bruno Mars",
           "It Will Rain"
          ],
          [
           "Cher Lloyd",
           "Want U Back"
          ],
          [
           "Lorde",
           "Royals"
          ],
          [
           "Robin Thicke",
           "Blurred Lines"
          ],
          [
           "Imagine Dragons",
           "Radioactive"
          ],
          [
           "Avicii",
           "Wake Me Up"
          ],
          [
           "Bruno Mars",
           "Locked out of Heaven"
          ],
          [
           "Macklemore & Ryan Lewis",
           "Thrift Shop (feat. Wanz)"
          ],
          [
           "Daft Punk",
           "Get Lucky (feat. Pharrell Williams & Nile Rodgers) - Radio Edit"
          ],
          [
           "will.i.am",
           "Scream & Shout"
          ],
          [
           "Stromae",
           "Papaoutai"
          ],
          [
           "Bingo Players",
           "Get Up (Rattle) - Vocal Edit"
          ],
          [
           "Naughty Boy",
           "La La La"
          ],
          [
           "Tom Odell",
           "Another Love"
          ],
          [
           "2 Chainz",
           "We Own It (Fast & Furious)"
          ],
          [
           "David Guetta",
           "Play Hard (feat. Ne-Yo & Akon)"
          ],
          [
           "Pitbull",
           "Feel This Moment (feat. Christina Aguilera)"
          ],
          [
           "will.i.am",
           "#thatPOWER"
          ],
          [
           "Lil Wayne",
           "Love Me"
          ],
          [
           "Macklemore & Ryan Lewis",
           "Can't Hold Us (feat. Ray Dalton)"
          ],
          [
           "Martin Garrix",
           "Animals - Radio Edit"
          ],
          [
           "Jason Derulo",
           "Talk Dirty (feat. 2 Chainz)"
          ],
          [
           "John Newman",
           "Love Me Again"
          ],
          [
           "Britney Spears",
           "Work B**ch"
          ],
          [
           "The Neighbourhood",
           "Sweater Weather"
          ],
          [
           "Sebastian Ingrosso",
           "Reload - Radio Edit"
          ],
          [
           "Capital Cities",
           "Safe And Sound"
          ],
          [
           "Demi Lovato",
           "Heart Attack"
          ],
          [
           "Arctic Monkeys",
           "Why'd You Only Call Me When You're High?"
          ],
          [
           "Justin Bieber",
           "Beauty And A Beat"
          ],
          [
           "Eminem",
           "The Monster"
          ],
          [
           "Pitbull",
           "Don't Stop the Party (feat. TJR)"
          ],
          [
           "Selena Gomez",
           "Come & Get It"
          ],
          [
           "P!nk",
           "True Love (feat. Lily Allen)"
          ],
          [
           "Disclosure",
           "White Noise"
          ],
          [
           "Flo Rida",
           "I Cry"
          ],
          [
           "Kanye West",
           "Black Skinhead"
          ],
          [
           "Lana Del Rey",
           "Summertime Sadness (Lana Del Rey Vs. Cedric Gervais) - Cedric Gervais Remix"
          ],
          [
           "Eminem",
           "Berzerk"
          ],
          [
           "Icona Pop",
           "I Love It (feat. Charli XCX)"
          ],
          [
           "Fall Out Boy",
           "My Songs Know What You Did In The Dark (Light Em Up)"
          ],
          [
           "Lorde",
           "Team"
          ],
          [
           "Avicii",
           "I Could Be The One (Avicii Vs. Nicky Romero) - Radio Edit"
          ],
          [
           "Imagine Dragons",
           "Demons"
          ],
          [
           "One Direction",
           "One Way or Another (Teenage Kicks)"
          ],
          [
           "Taylor Swift",
           "I Knew You Were Trouble."
          ],
          [
           "Arctic Monkeys",
           "Do I Wanna Know?"
          ],
          [
           "Rudimental",
           "Waiting All Night (feat. Ella Eyre)"
          ],
          [
           "Klangkarussell",
           "Sonnentanz - Sun Don't Shine"
          ],
          [
           "Calvin Harris",
           "Drinking from the Bottle (feat. Tinie Tempah)"
          ],
          [
           "A$AP Rocky",
           "F**kin' Problems (feat. Drake, 2 Chainz & Kendrick Lamar)"
          ],
          [
           "P!nk",
           "Try"
          ],
          [
           "Ylvis",
           "The Fox (What Does the Fox Say?)"
          ],
          [
           "Ellie Goulding",
           "Burn"
          ],
          [
           "Baauer",
           "Harlem Shake"
          ],
          [
           "Calvin Harris",
           "I Need Your Love (feat. Ellie Goulding)"
          ],
          [
           "Katy Perry",
           "This Is How We Do"
          ],
          [
           "AWOLNATION",
           "Sail"
          ],
          [
           "Duke Dumont",
           "Need U (100%) [feat. A*M*E] - Radio Edit"
          ],
          [
           "Jason Derulo",
           "The Other Side"
          ],
          [
           "Storm Queen",
           "Look Right Through - MK Vocal Edit"
          ],
          [
           "Calvin Harris",
           "Sweet Nothing (feat. Florence Welch)"
          ],
          [
           "Katy Perry",
           "Unconditionally"
          ],
          [
           "Wale",
           "Bad (feat. Rihanna) - Remix"
          ],
          [
           "Ciara",
           "Body Party"
          ],
          [
           "Drake",
           "Started From the Bottom"
          ],
          [
           "Birdy",
           "Wings"
          ],
          [
           "Bastille",
           "Of The Night"
          ],
          [
           "Olly Murs",
           "Dear Darlin'"
          ],
          [
           "Katy Perry",
           "Roar"
          ],
          [
           "Blake Shelton",
           "Sure Be Cool If You Did"
          ],
          [
           "Calvin Harris",
           "Thinking About You (feat. Ayah Marar)"
          ],
          [
           "JAY-Z",
           "Holy Grail"
          ],
          [
           "Bridgit Mendler",
           "Ready or Not"
          ],
          [
           "The Saturdays",
           "What About Us"
          ],
          [
           "Bastille",
           "Pompeii"
          ],
          [
           "One Direction",
           "Best Song Ever"
          ],
          [
           "Nelly",
           "Hey Porsche"
          ],
          [
           "Zedd",
           "Clarity"
          ],
          [
           "Miley Cyrus",
           "Wrecking Ball"
          ],
          [
           "Chris Brown",
           "Fine China"
          ],
          [
           "Daft Punk",
           "Lose Yourself to Dance (feat. Pharrell Williams)"
          ],
          [
           "Armin van Buuren",
           "This Is What It Feels Like"
          ],
          [
           "Justin Timberlake",
           "Mirrors"
          ],
          [
           "Bruno Mars",
           "Treasure"
          ],
          [
           "Of Monsters and Men",
           "Little Talks"
          ],
          [
           "Miley Cyrus",
           "We Can't Stop"
          ],
          [
           "J. Cole",
           "Power Trip (feat. Miguel)"
          ],
          [
           "Paramore",
           "Still into You"
          ],
          [
           "Christina Perri",
           "human"
          ],
          [
           "Drake",
           "Hold On, We're Going Home"
          ],
          [
           "James Blunt",
           "Bonfire Heart"
          ],
          [
           "Maroon 5",
           "Daylight"
          ],
          [
           "Childish Gambino",
           "3005"
          ],
          [
           "Avril Lavigne",
           "Here's to Never Growing Up"
          ],
          [
           "Taylor Swift",
           "22"
          ],
          [
           "Passenger",
           "Let Her Go"
          ],
          [
           "Ariana Grande",
           "The Way"
          ],
          [
           "Rihanna",
           "Stay"
          ],
          [
           "Justin Timberlake",
           "Suit & Tie (feat. Jay-Z)"
          ],
          [
           "Bruno Mars",
           "When I Was Your Man"
          ],
          [
           "Florida Georgia Line",
           "Cruise"
          ],
          [
           "Pharrell Williams",
           "Happy - From \"Despicable Me 2\""
          ],
          [
           "Katy Perry",
           "Dark Horse"
          ],
          [
           "ScHoolboy Q",
           "Collard Greens"
          ],
          [
           "Iggy Azalea",
           "Fancy"
          ],
          [
           "Maroon 5",
           "Animals"
          ],
          [
           "Sam Smith",
           "Stay With Me"
          ],
          [
           "MAGIC!",
           "Rude"
          ],
          [
           "Sia",
           "Chandelier"
          ],
          [
           "John Legend",
           "All of Me"
          ],
          [
           "ZHU",
           "Faded"
          ],
          [
           "Meghan Trainor",
           "All About That Bass"
          ],
          [
           "David Guetta",
           "Lovers on the Sun (feat. Sam Martin)"
          ],
          [
           "Iggy Azalea",
           "Black Widow"
          ],
          [
           "Tove Lo",
           "Habits (Stay High)"
          ],
          [
           "Oliver Heldens",
           "Gecko (Overdrive) - Radio Edit"
          ],
          [
           "DJ Snake",
           "You Know You Like It"
          ],
          [
           "Jason Derulo",
           "Talk Dirty (feat. 2 Chainz)"
          ],
          [
           "Maroon 5",
           "Maps"
          ],
          [
           "David Guetta",
           "Bad (feat. Vassy) - Radio Edit"
          ],
          [
           "Tinashe",
           "2 On (feat. ScHoolboy Q)"
          ],
          [
           "Route 94",
           "My Love (feat. Jess Glynne)"
          ],
          [
           "Taylor Swift",
           "Bad Blood"
          ],
          [
           "Trey Songz",
           "Na Na"
          ],
          [
           "Calvin Harris",
           "Under Control (feat. Hurts)"
          ],
          [
           "O.T. Genasis",
           "CoCo"
          ],
          [
           "Jason Derulo",
           "Wiggle (feat. Snoop Dogg)"
          ],
          [
           "Lilly Wood and The Prick",
           "Prayer in C - Robin Schulz Radio Edit"
          ],
          [
           "Jeremih",
           "Don't Tell 'Em"
          ],
          [
           "Nicki Minaj",
           "Anaconda"
          ],
          [
           "Calvin Harris",
           "Blame (feat. John Newman)"
          ],
          [
           "DJ Snake",
           "Turn Down for What"
          ],
          [
           "Pitbull",
           "Timber (feat. Ke$ha)"
          ],
          [
           "OneRepublic",
           "Counting Stars"
          ],
          [
           "Bobby Shmurda",
           "Hot N*gga"
          ],
          [
           "Calvin Harris",
           "Summer"
          ],
          [
           "ScHoolboy Q",
           "Man Of The Year"
          ],
          [
           "Nico & Vinz",
           "Am I Wrong"
          ],
          [
           "Becky G",
           "Shower"
          ],
          [
           "Sigma",
           "Nobody To Love - Radio Edit"
          ],
          [
           "The Chainsmokers",
           "#SELFIE - Original Mix"
          ],
          [
           "Lorde",
           "Team"
          ],
          [
           "Rixton",
           "Me And My Broken Heart"
          ],
          [
           "Klingande",
           "Jubel - Radio Edit"
          ],
          [
           "Mr. Probz",
           "Waves - Robin Schulz Radio Edit"
          ],
          [
           "Paloma Faith",
           "Only Love Can Hurt Like This"
          ],
          [
           "Kiesza",
           "Hideaway"
          ],
          [
           "Ellie Goulding",
           "Burn"
          ],
          [
           "Ariana Grande",
           "Break Free"
          ],
          [
           "Kid Ink",
           "Show Me (feat. Chris Brown)"
          ],
          [
           "Tove Lo",
           "Talking Body"
          ],
          [
           "Chris Brown",
           "Loyal (feat. Lil Wayne & Tyga)"
          ],
          [
           "OneRepublic",
           "Love Runs Out"
          ],
          [
           "Olly Murs",
           "Up (feat. Demi Lovato)"
          ],
          [
           "Peking Duk",
           "High (feat. Nicole Millar)"
          ],
          [
           "Milky Chance",
           "Stolen Dance"
          ],
          [
           "Ed Sheeran",
           "Don't"
          ],
          [
           "Ariana Grande",
           "Love Me Harder"
          ],
          [
           "Enrique Iglesias",
           "Bailando - Spanish Version"
          ],
          [
           "Avicii",
           "Hey Brother"
          ],
          [
           "Jessie J",
           "Bang Bang"
          ],
          [
           "Duke Dumont",
           "I Got U"
          ],
          [
           "Gorgon City",
           "Ready For Your Love"
          ],
          [
           "Taylor Swift",
           "Style"
          ],
          [
           "MKTO",
           "Classic"
          ],
          [
           "Disclosure",
           "Latch"
          ],
          [
           "Ariana Grande",
           "Problem"
          ],
          [
           "Charli XCX",
           "Boom Clap"
          ],
          [
           "One Direction",
           "Steal My Girl"
          ],
          [
           "Tiësto",
           "Red Lights"
          ],
          [
           "Selena Gomez",
           "The Heart Wants What It Wants"
          ],
          [
           "Rita Ora",
           "I Will Never Let You Down"
          ],
          [
           "5 Seconds of Summer",
           "She Looks So Perfect"
          ],
          [
           "The Script",
           "Superheroes"
          ],
          [
           "Taylor Swift",
           "Shake It Off"
          ],
          [
           "One Direction",
           "Night Changes"
          ],
          [
           "Ed Sheeran",
           "Sing"
          ],
          [
           "Alesso",
           "Heroes (we could be)"
          ],
          [
           "Tiësto",
           "Wasted"
          ],
          [
           "G.R.L.",
           "Ugly Heart"
          ],
          [
           "Coldplay",
           "A Sky Full of Stars"
          ],
          [
           "Clean Bandit",
           "Rather Be (feat. Jess Glynne)"
          ],
          [
           "Zedd",
           "Stay The Night - Featuring Hayley Williams Of Paramore"
          ],
          [
           "Sia",
           "Elastic Heart"
          ],
          [
           "One Direction",
           "Story of My Life"
          ],
          [
           "Alex & Sierra",
           "Little Do You Know"
          ],
          [
           "Omarion",
           "Post to Be (feat. Chris Brown & Jhene Aiko)"
          ],
          [
           "Echosmith",
           "Cool Kids"
          ],
          [
           "Natalie La Rose",
           "Somebody"
          ],
          [
           "Vance Joy",
           "Riptide"
          ],
          [
           "Beyoncé",
           "Drunk in Love (feat. Jay-Z)"
          ],
          [
           "Maroon 5",
           "Sugar"
          ],
          [
           "Ella Henderson",
           "Ghost"
          ],
          [
           "Ed Sheeran",
           "I See Fire - From \"The Hobbit - The Desolation Of Smaug\""
          ],
          [
           "Chris Brown",
           "New Flame (feat. Usher & Rick Ross)"
          ],
          [
           "Sheppard",
           "Geronimo"
          ],
          [
           "Olly Murs",
           "Wrapped Up (feat. Travie McCoy)"
          ],
          [
           "Sam Smith",
           "Money On My Mind"
          ],
          [
           "Jason Derulo",
           "Trumpets"
          ],
          [
           "Nicki Minaj",
           "Bed Of Lies"
          ],
          [
           "Nick Jonas",
           "Jealous - Remix"
          ],
          [
           "Mark Ronson",
           "Uptown Funk (feat. Bruno Mars)"
          ],
          [
           "Ed Sheeran",
           "Thinking out Loud"
          ],
          [
           "Wiz Khalifa",
           "See You Again (feat. Charlie Puth)"
          ],
          [
           "Justin Bieber",
           "What Do You Mean?"
          ],
          [
           "Major Lazer",
           "Lean On (feat. MØ & DJ Snake)"
          ],
          [
           "The Weeknd",
           "Earned It (Fifty Shades Of Grey) - From The \"Fifty Shades Of Grey\" Soundtrack"
          ],
          [
           "Ellie Goulding",
           "Love Me Like You Do - From \"Fifty Shades Of Grey\""
          ],
          [
           "Calvin Harris",
           "Outside (feat. Ellie Goulding)"
          ],
          [
           "David Guetta",
           "Hey Mama (feat. Nicki Minaj, Bebe Rexha & Afrojack)"
          ],
          [
           "Demi Lovato",
           "Cool for the Summer"
          ],
          [
           "Taylor Swift",
           "Blank Space"
          ],
          [
           "The Weeknd",
           "The Hills"
          ],
          [
           "The Neighbourhood",
           "Daddy Issues"
          ],
          [
           "Deorro",
           "Five More Hours"
          ],
          [
           "Avicii",
           "The Nights"
          ],
          [
           "DJ Snake",
           "You Know You Like It"
          ],
          [
           "Adam Lambert",
           "Ghost Town"
          ],
          [
           "Rae Sremmurd",
           "No Type"
          ],
          [
           "Taylor Swift",
           "Bad Blood"
          ],
          [
           "Flo Rida",
           "GDFR (feat. Sage the Gemini & Lookas)"
          ],
          [
           "Robin Schulz",
           "Sugar (feat. Francesco Yates)"
          ],
          [
           "Calvin Harris",
           "How Deep Is Your Love"
          ],
          [
           "Philip George",
           "Wish You Were Mine - Radio Edit"
          ],
          [
           "Trey Songz",
           "Na Na"
          ],
          [
           "Fall Out Boy",
           "Centuries"
          ],
          [
           "Rob $tone",
           "Chill Bill (feat. J. Davi$ & Spooks)"
          ],
          [
           "Lost Frequencies",
           "Are You With Me - Radio Edit"
          ],
          [
           "Twenty One Pilots",
           "Stressed Out"
          ],
          [
           "Fifth Harmony",
           "Worth It (feat. Kid Ink)"
          ],
          [
           "KALEO",
           "Way down We Go"
          ],
          [
           "Sam Smith",
           "Like I Can"
          ],
          [
           "Major Lazer",
           "Light It Up (feat. Nyla & Fuse ODG) - Remix"
          ],
          [
           "Martin Solveig",
           "Intoxicated - New Radio Mix"
          ],
          [
           "Avicii",
           "Waiting For Love"
          ],
          [
           "Felix Jaehn",
           "Ain't Nobody (Loves Me Better) (feat. Jasmine Thompson)"
          ],
          [
           "Taylor Swift",
           "Wildest Dreams"
          ],
          [
           "The Weeknd",
           "In The Night"
          ],
          [
           "Pitbull",
           "Time of Our Lives"
          ],
          [
           "Galantis",
           "Runaway (U & I)"
          ],
          [
           "Rihanna",
           "Bitch Better Have My Money"
          ],
          [
           "Zara Larsson",
           "Lush Life"
          ],
          [
           "One Direction",
           "Drag Me Down"
          ],
          [
           "Travis Scott",
           "Antidote"
          ],
          [
           "Years & Years",
           "King"
          ],
          [
           "Demi Lovato",
           "Confident"
          ],
          [
           "Lemaitre",
           "Closer"
          ],
          [
           "Selena Gomez",
           "Same Old Love"
          ],
          [
           "Pia Mia",
           "Do It Again"
          ],
          [
           "Flo Rida",
           "My House"
          ],
          [
           "Silentó",
           "Watch Me (Whip / Nae Nae)"
          ],
          [
           "Chris Brown",
           "Ayo"
          ],
          [
           "The Strumbellas",
           "Spirits"
          ],
          [
           "Fetty Wap",
           "Trap Queen"
          ],
          [
           "Tove Lo",
           "Talking Body"
          ],
          [
           "Beyoncé",
           "7/11"
          ],
          [
           "Lana Del Rey",
           "High By The Beach"
          ],
          [
           "Zara Larsson",
           "Never Forget You"
          ],
          [
           "Jeremih",
           "oui"
          ],
          [
           "Drake",
           "Hotline Bling"
          ],
          [
           "Selena Gomez",
           "Kill Em With Kindness"
          ],
          [
           "Birdy",
           "Let It All Go"
          ],
          [
           "Fetty Wap",
           "679 (feat. Remy Boyz)"
          ],
          [
           "Ariana Grande",
           "Love Me Harder"
          ],
          [
           "The Weeknd",
           "Can't Feel My Face"
          ],
          [
           "SAYGRACE",
           "You Don't Own Me (feat. G-Eazy)"
          ],
          [
           "X Ambassadors",
           "Renegades"
          ],
          [
           "R. City",
           "Locked Away (feat. Adam Levine)"
          ],
          [
           "Kygo",
           "Stole the Show"
          ],
          [
           "Tame Impala",
           "The Less I Know The Better"
          ],
          [
           "Selena Gomez",
           "Good For You"
          ],
          [
           "Fetty Wap",
           "My Way (feat. Monty)"
          ],
          [
           "Hozier",
           "Take Me To Church"
          ],
          [
           "Taylor Swift",
           "Style"
          ],
          [
           "Alessia Cara",
           "Here"
          ],
          [
           "Sam Smith",
           "Writing's On The Wall - From \"Spectre\" Soundtrack"
          ],
          [
           "David Guetta",
           "Bang My Head (feat. Sia & Fetty Wap)"
          ],
          [
           "Meek Mill",
           "All Eyes on You (feat. Chris Brown & Nicki Minaj)"
          ],
          [
           "Big Sean",
           "I Don't Fuck With You"
          ],
          [
           "Kygo",
           "Firestone"
          ],
          [
           "Drake",
           "Jumpman"
          ],
          [
           "Petit Biscuit",
           "Sunset Lover"
          ],
          [
           "Shawn Mendes",
           "Stitches"
          ],
          [
           "Flo Rida",
           "I Don't Like It, I Love It (feat. Robin Thicke & Verdine White)"
          ],
          [
           "Selena Gomez",
           "The Heart Wants What It Wants"
          ],
          [
           "Jack Ü",
           "Where Are Ü Now (with Justin Bieber)"
          ],
          [
           "Ellie Goulding",
           "On My Mind"
          ],
          [
           "Bryson Tiller",
           "Don't"
          ],
          [
           "Rich Homie Quan",
           "Flex (Ooh, Ooh, Ooh)"
          ],
          [
           "Joel Adams",
           "Please Don't Go"
          ],
          [
           "Zedd",
           "I Want You To Know"
          ],
          [
           "Jonas Blue",
           "Fast Car"
          ],
          [
           "BØRNS",
           "Electric Love"
          ],
          [
           "Sigala",
           "Easy Love"
          ],
          [
           "Justin Bieber",
           "Sorry"
          ],
          [
           "Ariana Grande",
           "One Last Time"
          ],
          [
           "Little Mix",
           "Black Magic"
          ],
          [
           "One Direction",
           "Perfect"
          ],
          [
           "Years & Years",
           "Shine"
          ],
          [
           "Meghan Trainor",
           "Lips Are Movin"
          ],
          [
           "Nicky Jam",
           "El Perdón - Forgiveness"
          ],
          [
           "The Weeknd",
           "Starboy"
          ],
          [
           "Drake",
           "One Dance"
          ],
          [
           "Justin Bieber",
           "Love Yourself"
          ],
          [
           "The Chainsmokers",
           "Closer"
          ],
          [
           "Adele",
           "Hello"
          ],
          [
           "Desiigner",
           "Panda"
          ],
          [
           "Burak Yeter",
           "Tuesday (feat. Danelle Sandoval)"
          ],
          [
           "Sia",
           "Cheap Thrills (feat. Sean Paul)"
          ],
          [
           "OneRepublic",
           "Wherever I Go"
          ],
          [
           "Rihanna",
           "Work"
          ],
          [
           "Coldplay",
           "Hymn for the Weekend"
          ],
          [
           "Justin Bieber",
           "Sorry"
          ],
          [
           "Justin Timberlake",
           "CAN'T STOP THE FEELING! (from DreamWorks Animation's \"TROLLS\")"
          ],
          [
           "WILLOW",
           "Wait a Minute!"
          ],
          [
           "Desiigner",
           "Tiimmy Turner"
          ],
          [
           "G-Eazy",
           "Me, Myself & I"
          ],
          [
           "David Guetta",
           "This One's for You (feat. Zara Larsson) (Official Song UEFA EURO 2016)"
          ],
          [
           "Astrid S",
           "Hurts So Good"
          ],
          [
           "Lil Wayne",
           "Sucker for Pain (with Wiz Khalifa, Imagine Dragons, Logic & Ty Dolla $ign feat. X Ambassadors)"
          ],
          [
           "Twenty One Pilots",
           "Heathens"
          ],
          [
           "Future",
           "Low Life (feat. The Weeknd)"
          ],
          [
           "Galantis",
           "No Money"
          ],
          [
           "The Chainsmokers",
           "Don't Let Me Down"
          ],
          [
           "Tinie Tempah",
           "Girls Like (feat. Zara Larsson)"
          ],
          [
           "Alok",
           "Hear Me Now"
          ],
          [
           "Jon Bellion",
           "All Time Low"
          ],
          [
           "Cheat Codes",
           "Sex"
          ],
          [
           "Meghan Trainor",
           "NO"
          ],
          [
           "Dua Lipa",
           "Hotter Than Hell"
          ],
          [
           "Martin Garrix",
           "In the Name of Love"
          ],
          [
           "Alan Walker",
           "Faded"
          ],
          [
           "Tove Lo",
           "Cool Girl"
          ],
          [
           "DJ Snake",
           "Let Me Love You"
          ],
          [
           "Calvin Harris",
           "This Is What You Came For (feat. Rihanna)"
          ],
          [
           "Mike Posner",
           "I Took A Pill In Ibiza - Seeb Remix"
          ],
          [
           "Kevin Gates",
           "2 Phones"
          ],
          [
           "Rihanna",
           "Needed Me"
          ],
          [
           "Ariana Grande",
           "Side To Side"
          ],
          [
           "Marshmello",
           "Alone"
          ],
          [
           "Shawn Mendes",
           "I Know What You Did Last Summer"
          ],
          [
           "Selena Gomez",
           "Same Old Love"
          ],
          [
           "Calvin Harris",
           "My Way"
          ],
          [
           "Fitz and The Tantrums",
           "HandClap"
          ],
          [
           "Twenty One Pilots",
           "Ride"
          ],
          [
           "Flo Rida",
           "My House"
          ],
          [
           "Ariana Grande",
           "Dangerous Woman"
          ],
          [
           "Anne-Marie",
           "Alarm"
          ],
          [
           "Charlie Puth",
           "We Don't Talk Anymore (feat. Selena Gomez)"
          ],
          [
           "AlunaGeorge",
           "I'm In Control"
          ],
          [
           "Enrique Iglesias",
           "DUELE EL CORAZON (feat. Wisin)"
          ],
          [
           "MNEK",
           "Never Forget You"
          ],
          [
           "Mike Perry",
           "The Ocean (feat. Shy Martin)"
          ],
          [
           "Drake",
           "Hotline Bling"
          ],
          [
           "Ariana Grande",
           "Into You"
          ],
          [
           "Shawn Mendes",
           "Treat You Better"
          ],
          [
           "Tory Lanez",
           "Say It"
          ],
          [
           "Coldplay",
           "Adventure of a Lifetime"
          ],
          [
           "Kungs",
           "This Girl - Kungs Vs. Cookin' On 3 Burners"
          ],
          [
           "SAYGRACE",
           "You Don't Own Me (feat. G-Eazy)"
          ],
          [
           "X Ambassadors",
           "Renegades"
          ],
          [
           "DNCE",
           "Cake By The Ocean"
          ],
          [
           "99 Souls",
           "The Girl Is Mine"
          ],
          [
           "Illy",
           "Papercuts (feat. Vera Blue)"
          ],
          [
           "Kiiara",
           "Gold"
          ],
          [
           "Kygo",
           "Stole the Show"
          ],
          [
           "Fifth Harmony",
           "Work from Home (feat. Ty Dolla $ign)"
          ],
          [
           "Drake",
           "Pop Style"
          ],
          [
           "ZAYN",
           "PILLOWTALK"
          ],
          [
           "Alessia Cara",
           "Here"
          ],
          [
           "DJ Snake",
           "Middle"
          ],
          [
           "Sigala",
           "Sweet Lovin' - Radio Edit"
          ],
          [
           "Drake",
           "Jumpman"
          ],
          [
           "Charlie Puth",
           "Dangerously"
          ],
          [
           "Nick Jonas",
           "Close"
          ],
          [
           "Jonas Blue",
           "Perfect Strangers"
          ],
          [
           "Major Lazer",
           "Cold Water (feat. Justin Bieber & MØ)"
          ],
          [
           "The Chainsmokers",
           "Roses"
          ],
          [
           "Tory Lanez",
           "LUV"
          ],
          [
           "P!nk",
           "Just Like Fire (From the Original Motion Picture \"Alice Through The Looking Glass\")"
          ],
          [
           "Bryson Tiller",
           "Don't"
          ],
          [
           "Steve Aoki",
           "Just Hold On"
          ],
          [
           "Clean Bandit",
           "Tears (feat. Louisa Johnson)"
          ],
          [
           "Jonas Blue",
           "Fast Car"
          ],
          [
           "Flume",
           "Never Be Like You"
          ],
          [
           "Bastille",
           "Good Grief"
          ],
          [
           "Sia",
           "The Greatest (feat. Kendrick Lamar)"
          ],
          [
           "PARTYNEXTDOOR",
           "Not Nice"
          ],
          [
           "Garrett Nash",
           "i hate u, i love u (feat. olivia o'brien)"
          ],
          [
           "Hilltop Hoods",
           "1955"
          ],
          [
           "Fifth Harmony",
           "All In My Head (Flex) (feat. Fetty Wap)"
          ],
          [
           "Daya",
           "Sit Still, Look Pretty"
          ],
          [
           "Kent Jones",
           "Don't Mind"
          ],
          [
           "Flume",
           "Say It"
          ],
          [
           "Bryson Tiller",
           "Exchange"
          ],
          [
           "MØ",
           "Final Song"
          ],
          [
           "Beyoncé",
           "Sorry"
          ],
          [
           "Little Mix",
           "Shout Out to My Ex"
          ],
          [
           "The Lumineers",
           "Ophelia"
          ],
          [
           "Frank Ocean",
           "Pink + White"
          ],
          [
           "Drake",
           "Too Good"
          ],
          [
           "Ed Sheeran",
           "Shape of You"
          ],
          [
           "Sean Paul",
           "No Lie"
          ],
          [
           "Luis Fonsi",
           "Despacito (Featuring Daddy Yankee)"
          ],
          [
           "Sam Smith",
           "Too Good At Goodbyes"
          ],
          [
           "Clean Bandit",
           "Rockabye (feat. Sean Paul & Anne-Marie)"
          ],
          [
           "Camila Cabello",
           "Havana (feat. Young Thug)"
          ],
          [
           "Imagine Dragons",
           "Thunder"
          ],
          [
           "Maroon 5",
           "Don't Wanna Know (feat. Kendrick Lamar)"
          ],
          [
           "The Chainsmokers",
           "Something Just Like This"
          ],
          [
           "Ed Sheeran",
           "Perfect"
          ],
          [
           "MGMT",
           "Little Dark Age"
          ],
          [
           "Travis Scott",
           "goosebumps"
          ],
          [
           "Billie Eilish",
           "Bored"
          ],
          [
           "Future",
           "Mask Off"
          ],
          [
           "G-Eazy",
           "Him & I"
          ],
          [
           "Maroon 5",
           "Cold (feat. Future)"
          ],
          [
           "Rae Sremmurd",
           "Swang"
          ],
          [
           "Lil Peep",
           "Save That Shit"
          ],
          [
           "A$AP Ferg",
           "Plain Jane"
          ],
          [
           "French Montana",
           "Unforgettable"
          ],
          [
           "21 Savage",
           "Bank Account"
          ],
          [
           "Axwell /\\ Ingrosso",
           "More Than You Know"
          ],
          [
           "ZAYN",
           "Dusk Till Dawn (feat. Sia) - Radio Edit"
          ],
          [
           "J Balvin",
           "Mi Gente"
          ],
          [
           "Jax Jones",
           "You Don't Know Me - Radio Edit"
          ],
          [
           "Rae Sremmurd",
           "Black Beatles"
          ],
          [
           "Zara Larsson",
           "Ain't My Fault"
          ],
          [
           "Travis Scott",
           "BUTTERFLY EFFECT"
          ],
          [
           "Ayo & Teo",
           "Rolex"
          ],
          [
           "Lil Uzi Vert",
           "XO Tour Llif3"
          ],
          [
           "Imagine Dragons",
           "Whatever It Takes"
          ],
          [
           "Rob $tone",
           "Chill Bill (feat. J. Davi$ & Spooks)"
          ],
          [
           "Jason Derulo",
           "Swalla (feat. Nicki Minaj & Ty Dolla $ign)"
          ],
          [
           "G-Eazy",
           "No Limit"
          ],
          [
           "Playboi Carti",
           "Magnolia"
          ],
          [
           "Chord Overstreet",
           "Hold On"
          ],
          [
           "Jax Jones",
           "Breathe"
          ],
          [
           "Imagine Dragons",
           "Believer"
          ],
          [
           "Natti Natasha",
           "Criminal"
          ],
          [
           "Kendrick Lamar",
           "HUMBLE."
          ],
          [
           "Selena Gomez",
           "Fetish (feat. Gucci Mane)"
          ],
          [
           "Charlie Puth",
           "Attention"
          ],
          [
           "Big Shaq",
           "Man's Not Hot"
          ],
          [
           "Anne-Marie",
           "Ciao Adios"
          ],
          [
           "Rag'n'Bone Man",
           "Human"
          ],
          [
           "blackbear",
           "do re mi"
          ],
          [
           "Lil Pump",
           "Gucci Gang"
          ],
          [
           "Taylor Swift",
           "Look What You Made Me Do"
          ],
          [
           "Enrique Iglesias",
           "SUBEME LA RADIO (feat. Descemer Bueno & Zion & Lennox)"
          ],
          [
           "Kodak Black",
           "Tunnel Vision"
          ],
          [
           "Kendrick Lamar",
           "DNA."
          ],
          [
           "A Boogie Wit da Hoodie",
           "Drowning (feat. Kodak Black)"
          ],
          [
           "XXXTENTACION",
           "Jocelyn Flores"
          ],
          [
           "Migos",
           "Bad and Boujee (feat. Lil Uzi Vert)"
          ],
          [
           "Yo Gotti",
           "Rake It Up (feat. Nicki Minaj)"
          ],
          [
           "Martin Garrix",
           "Scared to Be Lonely"
          ],
          [
           "Jonas Blue",
           "Mama"
          ],
          [
           "Martin Jensen",
           "Solo Dance"
          ],
          [
           "Taylor Swift",
           "...Ready For It?"
          ],
          [
           "David Guetta",
           "2U (feat. Justin Bieber)"
          ],
          [
           "Migos",
           "Slippery (feat. Gucci Mane)"
          ],
          [
           "Shawn Mendes",
           "There's Nothing Holdin' Me Back"
          ],
          [
           "G-Eazy",
           "Good Life (with G-Eazy & Kehlani)"
          ],
          [
           "The Vamps",
           "All Night"
          ],
          [
           "Dua Lipa",
           "New Rules"
          ],
          [
           "Cardi B",
           "Bodak Yellow"
          ],
          [
           "Rag'n'Bone Man",
           "Skin"
          ],
          [
           "Zara Larsson",
           "I Would Like"
          ],
          [
           "DJ Khaled",
           "Wild Thoughts (feat. Rihanna & Bryson Tiller)"
          ],
          [
           "Post Malone",
           "Congratulations"
          ],
          [
           "Avicii",
           "Without You (feat. Sandro Cavazza)"
          ],
          [
           "Clean Bandit",
           "Symphony (feat. Zara Larsson)"
          ],
          [
           "Katy Perry",
           "Chained To The Rhythm"
          ],
          [
           "Zay Hilfigerrr",
           "Juju on That Beat (TZ Anthem)"
          ],
          [
           "Calvin Harris",
           "Feels (feat. Pharrell Williams, Katy Perry & Big Sean)"
          ],
          [
           "Migos",
           "T-Shirt"
          ],
          [
           "OneRepublic",
           "Rich Love (with Seeb)"
          ],
          [
           "Maggie Lindemann",
           "Pretty Girl - Cheat Codes X CADE Remix"
          ],
          [
           "Macklemore",
           "Glorious (feat. Skylar Grey)"
          ],
          [
           "Hayden James",
           "NUMB"
          ],
          [
           "Liam Payne",
           "Strip That Down"
          ],
          [
           "Drake",
           "Passionfruit"
          ],
          [
           "Justin Bieber",
           "Friends (with BloodPop®)"
          ],
          [
           "ZAYN",
           "I Don’t Wanna Live Forever (Fifty Shades Darker) - From \"Fifty Shades Darker (Original Motion Picture Soundtrack)\""
          ],
          [
           "Alessia Cara",
           "Scars To Your Beautiful"
          ],
          [
           "2 Chainz",
           "It's A Vibe"
          ],
          [
           "Starley",
           "Call on Me - Ryan Riback Remix"
          ],
          [
           "AJR",
           "Weak"
          ],
          [
           "Lana Del Rey",
           "Lust for Life (with The Weeknd)"
          ],
          [
           "CNCO",
           "Reggaetón Lento (Remix)"
          ],
          [
           "The Vamps",
           "Middle Of The Night"
          ],
          [
           "The Weeknd",
           "I Feel It Coming"
          ],
          [
           "The Chainsmokers",
           "Paris"
          ],
          [
           "Big Sean",
           "Bounce Back"
          ],
          [
           "Shawn Mendes",
           "Mercy"
          ],
          [
           "Avicii",
           "Lonely Together (feat. Rita Ora)"
          ],
          [
           "Cheat Codes",
           "No Promises (feat. Demi Lovato)"
          ],
          [
           "Bruno Mars",
           "24K Magic"
          ],
          [
           "Lorde",
           "Homemade Dynamite - REMIX"
          ],
          [
           "Kygo",
           "It Ain't Me (with Selena Gomez)"
          ],
          [
           "Drake",
           "God's Plan"
          ],
          [
           "Post Malone",
           "rockstar (feat. 21 Savage)"
          ],
          [
           "Offset",
           "Ric Flair Drip (with Metro Boomin)"
          ],
          [
           "G-Eazy",
           "Him & I (with Halsey)"
          ],
          [
           "Dynoro",
           "In My Mind"
          ],
          [
           "Juice WRLD",
           "Lucid Dreams"
          ],
          [
           "Zedd",
           "The Middle"
          ],
          [
           "Marshmello",
           "FRIENDS"
          ],
          [
           "Cardi B",
           "I Like It"
          ],
          [
           "XXXTENTACION",
           "Moonlight"
          ],
          [
           "Ariana Grande",
           "no tears left to cry"
          ],
          [
           "Sheck Wes",
           "Mo Bamba"
          ],
          [
           "Calvin Harris",
           "One Kiss (with Dua Lipa)"
          ],
          [
           "Tyga",
           "Taste (feat. Offset)"
          ],
          [
           "Travis Scott",
           "SICKO MODE"
          ],
          [
           "Imagine Dragons",
           "Natural"
          ],
          [
           "DJ Snake",
           "Taki Taki (with Selena Gomez, Ozuna & Cardi B)"
          ],
          [
           "Marshmello",
           "Spotlight"
          ],
          [
           "The Weeknd",
           "Pray For Me (with Kendrick Lamar)"
          ],
          [
           "Billie Eilish",
           "lovely (with Khalid)"
          ],
          [
           "Migos",
           "Walk It Talk It"
          ],
          [
           "Clean Bandit",
           "Solo (feat. Demi Lovato)"
          ],
          [
           "Drake",
           "Nonstop"
          ],
          [
           "6ix9ine",
           "FEFE"
          ],
          [
           "The Weeknd",
           "Call Out My Name"
          ],
          [
           "Nio Garcia",
           "Te Boté - Remix"
          ],
          [
           "Migos",
           "MotorSport"
          ],
          [
           "Nicky Jam",
           "X"
          ],
          [
           "XXXTENTACION",
           "SAD!"
          ],
          [
           "Becky G",
           "Sin Pijama"
          ],
          [
           "Machine Gun Kelly",
           "Home (with Machine Gun Kelly, X Ambassadors & Bebe Rexha)"
          ],
          [
           "6ix9ine",
           "GUMMO"
          ],
          [
           "Jax Jones",
           "Breathe"
          ],
          [
           "The Chainsmokers",
           "Sick Boy"
          ],
          [
           "Jay Rock",
           "King's Dead (with Kendrick Lamar, Future & James Blake)"
          ],
          [
           "Rich The Kid",
           "Plug Walk"
          ],
          [
           "Kendrick Lamar",
           "All The Stars (with SZA)"
          ],
          [
           "Logic",
           "Everyday"
          ],
          [
           "Jason Derulo",
           "Tip Toe (feat. French Montana)"
          ],
          [
           "Ariana Grande",
           "God is a woman"
          ],
          [
           "Rae Sremmurd",
           "Powerglide (feat. Juicy J) - From SR3MM"
          ],
          [
           "EO",
           "German"
          ],
          [
           "Dennis Lloyd",
           "Nevermind"
          ],
          [
           "girl in red",
           "we fell in love in october"
          ],
          [
           "Selena Gomez",
           "Wolves"
          ],
          [
           "Tiësto",
           "Jackie Chan"
          ],
          [
           "Tom Walker",
           "Leave a Light On"
          ],
          [
           "Sofía Reyes",
           "1, 2, 3 (feat. Jason Derulo & De La Ghetto)"
          ],
          [
           "Marshmello",
           "Silence"
          ],
          [
           "5 Seconds of Summer",
           "Youngblood"
          ],
          [
           "Loud Luxury",
           "Body (feat. brando)"
          ],
          [
           "Liam Payne",
           "For You (Fifty Shades Freed) (& Rita Ora)"
          ],
          [
           "NF",
           "Let You Down"
          ],
          [
           "XXXTENTACION",
           "changes"
          ],
          [
           "Maluma",
           "Corazón (feat. Nego do Borel)"
          ],
          [
           "Cardi B",
           "Bodak Yellow"
          ],
          [
           "Lil Baby",
           "Yes Indeed"
          ],
          [
           "Jonas Blue",
           "Rise"
          ],
          [
           "David Guetta",
           "Flames"
          ],
          [
           "Ozuna",
           "Vaina Loca"
          ],
          [
           "Charlie Puth",
           "How Long"
          ],
          [
           "Post Malone",
           "Better Now"
          ],
          [
           "BlocBoy JB",
           "Look Alive (feat. Drake)"
          ],
          [
           "Eminem",
           "River (feat. Ed Sheeran)"
          ],
          [
           "Marshmello",
           "Happier"
          ],
          [
           "Dean Lewis",
           "Be Alright"
          ],
          [
           "Charlie Puth",
           "Done for Me (feat. Kehlani)"
          ],
          [
           "Migos",
           "Stir Fry"
          ],
          [
           "YG",
           "BIG BANK (feat. 2 Chainz, Big Sean, Nicki Minaj)"
          ],
          [
           "Drake",
           "In My Feelings"
          ],
          [
           "B Young",
           "Jumanji"
          ],
          [
           "Charlie Puth",
           "The Way I Am"
          ],
          [
           "Reik",
           "Me Niego (feat. Ozuna & Wisin)"
          ],
          [
           "benny blanco",
           "Eastside (with Halsey & Khalid)"
          ],
          [
           "Luis Fonsi",
           "Échame La Culpa"
          ],
          [
           "MK",
           "17"
          ],
          [
           "Rita Ora",
           "Anywhere"
          ],
          [
           "Banx & Ranx",
           "Answerphone (feat. Yxng Bane)"
          ],
          [
           "Ella Mai",
           "Trip"
          ],
          [
           "Daddy Yankee",
           "Dura"
          ],
          [
           "DJ Khaled",
           "No Brainer"
          ],
          [
           "Anne-Marie",
           "2002"
          ],
          [
           "Bruno Mars",
           "Finesse - Remix; feat. Cardi B"
          ],
          [
           "FINNEAS",
           "Let's Fall in Love for the Night"
          ],
          [
           "Hugh Jackman",
           "The Greatest Show"
          ],
          [
           "Halsey",
           "Bad At Love"
          ],
          [
           "Drake",
           "I'm Upset"
          ],
          [
           "Camila Cabello",
           "Never Be the Same"
          ],
          [
           "M.O",
           "Bad Vibe"
          ],
          [
           "Dua Lipa",
           "IDGAF"
          ],
          [
           "Cashmere Cat",
           "Miss You (with Major Lazer & Tory Lanez)"
          ],
          [
           "Bazzi",
           "Mine"
          ],
          [
           "Lil Dicky",
           "Freaky Friday (feat. Chris Brown)"
          ],
          [
           "Lauv",
           "I Like Me Better"
          ],
          [
           "The Chainsmokers",
           "This Feeling"
          ],
          [
           "Maroon 5",
           "Girls Like You (feat. Cardi B) - Cardi B Version"
          ],
          [
           "Khalid",
           "Love Lies (with Normani)"
          ],
          [
           "Drake",
           "Nice For What"
          ],
          [
           "Kendrick Lamar",
           "LOVE. FEAT. ZACARI."
          ],
          [
           "Post Malone",
           "Psycho (feat. Ty Dolla $ign)"
          ],
          [
           "Lil Nas X",
           "Old Town Road - Remix"
          ],
          [
           "Billie Eilish",
           "bad guy"
          ],
          [
           "Shawn Mendes",
           "Señorita"
          ],
          [
           "Ariana Grande",
           "7 rings"
          ],
          [
           "Post Malone",
           "Sunflower - Spider-Man: Into the Spider-Verse"
          ],
          [
           "Gesaffelstein",
           "Lost in the Fire (feat. The Weeknd)"
          ],
          [
           "Halsey",
           "Without Me"
          ],
          [
           "Regard",
           "Ride It"
          ],
          [
           "Lady Gaga",
           "Shallow"
          ],
          [
           "Mark Ronson",
           "Nothing Breaks Like a Heart (feat. Miley Cyrus)"
          ],
          [
           "Lewis Capaldi",
           "Someone You Loved"
          ],
          [
           "Jax Jones",
           "All Day And Night"
          ],
          [
           "Mustard",
           "Pure Water (with Migos)"
          ],
          [
           "NLE Choppa",
           "Shotta Flow (feat. Blueface) [Remix]"
          ],
          [
           "Kodak Black",
           "ZEZE (feat. Travis Scott & Offset)"
          ],
          [
           "Daddy Yankee",
           "Con Calma"
          ],
          [
           "Alec Benjamin",
           "Let Me Down Slowly"
          ],
          [
           "BLACKPINK",
           "Kill This Love"
          ],
          [
           "Offset",
           "Clout (feat. Cardi B)"
          ],
          [
           "MEDUZA",
           "Piece Of Your Heart"
          ],
          [
           "Ed Sheeran",
           "Antisocial (with Travis Scott)"
          ],
          [
           "Travis Scott",
           "SICKO MODE"
          ],
          [
           "Mabel",
           "Mad Love"
          ],
          [
           "Lana Del Rey",
           "Doin' Time"
          ],
          [
           "DJ Snake",
           "Taki Taki (feat. Selena Gomez, Ozuna & Cardi B)"
          ],
          [
           "A Boogie Wit da Hoodie",
           "Look Back at It"
          ],
          [
           "Saweetie",
           "My Type"
          ],
          [
           "Lil Tecca",
           "Ransom"
          ],
          [
           "Russ Millions",
           "Keisha & Becky - Remix"
          ],
          [
           "Billie Eilish",
           "lovely (with Khalid)"
          ],
          [
           "Mabel",
           "Don't Call Me Up"
          ],
          [
           "Lil Nas X",
           "Old Town Road"
          ],
          [
           "Meek Mill",
           "Going Bad (feat. Drake)"
          ],
          [
           "Post Malone",
           "Wow."
          ],
          [
           "Doja Cat",
           "Juicy"
          ],
          [
           "A Boogie Wit da Hoodie",
           "Swervin (feat. 6ix9ine)"
          ],
          [
           "iann dior",
           "emotions"
          ],
          [
           "Paulo Londra",
           "Adan y Eva"
          ],
          [
           "Drake",
           "Money In The Grave (Drake ft. Rick Ross)"
          ],
          [
           "Lil Nas X",
           "Panini"
          ],
          [
           "Bad Bunny",
           "MIA (feat. Drake)"
          ],
          [
           "Polo G",
           "Pop Out (feat. Lil Tjay)"
          ],
          [
           "Juice WRLD",
           "Robbery"
          ],
          [
           "21 Savage",
           "a lot"
          ],
          [
           "Young Thug",
           "The London (feat. J. Cole & Travis Scott)"
          ],
          [
           "Anuel AA",
           "China"
          ],
          [
           "Camila Cabello",
           "Liar"
          ],
          [
           "Flipp Dinero",
           "Leave Me Alone"
          ],
          [
           "Cardi B",
           "Money"
          ],
          [
           "Ariana Grande",
           "break up with your girlfriend, i'm bored"
          ],
          [
           "Dave",
           "Location (feat. Burna Boy)"
          ],
          [
           "Ava Max",
           "Sweet but Psycho"
          ],
          [
           "Dua Lipa",
           "Don't Start Now"
          ],
          [
           "Young T & Bugsey",
           "Strike a Pose (feat. Aitch)"
          ],
          [
           "Calvin Harris",
           "Giant (with Rag'n'Bone Man)"
          ],
          [
           "Ed Sheeran",
           "Take Me Back to London (feat. Stormzy)"
          ],
          [
           "Cardi B",
           "Please Me"
          ],
          [
           "Stormzy",
           "Vossi Bop"
          ],
          [
           "Tones And I",
           "Dance Monkey"
          ],
          [
           "Ariana Grande",
           "boyfriend (with Social House)"
          ],
          [
           "Bad Bunny",
           "Callaita"
          ],
          [
           "Ava Max",
           "So Am I"
          ],
          [
           "Pedro Capó",
           "Calma - Remix"
          ],
          [
           "J. Cole",
           "MIDDLE CHILD"
          ],
          [
           "Lunay",
           "Soltera - Remix"
          ],
          [
           "Khalid",
           "Better"
          ],
          [
           "Blueface",
           "Thotiana"
          ],
          [
           "DaBaby",
           "Suge"
          ],
          [
           "AJ Tracey",
           "Ladbroke Grove"
          ],
          [
           "Billie Eilish",
           "bury a friend"
          ],
          [
           "BTS",
           "Boy With Luv (feat. Halsey)"
          ],
          [
           "Wiley",
           "Boasty (feat. Idris Elba)"
          ],
          [
           "Jonas Brothers",
           "Only Human"
          ],
          [
           "5 Seconds of Summer",
           "Easier"
          ],
          [
           "Avicii",
           "SOS (feat. Aloe Blacc)"
          ],
          [
           "Tyler, The Creator",
           "EARFQUAKE"
          ],
          [
           "Ashley O",
           "On A Roll"
          ],
          [
           "Dominic Fike",
           "3 Nights"
          ],
          [
           "Sigala",
           "Wish You Well"
          ],
          [
           "Megan Thee Stallion",
           "Hot Girl Summer (feat. Nicki Minaj & Ty Dolla $ign)"
          ],
          [
           "Anuel AA",
           "Secreto"
          ],
          [
           "Sam Feldt",
           "Post Malone (feat. RANI)"
          ],
          [
           "Kehlani",
           "Nights Like This (feat. Ty Dolla $ign)"
          ],
          [
           "Sech",
           "Otro Trago"
          ],
          [
           "Post Malone",
           "Better Now"
          ],
          [
           "Ed Sheeran",
           "Cross Me (feat. Chance the Rapper & PnB Rock)"
          ],
          [
           "Lauv",
           "i'm so tired..."
          ],
          [
           "iann dior",
           "gone girl"
          ],
          [
           "Panic! At The Disco",
           "High Hopes"
          ],
          [
           "Marshmello",
           "One Thing Right"
          ],
          [
           "Sam Smith",
           "How Do You Sleep?"
          ],
          [
           "Normani",
           "Motivation"
          ],
          [
           "Joel Corry",
           "Sorry"
          ],
          [
           "Post Malone",
           "Goodbyes (Feat. Young Thug)"
          ],
          [
           "Jonas Brothers",
           "Sucker"
          ],
          [
           "Taylor Swift",
           "Cruel Summer"
          ],
          [
           "Blanco Brown",
           "The Git Up"
          ],
          [
           "Sam Smith",
           "Dancing With A Stranger (with Normani)"
          ],
          [
           "Post Malone",
           "Circles"
          ]
         ],
         "hovertemplate": "duration_min=%{x}<br>popularity=%{y}<br>artist=%{customdata[0]}<br>song=%{customdata[1]}<extra></extra>",
         "legendgroup": "",
         "marker": {
          "color": "#636efa",
          "symbol": "circle"
         },
         "mode": "markers",
         "name": "",
         "showlegend": false,
         "type": "scattergl",
         "x": [
          3.52,
          3.74,
          3.34,
          4.74,
          4.31,
          5.12,
          3.98,
          5.11,
          4.73,
          3.58,
          3.61,
          4.01,
          4.07,
          5.35,
          3.76,
          3.69,
          5.3,
          3.51,
          3.67,
          3.77,
          4.04,
          3.46,
          3.83,
          4.26,
          4.37,
          2.93,
          3.37,
          3.95,
          3.31,
          4.06,
          4.42,
          4.68,
          4.07,
          3.8,
          3.31,
          3.59,
          4.64,
          3.65,
          4.98,
          3.32,
          4.29,
          4.56,
          4.18,
          3.92,
          4.06,
          3.38,
          3.58,
          3.91,
          3.9,
          3.78,
          4.28,
          3.95,
          3.86,
          4.48,
          3.69,
          3.18,
          5.81,
          4.27,
          3.65,
          3.83,
          3.46,
          4.94,
          3.44,
          4.78,
          3.79,
          4.23,
          6.74,
          3.84,
          4.41,
          4.05,
          3.27,
          2.76,
          4.33,
          4.24,
          4.18,
          3.39,
          3.3,
          4.22,
          4.43,
          3.71,
          3.56,
          3.68,
          4.23,
          4.02,
          4.42,
          3.73,
          3.23,
          5.63,
          3.84,
          4.1,
          4.53,
          3.73,
          5.34,
          4.51,
          3.56,
          3.82,
          3.55,
          4.27,
          3.52,
          3.52,
          4.21,
          3.85,
          7.55,
          5.68,
          4.44,
          4.76,
          5.44,
          3.69,
          4.92,
          4.74,
          3.22,
          3.64,
          3.55,
          3.49,
          3.72,
          5.08,
          3.51,
          4.68,
          3.46,
          3.26,
          3.88,
          3.3,
          3.89,
          4.29,
          4.6,
          3.91,
          3.46,
          4.11,
          3.36,
          3.64,
          3.7,
          3.55,
          3.47,
          3.29,
          4.93,
          3.86,
          2.71,
          3.85,
          5.5,
          3.08,
          4.28,
          3.69,
          3.62,
          4.37,
          5.08,
          5.05,
          5.05,
          3.62,
          5.02,
          3.65,
          4.86,
          4.24,
          3.81,
          4.01,
          3.28,
          4.29,
          4.38,
          4.41,
          4.39,
          4.43,
          4.87,
          3.61,
          4.82,
          4.84,
          4.08,
          3.96,
          3.48,
          3.73,
          5.05,
          3.77,
          5.41,
          4.96,
          4.76,
          3.71,
          4.61,
          2.87,
          4.07,
          3.61,
          3.57,
          4.58,
          3.41,
          3.94,
          3.34,
          4.22,
          3.34,
          3.31,
          3.9,
          4.82,
          3.84,
          4.15,
          3.45,
          3.98,
          4.33,
          3.47,
          3.99,
          4.54,
          3.71,
          3.96,
          3.46,
          3.8,
          3.8,
          4.98,
          3.72,
          3.26,
          7.2,
          4.45,
          3.96,
          4.04,
          4.78,
          4.48,
          4.24,
          3.8,
          4.45,
          5.3,
          3.97,
          4.41,
          3.89,
          4.48,
          3.36,
          3.45,
          4.43,
          3.83,
          4.73,
          4.61,
          3.44,
          4.96,
          4.37,
          4.19,
          3.21,
          5.06,
          2.69,
          5.13,
          4.39,
          3.57,
          5.59,
          4.91,
          4.09,
          3.79,
          3.4,
          3.89,
          3.85,
          3.41,
          3.62,
          3.53,
          3.43,
          4.23,
          2.84,
          4.49,
          4.49,
          4.03,
          3.97,
          3.61,
          4.94,
          3.14,
          4.48,
          3.63,
          4.28,
          3.48,
          5.07,
          3.78,
          4.92,
          3.51,
          3.22,
          3.53,
          5.37,
          3.94,
          3.76,
          4.54,
          3.13,
          4.94,
          4.76,
          5.41,
          4.08,
          3.98,
          3.43,
          4.16,
          3.59,
          2.71,
          3.63,
          3.93,
          3.64,
          4.79,
          3.86,
          5.41,
          4.71,
          3.98,
          4.09,
          3.73,
          3.5,
          4.14,
          4.45,
          3.87,
          4.98,
          4.08,
          6,
          4.25,
          3.46,
          3.71,
          4.97,
          4.76,
          3.32,
          3.08,
          3.69,
          4.89,
          3.54,
          2.74,
          4.5,
          3.96,
          3.66,
          3.94,
          4.18,
          5.66,
          3.91,
          3.49,
          3.74,
          5.07,
          3.91,
          3.67,
          3.37,
          4.1,
          4.09,
          4.99,
          4.47,
          4.06,
          3.58,
          3.47,
          3.56,
          4.23,
          4.34,
          4.91,
          4.81,
          3.32,
          3.77,
          3.65,
          4.69,
          5.13,
          4.15,
          4.39,
          3.49,
          3.03,
          4.9,
          3.88,
          4.1,
          4.24,
          4.05,
          4,
          4.47,
          5.24,
          3.73,
          3.58,
          4.64,
          3.81,
          3.9,
          4.93,
          3.36,
          4.28,
          3.17,
          3.37,
          3.66,
          3.72,
          3.58,
          4.17,
          3.44,
          3.31,
          3.92,
          3.88,
          4.29,
          3.21,
          3.63,
          3.59,
          4.12,
          3.69,
          3.11,
          4.3,
          3.94,
          3.48,
          3.09,
          3.12,
          3.92,
          4.98,
          3.17,
          4.29,
          4.03,
          2.86,
          3.72,
          3.44,
          4.46,
          3.43,
          4.43,
          3.56,
          3.87,
          3.98,
          3.92,
          4.09,
          3.61,
          3.54,
          3.89,
          3.58,
          4.21,
          3.72,
          3.04,
          3.28,
          4.05,
          3.29,
          4.39,
          4.14,
          3.96,
          4.43,
          4.56,
          3.45,
          4.16,
          4.71,
          3.2,
          4.61,
          3.61,
          3.7,
          3.35,
          3.89,
          3.56,
          3.84,
          3.23,
          3.95,
          4.12,
          4.42,
          3.75,
          3.23,
          4.38,
          5.61,
          3.82,
          3.77,
          3.37,
          5.27,
          2.94,
          3.75,
          4.43,
          4.74,
          3.69,
          3.09,
          4.85,
          4.04,
          4,
          3.75,
          5.02,
          3.98,
          3.73,
          3.77,
          4.21,
          3.72,
          4.63,
          2.86,
          4.24,
          4.14,
          3.9,
          3.42,
          3.2,
          4.95,
          3.16,
          3.62,
          3.58,
          6.11,
          3.36,
          4.28,
          3.46,
          4.12,
          3.49,
          3.49,
          4.35,
          4.53,
          3.89,
          3.97,
          5.63,
          3.96,
          2.81,
          4.42,
          3.55,
          3.94,
          6.56,
          3.84,
          3.57,
          3.93,
          3.83,
          3.39,
          5.45,
          4.27,
          4.13,
          3.67,
          3.76,
          3.43,
          3.44,
          3.71,
          4,
          3.93,
          3.33,
          3.63,
          4.67,
          4.18,
          3.55,
          4.08,
          3.95,
          4.61,
          3.84,
          4.72,
          3.74,
          3.78,
          3.78,
          3.83,
          4.31,
          3.99,
          3.96,
          3.89,
          4.43,
          3.52,
          5.43,
          3.37,
          3.98,
          4.51,
          3.58,
          3.71,
          3.33,
          4,
          3.86,
          4.27,
          3.97,
          4.07,
          3.29,
          4.34,
          3.9,
          2.99,
          3.43,
          3.63,
          3.32,
          3.65,
          4.02,
          5.63,
          3.47,
          2.89,
          3.66,
          4.14,
          3.89,
          3.74,
          3.66,
          4.05,
          4.32,
          3.85,
          4.09,
          3.46,
          3.4,
          4.96,
          4.95,
          4.23,
          4.8,
          3.36,
          3.74,
          3.15,
          5.08,
          3.23,
          3.8,
          3.16,
          4.26,
          3.63,
          3.64,
          4.05,
          3.8,
          3.58,
          3.98,
          2.96,
          3.58,
          4.31,
          4.09,
          4.61,
          4.7,
          5.05,
          3.55,
          4.04,
          2.51,
          4.06,
          3.76,
          4.36,
          4.57,
          3.77,
          3.54,
          3.11,
          3.49,
          3.2,
          3.38,
          3.82,
          4.57,
          3.17,
          4.77,
          4.03,
          3.72,
          4.6,
          3.66,
          4.52,
          3.37,
          4.02,
          3.32,
          3.74,
          3.9,
          4,
          3.29,
          4.69,
          4.57,
          3.46,
          3.16,
          4.11,
          3.36,
          3.78,
          3.94,
          3.83,
          3.58,
          3.9,
          3.97,
          3,
          4.29,
          4.57,
          3.84,
          4.08,
          3.46,
          3.37,
          4.61,
          3.52,
          4.26,
          3.28,
          3.68,
          3.73,
          4.34,
          4.21,
          4.28,
          3.57,
          4.7,
          4.81,
          3.45,
          4.35,
          3.59,
          3.59,
          3.86,
          3.46,
          3.09,
          4.31,
          3.82,
          3.65,
          3.1,
          2.79,
          4.42,
          2.87,
          4.32,
          4.16,
          3.55,
          4.56,
          4.38,
          2.53,
          5.19,
          3.71,
          3.23,
          3.5,
          3.82,
          3.47,
          3.39,
          4.37,
          4.6,
          4.19,
          4.47,
          3.66,
          3.88,
          7.48,
          4.11,
          2.99,
          3.72,
          2.53,
          3.72,
          3.5,
          3.54,
          3.9,
          4.13,
          3.31,
          2.51,
          3.95,
          5.2,
          3.33,
          3.95,
          4.12,
          3.7,
          4.12,
          3.57,
          3.54,
          3.49,
          4.53,
          2.54,
          3.43,
          4.26,
          4.18,
          4.22,
          3.47,
          4.22,
          4.23,
          4.23,
          3.23,
          3.37,
          2.88,
          4.6,
          4.11,
          2.77,
          2.7,
          5.56,
          3.54,
          3.61,
          4.45,
          3.59,
          2.88,
          4.55,
          2.75,
          3.98,
          5.42,
          4.87,
          4.27,
          4.04,
          4.2,
          3.39,
          7.41,
          3.05,
          4.02,
          3.97,
          4.46,
          3.66,
          2.98,
          4.25,
          3.52,
          3.53,
          3.53,
          3.73,
          4.35,
          4.49,
          4.26,
          3.4,
          3.88,
          3.97,
          3.93,
          3.2,
          3.13,
          3.24,
          3.76,
          4.88,
          4.67,
          3.33,
          4.93,
          3.8,
          4.79,
          4.01,
          4.4,
          3.92,
          3.93,
          4.36,
          4.02,
          3.44,
          3.96,
          4.59,
          5.58,
          4.68,
          3.86,
          2.99,
          3.82,
          4.23,
          3.07,
          3.87,
          4.2,
          4.15,
          4.1,
          3.6,
          3.5,
          3.98,
          3.17,
          3.27,
          4.99,
          2.47,
          3.96,
          3.16,
          3.67,
          4.45,
          4.09,
          4.01,
          3.74,
          2.62,
          3.47,
          5.35,
          4.8,
          4.09,
          5.46,
          3.7,
          3.54,
          5.65,
          3.91,
          3.7,
          4.05,
          3.17,
          2.94,
          4.18,
          3.47,
          3.51,
          3.4,
          3.37,
          4.37,
          3.14,
          3.64,
          3.94,
          3.39,
          2.96,
          3.39,
          4.75,
          3.71,
          5.22,
          5.35,
          4.07,
          3.59,
          4.51,
          3.61,
          3.42,
          4.03,
          3.18,
          3.41,
          5.05,
          2.85,
          4.08,
          3.71,
          4.46,
          2.84,
          4.33,
          3.54,
          3.46,
          5.18,
          4.01,
          4.17,
          5.25,
          3,
          4.16,
          3.44,
          3.73,
          3.63,
          4.04,
          3.42,
          4.04,
          3.39,
          3.45,
          3.67,
          3.56,
          3.67,
          3.43,
          3.89,
          3.71,
          3.4,
          4.17,
          4.74,
          2.92,
          4.82,
          4.64,
          3.51,
          3.9,
          4.01,
          4.56,
          4.82,
          3.95,
          4.36,
          3.26,
          3.41,
          3.94,
          3.98,
          3.21,
          3.61,
          2.97,
          3.6,
          4.74,
          3.52,
          3.69,
          4.03,
          3.61,
          3.95,
          4.04,
          3.47,
          4.27,
          4.19,
          3.15,
          3.47,
          4.62,
          3.97,
          3.78,
          3.45,
          4.48,
          3.85,
          4.46,
          4.91,
          5.65,
          4.49,
          2.96,
          3.67,
          3.79,
          3.44,
          2.13,
          3.54,
          4.13,
          3.18,
          3.72,
          3.22,
          4.96,
          4.19,
          3.55,
          3.28,
          3.28,
          3.21,
          3.71,
          3.64,
          5.22,
          3.44,
          4.15,
          5.96,
          3.38,
          4.51,
          4.26,
          3.86,
          3.69,
          3.35,
          5,
          4,
          3.31,
          3.27,
          4.15,
          3.43,
          4.2,
          3.52,
          3.6,
          4.83,
          4.14,
          5.08,
          4.21,
          4.17,
          4.16,
          3.68,
          3.22,
          3.78,
          3.7,
          3.74,
          3.26,
          3.4,
          4.28,
          3.45,
          3.39,
          4.31,
          4.69,
          3.37,
          4.03,
          4.24,
          5.35,
          5.44,
          3.85,
          3.7,
          4.03,
          3.32,
          3.52,
          4.09,
          4.03,
          3.68,
          4.39,
          4.91,
          3.43,
          3.33,
          3.51,
          3.38,
          3.92,
          3.91,
          3.59,
          3.62,
          3.61,
          3.13,
          3.28,
          3.57,
          3.47,
          3.87,
          3.21,
          3.08,
          3.36,
          4.29,
          5.34,
          4.14,
          4.57,
          3.72,
          4.19,
          3.38,
          5.13,
          3.64,
          2.72,
          4.61,
          3.68,
          3.04,
          3.91,
          3.37,
          4.4,
          3.46,
          3.63,
          2.8,
          3.55,
          3.68,
          2.62,
          4.18,
          4.47,
          3.79,
          4.03,
          4.88,
          3.86,
          3.4,
          4.49,
          3.6,
          3.54,
          4.45,
          3.21,
          3.57,
          3.96,
          3.44,
          3.68,
          3.36,
          2.87,
          3.88,
          3.32,
          4.05,
          3.01,
          3.62,
          3.96,
          4.39,
          3.78,
          4.82,
          3.46,
          3.69,
          3.89,
          3.03,
          3.48,
          3.46,
          3.51,
          3.73,
          4.53,
          3.42,
          3.12,
          2.94,
          3.48,
          3.6,
          3.16,
          4.23,
          4.8,
          4.47,
          3.8,
          3.51,
          3.52,
          3.81,
          3.61,
          3.94,
          4.88,
          3.54,
          3.54,
          3.77,
          4.81,
          3.71,
          3.27,
          3.8,
          3.36,
          4.37,
          3.8,
          3.7,
          3.91,
          3.25,
          3.35,
          4.75,
          4.06,
          3.67,
          3.27,
          3.13,
          3.67,
          3.26,
          3.66,
          3.25,
          4.69,
          4.21,
          3.14,
          3.63,
          3.83,
          3.5,
          3.52,
          3.08,
          3.87,
          3.81,
          3.59,
          3.37,
          3.32,
          3.59,
          3.25,
          3.45,
          4.4,
          3.18,
          4.07,
          3.97,
          4.58,
          3.43,
          4.65,
          3.85,
          4.05,
          4.73,
          4.14,
          4.94,
          3.71,
          3.52,
          3.3,
          3.41,
          3.84,
          3.59,
          3.29,
          3.74,
          4.03,
          3.56,
          4.99,
          3.26,
          3.98,
          4.39,
          3.76,
          3.68,
          3.93,
          3.89,
          3.95,
          3.26,
          3.11,
          4.34,
          3.33,
          2.77,
          3.7,
          3.47,
          3.99,
          3.93,
          3.72,
          3.82,
          3.8,
          4.22,
          5.06,
          3.15,
          3.99,
          3.82,
          3.2,
          4.75,
          4.71,
          4.07,
          3.56,
          3.51,
          5.34,
          3.65,
          3.34,
          3.63,
          4.01,
          4.23,
          3.38,
          4.11,
          3.84,
          3.71,
          4.01,
          3.29,
          4.75,
          3.59,
          3.22,
          4.18,
          3.8,
          3.79,
          3.77,
          4.77,
          3.33,
          4.04,
          3.66,
          3.66,
          3.59,
          3.31,
          3.74,
          4.65,
          3.71,
          3.43,
          5.23,
          3.68,
          5.49,
          3.04,
          3.32,
          3.66,
          3.53,
          3.91,
          3.09,
          3.84,
          3.89,
          3.33,
          4.14,
          3.75,
          3.65,
          3.6,
          3.51,
          5.84,
          3.54,
          3.64,
          3.42,
          3.85,
          3.49,
          2.78,
          3.21,
          2.61,
          3.39,
          3.44,
          3.95,
          4.19,
          3.72,
          4.65,
          3.8,
          3.9,
          3.88,
          3.38,
          3.55,
          3.69,
          2.86,
          4.08,
          3.86,
          3.66,
          3.29,
          4.13,
          3.35,
          3.46,
          3.82,
          3.8,
          4.28,
          3.44,
          3.26,
          4.17,
          3.79,
          3.53,
          4.08,
          3.88,
          3.33,
          4.77,
          3.57,
          3.43,
          3.91,
          4.73,
          3.51,
          3.27,
          4.26,
          3.99,
          3.34,
          3.7,
          4,
          3.78,
          3.71,
          3.7,
          3.03,
          3.68,
          4.12,
          4.09,
          4.82,
          4.19,
          3.42,
          4.62,
          3.66,
          4.3,
          3.57,
          3.17,
          4.38,
          3.11,
          4.12,
          3.89,
          3.93,
          4.14,
          4.72,
          3.87,
          2.78,
          3.68,
          4.07,
          3.8,
          3.35,
          3.83,
          4.66,
          4.25,
          4.31,
          2.94,
          2.96,
          4,
          4.13,
          4.01,
          3.69,
          3.21,
          3.51,
          2.69,
          3.8,
          4.17,
          3.44,
          3.87,
          3.85,
          4.63,
          3.73,
          3.13,
          3.58,
          3.98,
          2.62,
          3.11,
          3.22,
          3.47,
          2.96,
          2.62,
          3.66,
          4.54,
          4.88,
          3.97,
          4.01,
          3.9,
          4.13,
          3.56,
          3.85,
          3.28,
          3.91,
          3.4,
          4.32,
          2.91,
          3.78,
          2.51,
          3.54,
          3.81,
          3.98,
          3.9,
          2.9,
          4.2,
          3.57,
          3.44,
          3.73,
          3.6,
          4.13,
          5.64,
          3.35,
          3.68,
          3.57,
          3.34,
          3.49,
          4.52,
          3.69,
          3.56,
          5.9,
          3.41,
          8.07,
          2.98,
          4.44,
          3.85,
          4.02,
          3.6,
          4.18,
          3.8,
          3.97,
          3.75,
          3.93,
          3.57,
          3.87,
          4.21,
          3.78,
          4.01,
          5.44,
          3.56,
          3.48,
          3.88,
          3.59,
          5,
          3.33,
          3.85,
          2.88,
          3.75,
          3.6,
          4.49,
          3.72,
          3.13,
          3.39,
          3.49,
          3.49,
          2.76,
          4.12,
          2.96,
          3.16,
          2.84,
          3.78,
          4.33,
          3.53,
          3.87,
          3.07,
          3.99,
          3.22,
          3.16,
          4.45,
          4.34,
          3.55,
          3.56,
          3.4,
          4.29,
          3.24,
          3.74,
          3.6,
          4.1,
          3.44,
          3.16,
          3.06,
          3.22,
          3.23,
          3.36,
          3.47,
          3.88,
          4.2,
          3.85,
          3.58,
          3.63,
          3.97,
          4.42,
          3.74,
          3.74,
          3.8,
          5.23,
          3.66,
          3.94,
          4.06,
          4.25,
          3.32,
          4.76,
          3.31,
          3.85,
          2.92,
          4.26,
          3.23,
          2.83,
          3.8,
          4.4,
          3.79,
          3.39,
          3.37,
          4.09,
          3.65,
          3.78,
          3.92,
          3.5,
          3.14,
          3.31,
          4.46,
          3.8,
          3.62,
          4.29,
          4.09,
          3.09,
          3.78,
          3.96,
          3.17,
          3.4,
          5.39,
          3.92,
          3.55,
          5.01,
          4.07,
          3.64,
          3.09,
          3.21,
          3.62,
          4.5,
          3.7,
          4.49,
          4.69,
          3.83,
          3.43,
          2.94,
          4.2,
          4.21,
          3.79,
          3.21,
          3.58,
          3.86,
          4.04,
          4.34,
          3.53,
          2.94,
          4.12,
          3.47,
          3.33,
          3.34,
          3.17,
          3.65,
          3.54,
          2.96,
          3.87,
          3.81,
          2.95,
          2.31,
          3.37,
          3.74,
          3.66,
          2.78,
          2.77,
          2.66,
          3.84,
          3.1,
          3.67,
          3.93,
          3.82,
          3.78,
          3.66,
          3.37,
          3.2,
          4.38,
          3.59,
          3.43,
          4.51,
          3.82,
          3.46,
          3.2,
          3.09,
          3.75,
          3.39,
          3.7,
          3.97,
          3.56,
          4.29,
          3.56,
          3.97,
          4.45,
          3.63,
          4.68,
          3.28,
          3.94,
          3.56,
          3.32,
          3.25,
          3.79,
          3.72,
          3.61,
          3.69,
          3.55,
          4.03,
          3.85,
          3.32,
          4.65,
          3.22,
          3.73,
          4.74,
          4.53,
          3.43,
          3.96,
          3.45,
          3.74,
          3.79,
          4.17,
          3.56,
          3.3,
          2.94,
          3.51,
          3.98,
          3.54,
          3.64,
          3.83,
          3.35,
          3.29,
          3.53,
          3.84,
          4.26,
          3.04,
          3.44,
          3.84,
          2.9,
          3.9,
          4.08,
          4.93,
          4.11,
          4.03,
          3.75,
          2.83,
          3.66,
          4.3,
          3.35,
          3.93,
          3.28,
          4,
          4.19,
          3.45,
          3.48,
          4.06,
          3.27,
          5.23,
          3.15,
          3.47,
          3.27,
          3.21,
          3.63,
          3.81,
          3.56,
          3.13,
          3.26,
          3.54,
          3.3,
          3.43,
          3.7,
          3.3,
          4,
          3.19,
          3.77,
          4.56,
          3.73,
          3.82,
          3.65,
          3.22,
          3.58,
          3.2,
          3.93,
          3.43,
          3.63,
          3.49,
          3.33,
          3.56,
          3.06,
          4.45,
          4.07,
          3.13,
          3.96,
          4.4,
          3.26,
          3.36,
          3.25,
          3.65,
          3.61,
          4.26,
          3.76,
          3.71,
          3.57,
          3.55,
          3.39,
          3.32,
          3.68,
          3.37,
          3.43,
          3.32,
          3.9,
          3.28,
          3.09,
          3.78,
          3.81,
          3.59,
          3.3,
          3.31,
          3.77,
          3.54,
          3.89,
          3.44,
          3.5,
          3.38,
          4.18,
          3.99,
          3.51,
          3.37,
          3.3,
          4.38,
          3.24,
          3.93,
          3.88,
          4.1,
          2.67,
          3.08,
          4.39,
          3.9,
          3.69,
          3.8,
          3.35,
          4.18,
          3.61,
          3.12,
          3.57,
          4.12,
          4.39,
          5,
          4.06,
          3.02,
          3.41,
          4.48,
          3.91,
          3.47,
          3.86,
          2.89,
          3.9,
          3.67,
          3.38,
          3.98,
          3.15,
          3.57,
          4.86,
          3.73,
          3.18,
          3.98,
          3.05,
          3.35,
          2.95,
          3.61,
          4.09,
          3.03,
          3.31,
          3.46,
          3.41,
          3.88,
          2.95,
          3.1,
          3.52,
          3.1,
          3.34,
          3.34,
          3.53,
          2.07,
          3.53,
          3.46,
          4.47,
          3.1,
          3.49,
          1.99,
          5.72,
          4.61,
          3.68,
          3.03,
          2.92,
          3.47,
          3.25,
          5.07,
          3.32,
          3.76,
          3.29,
          3.53,
          3.73,
          3.99,
          3.78,
          3.4,
          3.67,
          3.03,
          3.58,
          3.96,
          2.4,
          3.72,
          4.04,
          3.35,
          3.23,
          3.67,
          3.62,
          3.41,
          4.98,
          3.16,
          4.09,
          3.84,
          3.5,
          3.7,
          3.35,
          4.4,
          3.15,
          2.91,
          4.49,
          3.69,
          3.71,
          3.48,
          3.03,
          3.73,
          3.77,
          3.57,
          3.68,
          3.32,
          3.64,
          2.88,
          4.48,
          3.08,
          4,
          3.08,
          3.38,
          4.22,
          2.25,
          3.43,
          3.07,
          3.58,
          3.88,
          5.21,
          3.16,
          3.54,
          2.96,
          3.52,
          3.34,
          4.6,
          3.71,
          3.98,
          2.99,
          3.81,
          6.97,
          5.05,
          2.88,
          2.78,
          3.14,
          3.38,
          2.63,
          3.46,
          3.22,
          3.83,
          2.92,
          3.87,
          3.41,
          3.13,
          3.29,
          5.54,
          2.85,
          2.61,
          3.07,
          3.3,
          3.6,
          3.1,
          3.36,
          3.01,
          3.39,
          2.72,
          4.09,
          3.54,
          2.03,
          3.08,
          3.73,
          2.37,
          3.24,
          3.24,
          2.94,
          3.35,
          3.85,
          3.02,
          3.68,
          3.57,
          3.27,
          3.01,
          3.17,
          3.95,
          3.63,
          2.89,
          3.1,
          3.69,
          2.9,
          2.9,
          3.27,
          3.58,
          3.18,
          3.57,
          3.34,
          4.33,
          3.12,
          3.62,
          3.17,
          5.04,
          3.02,
          3.57,
          3.78,
          3.57,
          3.63,
          3.1,
          2.18,
          3.61,
          3.29,
          3.3,
          3.93,
          3.36,
          3.51,
          3.56,
          3.69,
          2.62,
          3.23,
          3.18,
          2.98,
          2.63,
          3.37,
          3.36,
          2.63,
          3.6,
          3.62,
          3.04,
          2.82,
          3.21,
          2.94,
          3.81,
          3.22,
          2.82,
          3.15,
          3.43,
          2.55,
          2.7,
          5.21,
          2.83,
          3.37,
          3.54,
          2.99,
          2.11,
          2.19,
          4.22,
          3.34,
          2.97,
          1.88,
          3.01,
          2.49,
          3.37,
          3.16,
          2.19,
          4.28,
          3.42,
          1.91,
          3.51,
          2.78,
          4,
          4.81,
          3.34,
          5.03,
          3.45,
          3.26,
          3.06,
          3.17,
          4.02,
          3.12,
          3.05,
          3.57,
          3.82,
          3.16,
          3.35,
          3.27,
          3.49,
          3.1,
          4.18,
          3.05,
          3.97,
          3.56,
          4.43,
          3.82,
          2.15,
          2.72,
          3.18,
          3.22,
          3.83,
          2.95,
          3.05,
          2.62,
          2.62,
          3.17,
          2.57,
          2.96,
          3.43,
          3.32,
          4.31,
          2.91,
          3.36,
          3.77,
          3.85,
          3.44,
          2.71,
          2.28,
          3.18,
          3.03,
          3.37,
          3.23,
          3.14,
          2.92,
          3.02,
          2.97,
          3.34,
          2.85,
          3.59
         ],
         "xaxis": "x",
         "y": [
          86.51685393258427,
          87.64044943820225,
          73.03370786516854,
          96.62921348314607,
          76.40449438202246,
          86.51685393258427,
          1.1235955056179776,
          61.79775280898876,
          59.55056179775281,
          82.02247191011236,
          93.25842696629213,
          69.66292134831461,
          60.67415730337079,
          80.89887640449437,
          77.52808988764045,
          59.55056179775281,
          60.67415730337079,
          52.80898876404494,
          55.0561797752809,
          65.1685393258427,
          58.42696629213483,
          61.79775280898876,
          68.53932584269663,
          61.79775280898876,
          74.15730337078652,
          40.44943820224719,
          48.31460674157304,
          66.29213483146067,
          71.91011235955057,
          58.42696629213483,
          52.80898876404494,
          67.41573033707866,
          61.79775280898876,
          66.29213483146067,
          73.03370786516854,
          73.03370786516854,
          0,
          65.1685393258427,
          58.42696629213483,
          0,
          67.41573033707866,
          65.1685393258427,
          61.79775280898876,
          78.65168539325843,
          61.79775280898876,
          61.79775280898876,
          65.1685393258427,
          66.29213483146067,
          87.64044943820225,
          58.42696629213483,
          64.04494382022472,
          55.0561797752809,
          76.40449438202246,
          69.66292134831461,
          73.03370786516854,
          67.41573033707866,
          60.67415730337079,
          60.67415730337079,
          67.41573033707866,
          78.65168539325843,
          76.40449438202246,
          73.03370786516854,
          73.03370786516854,
          76.40449438202246,
          85.39325842696628,
          78.65168539325843,
          93.25842696629213,
          82.02247191011236,
          76.40449438202246,
          1.1235955056179776,
          83.14606741573034,
          87.64044943820225,
          86.51685393258427,
          69.66292134831461,
          79.7752808988764,
          77.52808988764045,
          69.66292134831461,
          64.04494382022472,
          85.39325842696628,
          59.55056179775281,
          82.02247191011236,
          73.03370786516854,
          60.67415730337079,
          60.67415730337079,
          64.04494382022472,
          70.78651685393258,
          48.31460674157304,
          71.91011235955057,
          82.02247191011236,
          0,
          56.17977528089888,
          87.64044943820225,
          85.39325842696628,
          92.13483146067416,
          56.17977528089888,
          47.19101123595505,
          64.04494382022472,
          77.52808988764045,
          64.04494382022472,
          76.40449438202246,
          58.42696629213483,
          67.41573033707866,
          56.17977528089888,
          83.14606741573034,
          64.04494382022472,
          53.93258426966292,
          68.53932584269663,
          75.28089887640449,
          73.03370786516854,
          61.79775280898876,
          70.78651685393258,
          52.80898876404494,
          60.67415730337079,
          84.26966292134831,
          64.04494382022472,
          76.40449438202246,
          29.213483146067414,
          59.55056179775281,
          65.1685393258427,
          65.1685393258427,
          75.28089887640449,
          76.40449438202246,
          70.78651685393258,
          67.41573033707866,
          1.1235955056179776,
          68.53932584269663,
          51.68539325842697,
          62.92134831460674,
          67.41573033707866,
          77.52808988764045,
          67.41573033707866,
          65.1685393258427,
          71.91011235955057,
          59.55056179775281,
          62.92134831460674,
          76.40449438202246,
          51.68539325842697,
          0,
          73.03370786516854,
          74.15730337078652,
          71.91011235955057,
          73.03370786516854,
          60.67415730337079,
          74.15730337078652,
          0,
          57.30337078651685,
          53.93258426966292,
          0,
          60.67415730337079,
          67.41573033707866,
          84.26966292134831,
          66.29213483146067,
          76.40449438202246,
          70.78651685393258,
          77.52808988764045,
          62.92134831460674,
          33.70786516853933,
          71.91011235955057,
          62.92134831460674,
          73.03370786516854,
          50.56179775280899,
          68.53932584269663,
          86.51685393258427,
          97.75280898876404,
          87.64044943820225,
          84.26966292134831,
          80.89887640449437,
          71.91011235955057,
          30.337078651685395,
          65.1685393258427,
          76.40449438202246,
          95.50561797752809,
          77.52808988764045,
          67.41573033707866,
          59.55056179775281,
          59.55056179775281,
          44.9438202247191,
          93.25842696629213,
          74.15730337078652,
          0,
          60.67415730337079,
          66.29213483146067,
          67.41573033707866,
          48.31460674157304,
          74.15730337078652,
          68.53932584269663,
          51.68539325842697,
          55.0561797752809,
          47.19101123595505,
          58.42696629213483,
          67.41573033707866,
          61.79775280898876,
          66.29213483146067,
          52.80898876404494,
          65.1685393258427,
          66.29213483146067,
          66.29213483146067,
          71.91011235955057,
          61.79775280898876,
          84.26966292134831,
          59.55056179775281,
          76.40449438202246,
          55.0561797752809,
          50.56179775280899,
          53.93258426966292,
          82.02247191011236,
          48.31460674157304,
          29.213483146067414,
          2.247191011235955,
          89.8876404494382,
          65.1685393258427,
          66.29213483146067,
          59.55056179775281,
          52.80898876404494,
          61.79775280898876,
          65.1685393258427,
          39.325842696629216,
          70.78651685393258,
          50.56179775280899,
          26.96629213483146,
          61.79775280898876,
          69.66292134831461,
          69.66292134831461,
          35.95505617977528,
          59.55056179775281,
          79.7752808988764,
          68.53932584269663,
          60.67415730337079,
          76.40449438202246,
          58.42696629213483,
          62.92134831460674,
          88.76404494382022,
          78.65168539325843,
          67.41573033707866,
          71.91011235955057,
          77.52808988764045,
          82.02247191011236,
          78.65168539325843,
          84.26966292134831,
          70.78651685393258,
          65.1685393258427,
          75.28089887640449,
          82.02247191011236,
          67.41573033707866,
          73.03370786516854,
          56.17977528089888,
          71.91011235955057,
          64.04494382022472,
          66.29213483146067,
          52.80898876404494,
          62.92134831460674,
          78.65168539325843,
          67.41573033707866,
          44.9438202247191,
          44.9438202247191,
          67.41573033707866,
          65.1685393258427,
          62.92134831460674,
          71.91011235955057,
          80.89887640449437,
          57.30337078651685,
          67.41573033707866,
          91.01123595505618,
          83.14606741573034,
          86.51685393258427,
          85.39325842696628,
          56.17977528089888,
          76.40449438202246,
          78.65168539325843,
          62.92134831460674,
          74.15730337078652,
          76.40449438202246,
          68.53932584269663,
          66.29213483146067,
          79.7752808988764,
          85.39325842696628,
          77.52808988764045,
          80.89887640449437,
          78.65168539325843,
          88.76404494382022,
          64.04494382022472,
          66.29213483146067,
          80.89887640449437,
          52.80898876404494,
          69.66292134831461,
          82.02247191011236,
          40.44943820224719,
          66.29213483146067,
          64.04494382022472,
          60.67415730337079,
          85.39325842696628,
          3.3707865168539324,
          60.67415730337079,
          70.78651685393258,
          52.80898876404494,
          68.53932584269663,
          76.40449438202246,
          53.93258426966292,
          56.17977528089888,
          80.89887640449437,
          65.1685393258427,
          68.53932584269663,
          65.1685393258427,
          58.42696629213483,
          64.04494382022472,
          55.0561797752809,
          78.65168539325843,
          65.1685393258427,
          64.04494382022472,
          75.28089887640449,
          77.52808988764045,
          79.7752808988764,
          53.93258426966292,
          53.93258426966292,
          80.89887640449437,
          68.53932584269663,
          64.04494382022472,
          67.41573033707866,
          66.29213483146067,
          75.28089887640449,
          55.0561797752809,
          75.28089887640449,
          64.04494382022472,
          66.29213483146067,
          0,
          42.69662921348314,
          64.04494382022472,
          65.1685393258427,
          75.28089887640449,
          67.41573033707866,
          82.02247191011236,
          64.04494382022472,
          67.41573033707866,
          53.93258426966292,
          62.92134831460674,
          88.76404494382022,
          60.67415730337079,
          78.65168539325843,
          73.03370786516854,
          75.28089887640449,
          84.26966292134831,
          68.53932584269663,
          61.79775280898876,
          67.41573033707866,
          71.91011235955057,
          49.43820224719101,
          70.78651685393258,
          68.53932584269663,
          68.53932584269663,
          52.80898876404494,
          68.53932584269663,
          70.78651685393258,
          74.15730337078652,
          75.28089887640449,
          68.53932584269663,
          65.1685393258427,
          76.40449438202246,
          70.78651685393258,
          83.14606741573034,
          78.65168539325843,
          61.79775280898876,
          91.01123595505618,
          86.51685393258427,
          91.01123595505618,
          89.8876404494382,
          88.76404494382022,
          73.03370786516854,
          12.359550561797752,
          59.55056179775281,
          62.92134831460674,
          75.28089887640449,
          67.41573033707866,
          62.92134831460674,
          76.40449438202246,
          66.29213483146067,
          70.78651685393258,
          91.01123595505618,
          68.53932584269663,
          17.97752808988764,
          82.02247191011236,
          47.19101123595505,
          74.15730337078652,
          68.53932584269663,
          80.89887640449437,
          75.28089887640449,
          70.78651685393258,
          62.92134831460674,
          70.78651685393258,
          64.04494382022472,
          59.55056179775281,
          75.28089887640449,
          82.02247191011236,
          62.92134831460674,
          59.55056179775281,
          78.65168539325843,
          68.53932584269663,
          37.07865168539326,
          55.0561797752809,
          68.53932584269663,
          41.57303370786517,
          76.40449438202246,
          76.40449438202246,
          55.0561797752809,
          50.56179775280899,
          62.92134831460674,
          75.28089887640449,
          65.1685393258427,
          43.82022471910113,
          76.40449438202246,
          73.03370786516854,
          64.04494382022472,
          0,
          75.28089887640449,
          68.53932584269663,
          70.78651685393258,
          57.30337078651685,
          52.80898876404494,
          74.15730337078652,
          64.04494382022472,
          70.78651685393258,
          71.91011235955057,
          86.51685393258427,
          66.29213483146067,
          68.53932584269663,
          47.19101123595505,
          82.02247191011236,
          80.89887640449437,
          64.04494382022472,
          51.68539325842697,
          67.41573033707866,
          65.1685393258427,
          80.89887640449437,
          86.51685393258427,
          64.04494382022472,
          48.31460674157304,
          61.79775280898876,
          85.39325842696628,
          68.53932584269663,
          53.93258426966292,
          76.40449438202246,
          49.43820224719101,
          71.91011235955057,
          69.66292134831461,
          83.14606741573034,
          89.8876404494382,
          62.92134831460674,
          61.79775280898876,
          85.39325842696628,
          66.29213483146067,
          66.29213483146067,
          65.1685393258427,
          71.91011235955057,
          74.15730337078652,
          66.29213483146067,
          64.04494382022472,
          53.93258426966292,
          73.03370786516854,
          62.92134831460674,
          61.79775280898876,
          68.53932584269663,
          77.52808988764045,
          80.89887640449437,
          87.64044943820225,
          86.51685393258427,
          88.76404494382022,
          84.26966292134831,
          80.89887640449437,
          80.89887640449437,
          83.14606741573034,
          31.46067415730337,
          83.14606741573034,
          85.39325842696628,
          75.28089887640449,
          58.42696629213483,
          66.29213483146067,
          76.40449438202246,
          70.78651685393258,
          82.02247191011236,
          80.89887640449437,
          83.14606741573034,
          79.7752808988764,
          0,
          75.28089887640449,
          68.53932584269663,
          67.41573033707866,
          4.49438202247191,
          73.03370786516854,
          85.39325842696628,
          86.51685393258427,
          92.13483146067416,
          69.66292134831461,
          23.595505617977526,
          60.67415730337079,
          71.91011235955057,
          61.79775280898876,
          86.51685393258427,
          80.89887640449437,
          82.02247191011236,
          60.67415730337079,
          65.1685393258427,
          58.42696629213483,
          56.17977528089888,
          70.78651685393258,
          75.28089887640449,
          62.92134831460674,
          47.19101123595505,
          73.03370786516854,
          70.78651685393258,
          70.78651685393258,
          68.53932584269663,
          43.82022471910113,
          46.06741573033708,
          70.78651685393258,
          58.42696629213483,
          58.42696629213483,
          66.29213483146067,
          68.53932584269663,
          58.42696629213483,
          77.52808988764045,
          66.29213483146067,
          83.14606741573034,
          56.17977528089888,
          76.40449438202246,
          62.92134831460674,
          67.41573033707866,
          74.15730337078652,
          0,
          64.04494382022472,
          74.15730337078652,
          65.1685393258427,
          66.29213483146067,
          68.53932584269663,
          1.1235955056179776,
          69.66292134831461,
          67.41573033707866,
          79.7752808988764,
          1.1235955056179776,
          69.66292134831461,
          70.78651685393258,
          68.53932584269663,
          79.7752808988764,
          58.42696629213483,
          75.28089887640449,
          0,
          65.1685393258427,
          75.28089887640449,
          69.66292134831461,
          77.52808988764045,
          75.28089887640449,
          68.53932584269663,
          77.52808988764045,
          79.7752808988764,
          61.79775280898876,
          79.7752808988764,
          62.92134831460674,
          73.03370786516854,
          75.28089887640449,
          66.29213483146067,
          85.39325842696628,
          92.13483146067416,
          87.64044943820225,
          87.64044943820225,
          78.65168539325843,
          79.7752808988764,
          82.02247191011236,
          83.14606741573034,
          68.53932584269663,
          88.76404494382022,
          77.52808988764045,
          61.79775280898876,
          68.53932584269663,
          79.7752808988764,
          84.26966292134831,
          92.13483146067416,
          43.82022471910113,
          65.1685393258427,
          76.40449438202246,
          66.29213483146067,
          83.14606741573034,
          73.03370786516854,
          84.26966292134831,
          70.78651685393258,
          64.04494382022472,
          82.02247191011236,
          70.78651685393258,
          64.04494382022472,
          75.28089887640449,
          44.9438202247191,
          76.40449438202246,
          74.15730337078652,
          1.1235955056179776,
          80.89887640449437,
          73.03370786516854,
          67.41573033707866,
          71.91011235955057,
          64.04494382022472,
          0,
          70.78651685393258,
          47.19101123595505,
          64.04494382022472,
          0,
          76.40449438202246,
          56.17977528089888,
          55.0561797752809,
          51.68539325842697,
          77.52808988764045,
          55.0561797752809,
          78.65168539325843,
          82.02247191011236,
          67.41573033707866,
          73.03370786516854,
          69.66292134831461,
          78.65168539325843,
          83.14606741573034,
          64.04494382022472,
          71.91011235955057,
          69.66292134831461,
          41.57303370786517,
          62.92134831460674,
          80.89887640449437,
          0,
          50.56179775280899,
          80.89887640449437,
          76.40449438202246,
          75.28089887640449,
          53.93258426966292,
          71.91011235955057,
          69.66292134831461,
          70.78651685393258,
          77.52808988764045,
          85.39325842696628,
          70.78651685393258,
          84.26966292134831,
          39.325842696629216,
          62.92134831460674,
          76.40449438202246,
          47.19101123595505,
          75.28089887640449,
          78.65168539325843,
          75.28089887640449,
          70.78651685393258,
          0,
          66.29213483146067,
          51.68539325842697,
          0,
          71.91011235955057,
          2.247191011235955,
          75.28089887640449,
          71.91011235955057,
          39.325842696629216,
          88.76404494382022,
          68.53932584269663,
          85.39325842696628,
          66.29213483146067,
          73.03370786516854,
          55.0561797752809,
          77.52808988764045,
          0,
          82.02247191011236,
          84.26966292134831,
          91.01123595505618,
          88.76404494382022,
          85.39325842696628,
          0,
          87.64044943820225,
          78.65168539325843,
          79.7752808988764,
          89.8876404494382,
          91.01123595505618,
          48.31460674157304,
          82.02247191011236,
          73.03370786516854,
          65.1685393258427,
          78.65168539325843,
          75.28089887640449,
          0,
          0,
          76.40449438202246,
          60.67415730337079,
          71.91011235955057,
          66.29213483146067,
          59.55056179775281,
          83.14606741573034,
          66.29213483146067,
          0,
          77.52808988764045,
          69.66292134831461,
          52.80898876404494,
          19.101123595505616,
          86.51685393258427,
          67.41573033707866,
          76.40449438202246,
          68.53932584269663,
          82.02247191011236,
          74.15730337078652,
          66.29213483146067,
          69.66292134831461,
          82.02247191011236,
          71.91011235955057,
          75.28089887640449,
          80.89887640449437,
          71.91011235955057,
          82.02247191011236,
          89.8876404494382,
          64.04494382022472,
          74.15730337078652,
          84.26966292134831,
          83.14606741573034,
          50.56179775280899,
          53.93258426966292,
          78.65168539325843,
          73.03370786516854,
          3.3707865168539324,
          66.29213483146067,
          70.78651685393258,
          64.04494382022472,
          64.04494382022472,
          77.52808988764045,
          85.39325842696628,
          64.04494382022472,
          85.39325842696628,
          85.39325842696628,
          65.1685393258427,
          62.92134831460674,
          50.56179775280899,
          66.29213483146067,
          40.44943820224719,
          69.66292134831461,
          76.40449438202246,
          80.89887640449437,
          33.70786516853933,
          58.42696629213483,
          87.64044943820225,
          68.53932584269663,
          75.28089887640449,
          51.68539325842697,
          64.04494382022472,
          0,
          83.14606741573034,
          77.52808988764045,
          74.15730337078652,
          87.64044943820225,
          58.42696629213483,
          76.40449438202246,
          85.39325842696628,
          58.42696629213483,
          2.247191011235955,
          68.53932584269663,
          76.40449438202246,
          64.04494382022472,
          64.04494382022472,
          59.55056179775281,
          65.1685393258427,
          62.92134831460674,
          69.66292134831461,
          65.1685393258427,
          71.91011235955057,
          88.76404494382022,
          57.30337078651685,
          89.8876404494382,
          82.02247191011236,
          83.14606741573034,
          86.51685393258427,
          83.14606741573034,
          79.7752808988764,
          78.65168539325843,
          74.15730337078652,
          84.26966292134831,
          78.65168539325843,
          73.03370786516854,
          85.39325842696628,
          1.1235955056179776,
          68.53932584269663,
          77.52808988764045,
          70.78651685393258,
          58.42696629213483,
          79.7752808988764,
          82.02247191011236,
          86.51685393258427,
          62.92134831460674,
          77.52808988764045,
          85.39325842696628,
          73.03370786516854,
          38.20224719101123,
          77.52808988764045,
          64.04494382022472,
          80.89887640449437,
          51.68539325842697,
          83.14606741573034,
          71.91011235955057,
          84.26966292134831,
          73.03370786516854,
          77.52808988764045,
          68.53932584269663,
          0,
          73.03370786516854,
          76.40449438202246,
          82.02247191011236,
          57.30337078651685,
          76.40449438202246,
          62.92134831460674,
          62.92134831460674,
          74.15730337078652,
          71.91011235955057,
          73.03370786516854,
          69.66292134831461,
          87.64044943820225,
          52.80898876404494,
          87.64044943820225,
          77.52808988764045,
          64.04494382022472,
          67.41573033707866,
          64.04494382022472,
          85.39325842696628,
          74.15730337078652,
          60.67415730337079,
          1.1235955056179776,
          62.92134831460674,
          52.80898876404494,
          0,
          86.51685393258427,
          61.79775280898876,
          65.1685393258427,
          64.04494382022472,
          69.66292134831461,
          66.29213483146067,
          79.7752808988764,
          59.55056179775281,
          61.79775280898876,
          57.30337078651685,
          68.53932584269663,
          78.65168539325843,
          69.66292134831461,
          75.28089887640449,
          83.14606741573034,
          69.66292134831461,
          66.29213483146067,
          70.78651685393258,
          71.91011235955057,
          62.92134831460674,
          89.8876404494382,
          89.8876404494382,
          50.56179775280899,
          77.52808988764045,
          75.28089887640449,
          65.1685393258427,
          57.30337078651685,
          60.67415730337079,
          70.78651685393258,
          1.1235955056179776,
          67.41573033707866,
          61.79775280898876,
          76.40449438202246,
          71.91011235955057,
          83.14606741573034,
          1.1235955056179776,
          75.28089887640449,
          65.1685393258427,
          0,
          89.8876404494382,
          86.51685393258427,
          83.14606741573034,
          84.26966292134831,
          83.14606741573034,
          83.14606741573034,
          70.78651685393258,
          83.14606741573034,
          77.52808988764045,
          84.26966292134831,
          64.04494382022472,
          80.89887640449437,
          92.13483146067416,
          80.89887640449437,
          85.39325842696628,
          77.52808988764045,
          66.29213483146067,
          74.15730337078652,
          53.93258426966292,
          73.03370786516854,
          76.40449438202246,
          76.40449438202246,
          78.65168539325843,
          92.13483146067416,
          73.03370786516854,
          75.28089887640449,
          70.78651685393258,
          76.40449438202246,
          74.15730337078652,
          84.26966292134831,
          89.8876404494382,
          84.26966292134831,
          70.78651685393258,
          42.69662921348314,
          65.1685393258427,
          71.91011235955057,
          66.29213483146067,
          2.247191011235955,
          3.3707865168539324,
          46.06741573033708,
          77.52808988764045,
          73.03370786516854,
          85.39325842696628,
          78.65168539325843,
          51.68539325842697,
          66.29213483146067,
          60.67415730337079,
          0,
          78.65168539325843,
          73.03370786516854,
          71.91011235955057,
          73.03370786516854,
          64.04494382022472,
          57.30337078651685,
          82.02247191011236,
          70.78651685393258,
          74.15730337078652,
          65.1685393258427,
          66.29213483146067,
          78.65168539325843,
          60.67415730337079,
          76.40449438202246,
          79.7752808988764,
          86.51685393258427,
          73.03370786516854,
          74.15730337078652,
          79.7752808988764,
          71.91011235955057,
          61.79775280898876,
          79.7752808988764,
          73.03370786516854,
          66.29213483146067,
          84.26966292134831,
          69.66292134831461,
          78.65168539325843,
          83.14606741573034,
          67.41573033707866,
          75.28089887640449,
          71.91011235955057,
          69.66292134831461,
          83.14606741573034,
          43.82022471910113,
          56.17977528089888,
          75.28089887640449,
          59.55056179775281,
          89.8876404494382,
          60.67415730337079,
          62.92134831460674,
          88.76404494382022,
          64.04494382022472,
          71.91011235955057,
          82.02247191011236,
          64.04494382022472,
          61.79775280898876,
          75.28089887640449,
          69.66292134831461,
          55.0561797752809,
          76.40449438202246,
          76.40449438202246,
          82.02247191011236,
          86.51685393258427,
          91.01123595505618,
          89.8876404494382,
          86.51685393258427,
          89.8876404494382,
          85.39325842696628,
          89.8876404494382,
          82.02247191011236,
          80.89887640449437,
          76.40449438202246,
          47.19101123595505,
          82.02247191011236,
          69.66292134831461,
          51.68539325842697,
          0,
          75.28089887640449,
          77.52808988764045,
          70.78651685393258,
          74.15730337078652,
          83.14606741573034,
          68.53932584269663,
          52.80898876404494,
          88.76404494382022,
          75.28089887640449,
          83.14606741573034,
          64.04494382022472,
          35.95505617977528,
          77.52808988764045,
          66.29213483146067,
          70.78651685393258,
          76.40449438202246,
          88.76404494382022,
          84.26966292134831,
          85.39325842696628,
          83.14606741573034,
          65.1685393258427,
          64.04494382022472,
          85.39325842696628,
          0,
          84.26966292134831,
          77.52808988764045,
          1.1235955056179776,
          61.79775280898876,
          59.55056179775281,
          64.04494382022472,
          0,
          76.40449438202246,
          70.78651685393258,
          0,
          82.02247191011236,
          75.28089887640449,
          3.3707865168539324,
          76.40449438202246,
          69.66292134831461,
          91.01123595505618,
          74.15730337078652,
          60.67415730337079,
          64.04494382022472,
          70.78651685393258,
          68.53932584269663,
          57.30337078651685,
          73.03370786516854,
          1.1235955056179776,
          83.14606741573034,
          76.40449438202246,
          82.02247191011236,
          74.15730337078652,
          39.325842696629216,
          64.04494382022472,
          60.67415730337079,
          78.65168539325843,
          64.04494382022472,
          70.78651685393258,
          69.66292134831461,
          68.53932584269663,
          2.247191011235955,
          67.41573033707866,
          76.40449438202246,
          20.224719101123593,
          77.52808988764045,
          60.67415730337079,
          62.92134831460674,
          74.15730337078652,
          0,
          73.03370786516854,
          79.7752808988764,
          83.14606741573034,
          77.52808988764045,
          58.42696629213483,
          80.89887640449437,
          87.64044943820225,
          79.7752808988764,
          82.02247191011236,
          73.03370786516854,
          71.91011235955057,
          57.30337078651685,
          51.68539325842697,
          0,
          71.91011235955057,
          73.03370786516854,
          2.247191011235955,
          86.51685393258427,
          82.02247191011236,
          80.89887640449437,
          87.64044943820225,
          79.7752808988764,
          0,
          79.7752808988764,
          88.76404494382022,
          82.02247191011236,
          77.52808988764045,
          76.40449438202246,
          68.53932584269663,
          75.28089887640449,
          47.19101123595505,
          85.39325842696628,
          80.89887640449437,
          57.30337078651685,
          91.01123595505618,
          88.76404494382022,
          84.26966292134831,
          73.03370786516854,
          74.15730337078652,
          91.01123595505618,
          74.15730337078652,
          70.78651685393258,
          80.89887640449437,
          55.0561797752809,
          68.53932584269663,
          75.28089887640449,
          78.65168539325843,
          64.04494382022472,
          61.79775280898876,
          85.39325842696628,
          73.03370786516854,
          85.39325842696628,
          73.03370786516854,
          69.66292134831461,
          70.78651685393258,
          92.13483146067416,
          83.14606741573034,
          2.247191011235955,
          79.7752808988764,
          1.1235955056179776,
          78.65168539325843,
          79.7752808988764,
          68.53932584269663,
          86.51685393258427,
          79.7752808988764,
          73.03370786516854,
          84.26966292134831,
          69.66292134831461,
          53.93258426966292,
          77.52808988764045,
          73.03370786516854,
          85.39325842696628,
          87.64044943820225,
          77.52808988764045,
          74.15730337078652,
          59.55056179775281,
          83.14606741573034,
          43.82022471910113,
          67.41573033707866,
          53.93258426966292,
          85.39325842696628,
          66.29213483146067,
          80.89887640449437,
          0,
          68.53932584269663,
          69.66292134831461,
          78.65168539325843,
          92.13483146067416,
          83.14606741573034,
          82.02247191011236,
          59.55056179775281,
          70.78651685393258,
          80.89887640449437,
          76.40449438202246,
          84.26966292134831,
          78.65168539325843,
          71.91011235955057,
          78.65168539325843,
          4.49438202247191,
          73.03370786516854,
          75.28089887640449,
          67.41573033707866,
          56.17977528089888,
          75.28089887640449,
          70.78651685393258,
          82.02247191011236,
          88.76404494382022,
          77.52808988764045,
          77.52808988764045,
          85.39325842696628,
          80.89887640449437,
          84.26966292134831,
          71.91011235955057,
          0,
          67.41573033707866,
          78.65168539325843,
          84.26966292134831,
          87.64044943820225,
          85.39325842696628,
          78.65168539325843,
          83.14606741573034,
          58.42696629213483,
          83.14606741573034,
          73.03370786516854,
          79.7752808988764,
          92.13483146067416,
          83.14606741573034,
          78.65168539325843,
          77.52808988764045,
          86.51685393258427,
          69.66292134831461,
          74.15730337078652,
          71.91011235955057,
          70.78651685393258,
          87.64044943820225,
          82.02247191011236,
          65.1685393258427,
          75.28089887640449,
          80.89887640449437,
          87.64044943820225,
          74.15730337078652,
          0,
          82.02247191011236,
          95.50561797752809,
          86.51685393258427,
          85.39325842696628,
          84.26966292134831,
          69.66292134831461,
          82.02247191011236,
          84.26966292134831,
          75.28089887640449,
          0,
          76.40449438202246,
          0,
          92.13483146067416,
          84.26966292134831,
          0,
          0,
          57.30337078651685,
          68.53932584269663,
          88.76404494382022,
          0,
          0,
          0,
          92.13483146067416,
          71.91011235955057,
          71.91011235955057,
          74.15730337078652,
          87.64044943820225,
          85.39325842696628,
          56.17977528089888,
          70.78651685393258,
          88.76404494382022,
          83.14606741573034,
          66.29213483146067,
          68.53932584269663,
          85.39325842696628,
          76.40449438202246,
          86.51685393258427,
          75.28089887640449,
          51.68539325842697,
          67.41573033707866,
          65.1685393258427,
          0,
          0,
          80.89887640449437,
          59.55056179775281,
          64.04494382022472,
          86.51685393258427,
          92.13483146067416,
          59.55056179775281,
          0,
          86.51685393258427,
          69.66292134831461,
          73.03370786516854,
          70.78651685393258,
          86.51685393258427,
          83.14606741573034,
          74.15730337078652,
          0,
          68.53932584269663,
          70.78651685393258,
          79.7752808988764,
          69.66292134831461,
          83.14606741573034,
          83.14606741573034,
          73.03370786516854,
          53.93258426966292,
          71.91011235955057,
          74.15730337078652,
          77.52808988764045,
          79.7752808988764,
          84.26966292134831,
          0,
          83.14606741573034,
          75.28089887640449,
          86.51685393258427,
          61.79775280898876,
          86.51685393258427,
          6.741573033707865,
          95.50561797752809,
          1.1235955056179776,
          93.25842696629213,
          87.64044943820225,
          0,
          1.1235955056179776,
          65.1685393258427,
          98.87640449438202,
          77.52808988764045,
          77.52808988764045,
          86.51685393258427,
          76.40449438202246,
          76.40449438202246,
          91.01123595505618,
          0,
          62.92134831460674,
          83.14606741573034,
          0,
          100,
          76.40449438202246,
          0,
          88.76404494382022,
          94.3820224719101,
          82.02247191011236,
          84.26966292134831,
          71.91011235955057,
          77.52808988764045,
          79.7752808988764,
          60.67415730337079,
          67.41573033707866,
          0,
          80.89887640449437,
          74.15730337078652,
          76.40449438202246,
          79.7752808988764,
          0,
          76.40449438202246,
          91.01123595505618,
          74.15730337078652,
          85.39325842696628,
          94.3820224719101,
          74.15730337078652,
          76.40449438202246,
          68.53932584269663,
          85.39325842696628,
          85.39325842696628,
          70.78651685393258,
          78.65168539325843,
          64.04494382022472,
          78.65168539325843,
          67.41573033707866,
          2.247191011235955,
          30.337078651685395,
          56.17977528089888,
          0,
          79.7752808988764,
          0,
          68.53932584269663,
          71.91011235955057,
          73.03370786516854,
          53.93258426966292,
          68.53932584269663,
          66.29213483146067,
          82.02247191011236,
          62.92134831460674,
          73.03370786516854,
          69.66292134831461,
          80.89887640449437,
          68.53932584269663,
          83.14606741573034,
          85.39325842696628,
          64.04494382022472,
          0,
          86.51685393258427,
          0,
          77.52808988764045,
          74.15730337078652,
          87.64044943820225,
          87.64044943820225,
          88.76404494382022,
          87.64044943820225,
          0,
          88.76404494382022,
          66.29213483146067,
          80.89887640449437,
          0,
          74.15730337078652,
          0,
          0,
          76.40449438202246,
          82.02247191011236,
          73.03370786516854,
          85.39325842696628,
          75.28089887640449,
          93.25842696629213,
          64.04494382022472,
          88.76404494382022,
          83.14606741573034,
          0,
          77.52808988764045,
          88.76404494382022,
          89.8876404494382,
          89.8876404494382,
          87.64044943820225,
          94.3820224719101,
          55.0561797752809,
          80.89887640449437,
          56.17977528089888,
          75.28089887640449,
          83.14606741573034,
          75.28089887640449,
          77.52808988764045,
          62.92134831460674,
          0,
          50.56179775280899,
          79.7752808988764,
          80.89887640449437,
          60.67415730337079,
          69.66292134831461,
          80.89887640449437,
          68.53932584269663,
          74.15730337078652,
          74.15730337078652,
          83.14606741573034,
          74.15730337078652,
          84.26966292134831,
          78.65168539325843,
          89.8876404494382,
          69.66292134831461,
          82.02247191011236,
          23.595505617977526,
          0,
          85.39325842696628,
          87.64044943820225,
          69.66292134831461,
          0,
          85.39325842696628,
          86.51685393258427,
          56.17977528089888,
          2.247191011235955,
          89.8876404494382,
          71.91011235955057,
          78.65168539325843,
          0,
          76.40449438202246,
          74.15730337078652,
          80.89887640449437,
          66.29213483146067,
          0,
          53.93258426966292,
          82.02247191011236,
          80.89887640449437,
          83.14606741573034,
          74.15730337078652,
          2.247191011235955,
          86.51685393258427,
          75.28089887640449,
          68.53932584269663,
          68.53932584269663,
          92.13483146067416,
          83.14606741573034,
          82.02247191011236,
          55.0561797752809,
          88.76404494382022,
          0,
          65.1685393258427,
          73.03370786516854,
          83.14606741573034,
          83.14606741573034,
          88.76404494382022,
          93.25842696629213,
          77.52808988764045,
          58.42696629213483,
          0,
          71.91011235955057,
          89.8876404494382,
          80.89887640449437,
          70.78651685393258,
          78.65168539325843,
          91.01123595505618,
          84.26966292134831,
          61.79775280898876,
          79.7752808988764,
          74.15730337078652,
          89.8876404494382,
          78.65168539325843,
          0,
          70.78651685393258,
          79.7752808988764,
          75.28089887640449,
          0,
          0,
          69.66292134831461,
          59.55056179775281,
          59.55056179775281,
          0,
          92.13483146067416,
          91.01123595505618,
          91.01123595505618,
          86.51685393258427,
          82.02247191011236,
          85.39325842696628,
          87.64044943820225,
          87.64044943820225,
          84.26966292134831,
          0,
          92.13483146067416,
          94.3820224719101,
          95.50561797752809,
          74.15730337078652,
          95.50561797752809,
          77.52808988764045,
          51.68539325842697,
          79.7752808988764,
          78.65168539325843,
          55.0561797752809,
          85.39325842696628,
          85.39325842696628,
          73.03370786516854,
          69.66292134831461,
          89.8876404494382,
          85.39325842696628,
          37.07865168539326,
          93.25842696629213,
          82.02247191011236,
          70.78651685393258,
          88.76404494382022,
          55.0561797752809,
          53.93258426966292,
          88.76404494382022,
          80.89887640449437,
          87.64044943820225,
          0,
          89.8876404494382,
          83.14606741573034,
          82.02247191011236,
          0,
          88.76404494382022,
          82.02247191011236,
          0,
          71.91011235955057,
          66.29213483146067,
          77.52808988764045,
          80.89887640449437,
          85.39325842696628,
          0,
          79.7752808988764,
          79.7752808988764,
          76.40449438202246,
          74.15730337078652,
          77.52808988764045,
          75.28089887640449,
          82.02247191011236,
          86.51685393258427,
          86.51685393258427,
          71.91011235955057,
          76.40449438202246,
          83.14606741573034,
          83.14606741573034,
          88.76404494382022,
          61.79775280898876,
          84.26966292134831,
          86.51685393258427,
          83.14606741573034,
          93.25842696629213,
          0,
          61.79775280898876,
          91.01123595505618,
          86.51685393258427,
          0,
          74.15730337078652,
          52.80898876404494,
          76.40449438202246,
          84.26966292134831,
          85.39325842696628,
          0,
          79.7752808988764,
          87.64044943820225,
          75.28089887640449,
          71.91011235955057,
          83.14606741573034,
          0,
          87.64044943820225,
          1.1235955056179776,
          79.7752808988764,
          0,
          75.28089887640449,
          0,
          74.15730337078652,
          89.8876404494382,
          88.76404494382022,
          1.1235955056179776,
          86.51685393258427,
          61.79775280898876,
          78.65168539325843,
          57.30337078651685,
          0,
          94.3820224719101,
          0,
          93.25842696629213,
          1.1235955056179776,
          78.65168539325843,
          80.89887640449437,
          75.28089887640449,
          78.65168539325843,
          84.26966292134831,
          92.13483146067416,
          89.8876404494382,
          85.39325842696628,
          96.62921348314607,
          75.28089887640449,
          86.51685393258427,
          76.40449438202246,
          0,
          84.26966292134831,
          89.8876404494382,
          83.14606741573034,
          75.28089887640449,
          88.76404494382022,
          69.66292134831461,
          57.30337078651685,
          78.65168539325843,
          0,
          77.52808988764045,
          73.03370786516854,
          85.39325842696628,
          87.64044943820225,
          0,
          91.01123595505618,
          88.76404494382022,
          86.51685393258427,
          77.52808988764045,
          89.8876404494382,
          0,
          79.7752808988764,
          82.02247191011236,
          77.52808988764045,
          83.14606741573034,
          71.91011235955057,
          89.8876404494382,
          85.39325842696628,
          0,
          64.04494382022472,
          88.76404494382022,
          0,
          76.40449438202246,
          50.56179775280899,
          78.65168539325843,
          0,
          3.3707865168539324,
          92.13483146067416,
          82.02247191011236,
          85.39325842696628,
          0,
          77.52808988764045,
          84.26966292134831,
          88.76404494382022,
          61.79775280898876,
          57.30337078651685,
          61.79775280898876,
          0,
          84.26966292134831,
          70.78651685393258,
          66.29213483146067,
          74.15730337078652,
          0,
          51.68539325842697,
          80.89887640449437,
          69.66292134831461,
          77.52808988764045,
          0,
          0,
          82.02247191011236,
          0,
          76.40449438202246,
          87.64044943820225,
          70.78651685393258,
          67.41573033707866,
          1.1235955056179776,
          0,
          73.03370786516854,
          76.40449438202246,
          69.66292134831461,
          86.51685393258427,
          70.78651685393258,
          69.66292134831461,
          1.1235955056179776,
          70.78651685393258,
          59.55056179775281,
          85.39325842696628,
          74.15730337078652,
          75.28089887640449,
          1.1235955056179776,
          0,
          88.76404494382022,
          83.14606741573034,
          94.3820224719101,
          94.3820224719101,
          0,
          88.76404494382022,
          84.26966292134831,
          1.1235955056179776,
          1.1235955056179776,
          76.40449438202246,
          93.25842696629213,
          95.50561797752809,
          91.01123595505618,
          93.25842696629213,
          94.3820224719101,
          88.76404494382022,
          0,
          0,
          84.26966292134831,
          86.51685393258427,
          83.14606741573034,
          92.13483146067416,
          83.14606741573034,
          0,
          86.51685393258427,
          59.55056179775281,
          1.1235955056179776,
          84.26966292134831,
          75.28089887640449,
          0,
          77.52808988764045,
          91.01123595505618,
          89.8876404494382,
          85.39325842696628,
          84.26966292134831,
          0,
          86.51685393258427,
          89.8876404494382,
          65.1685393258427,
          1.1235955056179776,
          83.14606741573034,
          0,
          77.52808988764045,
          0,
          69.66292134831461,
          64.04494382022472,
          85.39325842696628,
          4.49438202247191,
          71.91011235955057,
          85.39325842696628,
          78.65168539325843,
          57.30337078651685,
          0,
          0,
          93.25842696629213,
          80.89887640449437,
          75.28089887640449,
          86.51685393258427,
          57.30337078651685,
          0,
          82.02247191011236,
          75.28089887640449,
          76.40449438202246,
          0,
          70.78651685393258,
          82.02247191011236,
          68.53932584269663,
          66.29213483146067,
          75.28089887640449,
          64.04494382022472,
          80.89887640449437,
          91.01123595505618,
          86.51685393258427,
          0,
          77.52808988764045,
          64.04494382022472,
          88.76404494382022,
          71.91011235955057,
          71.91011235955057,
          68.53932584269663,
          83.14606741573034,
          52.80898876404494,
          1.1235955056179776,
          0,
          0,
          0,
          85.39325842696628,
          79.7752808988764,
          53.93258426966292,
          0,
          0,
          0,
          68.53932584269663,
          87.64044943820225,
          82.02247191011236,
          79.7752808988764,
          0,
          59.55056179775281,
          76.40449438202246,
          87.64044943820225,
          8.98876404494382,
          84.26966292134831,
          91.01123595505618,
          93.25842696629213,
          89.8876404494382,
          84.26966292134831,
          87.64044943820225,
          94.3820224719101,
          89.8876404494382,
          87.64044943820225,
          88.76404494382022,
          92.13483146067416,
          86.51685393258427,
          86.51685393258427,
          91.01123595505618,
          82.02247191011236,
          91.01123595505618,
          89.8876404494382,
          85.39325842696628,
          79.7752808988764,
          77.52808988764045,
          96.62921348314607,
          84.26966292134831,
          79.7752808988764,
          86.51685393258427,
          47.19101123595505,
          89.8876404494382,
          85.39325842696628,
          80.89887640449437,
          83.14606741573034,
          92.13483146067416,
          77.52808988764045,
          79.7752808988764,
          70.78651685393258,
          65.1685393258427,
          77.52808988764045,
          79.7752808988764,
          80.89887640449437,
          89.8876404494382,
          77.52808988764045,
          71.91011235955057,
          87.64044943820225,
          74.15730337078652,
          75.28089887640449,
          83.14606741573034,
          92.13483146067416,
          87.64044943820225,
          80.89887640449437,
          78.65168539325843,
          73.03370786516854,
          89.8876404494382,
          77.52808988764045,
          0,
          69.66292134831461,
          88.76404494382022,
          88.76404494382022,
          77.52808988764045,
          80.89887640449437,
          88.76404494382022,
          78.65168539325843,
          66.29213483146067,
          80.89887640449437,
          80.89887640449437,
          89.8876404494382,
          82.02247191011236,
          80.89887640449437,
          92.13483146067416,
          88.76404494382022,
          75.28089887640449,
          80.89887640449437,
          76.40449438202246,
          84.26966292134831,
          67.41573033707866,
          71.91011235955057,
          1.1235955056179776,
          84.26966292134831,
          69.66292134831461,
          73.03370786516854,
          70.78651685393258,
          62.92134831460674,
          80.89887640449437,
          79.7752808988764,
          75.28089887640449,
          89.8876404494382,
          83.14606741573034,
          79.7752808988764,
          80.89887640449437,
          80.89887640449437,
          76.40449438202246,
          83.14606741573034,
          60.67415730337079,
          87.64044943820225,
          62.92134831460674,
          84.26966292134831,
          78.65168539325843,
          91.01123595505618,
          82.02247191011236,
          82.02247191011236,
          82.02247191011236,
          86.51685393258427,
          89.8876404494382,
          86.51685393258427,
          88.76404494382022,
          93.25842696629213,
          87.64044943820225,
          93.25842696629213,
          88.76404494382022,
          94.3820224719101,
          86.51685393258427,
          91.01123595505618,
          92.13483146067416,
          88.76404494382022,
          94.3820224719101,
          67.41573033707866,
          84.26966292134831,
          0,
          86.51685393258427,
          88.76404494382022,
          92.13483146067416,
          1.1235955056179776,
          76.40449438202246,
          84.26966292134831,
          70.78651685393258,
          91.01123595505618,
          0,
          89.8876404494382,
          78.65168539325843,
          82.02247191011236,
          79.7752808988764,
          87.64044943820225,
          77.52808988764045,
          96.62921348314607,
          86.51685393258427,
          85.39325842696628,
          87.64044943820225,
          88.76404494382022,
          64.04494382022472,
          84.26966292134831,
          80.89887640449437,
          80.89887640449437,
          85.39325842696628,
          79.7752808988764,
          86.51685393258427,
          87.64044943820225,
          59.55056179775281,
          87.64044943820225,
          77.52808988764045,
          85.39325842696628,
          73.03370786516854,
          77.52808988764045,
          82.02247191011236,
          85.39325842696628,
          87.64044943820225,
          7.865168539325842,
          88.76404494382022,
          68.53932584269663,
          82.02247191011236,
          74.15730337078652,
          82.02247191011236,
          71.91011235955057,
          87.64044943820225,
          86.51685393258427,
          91.01123595505618,
          4.49438202247191,
          83.14606741573034,
          89.8876404494382,
          78.65168539325843,
          78.65168539325843,
          1.1235955056179776,
          80.89887640449437,
          77.52808988764045,
          84.26966292134831,
          39.325842696629216,
          71.91011235955057,
          79.7752808988764,
          1.1235955056179776,
          79.7752808988764,
          89.8876404494382,
          64.04494382022472,
          87.64044943820225,
          71.91011235955057,
          77.52808988764045,
          84.26966292134831,
          77.52808988764045,
          83.14606741573034,
          79.7752808988764,
          89.8876404494382,
          71.91011235955057,
          2.247191011235955,
          77.52808988764045,
          89.8876404494382,
          82.02247191011236,
          82.02247191011236,
          79.7752808988764,
          70.78651685393258,
          1.1235955056179776,
          88.76404494382022,
          87.64044943820225,
          77.52808988764045,
          84.26966292134831,
          95.50561797752809
         ],
         "yaxis": "y"
        }
       ],
       "layout": {
        "font": {
         "size": 20
        },
        "height": 800,
        "legend": {
         "tracegroupgap": 0
        },
        "margin": {
         "t": 60
        },
        "template": {
         "data": {
          "bar": [
           {
            "error_x": {
             "color": "#2a3f5f"
            },
            "error_y": {
             "color": "#2a3f5f"
            },
            "marker": {
             "line": {
              "color": "#E5ECF6",
              "width": 0.5
             },
             "pattern": {
              "fillmode": "overlay",
              "size": 10,
              "solidity": 0.2
             }
            },
            "type": "bar"
           }
          ],
          "barpolar": [
           {
            "marker": {
             "line": {
              "color": "#E5ECF6",
              "width": 0.5
             },
             "pattern": {
              "fillmode": "overlay",
              "size": 10,
              "solidity": 0.2
             }
            },
            "type": "barpolar"
           }
          ],
          "carpet": [
           {
            "aaxis": {
             "endlinecolor": "#2a3f5f",
             "gridcolor": "white",
             "linecolor": "white",
             "minorgridcolor": "white",
             "startlinecolor": "#2a3f5f"
            },
            "baxis": {
             "endlinecolor": "#2a3f5f",
             "gridcolor": "white",
             "linecolor": "white",
             "minorgridcolor": "white",
             "startlinecolor": "#2a3f5f"
            },
            "type": "carpet"
           }
          ],
          "choropleth": [
           {
            "colorbar": {
             "outlinewidth": 0,
             "ticks": ""
            },
            "type": "choropleth"
           }
          ],
          "contour": [
           {
            "colorbar": {
             "outlinewidth": 0,
             "ticks": ""
            },
            "colorscale": [
             [
              0,
              "#0d0887"
             ],
             [
              0.1111111111111111,
              "#46039f"
             ],
             [
              0.2222222222222222,
              "#7201a8"
             ],
             [
              0.3333333333333333,
              "#9c179e"
             ],
             [
              0.4444444444444444,
              "#bd3786"
             ],
             [
              0.5555555555555556,
              "#d8576b"
             ],
             [
              0.6666666666666666,
              "#ed7953"
             ],
             [
              0.7777777777777778,
              "#fb9f3a"
             ],
             [
              0.8888888888888888,
              "#fdca26"
             ],
             [
              1,
              "#f0f921"
             ]
            ],
            "type": "contour"
           }
          ],
          "contourcarpet": [
           {
            "colorbar": {
             "outlinewidth": 0,
             "ticks": ""
            },
            "type": "contourcarpet"
           }
          ],
          "heatmap": [
           {
            "colorbar": {
             "outlinewidth": 0,
             "ticks": ""
            },
            "colorscale": [
             [
              0,
              "#0d0887"
             ],
             [
              0.1111111111111111,
              "#46039f"
             ],
             [
              0.2222222222222222,
              "#7201a8"
             ],
             [
              0.3333333333333333,
              "#9c179e"
             ],
             [
              0.4444444444444444,
              "#bd3786"
             ],
             [
              0.5555555555555556,
              "#d8576b"
             ],
             [
              0.6666666666666666,
              "#ed7953"
             ],
             [
              0.7777777777777778,
              "#fb9f3a"
             ],
             [
              0.8888888888888888,
              "#fdca26"
             ],
             [
              1,
              "#f0f921"
             ]
            ],
            "type": "heatmap"
           }
          ],
          "heatmapgl": [
           {
            "colorbar": {
             "outlinewidth": 0,
             "ticks": ""
            },
            "colorscale": [
             [
              0,
              "#0d0887"
             ],
             [
              0.1111111111111111,
              "#46039f"
             ],
             [
              0.2222222222222222,
              "#7201a8"
             ],
             [
              0.3333333333333333,
              "#9c179e"
             ],
             [
              0.4444444444444444,
              "#bd3786"
             ],
             [
              0.5555555555555556,
              "#d8576b"
             ],
             [
              0.6666666666666666,
              "#ed7953"
             ],
             [
              0.7777777777777778,
              "#fb9f3a"
             ],
             [
              0.8888888888888888,
              "#fdca26"
             ],
             [
              1,
              "#f0f921"
             ]
            ],
            "type": "heatmapgl"
           }
          ],
          "histogram": [
           {
            "marker": {
             "pattern": {
              "fillmode": "overlay",
              "size": 10,
              "solidity": 0.2
             }
            },
            "type": "histogram"
           }
          ],
          "histogram2d": [
           {
            "colorbar": {
             "outlinewidth": 0,
             "ticks": ""
            },
            "colorscale": [
             [
              0,
              "#0d0887"
             ],
             [
              0.1111111111111111,
              "#46039f"
             ],
             [
              0.2222222222222222,
              "#7201a8"
             ],
             [
              0.3333333333333333,
              "#9c179e"
             ],
             [
              0.4444444444444444,
              "#bd3786"
             ],
             [
              0.5555555555555556,
              "#d8576b"
             ],
             [
              0.6666666666666666,
              "#ed7953"
             ],
             [
              0.7777777777777778,
              "#fb9f3a"
             ],
             [
              0.8888888888888888,
              "#fdca26"
             ],
             [
              1,
              "#f0f921"
             ]
            ],
            "type": "histogram2d"
           }
          ],
          "histogram2dcontour": [
           {
            "colorbar": {
             "outlinewidth": 0,
             "ticks": ""
            },
            "colorscale": [
             [
              0,
              "#0d0887"
             ],
             [
              0.1111111111111111,
              "#46039f"
             ],
             [
              0.2222222222222222,
              "#7201a8"
             ],
             [
              0.3333333333333333,
              "#9c179e"
             ],
             [
              0.4444444444444444,
              "#bd3786"
             ],
             [
              0.5555555555555556,
              "#d8576b"
             ],
             [
              0.6666666666666666,
              "#ed7953"
             ],
             [
              0.7777777777777778,
              "#fb9f3a"
             ],
             [
              0.8888888888888888,
              "#fdca26"
             ],
             [
              1,
              "#f0f921"
             ]
            ],
            "type": "histogram2dcontour"
           }
          ],
          "mesh3d": [
           {
            "colorbar": {
             "outlinewidth": 0,
             "ticks": ""
            },
            "type": "mesh3d"
           }
          ],
          "parcoords": [
           {
            "line": {
             "colorbar": {
              "outlinewidth": 0,
              "ticks": ""
             }
            },
            "type": "parcoords"
           }
          ],
          "pie": [
           {
            "automargin": true,
            "type": "pie"
           }
          ],
          "scatter": [
           {
            "marker": {
             "colorbar": {
              "outlinewidth": 0,
              "ticks": ""
             }
            },
            "type": "scatter"
           }
          ],
          "scatter3d": [
           {
            "line": {
             "colorbar": {
              "outlinewidth": 0,
              "ticks": ""
             }
            },
            "marker": {
             "colorbar": {
              "outlinewidth": 0,
              "ticks": ""
             }
            },
            "type": "scatter3d"
           }
          ],
          "scattercarpet": [
           {
            "marker": {
             "colorbar": {
              "outlinewidth": 0,
              "ticks": ""
             }
            },
            "type": "scattercarpet"
           }
          ],
          "scattergeo": [
           {
            "marker": {
             "colorbar": {
              "outlinewidth": 0,
              "ticks": ""
             }
            },
            "type": "scattergeo"
           }
          ],
          "scattergl": [
           {
            "marker": {
             "colorbar": {
              "outlinewidth": 0,
              "ticks": ""
             }
            },
            "type": "scattergl"
           }
          ],
          "scattermapbox": [
           {
            "marker": {
             "colorbar": {
              "outlinewidth": 0,
              "ticks": ""
             }
            },
            "type": "scattermapbox"
           }
          ],
          "scatterpolar": [
           {
            "marker": {
             "colorbar": {
              "outlinewidth": 0,
              "ticks": ""
             }
            },
            "type": "scatterpolar"
           }
          ],
          "scatterpolargl": [
           {
            "marker": {
             "colorbar": {
              "outlinewidth": 0,
              "ticks": ""
             }
            },
            "type": "scatterpolargl"
           }
          ],
          "scatterternary": [
           {
            "marker": {
             "colorbar": {
              "outlinewidth": 0,
              "ticks": ""
             }
            },
            "type": "scatterternary"
           }
          ],
          "surface": [
           {
            "colorbar": {
             "outlinewidth": 0,
             "ticks": ""
            },
            "colorscale": [
             [
              0,
              "#0d0887"
             ],
             [
              0.1111111111111111,
              "#46039f"
             ],
             [
              0.2222222222222222,
              "#7201a8"
             ],
             [
              0.3333333333333333,
              "#9c179e"
             ],
             [
              0.4444444444444444,
              "#bd3786"
             ],
             [
              0.5555555555555556,
              "#d8576b"
             ],
             [
              0.6666666666666666,
              "#ed7953"
             ],
             [
              0.7777777777777778,
              "#fb9f3a"
             ],
             [
              0.8888888888888888,
              "#fdca26"
             ],
             [
              1,
              "#f0f921"
             ]
            ],
            "type": "surface"
           }
          ],
          "table": [
           {
            "cells": {
             "fill": {
              "color": "#EBF0F8"
             },
             "line": {
              "color": "white"
             }
            },
            "header": {
             "fill": {
              "color": "#C8D4E3"
             },
             "line": {
              "color": "white"
             }
            },
            "type": "table"
           }
          ]
         },
         "layout": {
          "annotationdefaults": {
           "arrowcolor": "#2a3f5f",
           "arrowhead": 0,
           "arrowwidth": 1
          },
          "autotypenumbers": "strict",
          "coloraxis": {
           "colorbar": {
            "outlinewidth": 0,
            "ticks": ""
           }
          },
          "colorscale": {
           "diverging": [
            [
             0,
             "#8e0152"
            ],
            [
             0.1,
             "#c51b7d"
            ],
            [
             0.2,
             "#de77ae"
            ],
            [
             0.3,
             "#f1b6da"
            ],
            [
             0.4,
             "#fde0ef"
            ],
            [
             0.5,
             "#f7f7f7"
            ],
            [
             0.6,
             "#e6f5d0"
            ],
            [
             0.7,
             "#b8e186"
            ],
            [
             0.8,
             "#7fbc41"
            ],
            [
             0.9,
             "#4d9221"
            ],
            [
             1,
             "#276419"
            ]
           ],
           "sequential": [
            [
             0,
             "#0d0887"
            ],
            [
             0.1111111111111111,
             "#46039f"
            ],
            [
             0.2222222222222222,
             "#7201a8"
            ],
            [
             0.3333333333333333,
             "#9c179e"
            ],
            [
             0.4444444444444444,
             "#bd3786"
            ],
            [
             0.5555555555555556,
             "#d8576b"
            ],
            [
             0.6666666666666666,
             "#ed7953"
            ],
            [
             0.7777777777777778,
             "#fb9f3a"
            ],
            [
             0.8888888888888888,
             "#fdca26"
            ],
            [
             1,
             "#f0f921"
            ]
           ],
           "sequentialminus": [
            [
             0,
             "#0d0887"
            ],
            [
             0.1111111111111111,
             "#46039f"
            ],
            [
             0.2222222222222222,
             "#7201a8"
            ],
            [
             0.3333333333333333,
             "#9c179e"
            ],
            [
             0.4444444444444444,
             "#bd3786"
            ],
            [
             0.5555555555555556,
             "#d8576b"
            ],
            [
             0.6666666666666666,
             "#ed7953"
            ],
            [
             0.7777777777777778,
             "#fb9f3a"
            ],
            [
             0.8888888888888888,
             "#fdca26"
            ],
            [
             1,
             "#f0f921"
            ]
           ]
          },
          "colorway": [
           "#636efa",
           "#EF553B",
           "#00cc96",
           "#ab63fa",
           "#FFA15A",
           "#19d3f3",
           "#FF6692",
           "#B6E880",
           "#FF97FF",
           "#FECB52"
          ],
          "font": {
           "color": "#2a3f5f"
          },
          "geo": {
           "bgcolor": "white",
           "lakecolor": "white",
           "landcolor": "#E5ECF6",
           "showlakes": true,
           "showland": true,
           "subunitcolor": "white"
          },
          "hoverlabel": {
           "align": "left"
          },
          "hovermode": "closest",
          "mapbox": {
           "style": "light"
          },
          "paper_bgcolor": "white",
          "plot_bgcolor": "#E5ECF6",
          "polar": {
           "angularaxis": {
            "gridcolor": "white",
            "linecolor": "white",
            "ticks": ""
           },
           "bgcolor": "#E5ECF6",
           "radialaxis": {
            "gridcolor": "white",
            "linecolor": "white",
            "ticks": ""
           }
          },
          "scene": {
           "xaxis": {
            "backgroundcolor": "#E5ECF6",
            "gridcolor": "white",
            "gridwidth": 2,
            "linecolor": "white",
            "showbackground": true,
            "ticks": "",
            "zerolinecolor": "white"
           },
           "yaxis": {
            "backgroundcolor": "#E5ECF6",
            "gridcolor": "white",
            "gridwidth": 2,
            "linecolor": "white",
            "showbackground": true,
            "ticks": "",
            "zerolinecolor": "white"
           },
           "zaxis": {
            "backgroundcolor": "#E5ECF6",
            "gridcolor": "white",
            "gridwidth": 2,
            "linecolor": "white",
            "showbackground": true,
            "ticks": "",
            "zerolinecolor": "white"
           }
          },
          "shapedefaults": {
           "line": {
            "color": "#2a3f5f"
           }
          },
          "ternary": {
           "aaxis": {
            "gridcolor": "white",
            "linecolor": "white",
            "ticks": ""
           },
           "baxis": {
            "gridcolor": "white",
            "linecolor": "white",
            "ticks": ""
           },
           "bgcolor": "#E5ECF6",
           "caxis": {
            "gridcolor": "white",
            "linecolor": "white",
            "ticks": ""
           }
          },
          "title": {
           "x": 0.05
          },
          "xaxis": {
           "automargin": true,
           "gridcolor": "white",
           "linecolor": "white",
           "ticks": "",
           "title": {
            "standoff": 15
           },
           "zerolinecolor": "white",
           "zerolinewidth": 2
          },
          "yaxis": {
           "automargin": true,
           "gridcolor": "white",
           "linecolor": "white",
           "ticks": "",
           "title": {
            "standoff": 15
           },
           "zerolinecolor": "white",
           "zerolinewidth": 2
          }
         }
        },
        "width": 1200,
        "xaxis": {
         "anchor": "y",
         "domain": [
          0,
          1
         ],
         "title": {
          "text": "duration_min"
         }
        },
        "yaxis": {
         "anchor": "x",
         "domain": [
          0,
          1
         ],
         "title": {
          "text": "popularity"
         }
        }
       }
      }
     },
     "metadata": {},
     "output_type": "display_data"
    }
   ],
   "source": [
    "fig = px.scatter(data, x=\"duration_min\", y=\"popularity\", hover_data=[\n",
    "                 \"artist\", \"song\"],  width=1200, height=800)\n",
    "fig.update_layout(font_size=20)\n",
    "fig.show()\n"
   ]
  },
  {
   "cell_type": "markdown",
   "metadata": {},
   "source": [
    "As we can see, and how could be expected, the most popular songs last in average between 2.5 and 5 minutes. This graph is not so explinatory though, so it would be better to visualize it through something else."
   ]
  },
  {
   "cell_type": "markdown",
   "metadata": {},
   "source": [
    "## Duration of songs throughout the years\n",
    "From the following graph we can see the mean duration of the songs throughout the years."
   ]
  },
  {
   "cell_type": "code",
   "execution_count": 74,
   "metadata": {},
   "outputs": [
    {
     "data": {
      "application/vnd.plotly.v1+json": {
       "config": {
        "plotlyServerURL": "https://plot.ly"
       },
       "data": [
        {
         "alignmentgroup": "True",
         "hovertemplate": "year=%{x}<br>duration_min=%{y}<extra></extra>",
         "legendgroup": "",
         "marker": {
          "color": "#636efa",
          "pattern": {
           "shape": ""
          }
         },
         "name": "",
         "offsetgroup": "",
         "orientation": "v",
         "showlegend": false,
         "textposition": "auto",
         "type": "bar",
         "x": [
          2000,
          2001,
          2002,
          2003,
          2004,
          2005,
          2006,
          2007,
          2008,
          2009,
          2010,
          2011,
          2012,
          2013,
          2014,
          2015,
          2016,
          2017,
          2018,
          2019
         ],
         "xaxis": "x",
         "y": [
          4.166216216216217,
          4.04101851851852,
          4.22588888888889,
          3.939587628865979,
          3.9004166666666666,
          3.9422115384615384,
          3.969052631578949,
          3.862765957446809,
          3.9280412371134026,
          3.93511904761905,
          3.680186915887849,
          3.812626262626262,
          3.7339130434782617,
          3.844157303370786,
          3.675865384615383,
          3.6395959595959595,
          3.666767676767677,
          3.5387387387387403,
          3.492429906542056,
          3.278651685393258
         ],
         "yaxis": "y"
        }
       ],
       "layout": {
        "barmode": "relative",
        "font": {
         "size": 20
        },
        "height": 800,
        "legend": {
         "tracegroupgap": 0
        },
        "margin": {
         "t": 60
        },
        "template": {
         "data": {
          "bar": [
           {
            "error_x": {
             "color": "#2a3f5f"
            },
            "error_y": {
             "color": "#2a3f5f"
            },
            "marker": {
             "line": {
              "color": "#E5ECF6",
              "width": 0.5
             },
             "pattern": {
              "fillmode": "overlay",
              "size": 10,
              "solidity": 0.2
             }
            },
            "type": "bar"
           }
          ],
          "barpolar": [
           {
            "marker": {
             "line": {
              "color": "#E5ECF6",
              "width": 0.5
             },
             "pattern": {
              "fillmode": "overlay",
              "size": 10,
              "solidity": 0.2
             }
            },
            "type": "barpolar"
           }
          ],
          "carpet": [
           {
            "aaxis": {
             "endlinecolor": "#2a3f5f",
             "gridcolor": "white",
             "linecolor": "white",
             "minorgridcolor": "white",
             "startlinecolor": "#2a3f5f"
            },
            "baxis": {
             "endlinecolor": "#2a3f5f",
             "gridcolor": "white",
             "linecolor": "white",
             "minorgridcolor": "white",
             "startlinecolor": "#2a3f5f"
            },
            "type": "carpet"
           }
          ],
          "choropleth": [
           {
            "colorbar": {
             "outlinewidth": 0,
             "ticks": ""
            },
            "type": "choropleth"
           }
          ],
          "contour": [
           {
            "colorbar": {
             "outlinewidth": 0,
             "ticks": ""
            },
            "colorscale": [
             [
              0,
              "#0d0887"
             ],
             [
              0.1111111111111111,
              "#46039f"
             ],
             [
              0.2222222222222222,
              "#7201a8"
             ],
             [
              0.3333333333333333,
              "#9c179e"
             ],
             [
              0.4444444444444444,
              "#bd3786"
             ],
             [
              0.5555555555555556,
              "#d8576b"
             ],
             [
              0.6666666666666666,
              "#ed7953"
             ],
             [
              0.7777777777777778,
              "#fb9f3a"
             ],
             [
              0.8888888888888888,
              "#fdca26"
             ],
             [
              1,
              "#f0f921"
             ]
            ],
            "type": "contour"
           }
          ],
          "contourcarpet": [
           {
            "colorbar": {
             "outlinewidth": 0,
             "ticks": ""
            },
            "type": "contourcarpet"
           }
          ],
          "heatmap": [
           {
            "colorbar": {
             "outlinewidth": 0,
             "ticks": ""
            },
            "colorscale": [
             [
              0,
              "#0d0887"
             ],
             [
              0.1111111111111111,
              "#46039f"
             ],
             [
              0.2222222222222222,
              "#7201a8"
             ],
             [
              0.3333333333333333,
              "#9c179e"
             ],
             [
              0.4444444444444444,
              "#bd3786"
             ],
             [
              0.5555555555555556,
              "#d8576b"
             ],
             [
              0.6666666666666666,
              "#ed7953"
             ],
             [
              0.7777777777777778,
              "#fb9f3a"
             ],
             [
              0.8888888888888888,
              "#fdca26"
             ],
             [
              1,
              "#f0f921"
             ]
            ],
            "type": "heatmap"
           }
          ],
          "heatmapgl": [
           {
            "colorbar": {
             "outlinewidth": 0,
             "ticks": ""
            },
            "colorscale": [
             [
              0,
              "#0d0887"
             ],
             [
              0.1111111111111111,
              "#46039f"
             ],
             [
              0.2222222222222222,
              "#7201a8"
             ],
             [
              0.3333333333333333,
              "#9c179e"
             ],
             [
              0.4444444444444444,
              "#bd3786"
             ],
             [
              0.5555555555555556,
              "#d8576b"
             ],
             [
              0.6666666666666666,
              "#ed7953"
             ],
             [
              0.7777777777777778,
              "#fb9f3a"
             ],
             [
              0.8888888888888888,
              "#fdca26"
             ],
             [
              1,
              "#f0f921"
             ]
            ],
            "type": "heatmapgl"
           }
          ],
          "histogram": [
           {
            "marker": {
             "pattern": {
              "fillmode": "overlay",
              "size": 10,
              "solidity": 0.2
             }
            },
            "type": "histogram"
           }
          ],
          "histogram2d": [
           {
            "colorbar": {
             "outlinewidth": 0,
             "ticks": ""
            },
            "colorscale": [
             [
              0,
              "#0d0887"
             ],
             [
              0.1111111111111111,
              "#46039f"
             ],
             [
              0.2222222222222222,
              "#7201a8"
             ],
             [
              0.3333333333333333,
              "#9c179e"
             ],
             [
              0.4444444444444444,
              "#bd3786"
             ],
             [
              0.5555555555555556,
              "#d8576b"
             ],
             [
              0.6666666666666666,
              "#ed7953"
             ],
             [
              0.7777777777777778,
              "#fb9f3a"
             ],
             [
              0.8888888888888888,
              "#fdca26"
             ],
             [
              1,
              "#f0f921"
             ]
            ],
            "type": "histogram2d"
           }
          ],
          "histogram2dcontour": [
           {
            "colorbar": {
             "outlinewidth": 0,
             "ticks": ""
            },
            "colorscale": [
             [
              0,
              "#0d0887"
             ],
             [
              0.1111111111111111,
              "#46039f"
             ],
             [
              0.2222222222222222,
              "#7201a8"
             ],
             [
              0.3333333333333333,
              "#9c179e"
             ],
             [
              0.4444444444444444,
              "#bd3786"
             ],
             [
              0.5555555555555556,
              "#d8576b"
             ],
             [
              0.6666666666666666,
              "#ed7953"
             ],
             [
              0.7777777777777778,
              "#fb9f3a"
             ],
             [
              0.8888888888888888,
              "#fdca26"
             ],
             [
              1,
              "#f0f921"
             ]
            ],
            "type": "histogram2dcontour"
           }
          ],
          "mesh3d": [
           {
            "colorbar": {
             "outlinewidth": 0,
             "ticks": ""
            },
            "type": "mesh3d"
           }
          ],
          "parcoords": [
           {
            "line": {
             "colorbar": {
              "outlinewidth": 0,
              "ticks": ""
             }
            },
            "type": "parcoords"
           }
          ],
          "pie": [
           {
            "automargin": true,
            "type": "pie"
           }
          ],
          "scatter": [
           {
            "marker": {
             "colorbar": {
              "outlinewidth": 0,
              "ticks": ""
             }
            },
            "type": "scatter"
           }
          ],
          "scatter3d": [
           {
            "line": {
             "colorbar": {
              "outlinewidth": 0,
              "ticks": ""
             }
            },
            "marker": {
             "colorbar": {
              "outlinewidth": 0,
              "ticks": ""
             }
            },
            "type": "scatter3d"
           }
          ],
          "scattercarpet": [
           {
            "marker": {
             "colorbar": {
              "outlinewidth": 0,
              "ticks": ""
             }
            },
            "type": "scattercarpet"
           }
          ],
          "scattergeo": [
           {
            "marker": {
             "colorbar": {
              "outlinewidth": 0,
              "ticks": ""
             }
            },
            "type": "scattergeo"
           }
          ],
          "scattergl": [
           {
            "marker": {
             "colorbar": {
              "outlinewidth": 0,
              "ticks": ""
             }
            },
            "type": "scattergl"
           }
          ],
          "scattermapbox": [
           {
            "marker": {
             "colorbar": {
              "outlinewidth": 0,
              "ticks": ""
             }
            },
            "type": "scattermapbox"
           }
          ],
          "scatterpolar": [
           {
            "marker": {
             "colorbar": {
              "outlinewidth": 0,
              "ticks": ""
             }
            },
            "type": "scatterpolar"
           }
          ],
          "scatterpolargl": [
           {
            "marker": {
             "colorbar": {
              "outlinewidth": 0,
              "ticks": ""
             }
            },
            "type": "scatterpolargl"
           }
          ],
          "scatterternary": [
           {
            "marker": {
             "colorbar": {
              "outlinewidth": 0,
              "ticks": ""
             }
            },
            "type": "scatterternary"
           }
          ],
          "surface": [
           {
            "colorbar": {
             "outlinewidth": 0,
             "ticks": ""
            },
            "colorscale": [
             [
              0,
              "#0d0887"
             ],
             [
              0.1111111111111111,
              "#46039f"
             ],
             [
              0.2222222222222222,
              "#7201a8"
             ],
             [
              0.3333333333333333,
              "#9c179e"
             ],
             [
              0.4444444444444444,
              "#bd3786"
             ],
             [
              0.5555555555555556,
              "#d8576b"
             ],
             [
              0.6666666666666666,
              "#ed7953"
             ],
             [
              0.7777777777777778,
              "#fb9f3a"
             ],
             [
              0.8888888888888888,
              "#fdca26"
             ],
             [
              1,
              "#f0f921"
             ]
            ],
            "type": "surface"
           }
          ],
          "table": [
           {
            "cells": {
             "fill": {
              "color": "#EBF0F8"
             },
             "line": {
              "color": "white"
             }
            },
            "header": {
             "fill": {
              "color": "#C8D4E3"
             },
             "line": {
              "color": "white"
             }
            },
            "type": "table"
           }
          ]
         },
         "layout": {
          "annotationdefaults": {
           "arrowcolor": "#2a3f5f",
           "arrowhead": 0,
           "arrowwidth": 1
          },
          "autotypenumbers": "strict",
          "coloraxis": {
           "colorbar": {
            "outlinewidth": 0,
            "ticks": ""
           }
          },
          "colorscale": {
           "diverging": [
            [
             0,
             "#8e0152"
            ],
            [
             0.1,
             "#c51b7d"
            ],
            [
             0.2,
             "#de77ae"
            ],
            [
             0.3,
             "#f1b6da"
            ],
            [
             0.4,
             "#fde0ef"
            ],
            [
             0.5,
             "#f7f7f7"
            ],
            [
             0.6,
             "#e6f5d0"
            ],
            [
             0.7,
             "#b8e186"
            ],
            [
             0.8,
             "#7fbc41"
            ],
            [
             0.9,
             "#4d9221"
            ],
            [
             1,
             "#276419"
            ]
           ],
           "sequential": [
            [
             0,
             "#0d0887"
            ],
            [
             0.1111111111111111,
             "#46039f"
            ],
            [
             0.2222222222222222,
             "#7201a8"
            ],
            [
             0.3333333333333333,
             "#9c179e"
            ],
            [
             0.4444444444444444,
             "#bd3786"
            ],
            [
             0.5555555555555556,
             "#d8576b"
            ],
            [
             0.6666666666666666,
             "#ed7953"
            ],
            [
             0.7777777777777778,
             "#fb9f3a"
            ],
            [
             0.8888888888888888,
             "#fdca26"
            ],
            [
             1,
             "#f0f921"
            ]
           ],
           "sequentialminus": [
            [
             0,
             "#0d0887"
            ],
            [
             0.1111111111111111,
             "#46039f"
            ],
            [
             0.2222222222222222,
             "#7201a8"
            ],
            [
             0.3333333333333333,
             "#9c179e"
            ],
            [
             0.4444444444444444,
             "#bd3786"
            ],
            [
             0.5555555555555556,
             "#d8576b"
            ],
            [
             0.6666666666666666,
             "#ed7953"
            ],
            [
             0.7777777777777778,
             "#fb9f3a"
            ],
            [
             0.8888888888888888,
             "#fdca26"
            ],
            [
             1,
             "#f0f921"
            ]
           ]
          },
          "colorway": [
           "#636efa",
           "#EF553B",
           "#00cc96",
           "#ab63fa",
           "#FFA15A",
           "#19d3f3",
           "#FF6692",
           "#B6E880",
           "#FF97FF",
           "#FECB52"
          ],
          "font": {
           "color": "#2a3f5f"
          },
          "geo": {
           "bgcolor": "white",
           "lakecolor": "white",
           "landcolor": "#E5ECF6",
           "showlakes": true,
           "showland": true,
           "subunitcolor": "white"
          },
          "hoverlabel": {
           "align": "left"
          },
          "hovermode": "closest",
          "mapbox": {
           "style": "light"
          },
          "paper_bgcolor": "white",
          "plot_bgcolor": "#E5ECF6",
          "polar": {
           "angularaxis": {
            "gridcolor": "white",
            "linecolor": "white",
            "ticks": ""
           },
           "bgcolor": "#E5ECF6",
           "radialaxis": {
            "gridcolor": "white",
            "linecolor": "white",
            "ticks": ""
           }
          },
          "scene": {
           "xaxis": {
            "backgroundcolor": "#E5ECF6",
            "gridcolor": "white",
            "gridwidth": 2,
            "linecolor": "white",
            "showbackground": true,
            "ticks": "",
            "zerolinecolor": "white"
           },
           "yaxis": {
            "backgroundcolor": "#E5ECF6",
            "gridcolor": "white",
            "gridwidth": 2,
            "linecolor": "white",
            "showbackground": true,
            "ticks": "",
            "zerolinecolor": "white"
           },
           "zaxis": {
            "backgroundcolor": "#E5ECF6",
            "gridcolor": "white",
            "gridwidth": 2,
            "linecolor": "white",
            "showbackground": true,
            "ticks": "",
            "zerolinecolor": "white"
           }
          },
          "shapedefaults": {
           "line": {
            "color": "#2a3f5f"
           }
          },
          "ternary": {
           "aaxis": {
            "gridcolor": "white",
            "linecolor": "white",
            "ticks": ""
           },
           "baxis": {
            "gridcolor": "white",
            "linecolor": "white",
            "ticks": ""
           },
           "bgcolor": "#E5ECF6",
           "caxis": {
            "gridcolor": "white",
            "linecolor": "white",
            "ticks": ""
           }
          },
          "title": {
           "x": 0.05
          },
          "xaxis": {
           "automargin": true,
           "gridcolor": "white",
           "linecolor": "white",
           "ticks": "",
           "title": {
            "standoff": 15
           },
           "zerolinecolor": "white",
           "zerolinewidth": 2
          },
          "yaxis": {
           "automargin": true,
           "gridcolor": "white",
           "linecolor": "white",
           "ticks": "",
           "title": {
            "standoff": 15
           },
           "zerolinecolor": "white",
           "zerolinewidth": 2
          }
         }
        },
        "width": 1200,
        "xaxis": {
         "anchor": "y",
         "domain": [
          0,
          1
         ],
         "title": {
          "text": "year"
         }
        },
        "yaxis": {
         "anchor": "x",
         "domain": [
          0,
          1
         ],
         "title": {
          "text": "duration_min"
         }
        }
       }
      }
     },
     "metadata": {},
     "output_type": "display_data"
    }
   ],
   "source": [
    "year_data = data.groupby(\"year\", as_index=False)[\"duration_min\"].mean()\n",
    "fig = px.bar(year_data, x=\"year\", y=\"duration_min\", width=1200, height=800)\n",
    "fig.update_layout(font_size=20)\n",
    "fig.show()\n"
   ]
  },
  {
   "cell_type": "markdown",
   "metadata": {},
   "source": [
    "From what is shown, the mean duration of a hit songs tends to be lower than years ago. As many would say, the attention span of people keeps on getting shorter, therefore that could be the reason of this decrease"
   ]
  },
  {
   "cell_type": "markdown",
   "metadata": {},
   "source": [
    "<center>\n",
    "    <h1>Thanks for your attention.</h1><br/>\n",
    "    <h2>Any questions?</h2>\n",
    "</center>"
   ]
  }
 ],
 "metadata": {
  "interpreter": {
   "hash": "0814ccf4d854647ca2b3a3d8eac83034772b1e2507561d194f7f619ef0b1500f"
  },
  "kernelspec": {
   "display_name": "Python 3.9.7 64-bit",
   "language": "python",
   "name": "python3"
  },
  "language_info": {
   "codemirror_mode": {
    "name": "ipython",
    "version": 3
   },
   "file_extension": ".py",
   "mimetype": "text/x-python",
   "name": "python",
   "nbconvert_exporter": "python",
   "pygments_lexer": "ipython3",
   "version": "3.9.7"
  },
  "orig_nbformat": 4
 },
 "nbformat": 4,
 "nbformat_minor": 2
}
